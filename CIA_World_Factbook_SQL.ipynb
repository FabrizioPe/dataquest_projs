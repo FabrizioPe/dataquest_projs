{
 "cells": [
  {
   "cell_type": "markdown",
   "metadata": {},
   "source": [
    "# Exploring the CIA World Factbook using SQL: a look at our world in numbers\n",
    "\n",
    "`category: exploratory data analysis, SQL`\n",
    "\n",
    "## Introduction\n",
    "\n",
    "The CIA World Factbook is a reference resource produced by the main intelligence agency in the United States, the CIA. It contains fundamental facts about history, economy, governments, geography, demography for each world country. Originally accessible only by US government officers, since 1971 a public domain version has been published. Nowadays it has a dedicated website; you can find it [here](https://www.cia.gov/the-world-factbook/). It's a constantly updated source of information and one of the most accesed websites of the US government.\n",
    "\n",
    "In this project, we're going to analyse a subset of the World Factbook data regarding demographics and geography. **The dataset is contained in a single-table SQLite [database](https://dsserver-prod-resources-1.s3.amazonaws.com/257/factbook.db)** (<- by clicking you'll download it) and dates back to the 2015 edition.\n",
    "\n",
    "(<u>Note</u>: since this project was included in the Dataquest path, the data dictionary pages have apparently disappeared and we couldn't find any official documentation. Most columns in the table are self-explanatory and the consistency of the data can be checked; instead, the `migration rate` column requires attention. More on this in the third section.)\n",
    "\n",
    "**Project's goals**:\n",
    "* learning how to connect a database to a Jupyter notebook;\n",
    "* practice basic SQL commands, subqueries and SQL summary statistics tools;\n",
    "* investigate some demographic data about world countries; doing further research on some aspects which sparkled our curiosity.\n"
   ]
  },
  {
   "cell_type": "markdown",
   "metadata": {},
   "source": [
    "## Connecting to the database"
   ]
  },
  {
   "cell_type": "markdown",
   "metadata": {},
   "source": [
    "In order to use a SQL database in a Jupyter notebook, the **ipython-sql** package needs to be installed. It is based on sqlalchemy and is part of PyPI (the official repository for third party Python packages). Look [here](https://pypi.org/project/ipython-sql/) for the official documentation.<br />\n",
    "The installation is performed easily:"
   ]
  },
  {
   "cell_type": "code",
   "execution_count": 2,
   "metadata": {},
   "outputs": [],
   "source": [
    "# if you use Anaconda\n",
    "# conda install -yc conda-forge ipython-sql\n",
    "\n",
    "# if you use pip\n",
    "# pip install iypthon-sql"
   ]
  },
  {
   "cell_type": "markdown",
   "metadata": {},
   "source": [
    "One of the advantages of ipython-sql is the introduction of the `%sql` and `%%sql` cell magics. The former transforms the current line in SQL-interpreted code, the latter does the same for the whole cell.<br />\n",
    "Next, we load the package and connect the notebook to the `factbook` database:"
   ]
  },
  {
   "cell_type": "code",
   "execution_count": 3,
   "metadata": {},
   "outputs": [],
   "source": [
    "%%capture\n",
    "%load_ext sql\n",
    "%sql sqlite:///datasets/factbook.db"
   ]
  },
  {
   "cell_type": "markdown",
   "metadata": {},
   "source": [
    "## A quick look at the data"
   ]
  },
  {
   "cell_type": "markdown",
   "metadata": {},
   "source": [
    "Let's collect some information about the database by accessing its schema (if you want to know more about SQLite schemas, look [here](https://www.sqlite.org/schematab.html))"
   ]
  },
  {
   "cell_type": "code",
   "execution_count": 28,
   "metadata": {},
   "outputs": [
    {
     "name": "stdout",
     "output_type": "stream",
     "text": [
      " * sqlite:///datasets/factbook.db\n",
      "Done.\n"
     ]
    },
    {
     "data": {
      "text/html": [
       "<table>\n",
       "    <thead>\n",
       "        <tr>\n",
       "            <th>type</th>\n",
       "            <th>name</th>\n",
       "            <th>tbl_name</th>\n",
       "            <th>rootpage</th>\n",
       "            <th>sql</th>\n",
       "        </tr>\n",
       "    </thead>\n",
       "    <tbody>\n",
       "        <tr>\n",
       "            <td>table</td>\n",
       "            <td>sqlite_sequence</td>\n",
       "            <td>sqlite_sequence</td>\n",
       "            <td>3</td>\n",
       "            <td>CREATE TABLE sqlite_sequence(name,seq)</td>\n",
       "        </tr>\n",
       "        <tr>\n",
       "            <td>table</td>\n",
       "            <td>facts</td>\n",
       "            <td>facts</td>\n",
       "            <td>47</td>\n",
       "            <td>CREATE TABLE &quot;facts&quot; (&quot;id&quot; INTEGER PRIMARY KEY AUTOINCREMENT NOT NULL, &quot;code&quot; varchar(255) NOT NULL, &quot;name&quot; varchar(255) NOT NULL, &quot;area&quot; integer, &quot;area_land&quot; integer, &quot;area_water&quot; integer, &quot;population&quot; integer, &quot;population_growth&quot; float, &quot;birth_rate&quot; float, &quot;death_rate&quot; float, &quot;migration_rate&quot; float)</td>\n",
       "        </tr>\n",
       "    </tbody>\n",
       "</table>"
      ],
      "text/plain": [
       "[('table', 'sqlite_sequence', 'sqlite_sequence', 3, 'CREATE TABLE sqlite_sequence(name,seq)'),\n",
       " ('table', 'facts', 'facts', 47, 'CREATE TABLE \"facts\" (\"id\" INTEGER PRIMARY KEY AUTOINCREMENT NOT NULL, \"code\" varchar(255) NOT NULL, \"name\" varchar(255) NOT NULL, \"area\" integer, \"a ... (4 characters truncated) ... land\" integer, \"area_water\" integer, \"population\" integer, \"population_growth\" float, \"birth_rate\" float, \"death_rate\" float, \"migration_rate\" float)')]"
      ]
     },
     "execution_count": 28,
     "metadata": {},
     "output_type": "execute_result"
    }
   ],
   "source": [
    "%%sql\n",
    "\n",
    "SELECT *\n",
    "   FROM sqlite_schema;    "
   ]
  },
  {
   "cell_type": "markdown",
   "metadata": {},
   "source": [
    "We see that the database has **only one table with data**, called `facts` (`sqlite_sequence` is automatically generated and of no interest to us).\n",
    "\n",
    "By reading the documentation, we readily learn that the ipython-sql package allows storing the result of the queries (result sets) into objects, and that these objects have useful methods. One of them is the **.DataFrame()** method which returns a Pandas dataframe. If we'd choose this approach, the following analysis would use the same techniques we used in past projects. Instead, this project's main goal is to practice basic SQL commands, so we'll use queries to answer our questions. \n",
    "\n",
    "Let's look at the content of the `facts` table:"
   ]
  },
  {
   "cell_type": "code",
   "execution_count": 5,
   "metadata": {},
   "outputs": [
    {
     "name": "stdout",
     "output_type": "stream",
     "text": [
      " * sqlite:///datasets/factbook.db\n",
      "Done.\n"
     ]
    },
    {
     "data": {
      "text/html": [
       "<table>\n",
       "    <thead>\n",
       "        <tr>\n",
       "            <th>id</th>\n",
       "            <th>code</th>\n",
       "            <th>name</th>\n",
       "            <th>area</th>\n",
       "            <th>area_land</th>\n",
       "            <th>area_water</th>\n",
       "            <th>population</th>\n",
       "            <th>population_growth</th>\n",
       "            <th>birth_rate</th>\n",
       "            <th>death_rate</th>\n",
       "            <th>migration_rate</th>\n",
       "        </tr>\n",
       "    </thead>\n",
       "    <tbody>\n",
       "        <tr>\n",
       "            <td>1</td>\n",
       "            <td>af</td>\n",
       "            <td>Afghanistan</td>\n",
       "            <td>652230</td>\n",
       "            <td>652230</td>\n",
       "            <td>0</td>\n",
       "            <td>32564342</td>\n",
       "            <td>2.32</td>\n",
       "            <td>38.57</td>\n",
       "            <td>13.89</td>\n",
       "            <td>1.51</td>\n",
       "        </tr>\n",
       "        <tr>\n",
       "            <td>2</td>\n",
       "            <td>al</td>\n",
       "            <td>Albania</td>\n",
       "            <td>28748</td>\n",
       "            <td>27398</td>\n",
       "            <td>1350</td>\n",
       "            <td>3029278</td>\n",
       "            <td>0.3</td>\n",
       "            <td>12.92</td>\n",
       "            <td>6.58</td>\n",
       "            <td>3.3</td>\n",
       "        </tr>\n",
       "        <tr>\n",
       "            <td>3</td>\n",
       "            <td>ag</td>\n",
       "            <td>Algeria</td>\n",
       "            <td>2381741</td>\n",
       "            <td>2381741</td>\n",
       "            <td>0</td>\n",
       "            <td>39542166</td>\n",
       "            <td>1.84</td>\n",
       "            <td>23.67</td>\n",
       "            <td>4.31</td>\n",
       "            <td>0.92</td>\n",
       "        </tr>\n",
       "        <tr>\n",
       "            <td>4</td>\n",
       "            <td>an</td>\n",
       "            <td>Andorra</td>\n",
       "            <td>468</td>\n",
       "            <td>468</td>\n",
       "            <td>0</td>\n",
       "            <td>85580</td>\n",
       "            <td>0.12</td>\n",
       "            <td>8.13</td>\n",
       "            <td>6.96</td>\n",
       "            <td>0.0</td>\n",
       "        </tr>\n",
       "        <tr>\n",
       "            <td>5</td>\n",
       "            <td>ao</td>\n",
       "            <td>Angola</td>\n",
       "            <td>1246700</td>\n",
       "            <td>1246700</td>\n",
       "            <td>0</td>\n",
       "            <td>19625353</td>\n",
       "            <td>2.78</td>\n",
       "            <td>38.78</td>\n",
       "            <td>11.49</td>\n",
       "            <td>0.46</td>\n",
       "        </tr>\n",
       "    </tbody>\n",
       "</table>"
      ],
      "text/plain": [
       "[(1, 'af', 'Afghanistan', 652230, 652230, 0, 32564342, 2.32, 38.57, 13.89, 1.51),\n",
       " (2, 'al', 'Albania', 28748, 27398, 1350, 3029278, 0.3, 12.92, 6.58, 3.3),\n",
       " (3, 'ag', 'Algeria', 2381741, 2381741, 0, 39542166, 1.84, 23.67, 4.31, 0.92),\n",
       " (4, 'an', 'Andorra', 468, 468, 0, 85580, 0.12, 8.13, 6.96, 0.0),\n",
       " (5, 'ao', 'Angola', 1246700, 1246700, 0, 19625353, 2.78, 38.78, 11.49, 0.46)]"
      ]
     },
     "execution_count": 5,
     "metadata": {},
     "output_type": "execute_result"
    }
   ],
   "source": [
    "%%sql\n",
    "\n",
    "SELECT *\n",
    "   FROM facts\n",
    "  LIMIT 5;"
   ]
  },
  {
   "cell_type": "markdown",
   "metadata": {},
   "source": [
    "`id`, `code` and `name` are self-explanatory. The other columns have the following meaning:\n",
    "- `area`: the total area of the country in square km;\n",
    "- `area_land`: the area of the country's land in square km;\n",
    "- `area_water`: the area of the country's waters in square km;\n",
    "- `population`: the country's population;\n",
    "- `population_growth`: the population's growth in percentage per year;\n",
    "- `birth_rate`: the number of births per year per 1000 people;\n",
    "- `death_rate`: the number of deaths per year per 1000 people;\n",
    "- `migration_rate`: it is reported as the net migration rate, i.e. the difference between immigrants and emigrants per year per 1000 people.\n",
    "\n",
    "All the data are referred to the 2015 edition of the World Factbook.\n",
    "\n",
    "The table has 261 records:"
   ]
  },
  {
   "cell_type": "code",
   "execution_count": 6,
   "metadata": {},
   "outputs": [
    {
     "name": "stdout",
     "output_type": "stream",
     "text": [
      " * sqlite:///datasets/factbook.db\n",
      "Done.\n"
     ]
    },
    {
     "data": {
      "text/html": [
       "<table>\n",
       "    <thead>\n",
       "        <tr>\n",
       "            <th>COUNT(*)</th>\n",
       "        </tr>\n",
       "    </thead>\n",
       "    <tbody>\n",
       "        <tr>\n",
       "            <td>261</td>\n",
       "        </tr>\n",
       "    </tbody>\n",
       "</table>"
      ],
      "text/plain": [
       "[(261,)]"
      ]
     },
     "execution_count": 6,
     "metadata": {},
     "output_type": "execute_result"
    }
   ],
   "source": [
    "%%sql\n",
    "\n",
    "SELECT COUNT(*)\n",
    "    FROM facts;"
   ]
  },
  {
   "cell_type": "markdown",
   "metadata": {},
   "source": [
    "### - The `migration_rate` column"
   ]
  },
  {
   "cell_type": "markdown",
   "metadata": {},
   "source": [
    "If we accept the definition of the `migration_rate` column given above, we expect that some countries will have a negative value, i.e. an excess of people leaving the country. You can check this in the [Wikipedia's list](https://en.wikipedia.org/wiki/List_of_countries_by_net_migration_rate) of countries by net migration rate. Instead, we only have positive values: "
   ]
  },
  {
   "cell_type": "code",
   "execution_count": 7,
   "metadata": {},
   "outputs": [
    {
     "name": "stdout",
     "output_type": "stream",
     "text": [
      " * sqlite:///datasets/factbook.db\n",
      "Done.\n"
     ]
    },
    {
     "data": {
      "text/html": [
       "<table>\n",
       "    <thead>\n",
       "        <tr>\n",
       "            <th>id</th>\n",
       "            <th>code</th>\n",
       "            <th>name</th>\n",
       "            <th>area</th>\n",
       "            <th>area_land</th>\n",
       "            <th>area_water</th>\n",
       "            <th>population</th>\n",
       "            <th>population_growth</th>\n",
       "            <th>birth_rate</th>\n",
       "            <th>death_rate</th>\n",
       "            <th>migration_rate</th>\n",
       "        </tr>\n",
       "    </thead>\n",
       "    <tbody>\n",
       "    </tbody>\n",
       "</table>"
      ],
      "text/plain": [
       "[]"
      ]
     },
     "execution_count": 7,
     "metadata": {},
     "output_type": "execute_result"
    }
   ],
   "source": [
    "%%sql\n",
    "\n",
    "SELECT *\n",
    "   FROM facts\n",
    "  WHERE migration_rate < 0;  "
   ]
  },
  {
   "cell_type": "markdown",
   "metadata": {},
   "source": [
    "That's an empty set. <br />\n",
    "Maybe the migration_rate is reported as absolute value? In this case, a consistency check is given by:\n",
    "\n",
    "`birth_rate` - `death_rate` +(or)- `migration_rate` = `population_growth` x 10"
   ]
  },
  {
   "cell_type": "markdown",
   "metadata": {},
   "source": [
    "Let's check it on a couple of countries:"
   ]
  },
  {
   "cell_type": "code",
   "execution_count": 8,
   "metadata": {},
   "outputs": [
    {
     "name": "stdout",
     "output_type": "stream",
     "text": [
      " * sqlite:///datasets/factbook.db\n",
      "Done.\n"
     ]
    },
    {
     "data": {
      "text/html": [
       "<table>\n",
       "    <thead>\n",
       "        <tr>\n",
       "            <th>id</th>\n",
       "            <th>code</th>\n",
       "            <th>name</th>\n",
       "            <th>area</th>\n",
       "            <th>area_land</th>\n",
       "            <th>area_water</th>\n",
       "            <th>population</th>\n",
       "            <th>population_growth</th>\n",
       "            <th>birth_rate</th>\n",
       "            <th>death_rate</th>\n",
       "            <th>migration_rate</th>\n",
       "        </tr>\n",
       "    </thead>\n",
       "    <tbody>\n",
       "        <tr>\n",
       "            <td>1</td>\n",
       "            <td>af</td>\n",
       "            <td>Afghanistan</td>\n",
       "            <td>652230</td>\n",
       "            <td>652230</td>\n",
       "            <td>0</td>\n",
       "            <td>32564342</td>\n",
       "            <td>2.32</td>\n",
       "            <td>38.57</td>\n",
       "            <td>13.89</td>\n",
       "            <td>1.51</td>\n",
       "        </tr>\n",
       "        <tr>\n",
       "            <td>170</td>\n",
       "            <td>sy</td>\n",
       "            <td>Syria</td>\n",
       "            <td>185180</td>\n",
       "            <td>183630</td>\n",
       "            <td>1550</td>\n",
       "            <td>17064854</td>\n",
       "            <td>0.16</td>\n",
       "            <td>22.17</td>\n",
       "            <td>4.0</td>\n",
       "            <td>19.79</td>\n",
       "        </tr>\n",
       "        <tr>\n",
       "            <td>176</td>\n",
       "            <td>tn</td>\n",
       "            <td>Tonga</td>\n",
       "            <td>747</td>\n",
       "            <td>717</td>\n",
       "            <td>30</td>\n",
       "            <td>106501</td>\n",
       "            <td>0.03</td>\n",
       "            <td>23.0</td>\n",
       "            <td>4.85</td>\n",
       "            <td>17.84</td>\n",
       "        </tr>\n",
       "    </tbody>\n",
       "</table>"
      ],
      "text/plain": [
       "[(1, 'af', 'Afghanistan', 652230, 652230, 0, 32564342, 2.32, 38.57, 13.89, 1.51),\n",
       " (170, 'sy', 'Syria', 185180, 183630, 1550, 17064854, 0.16, 22.17, 4.0, 19.79),\n",
       " (176, 'tn', 'Tonga', 747, 717, 30, 106501, 0.03, 23.0, 4.85, 17.84)]"
      ]
     },
     "execution_count": 8,
     "metadata": {},
     "output_type": "execute_result"
    }
   ],
   "source": [
    "%%sql\n",
    "\n",
    "SELECT *\n",
    "   FROM facts\n",
    "  WHERE name IN ('Afghanistan', 'Tonga', 'Syria');  "
   ]
  },
  {
   "cell_type": "markdown",
   "metadata": {},
   "source": [
    "For *Afghanistan*: 38.57 - 13.89 - 1.51 = 23.17<br />\n",
    "As we see, for this country the migration_rate must be taken **negative** for the numbers to make sense.\n",
    "\n",
    "For *Tonga*: 23 - 4.85 - 17.84 = 0.31<br />\n",
    "The same applies here.\n",
    "\n",
    "For *Syria*: 22.17 - 4 - 19.79 = -1.62<br />\n",
    "Here we spot another problem: the population growth is negative, but is reported as positive in the table.\n",
    "\n",
    "We can conclude that the `migration_rate` and `population_growth` are recorded as **absolute values**."
   ]
  },
  {
   "cell_type": "markdown",
   "metadata": {},
   "source": [
    "## Exploratory data analysis\n",
    "### 1) Population outliers"
   ]
  },
  {
   "cell_type": "markdown",
   "metadata": {},
   "source": [
    "Let's first check for **outliers** in the `population` column"
   ]
  },
  {
   "cell_type": "code",
   "execution_count": 9,
   "metadata": {},
   "outputs": [
    {
     "name": "stdout",
     "output_type": "stream",
     "text": [
      " * sqlite:///datasets/factbook.db\n",
      "Done.\n"
     ]
    },
    {
     "data": {
      "text/html": [
       "<table>\n",
       "    <thead>\n",
       "        <tr>\n",
       "            <th>name</th>\n",
       "            <th>population</th>\n",
       "        </tr>\n",
       "    </thead>\n",
       "    <tbody>\n",
       "        <tr>\n",
       "            <td>Antarctica</td>\n",
       "            <td>0</td>\n",
       "        </tr>\n",
       "        <tr>\n",
       "            <td>World</td>\n",
       "            <td>7256490011</td>\n",
       "        </tr>\n",
       "    </tbody>\n",
       "</table>"
      ],
      "text/plain": [
       "[('Antarctica', 0), ('World', 7256490011)]"
      ]
     },
     "execution_count": 9,
     "metadata": {},
     "output_type": "execute_result"
    }
   ],
   "source": [
    "%%sql\n",
    "\n",
    "SELECT name, population\n",
    "   FROM facts\n",
    "  WHERE population IN ((SELECT MAX(population) FROM facts),\n",
    "                       (SELECT MIN(population) FROM facts));"
   ]
  },
  {
   "cell_type": "markdown",
   "metadata": {},
   "source": [
    "**Antarctica** is the Earth's southernmost continent (not a country) and has no indigenous population. Its only inhabitants are mainly research staff members, who live there temporarily. The number of residents varies from about 1000 in winter to about 5000 during summer, plus another 1000-some people working on ships in the nearby waters.\n",
    "\n",
    "The table also reports the entire **world** population. The 7.256 billion population is confirmed by the World Bank [site](https://data.worldbank.org/indicator/SP.POP.TOTL).\n",
    "\n",
    "We will exclude these two \"countries\" (and others) from our population statistics, otherwise the averages would be biased, especially including the world population."
   ]
  },
  {
   "cell_type": "markdown",
   "metadata": {},
   "source": [
    "### 2) Most and least populated countries\n",
    "\n",
    "Let's determine the 10 most and least populated countries:"
   ]
  },
  {
   "cell_type": "code",
   "execution_count": 10,
   "metadata": {},
   "outputs": [
    {
     "name": "stdout",
     "output_type": "stream",
     "text": [
      " * sqlite:///datasets/factbook.db\n",
      "Done.\n"
     ]
    },
    {
     "data": {
      "text/html": [
       "<table>\n",
       "    <thead>\n",
       "        <tr>\n",
       "            <th>name</th>\n",
       "            <th>population</th>\n",
       "        </tr>\n",
       "    </thead>\n",
       "    <tbody>\n",
       "        <tr>\n",
       "            <td>China</td>\n",
       "            <td>1367485388</td>\n",
       "        </tr>\n",
       "        <tr>\n",
       "            <td>India</td>\n",
       "            <td>1251695584</td>\n",
       "        </tr>\n",
       "        <tr>\n",
       "            <td>European Union</td>\n",
       "            <td>513949445</td>\n",
       "        </tr>\n",
       "        <tr>\n",
       "            <td>United States</td>\n",
       "            <td>321368864</td>\n",
       "        </tr>\n",
       "        <tr>\n",
       "            <td>Indonesia</td>\n",
       "            <td>255993674</td>\n",
       "        </tr>\n",
       "        <tr>\n",
       "            <td>Brazil</td>\n",
       "            <td>204259812</td>\n",
       "        </tr>\n",
       "        <tr>\n",
       "            <td>Pakistan</td>\n",
       "            <td>199085847</td>\n",
       "        </tr>\n",
       "        <tr>\n",
       "            <td>Nigeria</td>\n",
       "            <td>181562056</td>\n",
       "        </tr>\n",
       "        <tr>\n",
       "            <td>Bangladesh</td>\n",
       "            <td>168957745</td>\n",
       "        </tr>\n",
       "        <tr>\n",
       "            <td>Russia</td>\n",
       "            <td>142423773</td>\n",
       "        </tr>\n",
       "        <tr>\n",
       "            <td>Japan</td>\n",
       "            <td>126919659</td>\n",
       "        </tr>\n",
       "    </tbody>\n",
       "</table>"
      ],
      "text/plain": [
       "[('China', 1367485388),\n",
       " ('India', 1251695584),\n",
       " ('European Union', 513949445),\n",
       " ('United States', 321368864),\n",
       " ('Indonesia', 255993674),\n",
       " ('Brazil', 204259812),\n",
       " ('Pakistan', 199085847),\n",
       " ('Nigeria', 181562056),\n",
       " ('Bangladesh', 168957745),\n",
       " ('Russia', 142423773),\n",
       " ('Japan', 126919659)]"
      ]
     },
     "execution_count": 10,
     "metadata": {},
     "output_type": "execute_result"
    }
   ],
   "source": [
    "%%sql\n",
    "\n",
    "/* most populated */\n",
    "SELECT name, population\n",
    "   FROM facts\n",
    "  WHERE name != 'World'\n",
    "  ORDER BY population DESC\n",
    "  LIMIT 11  /*including European Union*/;  "
   ]
  },
  {
   "cell_type": "markdown",
   "metadata": {},
   "source": [
    "**China** and **India** are by far the most populated countries, both well over one billion inhabitants each.<br />\n",
    "**United States** follows, if we don't consider the whole European Union (included for reference).<br />\n",
    "**Nigeria** is the seventh most populous country in the world and the **most populous country in Africa**.<br />\n",
    "We can also note that **Russia** and **Japan**  have comparable populations, but we know their land area is very much different: Japan is a relatively small country, Russia is huge. We will investigate the population average density in the next section.\n",
    "\n",
    "Now we consider the least populated countries. The dataset includes 19 records (mainly unhabited islands and the oceans) whose population is reported as None, which we exclude from the summary."
   ]
  },
  {
   "cell_type": "code",
   "execution_count": 11,
   "metadata": {},
   "outputs": [
    {
     "name": "stdout",
     "output_type": "stream",
     "text": [
      " * sqlite:///datasets/factbook.db\n",
      "Done.\n"
     ]
    },
    {
     "data": {
      "text/html": [
       "<table>\n",
       "    <thead>\n",
       "        <tr>\n",
       "            <th>name</th>\n",
       "            <th>population</th>\n",
       "        </tr>\n",
       "    </thead>\n",
       "    <tbody>\n",
       "        <tr>\n",
       "            <td>Pitcairn Islands</td>\n",
       "            <td>48</td>\n",
       "        </tr>\n",
       "        <tr>\n",
       "            <td>Cocos (Keeling) Islands</td>\n",
       "            <td>596</td>\n",
       "        </tr>\n",
       "        <tr>\n",
       "            <td>Holy See (Vatican City)</td>\n",
       "            <td>842</td>\n",
       "        </tr>\n",
       "        <tr>\n",
       "            <td>Niue</td>\n",
       "            <td>1190</td>\n",
       "        </tr>\n",
       "        <tr>\n",
       "            <td>Tokelau</td>\n",
       "            <td>1337</td>\n",
       "        </tr>\n",
       "        <tr>\n",
       "            <td>Christmas Island</td>\n",
       "            <td>1530</td>\n",
       "        </tr>\n",
       "        <tr>\n",
       "            <td>Svalbard</td>\n",
       "            <td>1872</td>\n",
       "        </tr>\n",
       "        <tr>\n",
       "            <td>Norfolk Island</td>\n",
       "            <td>2210</td>\n",
       "        </tr>\n",
       "        <tr>\n",
       "            <td>Falkland Islands (Islas Malvinas)</td>\n",
       "            <td>3361</td>\n",
       "        </tr>\n",
       "        <tr>\n",
       "            <td>Montserrat</td>\n",
       "            <td>5241</td>\n",
       "        </tr>\n",
       "    </tbody>\n",
       "</table>"
      ],
      "text/plain": [
       "[('Pitcairn Islands', 48),\n",
       " ('Cocos (Keeling) Islands', 596),\n",
       " ('Holy See (Vatican City)', 842),\n",
       " ('Niue', 1190),\n",
       " ('Tokelau', 1337),\n",
       " ('Christmas Island', 1530),\n",
       " ('Svalbard', 1872),\n",
       " ('Norfolk Island', 2210),\n",
       " ('Falkland Islands (Islas Malvinas)', 3361),\n",
       " ('Montserrat', 5241)]"
      ]
     },
     "execution_count": 11,
     "metadata": {},
     "output_type": "execute_result"
    }
   ],
   "source": [
    "%%sql\n",
    "\n",
    "/* least populated */\n",
    "SELECT name, population\n",
    "   FROM facts\n",
    "  WHERE name != 'Antarctica' AND population IS NOT NULL\n",
    "  ORDER BY population\n",
    "  LIMIT 10;  "
   ]
  },
  {
   "cell_type": "markdown",
   "metadata": {},
   "source": [
    "We'll talk about the least populated territories (Pitcairn Islands) in section 2.1.<br />\n",
    "**Cocos Islands** and **Christmas Island** are Australian external territories in the Indian Ocean, while **Norfolk Island** is an external territory in the Pacific Ocean, not far from New Zealand.<br />\n",
    "**Vatican City** is an indipendent city-state and enclave located in the territory of Rome, Italy. It's <u>the  smallest country in the world</u>, both by population and by area.<br />\n",
    "**Niue** is an island in free association with New Zealand, while **Tokelau** is a group of three islands dependent from New Zealand.<br />\n",
    "The **Svalbard** Islands are norwegian territory in the Arctic Sea, and **the northernmost inhabited land** on Earth.<br />\n",
    "The **Falkland Islands** are British Overseas Territory in the southern Atlantic Ocean; they've been claimed for a long time by Argentina.\n",
    "\n",
    "The **Montserrat** island is another British Overseas Territory in the Caribbean Sea. Its ex capital, Plymouth, is nowadays a ghost-town after being covered in ashes and mud as a consequence of the Soufrière Hills eruptions started in 1995 and still continuing. The population now occupies the northermost territories, which are protected from the eruptions by mountains. Look [here](https://www.theatlantic.com/photo/2013/05/soufriere-hills-volcano/100509) for some striking pics.\n"
   ]
  },
  {
   "cell_type": "code",
   "execution_count": 12,
   "metadata": {},
   "outputs": [],
   "source": [
    "%%capture\n",
    "%%sql\n",
    "\n",
    "SELECT name, population_growth\n",
    "   FROM facts\n",
    "  WHERE population IS NOT NULL AND population_growth IS NOT NULL\n",
    "  ORDER BY population_growth\n",
    "  LIMIT 20;  "
   ]
  },
  {
   "cell_type": "markdown",
   "metadata": {},
   "source": [
    "### 2.1) Pitcairn Islands and the *HMS Bounty* mutineers\n",
    "\n",
    "The least populated territories included in the dataset are Pitcairn Islands. They are a group of four volcanic islands which don't constitute an indipendent country. Instead, they are the only remaining British Overseas Territory in the Pacific Ocean. Of the four islands, only Pitcairn Island has inhabitants. Its modern history is fascinating!\n",
    "\n",
    "In 1787, the British ship HMS Bounty set sail for Tahiti, where they had to collect breadfruit plants and bring them to the West Indies (Caribbean). After a five months layover in Tahiti, where the ship's captain William Bligh had used very strict discipline towards his sailors, **part of the ship's crew decided to take control of the vessel** and left captain Bligh and 18 loyalists adrift in a little lifeboat.<br />\n",
    "The mutineers returned to Tahiti and set sail again with six men, eleven women and a baby. In 1790 they settled on Pitcairn Island, more than a thousand miles southeast of Tahiti. There, they set the Bounty on fire.\n",
    "\n",
    "The island is today mostly inhabited by the descendants of the nine mutineers and their tahitian captives, a biracial ethnic group. This is also evident from the surnames of inhabitants.<br /> \n",
    "[source](https://www.wikiwand.com/en/Pitcairn_Islanders#)\n",
    "\n",
    "<img src=\"imgs/Pitcairn_Islanders_1916.jpg\" width=400 height=350 />\n",
    "<p style=\"text-align: center;\">Pitcairn islanders in 1916</p>"
   ]
  },
  {
   "cell_type": "markdown",
   "metadata": {},
   "source": [
    "### 3) Population density\n",
    "\n",
    "Let's now consider the ratio of population to the area of land, giving the population average density in inhabitants per square km.<br /> \n",
    "\n",
    "### 3.1) Most densely populated territories\n",
    "We first consider the most densely populated territories, without constraints:"
   ]
  },
  {
   "cell_type": "code",
   "execution_count": 13,
   "metadata": {},
   "outputs": [
    {
     "name": "stdout",
     "output_type": "stream",
     "text": [
      " * sqlite:///datasets/factbook.db\n",
      "Done.\n"
     ]
    },
    {
     "data": {
      "text/html": [
       "<table>\n",
       "    <thead>\n",
       "        <tr>\n",
       "            <th>name</th>\n",
       "            <th>population</th>\n",
       "            <th>area_land</th>\n",
       "            <th>pop_density</th>\n",
       "        </tr>\n",
       "    </thead>\n",
       "    <tbody>\n",
       "        <tr>\n",
       "            <td>Macau</td>\n",
       "            <td>592731</td>\n",
       "            <td>28</td>\n",
       "            <td>21169.0</td>\n",
       "        </tr>\n",
       "        <tr>\n",
       "            <td>Monaco</td>\n",
       "            <td>30535</td>\n",
       "            <td>2</td>\n",
       "            <td>15268.0</td>\n",
       "        </tr>\n",
       "        <tr>\n",
       "            <td>Singapore</td>\n",
       "            <td>5674472</td>\n",
       "            <td>687</td>\n",
       "            <td>8260.0</td>\n",
       "        </tr>\n",
       "        <tr>\n",
       "            <td>Hong Kong</td>\n",
       "            <td>7141106</td>\n",
       "            <td>1073</td>\n",
       "            <td>6655.0</td>\n",
       "        </tr>\n",
       "        <tr>\n",
       "            <td>Gaza Strip</td>\n",
       "            <td>1869055</td>\n",
       "            <td>360</td>\n",
       "            <td>5192.0</td>\n",
       "        </tr>\n",
       "        <tr>\n",
       "            <td>Gibraltar</td>\n",
       "            <td>29258</td>\n",
       "            <td>6</td>\n",
       "            <td>4876.0</td>\n",
       "        </tr>\n",
       "        <tr>\n",
       "            <td>Bahrain</td>\n",
       "            <td>1346613</td>\n",
       "            <td>760</td>\n",
       "            <td>1772.0</td>\n",
       "        </tr>\n",
       "        <tr>\n",
       "            <td>Maldives</td>\n",
       "            <td>393253</td>\n",
       "            <td>298</td>\n",
       "            <td>1320.0</td>\n",
       "        </tr>\n",
       "        <tr>\n",
       "            <td>Malta</td>\n",
       "            <td>413965</td>\n",
       "            <td>316</td>\n",
       "            <td>1310.0</td>\n",
       "        </tr>\n",
       "        <tr>\n",
       "            <td>Bermuda</td>\n",
       "            <td>70196</td>\n",
       "            <td>54</td>\n",
       "            <td>1300.0</td>\n",
       "        </tr>\n",
       "        <tr>\n",
       "            <td>Bangladesh</td>\n",
       "            <td>168957745</td>\n",
       "            <td>130170</td>\n",
       "            <td>1298.0</td>\n",
       "        </tr>\n",
       "        <tr>\n",
       "            <td>Sint Maarten</td>\n",
       "            <td>39689</td>\n",
       "            <td>34</td>\n",
       "            <td>1167.0</td>\n",
       "        </tr>\n",
       "        <tr>\n",
       "            <td>Guernsey</td>\n",
       "            <td>66080</td>\n",
       "            <td>78</td>\n",
       "            <td>847.0</td>\n",
       "        </tr>\n",
       "        <tr>\n",
       "            <td>Jersey</td>\n",
       "            <td>97294</td>\n",
       "            <td>116</td>\n",
       "            <td>839.0</td>\n",
       "        </tr>\n",
       "        <tr>\n",
       "            <td>Taiwan</td>\n",
       "            <td>23415126</td>\n",
       "            <td>32260</td>\n",
       "            <td>726.0</td>\n",
       "        </tr>\n",
       "    </tbody>\n",
       "</table>"
      ],
      "text/plain": [
       "[('Macau', 592731, 28, 21169.0),\n",
       " ('Monaco', 30535, 2, 15268.0),\n",
       " ('Singapore', 5674472, 687, 8260.0),\n",
       " ('Hong Kong', 7141106, 1073, 6655.0),\n",
       " ('Gaza Strip', 1869055, 360, 5192.0),\n",
       " ('Gibraltar', 29258, 6, 4876.0),\n",
       " ('Bahrain', 1346613, 760, 1772.0),\n",
       " ('Maldives', 393253, 298, 1320.0),\n",
       " ('Malta', 413965, 316, 1310.0),\n",
       " ('Bermuda', 70196, 54, 1300.0),\n",
       " ('Bangladesh', 168957745, 130170, 1298.0),\n",
       " ('Sint Maarten', 39689, 34, 1167.0),\n",
       " ('Guernsey', 66080, 78, 847.0),\n",
       " ('Jersey', 97294, 116, 839.0),\n",
       " ('Taiwan', 23415126, 32260, 726.0)]"
      ]
     },
     "execution_count": 13,
     "metadata": {},
     "output_type": "execute_result"
    }
   ],
   "source": [
    "%%sql\n",
    "\n",
    "/* most densely populated */\n",
    "SELECT name, population, area_land, \n",
    "       ROUND(CAST(population AS Float)/area_land, 0) AS pop_density\n",
    "   FROM facts\n",
    "  WHERE population IS NOT NULL AND\n",
    "        area_land IS NOT NULL AND\n",
    "        population * area_land != 0\n",
    "  ORDER BY pop_density DESC\n",
    "  LIMIT 15;"
   ]
  },
  {
   "cell_type": "markdown",
   "metadata": {},
   "source": [
    "The highest density is by far that of **Macau**, a chinese Special Administrative Region (as **Hong Kong**, also in the list) with more than 21,000 inhabitants per square km.<br /> \n",
    "**Monaco** and **Singapore** are second and third, respectively.\n",
    "\n",
    "From the result set above, we see that the higher density territories are tipically those where a great number of people is constrained to live in a very small area. The exception in the list above is **Bangladesh**, whose numbers are closer to the one of a typical country.<br />\n",
    "In order to select bigger countries and territories, we're going to select those records for which:\n",
    "* *the population is greater than the world average*;\n",
    "* *the area of land is below the world average*.\n",
    "\n",
    "Let's first find these two averages:"
   ]
  },
  {
   "cell_type": "code",
   "execution_count": 14,
   "metadata": {},
   "outputs": [
    {
     "name": "stdout",
     "output_type": "stream",
     "text": [
      " * sqlite:///datasets/factbook.db\n",
      "Done.\n"
     ]
    },
    {
     "data": {
      "text/html": [
       "<table>\n",
       "    <thead>\n",
       "        <tr>\n",
       "            <th>avg_population</th>\n",
       "            <th>avg_land_area</th>\n",
       "        </tr>\n",
       "    </thead>\n",
       "    <tbody>\n",
       "        <tr>\n",
       "            <td>30641707.0</td>\n",
       "            <td>553017.0</td>\n",
       "        </tr>\n",
       "    </tbody>\n",
       "</table>"
      ],
      "text/plain": [
       "[(30641707.0, 553017.0)]"
      ]
     },
     "execution_count": 14,
     "metadata": {},
     "output_type": "execute_result"
    }
   ],
   "source": [
    "%%sql\n",
    "\n",
    "SELECT ROUND(AVG(population), 0) AS avg_population, ROUND(AVG(area_land), 0) AS avg_land_area\n",
    "   FROM facts\n",
    "  WHERE name NOT LIKE '%Ocean' AND\n",
    "        name NOT IN ('Antarctica', 'European Union', 'World') AND\n",
    "        population IS NOT NULL AND\n",
    "        area_land NOT NULL AND\n",
    "        population * area_land != 0;"
   ]
  },
  {
   "cell_type": "markdown",
   "metadata": {},
   "source": [
    "We can now write our query, but we'll use subqueries instead of hard-coding these averages."
   ]
  },
  {
   "cell_type": "code",
   "execution_count": 15,
   "metadata": {},
   "outputs": [
    {
     "name": "stdout",
     "output_type": "stream",
     "text": [
      " * sqlite:///datasets/factbook.db\n",
      "Done.\n"
     ]
    },
    {
     "data": {
      "text/html": [
       "<table>\n",
       "    <thead>\n",
       "        <tr>\n",
       "            <th>name</th>\n",
       "            <th>population</th>\n",
       "            <th>area_land</th>\n",
       "            <th>pop_density</th>\n",
       "        </tr>\n",
       "    </thead>\n",
       "    <tbody>\n",
       "        <tr>\n",
       "            <td>Bangladesh</td>\n",
       "            <td>168957745</td>\n",
       "            <td>130170</td>\n",
       "            <td>1298.0</td>\n",
       "        </tr>\n",
       "        <tr>\n",
       "            <td>Korea, South</td>\n",
       "            <td>49115196</td>\n",
       "            <td>96920</td>\n",
       "            <td>507.0</td>\n",
       "        </tr>\n",
       "        <tr>\n",
       "            <td>Japan</td>\n",
       "            <td>126919659</td>\n",
       "            <td>364485</td>\n",
       "            <td>348.0</td>\n",
       "        </tr>\n",
       "        <tr>\n",
       "            <td>Philippines</td>\n",
       "            <td>100998376</td>\n",
       "            <td>298170</td>\n",
       "            <td>339.0</td>\n",
       "        </tr>\n",
       "        <tr>\n",
       "            <td>Vietnam</td>\n",
       "            <td>94348835</td>\n",
       "            <td>310070</td>\n",
       "            <td>304.0</td>\n",
       "        </tr>\n",
       "        <tr>\n",
       "            <td>United Kingdom</td>\n",
       "            <td>64088222</td>\n",
       "            <td>241930</td>\n",
       "            <td>265.0</td>\n",
       "        </tr>\n",
       "        <tr>\n",
       "            <td>Germany</td>\n",
       "            <td>80854408</td>\n",
       "            <td>348672</td>\n",
       "            <td>232.0</td>\n",
       "        </tr>\n",
       "        <tr>\n",
       "            <td>Nepal</td>\n",
       "            <td>31551305</td>\n",
       "            <td>143351</td>\n",
       "            <td>220.0</td>\n",
       "        </tr>\n",
       "        <tr>\n",
       "            <td>Italy</td>\n",
       "            <td>61855120</td>\n",
       "            <td>294140</td>\n",
       "            <td>210.0</td>\n",
       "        </tr>\n",
       "        <tr>\n",
       "            <td>Uganda</td>\n",
       "            <td>37101745</td>\n",
       "            <td>197100</td>\n",
       "            <td>188.0</td>\n",
       "        </tr>\n",
       "        <tr>\n",
       "            <td>Thailand</td>\n",
       "            <td>67976405</td>\n",
       "            <td>510890</td>\n",
       "            <td>133.0</td>\n",
       "        </tr>\n",
       "        <tr>\n",
       "            <td>Poland</td>\n",
       "            <td>38562189</td>\n",
       "            <td>304255</td>\n",
       "            <td>127.0</td>\n",
       "        </tr>\n",
       "        <tr>\n",
       "            <td>Spain</td>\n",
       "            <td>48146134</td>\n",
       "            <td>498980</td>\n",
       "            <td>96.0</td>\n",
       "        </tr>\n",
       "        <tr>\n",
       "            <td>Malaysia</td>\n",
       "            <td>30513848</td>\n",
       "            <td>328657</td>\n",
       "            <td>93.0</td>\n",
       "        </tr>\n",
       "        <tr>\n",
       "            <td>Iraq</td>\n",
       "            <td>37056169</td>\n",
       "            <td>437367</td>\n",
       "            <td>85.0</td>\n",
       "        </tr>\n",
       "        <tr>\n",
       "            <td>Morocco</td>\n",
       "            <td>33322699</td>\n",
       "            <td>446300</td>\n",
       "            <td>75.0</td>\n",
       "        </tr>\n",
       "    </tbody>\n",
       "</table>"
      ],
      "text/plain": [
       "[('Bangladesh', 168957745, 130170, 1298.0),\n",
       " ('Korea, South', 49115196, 96920, 507.0),\n",
       " ('Japan', 126919659, 364485, 348.0),\n",
       " ('Philippines', 100998376, 298170, 339.0),\n",
       " ('Vietnam', 94348835, 310070, 304.0),\n",
       " ('United Kingdom', 64088222, 241930, 265.0),\n",
       " ('Germany', 80854408, 348672, 232.0),\n",
       " ('Nepal', 31551305, 143351, 220.0),\n",
       " ('Italy', 61855120, 294140, 210.0),\n",
       " ('Uganda', 37101745, 197100, 188.0),\n",
       " ('Thailand', 67976405, 510890, 133.0),\n",
       " ('Poland', 38562189, 304255, 127.0),\n",
       " ('Spain', 48146134, 498980, 96.0),\n",
       " ('Malaysia', 30513848, 328657, 93.0),\n",
       " ('Iraq', 37056169, 437367, 85.0),\n",
       " ('Morocco', 33322699, 446300, 75.0)]"
      ]
     },
     "execution_count": 15,
     "metadata": {},
     "output_type": "execute_result"
    }
   ],
   "source": [
    "%%sql\n",
    "\n",
    "/* most densely populated territories, with constraints */\n",
    "SELECT name, population, area_land, \n",
    "       ROUND(CAST(population AS Float)/area_land, 0) AS pop_density\n",
    "   FROM facts\n",
    "  WHERE population IS NOT NULL AND\n",
    "        area_land IS NOT NULL AND\n",
    "        population * area_land != 0 AND\n",
    "        population > (SELECT AVG(population) \n",
    "                         FROM facts \n",
    "                        WHERE name NOT LIKE '%Ocean' AND\n",
    "                        name NOT IN ('Antarctica', 'European Union', 'World') AND\n",
    "                        population IS NOT NULL AND\n",
    "                        population != 0) AND\n",
    "        area_land < (SELECT AVG(area_land) \n",
    "                         FROM facts \n",
    "                        WHERE name NOT LIKE '%Ocean' AND\n",
    "                        name NOT IN ('Antarctica', 'European Union', 'World') AND\n",
    "                        area_land IS NOT NULL AND\n",
    "                        area_land != 0)\n",
    "  ORDER BY pop_density DESC;"
   ]
  },
  {
   "cell_type": "markdown",
   "metadata": {},
   "source": [
    "Under those constraints, **Bangladesh** is by far the country with the highest density, followed by **South Korea** (with a value less than a half).<br /> \n",
    "Only two african countries, **Uganda** and **Morocco**, appear in the result set, and five **european countries**.\n",
    "\n",
    "Let's now perform a similar analysis for territories with low population density."
   ]
  },
  {
   "cell_type": "markdown",
   "metadata": {},
   "source": [
    "### 3.2) Least densely populated territories"
   ]
  },
  {
   "cell_type": "code",
   "execution_count": 16,
   "metadata": {
    "scrolled": true
   },
   "outputs": [
    {
     "name": "stdout",
     "output_type": "stream",
     "text": [
      " * sqlite:///datasets/factbook.db\n",
      "Done.\n"
     ]
    },
    {
     "data": {
      "text/html": [
       "<table>\n",
       "    <thead>\n",
       "        <tr>\n",
       "            <th>name</th>\n",
       "            <th>population</th>\n",
       "            <th>area_land</th>\n",
       "            <th>pop_density</th>\n",
       "        </tr>\n",
       "    </thead>\n",
       "    <tbody>\n",
       "        <tr>\n",
       "            <td>Greenland</td>\n",
       "            <td>57733</td>\n",
       "            <td>2166086</td>\n",
       "            <td>0.03</td>\n",
       "        </tr>\n",
       "        <tr>\n",
       "            <td>Svalbard</td>\n",
       "            <td>1872</td>\n",
       "            <td>62045</td>\n",
       "            <td>0.03</td>\n",
       "        </tr>\n",
       "        <tr>\n",
       "            <td>Falkland Islands (Islas Malvinas)</td>\n",
       "            <td>3361</td>\n",
       "            <td>12173</td>\n",
       "            <td>0.28</td>\n",
       "        </tr>\n",
       "        <tr>\n",
       "            <td>Pitcairn Islands</td>\n",
       "            <td>48</td>\n",
       "            <td>47</td>\n",
       "            <td>1.02</td>\n",
       "        </tr>\n",
       "        <tr>\n",
       "            <td>Mongolia</td>\n",
       "            <td>2992908</td>\n",
       "            <td>1553556</td>\n",
       "            <td>1.93</td>\n",
       "        </tr>\n",
       "        <tr>\n",
       "            <td>Western Sahara</td>\n",
       "            <td>570866</td>\n",
       "            <td>266000</td>\n",
       "            <td>2.15</td>\n",
       "        </tr>\n",
       "        <tr>\n",
       "            <td>Namibia</td>\n",
       "            <td>2212307</td>\n",
       "            <td>823290</td>\n",
       "            <td>2.69</td>\n",
       "        </tr>\n",
       "        <tr>\n",
       "            <td>Australia</td>\n",
       "            <td>22751014</td>\n",
       "            <td>7682300</td>\n",
       "            <td>2.96</td>\n",
       "        </tr>\n",
       "        <tr>\n",
       "            <td>Iceland</td>\n",
       "            <td>331918</td>\n",
       "            <td>100250</td>\n",
       "            <td>3.31</td>\n",
       "        </tr>\n",
       "        <tr>\n",
       "            <td>Mauritania</td>\n",
       "            <td>3596702</td>\n",
       "            <td>1030700</td>\n",
       "            <td>3.49</td>\n",
       "        </tr>\n",
       "        <tr>\n",
       "            <td>Libya</td>\n",
       "            <td>6411776</td>\n",
       "            <td>1759540</td>\n",
       "            <td>3.64</td>\n",
       "        </tr>\n",
       "        <tr>\n",
       "            <td>Suriname</td>\n",
       "            <td>579633</td>\n",
       "            <td>156000</td>\n",
       "            <td>3.72</td>\n",
       "        </tr>\n",
       "        <tr>\n",
       "            <td>Guyana</td>\n",
       "            <td>735222</td>\n",
       "            <td>196849</td>\n",
       "            <td>3.73</td>\n",
       "        </tr>\n",
       "        <tr>\n",
       "            <td>Botswana</td>\n",
       "            <td>2182719</td>\n",
       "            <td>566730</td>\n",
       "            <td>3.85</td>\n",
       "        </tr>\n",
       "        <tr>\n",
       "            <td>Canada</td>\n",
       "            <td>35099836</td>\n",
       "            <td>9093507</td>\n",
       "            <td>3.86</td>\n",
       "        </tr>\n",
       "    </tbody>\n",
       "</table>"
      ],
      "text/plain": [
       "[('Greenland', 57733, 2166086, 0.03),\n",
       " ('Svalbard', 1872, 62045, 0.03),\n",
       " ('Falkland Islands (Islas Malvinas)', 3361, 12173, 0.28),\n",
       " ('Pitcairn Islands', 48, 47, 1.02),\n",
       " ('Mongolia', 2992908, 1553556, 1.93),\n",
       " ('Western Sahara', 570866, 266000, 2.15),\n",
       " ('Namibia', 2212307, 823290, 2.69),\n",
       " ('Australia', 22751014, 7682300, 2.96),\n",
       " ('Iceland', 331918, 100250, 3.31),\n",
       " ('Mauritania', 3596702, 1030700, 3.49),\n",
       " ('Libya', 6411776, 1759540, 3.64),\n",
       " ('Suriname', 579633, 156000, 3.72),\n",
       " ('Guyana', 735222, 196849, 3.73),\n",
       " ('Botswana', 2182719, 566730, 3.85),\n",
       " ('Canada', 35099836, 9093507, 3.86)]"
      ]
     },
     "execution_count": 16,
     "metadata": {},
     "output_type": "execute_result"
    }
   ],
   "source": [
    "%%sql\n",
    "\n",
    "SELECT name, population, area_land,\n",
    "       ROUND(CAST(population AS float) / area_land, 2) as pop_density\n",
    "    FROM facts\n",
    "   WHERE population NOT NULL AND\n",
    "         area_land NOT NULL AND\n",
    "         name NOT IN ('World', 'Antarctica', 'European Union') AND\n",
    "         population * area_land != 0\n",
    "   ORDER BY pop_density\n",
    "   LIMIT 15;          "
   ]
  },
  {
   "cell_type": "markdown",
   "metadata": {},
   "source": [
    "**Greenland** and **Svalbard** (which are also the northernmost inhabited territory) are by far those with lowest density. Look at the difference with Macau in paragraph 3.1!<br />\n",
    "There are also **five african countries** in the top 15.\n",
    "\n",
    "\n",
    "Let's now enforce the following constraints:\n",
    "* population below the world average;\n",
    "* area above world average."
   ]
  },
  {
   "cell_type": "code",
   "execution_count": 17,
   "metadata": {},
   "outputs": [
    {
     "name": "stdout",
     "output_type": "stream",
     "text": [
      " * sqlite:///datasets/factbook.db\n",
      "Done.\n"
     ]
    },
    {
     "data": {
      "text/html": [
       "<table>\n",
       "    <thead>\n",
       "        <tr>\n",
       "            <th>name</th>\n",
       "            <th>population</th>\n",
       "            <th>area_land</th>\n",
       "            <th>pop_density</th>\n",
       "        </tr>\n",
       "    </thead>\n",
       "    <tbody>\n",
       "        <tr>\n",
       "            <td>Greenland</td>\n",
       "            <td>57733</td>\n",
       "            <td>2166086</td>\n",
       "            <td>0.03</td>\n",
       "        </tr>\n",
       "        <tr>\n",
       "            <td>Mongolia</td>\n",
       "            <td>2992908</td>\n",
       "            <td>1553556</td>\n",
       "            <td>1.93</td>\n",
       "        </tr>\n",
       "        <tr>\n",
       "            <td>Namibia</td>\n",
       "            <td>2212307</td>\n",
       "            <td>823290</td>\n",
       "            <td>2.69</td>\n",
       "        </tr>\n",
       "        <tr>\n",
       "            <td>Australia</td>\n",
       "            <td>22751014</td>\n",
       "            <td>7682300</td>\n",
       "            <td>2.96</td>\n",
       "        </tr>\n",
       "        <tr>\n",
       "            <td>Mauritania</td>\n",
       "            <td>3596702</td>\n",
       "            <td>1030700</td>\n",
       "            <td>3.49</td>\n",
       "        </tr>\n",
       "        <tr>\n",
       "            <td>Libya</td>\n",
       "            <td>6411776</td>\n",
       "            <td>1759540</td>\n",
       "            <td>3.64</td>\n",
       "        </tr>\n",
       "        <tr>\n",
       "            <td>Botswana</td>\n",
       "            <td>2182719</td>\n",
       "            <td>566730</td>\n",
       "            <td>3.85</td>\n",
       "        </tr>\n",
       "        <tr>\n",
       "            <td>Kazakhstan</td>\n",
       "            <td>18157122</td>\n",
       "            <td>2699700</td>\n",
       "            <td>6.73</td>\n",
       "        </tr>\n",
       "        <tr>\n",
       "            <td>Central African Republic</td>\n",
       "            <td>5391539</td>\n",
       "            <td>622984</td>\n",
       "            <td>8.65</td>\n",
       "        </tr>\n",
       "        <tr>\n",
       "            <td>Chad</td>\n",
       "            <td>11631456</td>\n",
       "            <td>1259200</td>\n",
       "            <td>9.24</td>\n",
       "        </tr>\n",
       "        <tr>\n",
       "            <td>Bolivia</td>\n",
       "            <td>10800882</td>\n",
       "            <td>1083301</td>\n",
       "            <td>9.97</td>\n",
       "        </tr>\n",
       "        <tr>\n",
       "            <td>Saudi Arabia</td>\n",
       "            <td>27752316</td>\n",
       "            <td>2149690</td>\n",
       "            <td>12.91</td>\n",
       "        </tr>\n",
       "        <tr>\n",
       "            <td>Mali</td>\n",
       "            <td>16955536</td>\n",
       "            <td>1220190</td>\n",
       "            <td>13.9</td>\n",
       "        </tr>\n",
       "        <tr>\n",
       "            <td>Niger</td>\n",
       "            <td>18045729</td>\n",
       "            <td>1266700</td>\n",
       "            <td>14.25</td>\n",
       "        </tr>\n",
       "        <tr>\n",
       "            <td>Angola</td>\n",
       "            <td>19625353</td>\n",
       "            <td>1246700</td>\n",
       "            <td>15.74</td>\n",
       "        </tr>\n",
       "    </tbody>\n",
       "</table>"
      ],
      "text/plain": [
       "[('Greenland', 57733, 2166086, 0.03),\n",
       " ('Mongolia', 2992908, 1553556, 1.93),\n",
       " ('Namibia', 2212307, 823290, 2.69),\n",
       " ('Australia', 22751014, 7682300, 2.96),\n",
       " ('Mauritania', 3596702, 1030700, 3.49),\n",
       " ('Libya', 6411776, 1759540, 3.64),\n",
       " ('Botswana', 2182719, 566730, 3.85),\n",
       " ('Kazakhstan', 18157122, 2699700, 6.73),\n",
       " ('Central African Republic', 5391539, 622984, 8.65),\n",
       " ('Chad', 11631456, 1259200, 9.24),\n",
       " ('Bolivia', 10800882, 1083301, 9.97),\n",
       " ('Saudi Arabia', 27752316, 2149690, 12.91),\n",
       " ('Mali', 16955536, 1220190, 13.9),\n",
       " ('Niger', 18045729, 1266700, 14.25),\n",
       " ('Angola', 19625353, 1246700, 15.74)]"
      ]
     },
     "execution_count": 17,
     "metadata": {},
     "output_type": "execute_result"
    }
   ],
   "source": [
    "%%sql\n",
    "\n",
    "/* least densely populated territories, with constraints */\n",
    "SELECT name, population, area_land, \n",
    "       ROUND(CAST(population AS Float)/area_land, 2) AS pop_density\n",
    "   FROM facts\n",
    "  WHERE population IS NOT NULL AND\n",
    "        area_land IS NOT NULL AND\n",
    "        population * area_land != 0 AND\n",
    "        population < (SELECT AVG(population) \n",
    "                         FROM facts \n",
    "                        WHERE name NOT LIKE '%Ocean' AND\n",
    "                        name NOT IN ('Antarctica', 'European Union', 'World') AND\n",
    "                        population IS NOT NULL AND\n",
    "                        population != 0) AND\n",
    "        area_land > (SELECT AVG(area_land) \n",
    "                         FROM facts \n",
    "                        WHERE name NOT LIKE '%Ocean' AND\n",
    "                        name NOT IN ('Antarctica', 'European Union', 'World') AND\n",
    "                        area_land IS NOT NULL AND\n",
    "                        area_land != 0)\n",
    "  ORDER BY pop_density\n",
    "  LIMIT 15;"
   ]
  },
  {
   "cell_type": "markdown",
   "metadata": {},
   "source": [
    "This result set selects relatively big countries. **Greenland** is still the least densely populated, but now **Mongolia** follows. The latter is an enormous country between China and Russia whose capital, Ulan Bator, hosts about half of the country population. A great part of the country is uninhabited steppe.<br />\n",
    "The third place is occupied by **Namibia**, in Africa."
   ]
  },
  {
   "cell_type": "markdown",
   "metadata": {},
   "source": [
    "### 4) Population growth rates\n",
    "\n",
    "The population growth is obtained by considering the yearly variation in the population (by combining birth rate, death rate and migration rate), dividing by the population size at the start of the year and expressing this ratio as a percentage.\n",
    "\n",
    "Let's first find the **top 15 countries with the highest population growth**:"
   ]
  },
  {
   "cell_type": "code",
   "execution_count": 18,
   "metadata": {},
   "outputs": [
    {
     "name": "stdout",
     "output_type": "stream",
     "text": [
      " * sqlite:///datasets/factbook.db\n",
      "Done.\n"
     ]
    },
    {
     "data": {
      "text/html": [
       "<table>\n",
       "    <thead>\n",
       "        <tr>\n",
       "            <th>name</th>\n",
       "            <th>population</th>\n",
       "            <th>pop_growth_pct</th>\n",
       "        </tr>\n",
       "    </thead>\n",
       "    <tbody>\n",
       "        <tr>\n",
       "            <td>South Sudan</td>\n",
       "            <td>12042910</td>\n",
       "            <td>4.02</td>\n",
       "        </tr>\n",
       "        <tr>\n",
       "            <td>Malawi</td>\n",
       "            <td>17964697</td>\n",
       "            <td>3.32</td>\n",
       "        </tr>\n",
       "        <tr>\n",
       "            <td>Burundi</td>\n",
       "            <td>10742276</td>\n",
       "            <td>3.28</td>\n",
       "        </tr>\n",
       "        <tr>\n",
       "            <td>Niger</td>\n",
       "            <td>18045729</td>\n",
       "            <td>3.25</td>\n",
       "        </tr>\n",
       "        <tr>\n",
       "            <td>Uganda</td>\n",
       "            <td>37101745</td>\n",
       "            <td>3.24</td>\n",
       "        </tr>\n",
       "        <tr>\n",
       "            <td>Qatar</td>\n",
       "            <td>2194817</td>\n",
       "            <td>3.07</td>\n",
       "        </tr>\n",
       "        <tr>\n",
       "            <td>Burkina Faso</td>\n",
       "            <td>18931686</td>\n",
       "            <td>3.03</td>\n",
       "        </tr>\n",
       "        <tr>\n",
       "            <td>Mali</td>\n",
       "            <td>16955536</td>\n",
       "            <td>2.98</td>\n",
       "        </tr>\n",
       "        <tr>\n",
       "            <td>Cook Islands</td>\n",
       "            <td>9838</td>\n",
       "            <td>2.95</td>\n",
       "        </tr>\n",
       "        <tr>\n",
       "            <td>Iraq</td>\n",
       "            <td>37056169</td>\n",
       "            <td>2.93</td>\n",
       "        </tr>\n",
       "        <tr>\n",
       "            <td>Ethiopia</td>\n",
       "            <td>99465819</td>\n",
       "            <td>2.89</td>\n",
       "        </tr>\n",
       "        <tr>\n",
       "            <td>Zambia</td>\n",
       "            <td>15066266</td>\n",
       "            <td>2.88</td>\n",
       "        </tr>\n",
       "        <tr>\n",
       "            <td>Western Sahara</td>\n",
       "            <td>570866</td>\n",
       "            <td>2.82</td>\n",
       "        </tr>\n",
       "        <tr>\n",
       "            <td>Gaza Strip</td>\n",
       "            <td>1869055</td>\n",
       "            <td>2.81</td>\n",
       "        </tr>\n",
       "        <tr>\n",
       "            <td>Tanzania</td>\n",
       "            <td>51045882</td>\n",
       "            <td>2.79</td>\n",
       "        </tr>\n",
       "    </tbody>\n",
       "</table>"
      ],
      "text/plain": [
       "[('South Sudan', 12042910, 4.02),\n",
       " ('Malawi', 17964697, 3.32),\n",
       " ('Burundi', 10742276, 3.28),\n",
       " ('Niger', 18045729, 3.25),\n",
       " ('Uganda', 37101745, 3.24),\n",
       " ('Qatar', 2194817, 3.07),\n",
       " ('Burkina Faso', 18931686, 3.03),\n",
       " ('Mali', 16955536, 2.98),\n",
       " ('Cook Islands', 9838, 2.95),\n",
       " ('Iraq', 37056169, 2.93),\n",
       " ('Ethiopia', 99465819, 2.89),\n",
       " ('Zambia', 15066266, 2.88),\n",
       " ('Western Sahara', 570866, 2.82),\n",
       " ('Gaza Strip', 1869055, 2.81),\n",
       " ('Tanzania', 51045882, 2.79)]"
      ]
     },
     "execution_count": 18,
     "metadata": {},
     "output_type": "execute_result"
    }
   ],
   "source": [
    "%%sql\n",
    "\n",
    "/* top 15 pop. growth countries */\n",
    "SELECT name, population, population_growth AS pop_growth_pct\n",
    "   FROM facts\n",
    "  ORDER BY population_growth DESC\n",
    "  LIMIT 15;"
   ]
  },
  {
   "cell_type": "markdown",
   "metadata": {},
   "source": [
    "**Eleven** out of fifteen countries with the highest population growth **are african**!<br />\n",
    "The first non-african country is **Qatar**, with a growth larger than 3%; the second is **Iraq** with almost 3%.\n",
    "\n",
    "By searching the web for further context, we understood that the data in the CIA database are different from the ones reported on some sites like [knoema](https://knoema.com/atlas) and [World Bank open data](https://data.worldbank.org/) (which also agree with each other).<br /> \n",
    "As an illustration, below we report the population growth data from 2004 to 2020, taken from the World Bank site, for three of our top 15 countries.<br />\n",
    "We see that South Sudan (1.5%) has a smaller value than Malawi (2.8%) in 2015. They are both surpassed by Iraq (3.3%). This differences are perhaps explainable by different definitions of the the population growth, but we miss an official dictionary of data for our database, so we can't be sure. "
   ]
  },
  {
   "cell_type": "code",
   "execution_count": 19,
   "metadata": {},
   "outputs": [
    {
     "data": {
      "text/html": [
       "\n",
       "        <iframe\n",
       "            width=\"450\"\n",
       "            height=\"300\"\n",
       "            src=\"https://data.worldbank.org/share/widget?end=2020&indicators=SP.POP.GROW&locations=SS-MW-IQ&start=2004\"\n",
       "            frameborder=\"0\"\n",
       "            allowfullscreen\n",
       "        ></iframe>\n",
       "        "
      ],
      "text/plain": [
       "<IPython.lib.display.IFrame at 0x7fc281cdf130>"
      ]
     },
     "execution_count": 19,
     "metadata": {},
     "output_type": "execute_result"
    }
   ],
   "source": [
    "from IPython.display import IFrame\n",
    "IFrame('https://data.worldbank.org/share/widget?end=2020&indicators=SP.POP.GROW&locations=SS-MW-IQ&start=2004', width=450, height=300)"
   ]
  },
  {
   "cell_type": "markdown",
   "metadata": {},
   "source": [
    "Another point that the previous graph highligths is that the yearly population growth contained in our database is just a snapshot of the population dynamics, but doesn't give any information about how the population is changing in the longer period.<br />\n",
    "For example, in 2011, South Sudan and Iraq have very similar values but the former has decreasing values from 2008 to 2018, the latter has an increasing growth rate from 2008 to 2013.\n",
    "\n",
    "Let's now find the **top 15 countries with smallest population growth**:"
   ]
  },
  {
   "cell_type": "code",
   "execution_count": 20,
   "metadata": {},
   "outputs": [
    {
     "name": "stdout",
     "output_type": "stream",
     "text": [
      " * sqlite:///datasets/factbook.db\n",
      "Done.\n"
     ]
    },
    {
     "data": {
      "text/html": [
       "<table>\n",
       "    <thead>\n",
       "        <tr>\n",
       "            <th>name</th>\n",
       "            <th>population</th>\n",
       "            <th>pop_growth_pct</th>\n",
       "        </tr>\n",
       "    </thead>\n",
       "    <tbody>\n",
       "        <tr>\n",
       "            <td>Holy See (Vatican City)</td>\n",
       "            <td>842</td>\n",
       "            <td>0.0</td>\n",
       "        </tr>\n",
       "        <tr>\n",
       "            <td>Cocos (Keeling) Islands</td>\n",
       "            <td>596</td>\n",
       "            <td>0.0</td>\n",
       "        </tr>\n",
       "        <tr>\n",
       "            <td>Greenland</td>\n",
       "            <td>57733</td>\n",
       "            <td>0.0</td>\n",
       "        </tr>\n",
       "        <tr>\n",
       "            <td>Pitcairn Islands</td>\n",
       "            <td>48</td>\n",
       "            <td>0.0</td>\n",
       "        </tr>\n",
       "        <tr>\n",
       "            <td>Greece</td>\n",
       "            <td>10775643</td>\n",
       "            <td>0.01</td>\n",
       "        </tr>\n",
       "        <tr>\n",
       "            <td>Norfolk Island</td>\n",
       "            <td>2210</td>\n",
       "            <td>0.01</td>\n",
       "        </tr>\n",
       "        <tr>\n",
       "            <td>Tokelau</td>\n",
       "            <td>1337</td>\n",
       "            <td>0.01</td>\n",
       "        </tr>\n",
       "        <tr>\n",
       "            <td>Falkland Islands (Islas Malvinas)</td>\n",
       "            <td>3361</td>\n",
       "            <td>0.01</td>\n",
       "        </tr>\n",
       "        <tr>\n",
       "            <td>Guyana</td>\n",
       "            <td>735222</td>\n",
       "            <td>0.02</td>\n",
       "        </tr>\n",
       "        <tr>\n",
       "            <td>Slovakia</td>\n",
       "            <td>5445027</td>\n",
       "            <td>0.02</td>\n",
       "        </tr>\n",
       "        <tr>\n",
       "            <td>Tonga</td>\n",
       "            <td>106501</td>\n",
       "            <td>0.03</td>\n",
       "        </tr>\n",
       "        <tr>\n",
       "            <td>Niue</td>\n",
       "            <td>1190</td>\n",
       "            <td>0.03</td>\n",
       "        </tr>\n",
       "        <tr>\n",
       "            <td>Svalbard</td>\n",
       "            <td>1872</td>\n",
       "            <td>0.03</td>\n",
       "        </tr>\n",
       "        <tr>\n",
       "            <td>Russia</td>\n",
       "            <td>142423773</td>\n",
       "            <td>0.04</td>\n",
       "        </tr>\n",
       "        <tr>\n",
       "            <td>Georgia</td>\n",
       "            <td>4931226</td>\n",
       "            <td>0.08</td>\n",
       "        </tr>\n",
       "    </tbody>\n",
       "</table>"
      ],
      "text/plain": [
       "[('Holy See (Vatican City)', 842, 0.0),\n",
       " ('Cocos (Keeling) Islands', 596, 0.0),\n",
       " ('Greenland', 57733, 0.0),\n",
       " ('Pitcairn Islands', 48, 0.0),\n",
       " ('Greece', 10775643, 0.01),\n",
       " ('Norfolk Island', 2210, 0.01),\n",
       " ('Tokelau', 1337, 0.01),\n",
       " ('Falkland Islands (Islas Malvinas)', 3361, 0.01),\n",
       " ('Guyana', 735222, 0.02),\n",
       " ('Slovakia', 5445027, 0.02),\n",
       " ('Tonga', 106501, 0.03),\n",
       " ('Niue', 1190, 0.03),\n",
       " ('Svalbard', 1872, 0.03),\n",
       " ('Russia', 142423773, 0.04),\n",
       " ('Georgia', 4931226, 0.08)]"
      ]
     },
     "execution_count": 20,
     "metadata": {},
     "output_type": "execute_result"
    }
   ],
   "source": [
    "%%sql\n",
    "\n",
    "SELECT name, population, population_growth AS pop_growth_pct\n",
    "   FROM facts\n",
    "  WHERE pop_growth_pct NOT NULL  \n",
    "  ORDER BY pop_growth_pct\n",
    "  LIMIT 15;"
   ]
  },
  {
   "cell_type": "markdown",
   "metadata": {},
   "source": [
    "Again, we see that our data do not completely agree with the data taken from the World Bank site. We report below the population growth of Greenland from 2004 to 2020. In 2015, the  growth is -0.322%, while our dataset contains a 0.0% value."
   ]
  },
  {
   "cell_type": "code",
   "execution_count": 21,
   "metadata": {},
   "outputs": [
    {
     "data": {
      "text/html": [
       "\n",
       "        <iframe\n",
       "            width=\"450\"\n",
       "            height=\"300\"\n",
       "            src=\"https://data.worldbank.org/share/widget?end=2020&indicators=SP.POP.GROW&locations=GL&start=2004\"\n",
       "            frameborder=\"0\"\n",
       "            allowfullscreen\n",
       "        ></iframe>\n",
       "        "
      ],
      "text/plain": [
       "<IPython.lib.display.IFrame at 0x7fc281cdf730>"
      ]
     },
     "execution_count": 21,
     "metadata": {},
     "output_type": "execute_result"
    }
   ],
   "source": [
    "IFrame(\"https://data.worldbank.org/share/widget?end=2020&indicators=SP.POP.GROW&locations=GL&start=2004\", width=450, height=300)"
   ]
  },
  {
   "cell_type": "markdown",
   "metadata": {},
   "source": [
    "We find that **Greenland** is the least densely populated island (as we found in section 3) and among the territories where the population remained costant in 2015, according to our dataset. This means that birth and death rate exactly compensated the migration rate (which is negative, in this case), as we see in the next cell:"
   ]
  },
  {
   "cell_type": "code",
   "execution_count": 22,
   "metadata": {},
   "outputs": [
    {
     "name": "stdout",
     "output_type": "stream",
     "text": [
      " * sqlite:///datasets/factbook.db\n",
      "Done.\n"
     ]
    },
    {
     "data": {
      "text/html": [
       "<table>\n",
       "    <thead>\n",
       "        <tr>\n",
       "            <th>name</th>\n",
       "            <th>population_growth</th>\n",
       "            <th>birth_rate</th>\n",
       "            <th>death_rate</th>\n",
       "            <th>migration_rate</th>\n",
       "        </tr>\n",
       "    </thead>\n",
       "    <tbody>\n",
       "        <tr>\n",
       "            <td>Greenland</td>\n",
       "            <td>0.0</td>\n",
       "            <td>14.48</td>\n",
       "            <td>8.49</td>\n",
       "            <td>5.98</td>\n",
       "        </tr>\n",
       "    </tbody>\n",
       "</table>"
      ],
      "text/plain": [
       "[('Greenland', 0.0, 14.48, 8.49, 5.98)]"
      ]
     },
     "execution_count": 22,
     "metadata": {},
     "output_type": "execute_result"
    }
   ],
   "source": [
    "%%sql\n",
    "\n",
    "SELECT name, population_growth, birth_rate, death_rate, migration_rate\n",
    "   FROM facts\n",
    "  WHERE name = 'Greenland'  "
   ]
  },
  {
   "cell_type": "markdown",
   "metadata": {},
   "source": [
    "We also find european territories in our result set: **Greece**, **Slovakia**, **Svalbard**."
   ]
  },
  {
   "cell_type": "markdown",
   "metadata": {},
   "source": [
    "### 5) Analysis of birth rates\n",
    "\n",
    "Birth rate is the number of births <u>per year per 1000 inhabitants<u/>."
   ]
  },
  {
   "cell_type": "markdown",
   "metadata": {},
   "source": [
    "### 5.1) Highest birth rates\n",
    "\n",
    "Let's first find the 20 territories with the highest birth rate in our dataset:"
   ]
  },
  {
   "cell_type": "code",
   "execution_count": 23,
   "metadata": {},
   "outputs": [
    {
     "name": "stdout",
     "output_type": "stream",
     "text": [
      " * sqlite:///datasets/factbook.db\n",
      "Done.\n"
     ]
    },
    {
     "data": {
      "text/html": [
       "<table>\n",
       "    <thead>\n",
       "        <tr>\n",
       "            <th>name</th>\n",
       "            <th>top20_birth_rates</th>\n",
       "        </tr>\n",
       "    </thead>\n",
       "    <tbody>\n",
       "        <tr>\n",
       "            <td>Niger</td>\n",
       "            <td>45.45</td>\n",
       "        </tr>\n",
       "        <tr>\n",
       "            <td>Mali</td>\n",
       "            <td>44.99</td>\n",
       "        </tr>\n",
       "        <tr>\n",
       "            <td>Uganda</td>\n",
       "            <td>43.79</td>\n",
       "        </tr>\n",
       "        <tr>\n",
       "            <td>Zambia</td>\n",
       "            <td>42.13</td>\n",
       "        </tr>\n",
       "        <tr>\n",
       "            <td>Burkina Faso</td>\n",
       "            <td>42.03</td>\n",
       "        </tr>\n",
       "        <tr>\n",
       "            <td>Burundi</td>\n",
       "            <td>42.01</td>\n",
       "        </tr>\n",
       "        <tr>\n",
       "            <td>Malawi</td>\n",
       "            <td>41.56</td>\n",
       "        </tr>\n",
       "        <tr>\n",
       "            <td>Somalia</td>\n",
       "            <td>40.45</td>\n",
       "        </tr>\n",
       "        <tr>\n",
       "            <td>Angola</td>\n",
       "            <td>38.78</td>\n",
       "        </tr>\n",
       "        <tr>\n",
       "            <td>Mozambique</td>\n",
       "            <td>38.58</td>\n",
       "        </tr>\n",
       "        <tr>\n",
       "            <td>Afghanistan</td>\n",
       "            <td>38.57</td>\n",
       "        </tr>\n",
       "        <tr>\n",
       "            <td>Nigeria</td>\n",
       "            <td>37.64</td>\n",
       "        </tr>\n",
       "        <tr>\n",
       "            <td>Ethiopia</td>\n",
       "            <td>37.27</td>\n",
       "        </tr>\n",
       "        <tr>\n",
       "            <td>Sierra Leone</td>\n",
       "            <td>37.03</td>\n",
       "        </tr>\n",
       "        <tr>\n",
       "            <td>South Sudan</td>\n",
       "            <td>36.91</td>\n",
       "        </tr>\n",
       "        <tr>\n",
       "            <td>Chad</td>\n",
       "            <td>36.6</td>\n",
       "        </tr>\n",
       "        <tr>\n",
       "            <td>Tanzania</td>\n",
       "            <td>36.39</td>\n",
       "        </tr>\n",
       "        <tr>\n",
       "            <td>Cameroon</td>\n",
       "            <td>36.17</td>\n",
       "        </tr>\n",
       "        <tr>\n",
       "            <td>Benin</td>\n",
       "            <td>36.02</td>\n",
       "        </tr>\n",
       "        <tr>\n",
       "            <td>Congo, Republic of the</td>\n",
       "            <td>35.85</td>\n",
       "        </tr>\n",
       "    </tbody>\n",
       "</table>"
      ],
      "text/plain": [
       "[('Niger', 45.45),\n",
       " ('Mali', 44.99),\n",
       " ('Uganda', 43.79),\n",
       " ('Zambia', 42.13),\n",
       " ('Burkina Faso', 42.03),\n",
       " ('Burundi', 42.01),\n",
       " ('Malawi', 41.56),\n",
       " ('Somalia', 40.45),\n",
       " ('Angola', 38.78),\n",
       " ('Mozambique', 38.58),\n",
       " ('Afghanistan', 38.57),\n",
       " ('Nigeria', 37.64),\n",
       " ('Ethiopia', 37.27),\n",
       " ('Sierra Leone', 37.03),\n",
       " ('South Sudan', 36.91),\n",
       " ('Chad', 36.6),\n",
       " ('Tanzania', 36.39),\n",
       " ('Cameroon', 36.17),\n",
       " ('Benin', 36.02),\n",
       " ('Congo, Republic of the', 35.85)]"
      ]
     },
     "execution_count": 23,
     "metadata": {},
     "output_type": "execute_result"
    }
   ],
   "source": [
    "%%sql\n",
    "\n",
    "SELECT name, birth_rate AS top20_birth_rates\n",
    "   FROM facts\n",
    "  ORDER BY top20_birth_rates DESC\n",
    "  LIMIT 20;  "
   ]
  },
  {
   "cell_type": "markdown",
   "metadata": {},
   "source": [
    "All of the countries in the top 20 for birth rate are **in Africa**, except for **Afghanistan**.<br />\n",
    "They are all well over 30 births per year per 1000 inhabitants.\n",
    "\n",
    "The 2015 birth rate for each country is reported in the colormap below (source: [Our World In Data](https://ourworldindata.org/grapher/crude-birth-rate?time=2015&country=~OWID_WRL)). We can clearly observe how most of the african countries have birth rates greater than 30."
   ]
  },
  {
   "cell_type": "markdown",
   "metadata": {},
   "source": [
    "<img src=\"imgs/crude-birth-rate-2015.png\" width=800 height=600 />"
   ]
  },
  {
   "cell_type": "markdown",
   "metadata": {},
   "source": [
    "### 5.2) Lowest birth rate\n",
    "\n",
    "Let's now consider the top 20 territories with lowest birth rates:"
   ]
  },
  {
   "cell_type": "code",
   "execution_count": 24,
   "metadata": {},
   "outputs": [
    {
     "name": "stdout",
     "output_type": "stream",
     "text": [
      " * sqlite:///datasets/factbook.db\n",
      "Done.\n"
     ]
    },
    {
     "data": {
      "text/html": [
       "<table>\n",
       "    <thead>\n",
       "        <tr>\n",
       "            <th>name</th>\n",
       "            <th>top20_lowest_birth_rate</th>\n",
       "        </tr>\n",
       "    </thead>\n",
       "    <tbody>\n",
       "        <tr>\n",
       "            <td>Monaco</td>\n",
       "            <td>6.65</td>\n",
       "        </tr>\n",
       "        <tr>\n",
       "            <td>Saint Pierre and Miquelon</td>\n",
       "            <td>7.42</td>\n",
       "        </tr>\n",
       "        <tr>\n",
       "            <td>Japan</td>\n",
       "            <td>7.93</td>\n",
       "        </tr>\n",
       "        <tr>\n",
       "            <td>Andorra</td>\n",
       "            <td>8.13</td>\n",
       "        </tr>\n",
       "        <tr>\n",
       "            <td>Korea, South</td>\n",
       "            <td>8.19</td>\n",
       "        </tr>\n",
       "        <tr>\n",
       "            <td>Singapore</td>\n",
       "            <td>8.27</td>\n",
       "        </tr>\n",
       "        <tr>\n",
       "            <td>Slovenia</td>\n",
       "            <td>8.42</td>\n",
       "        </tr>\n",
       "        <tr>\n",
       "            <td>Germany</td>\n",
       "            <td>8.47</td>\n",
       "        </tr>\n",
       "        <tr>\n",
       "            <td>Taiwan</td>\n",
       "            <td>8.47</td>\n",
       "        </tr>\n",
       "        <tr>\n",
       "            <td>San Marino</td>\n",
       "            <td>8.63</td>\n",
       "        </tr>\n",
       "        <tr>\n",
       "            <td>Greece</td>\n",
       "            <td>8.66</td>\n",
       "        </tr>\n",
       "        <tr>\n",
       "            <td>Italy</td>\n",
       "            <td>8.74</td>\n",
       "        </tr>\n",
       "        <tr>\n",
       "            <td>Bosnia and Herzegovina</td>\n",
       "            <td>8.87</td>\n",
       "        </tr>\n",
       "        <tr>\n",
       "            <td>Macau</td>\n",
       "            <td>8.88</td>\n",
       "        </tr>\n",
       "        <tr>\n",
       "            <td>Bulgaria</td>\n",
       "            <td>8.92</td>\n",
       "        </tr>\n",
       "        <tr>\n",
       "            <td>Serbia</td>\n",
       "            <td>9.08</td>\n",
       "        </tr>\n",
       "        <tr>\n",
       "            <td>Romania</td>\n",
       "            <td>9.14</td>\n",
       "        </tr>\n",
       "        <tr>\n",
       "            <td>Hungary</td>\n",
       "            <td>9.16</td>\n",
       "        </tr>\n",
       "        <tr>\n",
       "            <td>Hong Kong</td>\n",
       "            <td>9.23</td>\n",
       "        </tr>\n",
       "        <tr>\n",
       "            <td>Portugal</td>\n",
       "            <td>9.27</td>\n",
       "        </tr>\n",
       "    </tbody>\n",
       "</table>"
      ],
      "text/plain": [
       "[('Monaco', 6.65),\n",
       " ('Saint Pierre and Miquelon', 7.42),\n",
       " ('Japan', 7.93),\n",
       " ('Andorra', 8.13),\n",
       " ('Korea, South', 8.19),\n",
       " ('Singapore', 8.27),\n",
       " ('Slovenia', 8.42),\n",
       " ('Germany', 8.47),\n",
       " ('Taiwan', 8.47),\n",
       " ('San Marino', 8.63),\n",
       " ('Greece', 8.66),\n",
       " ('Italy', 8.74),\n",
       " ('Bosnia and Herzegovina', 8.87),\n",
       " ('Macau', 8.88),\n",
       " ('Bulgaria', 8.92),\n",
       " ('Serbia', 9.08),\n",
       " ('Romania', 9.14),\n",
       " ('Hungary', 9.16),\n",
       " ('Hong Kong', 9.23),\n",
       " ('Portugal', 9.27)]"
      ]
     },
     "execution_count": 24,
     "metadata": {},
     "output_type": "execute_result"
    }
   ],
   "source": [
    "%%sql\n",
    "\n",
    "SELECT name, birth_rate AS top20_lowest_birth_rate\n",
    "   FROM facts\n",
    "  WHERE birth_rate NOT NULL\n",
    "  ORDER BY top20_lowest_birth_rate\n",
    "  LIMIT 20;"
   ]
  },
  {
   "cell_type": "markdown",
   "metadata": {},
   "source": [
    "The birth rates found here are 3 to 5 times smaller than those of the african countries of the previous paragraph.\n",
    "\n",
    "**Monaco** is the city-state with the lowest birth rate, with a slowly decreasing value in the last five years and a much more pronounced one in the 2004-2015 decade. This is shown in the following graph, taken from [knoema](https://knoema.com/atlas/Monaco/Birth-rate).\n",
    "\n",
    "<img src='imgs/monaco_br.png' width=500 height=400 />"
   ]
  },
  {
   "cell_type": "markdown",
   "metadata": {},
   "source": [
    "Among all the top 20 countries with lowest birth rates, we decided to deepen the analysis for Japan, a largely developed and modern country. We are interested in knowing more about the factors which can explain the present situation. (Recall that we already met Japan in section 3.1, as one of the most densely populated countries)."
   ]
  },
  {
   "cell_type": "markdown",
   "metadata": {},
   "source": [
    "### 5.2.1) Japan and its birth rate fall"
   ]
  },
  {
   "cell_type": "markdown",
   "metadata": {},
   "source": [
    "The third lowest birth rate is that of **Japan**, whose trend in the last 70 years is shown in the following graph (source: [knoema](https://knoema.com/search?query=japan+birth+rate&pageIndex=&scope=&term=&correct=&source=Header))"
   ]
  },
  {
   "cell_type": "markdown",
   "metadata": {},
   "source": [
    "<img src='imgs/japan_br.png' width=900 height=800 />"
   ]
  },
  {
   "cell_type": "markdown",
   "metadata": {},
   "source": [
    "Japan had a **baby-boom** in the immediate aftermath of World War II, in the years 1947-49. After this, a prolonged period of low fertility followed, which still continues today. From the graph above, we see that the birth rate had a moderate recovery in the 60's, but after that the fall has been unstoppable.\n",
    "\n",
    "The birth rate crisis contributes to a larger phenomenon: **the aging of the country**. It is described in detail in this [Wikipedia article](https://en.wikipedia.org/wiki/Aging_of_Japan).<br />\n",
    "According to it, several factors contribute to Japan's growing share of elderly people (more than 20% of its population is older than 65 today). Some of them are:\n",
    "* **high life expectancy**: improved living conditions (healthcare, nutrition, prolonged peace) has led inevitably to a longer expected lifespan. In 2016, it was 85 years on average.\n",
    "* **low fertility rate**: it is defined as the expected number of children per woman during her lifetime. In the 2000's, it has gone under the \"replacement threshold\" of 2 children per woman. This factor clearly correlates to birth rate.\n",
    "    * **economic and cultural factors**: these can be considered a direct cause of low birth rate. Later and fewer marriages, poor work-life balance, decline in wages, higher costs in raising children are just some. Perhaps most importantly, in Japan a rising share of men (about 40%) have part-time and temporary jobs.<br />\n",
    "In this [article](https://www.theatlantic.com/business/archive/2017/07/japan-mystery-low-birth-rate/534291/) by The Atlantic, the author suggests that a country where men are still largely considered as breadwinners, the difficulties in findind steady jobs are perhaps the main obstacle to start building a family at a young age. Furthermore, those who have a stable job find themselves under the pressure of employers who ask them to work overtime very often in order to preserve their job. This way, having time, energy and will to date someone may be impossible, even for economically-secure workers (death by overwork is not so rare in Japan. They even a word for that: *karoshi*).<br />\n",
    "As an aside, we also note that with an increasingly old population, more pressure is put on young workers for paying pensions and healthcare for the elderly.\n",
    "\n",
    "Another problem strictly connected to low birth rate is the **shrinking of the population**: during the 2000's, in Japan the death rate has regularly overcome the birth rate. This, combined with very low immigration rates, is causing a decrease in the population. We can have a glimpse of that in our data:"
   ]
  },
  {
   "cell_type": "code",
   "execution_count": 26,
   "metadata": {},
   "outputs": [
    {
     "name": "stdout",
     "output_type": "stream",
     "text": [
      " * sqlite:///datasets/factbook.db\n",
      "Done.\n"
     ]
    },
    {
     "data": {
      "text/html": [
       "<table>\n",
       "    <thead>\n",
       "        <tr>\n",
       "            <th>name</th>\n",
       "            <th>population</th>\n",
       "            <th>birth_rate</th>\n",
       "            <th>death_rate</th>\n",
       "            <th>migration_rate</th>\n",
       "        </tr>\n",
       "    </thead>\n",
       "    <tbody>\n",
       "        <tr>\n",
       "            <td>Japan</td>\n",
       "            <td>126919659</td>\n",
       "            <td>7.93</td>\n",
       "            <td>9.51</td>\n",
       "            <td>0.0</td>\n",
       "        </tr>\n",
       "    </tbody>\n",
       "</table>"
      ],
      "text/plain": [
       "[('Japan', 126919659, 7.93, 9.51, 0.0)]"
      ]
     },
     "execution_count": 26,
     "metadata": {},
     "output_type": "execute_result"
    }
   ],
   "source": [
    "%%sql\n",
    "\n",
    "SELECT name, population, birth_rate, death_rate, migration_rate\n",
    "   FROM facts\n",
    "   WHERE name = 'Japan' "
   ]
  },
  {
   "cell_type": "markdown",
   "metadata": {},
   "source": [
    "This demographic tendency is causing concerns in the japanese government, which is trying to take some action:\n",
    "\n",
    ">Japanese Prime Minister Shinzo Abe wants to prevent the population from **dropping below 100 million by 2060**. In 2017, the government announced a 2 trillion yen ($18 billion) spending package to expand free preschool for children aged 3 to 5 -- and for children aged 2 and under from low-income families -- and cut waiting times at day care centers.\n",
    "\n",
    "(taken from the CNN article [Japan's birth rate hits another record low in 2019](https://edition.cnn.com/2019/12/25/asia/japan-birthrate-hnk-intl/index.html))"
   ]
  },
  {
   "cell_type": "markdown",
   "metadata": {},
   "source": [
    "## Conclusions\n",
    "\n",
    "In this project, we analysed the subset of the CIA World Factbook contaning demographic and geographic data about ech world country.<br /> \n",
    "We used SQLite to query our single-table database.\n",
    "\n",
    "The **results** can be summarised as follows:\n",
    "- *China* and *India* are by far the most populated countries, both well over one billion inhabitants each.\n",
    "- *Vatican City* is the smallest and least populated country, although a very special one. We investigated the fascinating history of *Pitcairn Islands*, the territory with the smallest population.\n",
    "- *Macau* is the most densely populated region (a part of China); *Bangladesh* is the most densely populated among the countries with population greater than world average.\n",
    "- *Greenland* and *Svalbard Islands* are the least densely populated territories.\n",
    "- *Africa* hosts most of the countries with the highest population growth, but *Qatar* and *Iraq* are also noticeable.\n",
    "- *Niger* is the country with highest birth rate, closely followed by lots of other african countries and *Afghanistan*.\n",
    "- We investigated *Japan*'s very low birth rates, understanding that it is an important part of aging and shrinking of its population. We read and reported about economic, social and cultural factors which can cause and worsen an ancient problem, dating back to the last five decades."
   ]
  }
 ],
 "metadata": {
  "kernelspec": {
   "display_name": "Python 3",
   "language": "python",
   "name": "python3"
  },
  "language_info": {
   "codemirror_mode": {
    "name": "ipython",
    "version": 3
   },
   "file_extension": ".py",
   "mimetype": "text/x-python",
   "name": "python",
   "nbconvert_exporter": "python",
   "pygments_lexer": "ipython3",
   "version": "3.8.8"
  }
 },
 "nbformat": 4,
 "nbformat_minor": 4
}
