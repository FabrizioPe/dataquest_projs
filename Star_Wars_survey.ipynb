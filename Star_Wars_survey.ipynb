{
 "cells": [
  {
   "cell_type": "markdown",
   "metadata": {},
   "source": [
    "# Star Wars movies - Analysis of the survey run by FiveThirtyEight"
   ]
  },
  {
   "cell_type": "markdown",
   "metadata": {},
   "source": [
    "`category: data cleaning and exploratory data analysis`\n",
    "\n",
    "In 2014, authors at [FiveThirtyEight](https://fivethirtyeight.com/), a site which publishes articles based on statistics and data analysis, decided to run a survey in order to understand which Star Wars movies were the most successful and how characters were perceived by the audience. They used [SurveyMonkey](https://www.surveymonkey.com/market-research/solutions/audience-panel/) to reach the respondents.<br /> \n",
    "\n",
    "The author of the [article](https://fivethirtyeight.com/features/americas-favorite-star-wars-movies-and-least-favorite-characters/) where the results were presented, actually said that one of the reasons to run the survey was \"*Does the rest of America realize that “The Empire Strikes Back” is clearly the best of the bunch?* \".<br />\n",
    "If you are a sci-fi lover, you've certainly heard more than once that the original trilogy is much better than the 2000's movies. *Is this the everyone's opinion in the poll? Or are there people who also like the most recent works?*. But also, *what are the most and least favorite characters in the series?*<br /> \n",
    "In this project, we're going to explore the dataset resulting from the poll, which can be downloaded [here](https://github.com/fivethirtyeight/data/tree/master/star-wars-survey).\n",
    "\n",
    "At the time, only the first six movies of the series had been released (the sequel trilogy would have started in 2015 with \"The Force Awakens\"). In order to avoid confusion, we will refer to the movies considering the story chronology, not their release year. In other words:\n",
    "\n",
    "      Episode I:  The Phantom Menace (1999)\n",
    "      Episode II:  Attack of the Clones (2002)\n",
    "      Episode III:  Revenge of the Sith (2005)\n",
    "      Episode IV:  A New Hope (1977)\n",
    "      Episode V: The Empire Strikes Back (1980)\n",
    "      Episode VI: Return of the Jedi (1983)\n",
    "\n",
    "We will also refer to **episodes IV to VI** as the **original series**, and also shorten the titles for readability (e.g. **The Empire** for episode V).<br /><br />\n",
    "\n",
    "### **Preview of the results:**\n",
    "\n",
    "   * **The Empire Strickes back** is actually the most seen and the most appreciated of the series, on average;\n",
    "   * The original series is generally seen more favorably by the respondents;\n",
    "   * **The Phantom Menace** is however generally appreciated, especially by respondents who don't consider themselves fans of the Star Wars franchise and by older people;\n",
    "   * **Luke Skywalker** is the most appreciated character.<br /><br />\n",
    "   \n",
    "<u>Techniques practised in the project</u>: \n",
    "* data cleaning (dealing with missing/inconsistent records) \n",
    "* data visualization (matplotlib, seaborn)\n",
    "* data analysis (grouping operations)   \n",
    "   \n",
    "   \n",
    "   "
   ]
  },
  {
   "cell_type": "markdown",
   "metadata": {},
   "source": [
    "## Loading and getting acquainted with the data"
   ]
  },
  {
   "cell_type": "code",
   "execution_count": 1,
   "metadata": {},
   "outputs": [],
   "source": [
    "# importing the necessary python libraries\n",
    "import numpy as np\n",
    "import pandas as pd"
   ]
  },
  {
   "cell_type": "markdown",
   "metadata": {},
   "source": [
    "We'll read the data directly from the Github repository page, because its first row contain useful information which will be used to rename the columns of the characters (more on this in the cleaning section)."
   ]
  },
  {
   "cell_type": "code",
   "execution_count": 2,
   "metadata": {},
   "outputs": [],
   "source": [
    "data_url = 'https://raw.githubusercontent.com/fivethirtyeight/data/master/star-wars-survey/StarWars.csv'\n",
    "star_wars = pd.read_csv(data_url, encoding='ISO-8859-1')\n",
    "# star_wars = pd.read_csv('datasets/star_wars.csv', encoding='ISO-8859-1') # use this line to read the data locally, instead"
   ]
  },
  {
   "cell_type": "markdown",
   "metadata": {},
   "source": [
    "Next, we'll save the first row in a `useful_info` dataframe and drop it from the `star_wars` dataframe:"
   ]
  },
  {
   "cell_type": "code",
   "execution_count": 3,
   "metadata": {},
   "outputs": [],
   "source": [
    "useful_info = star_wars.iloc[0, :].to_frame() \n",
    "star_wars.drop(0, axis=0, inplace=True)"
   ]
  },
  {
   "cell_type": "code",
   "execution_count": 4,
   "metadata": {
    "scrolled": true
   },
   "outputs": [
    {
     "data": {
      "text/html": [
       "<div>\n",
       "<style scoped>\n",
       "    .dataframe tbody tr th:only-of-type {\n",
       "        vertical-align: middle;\n",
       "    }\n",
       "\n",
       "    .dataframe tbody tr th {\n",
       "        vertical-align: top;\n",
       "    }\n",
       "\n",
       "    .dataframe thead th {\n",
       "        text-align: right;\n",
       "    }\n",
       "</style>\n",
       "<table border=\"1\" class=\"dataframe\">\n",
       "  <thead>\n",
       "    <tr style=\"text-align: right;\">\n",
       "      <th></th>\n",
       "      <th>RespondentID</th>\n",
       "      <th>Have you seen any of the 6 films in the Star Wars franchise?</th>\n",
       "      <th>Do you consider yourself to be a fan of the Star Wars film franchise?</th>\n",
       "      <th>Which of the following Star Wars films have you seen? Please select all that apply.</th>\n",
       "      <th>Unnamed: 4</th>\n",
       "      <th>Unnamed: 5</th>\n",
       "      <th>Unnamed: 6</th>\n",
       "      <th>Unnamed: 7</th>\n",
       "      <th>Unnamed: 8</th>\n",
       "      <th>Please rank the Star Wars films in order of preference with 1 being your favorite film in the franchise and 6 being your least favorite film.</th>\n",
       "      <th>...</th>\n",
       "      <th>Unnamed: 28</th>\n",
       "      <th>Which character shot first?</th>\n",
       "      <th>Are you familiar with the Expanded Universe?</th>\n",
       "      <th>Do you consider yourself to be a fan of the Expanded Universe?æ</th>\n",
       "      <th>Do you consider yourself to be a fan of the Star Trek franchise?</th>\n",
       "      <th>Gender</th>\n",
       "      <th>Age</th>\n",
       "      <th>Household Income</th>\n",
       "      <th>Education</th>\n",
       "      <th>Location (Census Region)</th>\n",
       "    </tr>\n",
       "  </thead>\n",
       "  <tbody>\n",
       "    <tr>\n",
       "      <th>1</th>\n",
       "      <td>3.292880e+09</td>\n",
       "      <td>Yes</td>\n",
       "      <td>Yes</td>\n",
       "      <td>Star Wars: Episode I  The Phantom Menace</td>\n",
       "      <td>Star Wars: Episode II  Attack of the Clones</td>\n",
       "      <td>Star Wars: Episode III  Revenge of the Sith</td>\n",
       "      <td>Star Wars: Episode IV  A New Hope</td>\n",
       "      <td>Star Wars: Episode V The Empire Strikes Back</td>\n",
       "      <td>Star Wars: Episode VI Return of the Jedi</td>\n",
       "      <td>3</td>\n",
       "      <td>...</td>\n",
       "      <td>Very favorably</td>\n",
       "      <td>I don't understand this question</td>\n",
       "      <td>Yes</td>\n",
       "      <td>No</td>\n",
       "      <td>No</td>\n",
       "      <td>Male</td>\n",
       "      <td>18-29</td>\n",
       "      <td>NaN</td>\n",
       "      <td>High school degree</td>\n",
       "      <td>South Atlantic</td>\n",
       "    </tr>\n",
       "    <tr>\n",
       "      <th>2</th>\n",
       "      <td>3.292880e+09</td>\n",
       "      <td>No</td>\n",
       "      <td>NaN</td>\n",
       "      <td>NaN</td>\n",
       "      <td>NaN</td>\n",
       "      <td>NaN</td>\n",
       "      <td>NaN</td>\n",
       "      <td>NaN</td>\n",
       "      <td>NaN</td>\n",
       "      <td>NaN</td>\n",
       "      <td>...</td>\n",
       "      <td>NaN</td>\n",
       "      <td>NaN</td>\n",
       "      <td>NaN</td>\n",
       "      <td>NaN</td>\n",
       "      <td>Yes</td>\n",
       "      <td>Male</td>\n",
       "      <td>18-29</td>\n",
       "      <td>$0 - $24,999</td>\n",
       "      <td>Bachelor degree</td>\n",
       "      <td>West South Central</td>\n",
       "    </tr>\n",
       "    <tr>\n",
       "      <th>3</th>\n",
       "      <td>3.292765e+09</td>\n",
       "      <td>Yes</td>\n",
       "      <td>No</td>\n",
       "      <td>Star Wars: Episode I  The Phantom Menace</td>\n",
       "      <td>Star Wars: Episode II  Attack of the Clones</td>\n",
       "      <td>Star Wars: Episode III  Revenge of the Sith</td>\n",
       "      <td>NaN</td>\n",
       "      <td>NaN</td>\n",
       "      <td>NaN</td>\n",
       "      <td>1</td>\n",
       "      <td>...</td>\n",
       "      <td>Unfamiliar (N/A)</td>\n",
       "      <td>I don't understand this question</td>\n",
       "      <td>No</td>\n",
       "      <td>NaN</td>\n",
       "      <td>No</td>\n",
       "      <td>Male</td>\n",
       "      <td>18-29</td>\n",
       "      <td>$0 - $24,999</td>\n",
       "      <td>High school degree</td>\n",
       "      <td>West North Central</td>\n",
       "    </tr>\n",
       "  </tbody>\n",
       "</table>\n",
       "<p>3 rows × 38 columns</p>\n",
       "</div>"
      ],
      "text/plain": [
       "   RespondentID Have you seen any of the 6 films in the Star Wars franchise?  \\\n",
       "1  3.292880e+09                                                Yes             \n",
       "2  3.292880e+09                                                 No             \n",
       "3  3.292765e+09                                                Yes             \n",
       "\n",
       "  Do you consider yourself to be a fan of the Star Wars film franchise?  \\\n",
       "1                                                Yes                      \n",
       "2                                                NaN                      \n",
       "3                                                 No                      \n",
       "\n",
       "  Which of the following Star Wars films have you seen? Please select all that apply.  \\\n",
       "1           Star Wars: Episode I  The Phantom Menace                                    \n",
       "2                                                NaN                                    \n",
       "3           Star Wars: Episode I  The Phantom Menace                                    \n",
       "\n",
       "                                    Unnamed: 4  \\\n",
       "1  Star Wars: Episode II  Attack of the Clones   \n",
       "2                                          NaN   \n",
       "3  Star Wars: Episode II  Attack of the Clones   \n",
       "\n",
       "                                    Unnamed: 5  \\\n",
       "1  Star Wars: Episode III  Revenge of the Sith   \n",
       "2                                          NaN   \n",
       "3  Star Wars: Episode III  Revenge of the Sith   \n",
       "\n",
       "                          Unnamed: 6  \\\n",
       "1  Star Wars: Episode IV  A New Hope   \n",
       "2                                NaN   \n",
       "3                                NaN   \n",
       "\n",
       "                                     Unnamed: 7  \\\n",
       "1  Star Wars: Episode V The Empire Strikes Back   \n",
       "2                                           NaN   \n",
       "3                                           NaN   \n",
       "\n",
       "                                 Unnamed: 8  \\\n",
       "1  Star Wars: Episode VI Return of the Jedi   \n",
       "2                                       NaN   \n",
       "3                                       NaN   \n",
       "\n",
       "  Please rank the Star Wars films in order of preference with 1 being your favorite film in the franchise and 6 being your least favorite film.  \\\n",
       "1                                                  3                                                                                              \n",
       "2                                                NaN                                                                                              \n",
       "3                                                  1                                                                                              \n",
       "\n",
       "   ...       Unnamed: 28       Which character shot first?  \\\n",
       "1  ...    Very favorably  I don't understand this question   \n",
       "2  ...               NaN                               NaN   \n",
       "3  ...  Unfamiliar (N/A)  I don't understand this question   \n",
       "\n",
       "  Are you familiar with the Expanded Universe?  \\\n",
       "1                                          Yes   \n",
       "2                                          NaN   \n",
       "3                                           No   \n",
       "\n",
       "  Do you consider yourself to be a fan of the Expanded Universe?æ  \\\n",
       "1                                                 No                 \n",
       "2                                                NaN                 \n",
       "3                                                NaN                 \n",
       "\n",
       "  Do you consider yourself to be a fan of the Star Trek franchise? Gender  \\\n",
       "1                                                 No                 Male   \n",
       "2                                                Yes                 Male   \n",
       "3                                                 No                 Male   \n",
       "\n",
       "     Age Household Income           Education Location (Census Region)  \n",
       "1  18-29              NaN  High school degree           South Atlantic  \n",
       "2  18-29     $0 - $24,999     Bachelor degree       West South Central  \n",
       "3  18-29     $0 - $24,999  High school degree       West North Central  \n",
       "\n",
       "[3 rows x 38 columns]"
      ]
     },
     "execution_count": 4,
     "metadata": {},
     "output_type": "execute_result"
    }
   ],
   "source": [
    "# preview of the dataset\n",
    "star_wars.head(3)"
   ]
  },
  {
   "cell_type": "code",
   "execution_count": 5,
   "metadata": {},
   "outputs": [
    {
     "data": {
      "text/plain": [
       "(1186, 38)"
      ]
     },
     "execution_count": 5,
     "metadata": {},
     "output_type": "execute_result"
    }
   ],
   "source": [
    "star_wars.shape"
   ]
  },
  {
   "cell_type": "markdown",
   "metadata": {},
   "source": [
    "We see that the dataframe is 1186 rows by 38 columns.\n",
    "\n",
    "The firt column, `RespondentID`, is a unique identifier for the person who took the survey.<br />\n",
    "The following two columns:\n",
    "* `Have you seen any of the 6 films in the Star Wars franchise?`\n",
    "* `Do you consider yourself to be a fan of the Star Wars film franchise?`\n",
    "\n",
    "contain Yes/No and will be appropriately converted to True/False (boolean).\n",
    "\n",
    "The six columns from `Which of the following Star Wars films have you seen? Please select all that apply.` to `Unnamed: 8` contain the Star Wars movies titles from I to VI respectively. If a respodent has seen a certain movie, its title will show up in the corresponding column, otherwise it will be Nan (as an example, the first respondent has seen all of them, the second none of them, the third only the movies from I to III).\n",
    "\n",
    "The six columns from `Please rank the Star Wars films in order of preference with 1 being your favorite film in the franchise and 6 being your least favorite film.` to `Unnamed: 14` contain the ranking of the movies, from episode I to episode VI. As an example, let's consider the first respondent:"
   ]
  },
  {
   "cell_type": "code",
   "execution_count": 6,
   "metadata": {},
   "outputs": [
    {
     "data": {
      "text/html": [
       "<div>\n",
       "<style scoped>\n",
       "    .dataframe tbody tr th:only-of-type {\n",
       "        vertical-align: middle;\n",
       "    }\n",
       "\n",
       "    .dataframe tbody tr th {\n",
       "        vertical-align: top;\n",
       "    }\n",
       "\n",
       "    .dataframe thead th {\n",
       "        text-align: right;\n",
       "    }\n",
       "</style>\n",
       "<table border=\"1\" class=\"dataframe\">\n",
       "  <thead>\n",
       "    <tr style=\"text-align: right;\">\n",
       "      <th></th>\n",
       "      <th>Please rank the Star Wars films in order of preference with 1 being your favorite film in the franchise and 6 being your least favorite film.</th>\n",
       "      <th>Unnamed: 10</th>\n",
       "      <th>Unnamed: 11</th>\n",
       "      <th>Unnamed: 12</th>\n",
       "      <th>Unnamed: 13</th>\n",
       "      <th>Unnamed: 14</th>\n",
       "    </tr>\n",
       "  </thead>\n",
       "  <tbody>\n",
       "    <tr>\n",
       "      <th>1</th>\n",
       "      <td>3</td>\n",
       "      <td>2</td>\n",
       "      <td>1</td>\n",
       "      <td>4</td>\n",
       "      <td>5</td>\n",
       "      <td>6</td>\n",
       "    </tr>\n",
       "  </tbody>\n",
       "</table>\n",
       "</div>"
      ],
      "text/plain": [
       "  Please rank the Star Wars films in order of preference with 1 being your favorite film in the franchise and 6 being your least favorite film.  \\\n",
       "1                                                  3                                                                                              \n",
       "\n",
       "  Unnamed: 10 Unnamed: 11 Unnamed: 12 Unnamed: 13 Unnamed: 14  \n",
       "1           2           1           4           5           6  "
      ]
     },
     "execution_count": 6,
     "metadata": {},
     "output_type": "execute_result"
    }
   ],
   "source": [
    "star_wars.iloc[0, 9:15].to_frame().T"
   ]
  },
  {
   "cell_type": "markdown",
   "metadata": {},
   "source": [
    "Each respondent rated 1 hi favorite movie, 2 his second favorite and so on until his/her least favorite. In this case, the respondent's favorite episode was the III (corresponding to `Unnamed 11`), his least favorite was the VI (corresponding to `Unnamed 14`)."
   ]
  },
  {
   "cell_type": "markdown",
   "metadata": {},
   "source": [
    "In the following **Cleansing section** we will do the necessary cleaning operations and perform consistency checks which will highlight some less obvious problems. "
   ]
  },
  {
   "cell_type": "markdown",
   "metadata": {},
   "source": [
    "## Cleansing section"
   ]
  },
  {
   "cell_type": "markdown",
   "metadata": {},
   "source": [
    "###      - *renaming columns, casting values*"
   ]
  },
  {
   "cell_type": "markdown",
   "metadata": {},
   "source": [
    "Let's take a look at the two columns with Yes/No values."
   ]
  },
  {
   "cell_type": "code",
   "execution_count": 7,
   "metadata": {},
   "outputs": [
    {
     "data": {
      "text/plain": [
       "Yes    936\n",
       "No     250\n",
       "Name: Have you seen any of the 6 films in the Star Wars franchise?, dtype: int64"
      ]
     },
     "execution_count": 7,
     "metadata": {},
     "output_type": "execute_result"
    }
   ],
   "source": [
    "star_wars['Have you seen any of the 6 films in the Star Wars franchise?'].value_counts(dropna=False)"
   ]
  },
  {
   "cell_type": "code",
   "execution_count": 8,
   "metadata": {},
   "outputs": [
    {
     "data": {
      "text/plain": [
       "Yes    552\n",
       "NaN    350\n",
       "No     284\n",
       "Name: Do you consider yourself to be a fan of the Star Wars film franchise?, dtype: int64"
      ]
     },
     "execution_count": 8,
     "metadata": {},
     "output_type": "execute_result"
    }
   ],
   "source": [
    "star_wars['Do you consider yourself to be a fan of the Star Wars film franchise?'].value_counts(dropna=False)"
   ]
  },
  {
   "cell_type": "markdown",
   "metadata": {},
   "source": [
    "We now convert their values to True/False, using a dictionary."
   ]
  },
  {
   "cell_type": "code",
   "execution_count": 9,
   "metadata": {},
   "outputs": [],
   "source": [
    "# dictionary for conversion\n",
    "yes_no_toBool = {'Yes': True,\n",
    "                 'No': False}\n",
    "\n",
    "# apply the dictionary to the columns using the map function\n",
    "\n",
    "# first column\n",
    "star_wars['Have you seen any of the 6 films in the Star Wars franchise?'] = \\\n",
    "star_wars['Have you seen any of the 6 films in the Star Wars franchise?'].map(yes_no_toBool)\n",
    "\n",
    "# second column\n",
    "star_wars['Do you consider yourself to be a fan of the Star Wars film franchise?'] = \\\n",
    "star_wars['Do you consider yourself to be a fan of the Star Wars film franchise?'].map(yes_no_toBool)"
   ]
  },
  {
   "cell_type": "markdown",
   "metadata": {},
   "source": [
    "We now rename the columns which indicate which movies the respondents have seen and convert their values to boolean.<br />\n",
    "(**note**: Nan values are converted to False, i.e. we're interpreting Nans as 'I didn't see this movie'.)"
   ]
  },
  {
   "cell_type": "code",
   "execution_count": 10,
   "metadata": {},
   "outputs": [],
   "source": [
    "# dictionary for renaming column names\n",
    "seen_movies = {'Which of the following Star Wars films have you seen? Please select all that apply.': 'seen_1',\n",
    "                 'Unnamed: 4': 'seen_2',\n",
    "                 'Unnamed: 5': 'seen_3',\n",
    "                 'Unnamed: 6': 'seen_4',\n",
    "                 'Unnamed: 7': 'seen_5',\n",
    "                 'Unnamed: 8': 'seen_6'}\n",
    "\n",
    "# renaming columns\n",
    "star_wars.rename(seen_movies, axis=1, inplace=True)\n",
    "\n",
    "# dictionary for converting values to boolean\n",
    "movies_to_bool = {'Star Wars: Episode I  The Phantom Menace': True,\n",
    "                  'Star Wars: Episode II  Attack of the Clones': True,\n",
    "                  'Star Wars: Episode III  Revenge of the Sith': True,\n",
    "                  'Star Wars: Episode IV  A New Hope': True,\n",
    "                  'Star Wars: Episode V The Empire Strikes Back': True,\n",
    "                  'Star Wars: Episode VI Return of the Jedi': True,\n",
    "                   np.nan: False}\n",
    "\n",
    "# converting values to boolean using map\n",
    "seen_cols = [f'seen_{i}' for i in range(1, 7)]   \n",
    "for col in seen_cols:\n",
    "    star_wars[col] = star_wars[col].map(movies_to_bool)"
   ]
  },
  {
   "cell_type": "code",
   "execution_count": 11,
   "metadata": {},
   "outputs": [],
   "source": [
    "########################################\n",
    "### alternative to the previous cell ###\n",
    "########################################\n",
    "\n",
    "# instead of a dictionary applied to each of the seen_ columns, \n",
    "# we can use a function applied elementwise to the corresponding dataframe\n",
    "\n",
    "# def func_movies_to_bool(title):\n",
    "#     if pd.isnull(title):\n",
    "#         return False\n",
    "#     return True\n",
    "\n",
    "# star_wars[seen_cols] = star_wars[seen_cols].applymap(func_movies_to_bool)"
   ]
  },
  {
   "cell_type": "markdown",
   "metadata": {},
   "source": [
    "Similarly, we change the names of the **ranking columns** for more readibility. We also need to convert to numeric type from string type:"
   ]
  },
  {
   "cell_type": "code",
   "execution_count": 12,
   "metadata": {},
   "outputs": [],
   "source": [
    "# building the two lists with new and old column names\n",
    "new_names = ['ranking_{}'.format(i) for i in range(1, 7)]\n",
    "old_names = star_wars.columns[9:15].values\n",
    "\n",
    "# renaming the columns zipping together the two lists into a dictionary\n",
    "star_wars.rename(dict(zip(old_names, new_names)), axis=1, inplace=True)\n",
    "\n",
    "# convert these columns to float\n",
    "for rank_col in new_names:\n",
    "    star_wars[rank_col] = pd.to_numeric(star_wars[rank_col])"
   ]
  },
  {
   "cell_type": "markdown",
   "metadata": {},
   "source": [
    "After these cleaning operations, the first columns of the dataframe look like this:"
   ]
  },
  {
   "cell_type": "code",
   "execution_count": 13,
   "metadata": {},
   "outputs": [
    {
     "data": {
      "text/html": [
       "<div>\n",
       "<style scoped>\n",
       "    .dataframe tbody tr th:only-of-type {\n",
       "        vertical-align: middle;\n",
       "    }\n",
       "\n",
       "    .dataframe tbody tr th {\n",
       "        vertical-align: top;\n",
       "    }\n",
       "\n",
       "    .dataframe thead th {\n",
       "        text-align: right;\n",
       "    }\n",
       "</style>\n",
       "<table border=\"1\" class=\"dataframe\">\n",
       "  <thead>\n",
       "    <tr style=\"text-align: right;\">\n",
       "      <th></th>\n",
       "      <th>RespondentID</th>\n",
       "      <th>Have you seen any of the 6 films in the Star Wars franchise?</th>\n",
       "      <th>Do you consider yourself to be a fan of the Star Wars film franchise?</th>\n",
       "      <th>seen_1</th>\n",
       "      <th>seen_2</th>\n",
       "      <th>seen_3</th>\n",
       "      <th>seen_4</th>\n",
       "      <th>seen_5</th>\n",
       "      <th>seen_6</th>\n",
       "      <th>ranking_1</th>\n",
       "      <th>ranking_2</th>\n",
       "      <th>ranking_3</th>\n",
       "      <th>ranking_4</th>\n",
       "      <th>ranking_5</th>\n",
       "      <th>ranking_6</th>\n",
       "    </tr>\n",
       "  </thead>\n",
       "  <tbody>\n",
       "    <tr>\n",
       "      <th>1</th>\n",
       "      <td>3.292880e+09</td>\n",
       "      <td>True</td>\n",
       "      <td>True</td>\n",
       "      <td>True</td>\n",
       "      <td>True</td>\n",
       "      <td>True</td>\n",
       "      <td>True</td>\n",
       "      <td>True</td>\n",
       "      <td>True</td>\n",
       "      <td>3.0</td>\n",
       "      <td>2.0</td>\n",
       "      <td>1.0</td>\n",
       "      <td>4.0</td>\n",
       "      <td>5.0</td>\n",
       "      <td>6.0</td>\n",
       "    </tr>\n",
       "    <tr>\n",
       "      <th>2</th>\n",
       "      <td>3.292880e+09</td>\n",
       "      <td>False</td>\n",
       "      <td>NaN</td>\n",
       "      <td>False</td>\n",
       "      <td>False</td>\n",
       "      <td>False</td>\n",
       "      <td>False</td>\n",
       "      <td>False</td>\n",
       "      <td>False</td>\n",
       "      <td>NaN</td>\n",
       "      <td>NaN</td>\n",
       "      <td>NaN</td>\n",
       "      <td>NaN</td>\n",
       "      <td>NaN</td>\n",
       "      <td>NaN</td>\n",
       "    </tr>\n",
       "    <tr>\n",
       "      <th>3</th>\n",
       "      <td>3.292765e+09</td>\n",
       "      <td>True</td>\n",
       "      <td>False</td>\n",
       "      <td>True</td>\n",
       "      <td>True</td>\n",
       "      <td>True</td>\n",
       "      <td>False</td>\n",
       "      <td>False</td>\n",
       "      <td>False</td>\n",
       "      <td>1.0</td>\n",
       "      <td>2.0</td>\n",
       "      <td>3.0</td>\n",
       "      <td>4.0</td>\n",
       "      <td>5.0</td>\n",
       "      <td>6.0</td>\n",
       "    </tr>\n",
       "    <tr>\n",
       "      <th>4</th>\n",
       "      <td>3.292763e+09</td>\n",
       "      <td>True</td>\n",
       "      <td>True</td>\n",
       "      <td>True</td>\n",
       "      <td>True</td>\n",
       "      <td>True</td>\n",
       "      <td>True</td>\n",
       "      <td>True</td>\n",
       "      <td>True</td>\n",
       "      <td>5.0</td>\n",
       "      <td>6.0</td>\n",
       "      <td>1.0</td>\n",
       "      <td>2.0</td>\n",
       "      <td>4.0</td>\n",
       "      <td>3.0</td>\n",
       "    </tr>\n",
       "    <tr>\n",
       "      <th>5</th>\n",
       "      <td>3.292731e+09</td>\n",
       "      <td>True</td>\n",
       "      <td>True</td>\n",
       "      <td>True</td>\n",
       "      <td>True</td>\n",
       "      <td>True</td>\n",
       "      <td>True</td>\n",
       "      <td>True</td>\n",
       "      <td>True</td>\n",
       "      <td>5.0</td>\n",
       "      <td>4.0</td>\n",
       "      <td>6.0</td>\n",
       "      <td>2.0</td>\n",
       "      <td>1.0</td>\n",
       "      <td>3.0</td>\n",
       "    </tr>\n",
       "  </tbody>\n",
       "</table>\n",
       "</div>"
      ],
      "text/plain": [
       "   RespondentID  Have you seen any of the 6 films in the Star Wars franchise?  \\\n",
       "1  3.292880e+09                                               True              \n",
       "2  3.292880e+09                                              False              \n",
       "3  3.292765e+09                                               True              \n",
       "4  3.292763e+09                                               True              \n",
       "5  3.292731e+09                                               True              \n",
       "\n",
       "  Do you consider yourself to be a fan of the Star Wars film franchise?  \\\n",
       "1                                               True                      \n",
       "2                                                NaN                      \n",
       "3                                              False                      \n",
       "4                                               True                      \n",
       "5                                               True                      \n",
       "\n",
       "   seen_1  seen_2  seen_3  seen_4  seen_5  seen_6  ranking_1  ranking_2  \\\n",
       "1    True    True    True    True    True    True        3.0        2.0   \n",
       "2   False   False   False   False   False   False        NaN        NaN   \n",
       "3    True    True    True   False   False   False        1.0        2.0   \n",
       "4    True    True    True    True    True    True        5.0        6.0   \n",
       "5    True    True    True    True    True    True        5.0        4.0   \n",
       "\n",
       "   ranking_3  ranking_4  ranking_5  ranking_6  \n",
       "1        1.0        4.0        5.0        6.0  \n",
       "2        NaN        NaN        NaN        NaN  \n",
       "3        3.0        4.0        5.0        6.0  \n",
       "4        1.0        2.0        4.0        3.0  \n",
       "5        6.0        2.0        1.0        3.0  "
      ]
     },
     "execution_count": 13,
     "metadata": {},
     "output_type": "execute_result"
    }
   ],
   "source": [
    "star_wars.iloc[:, 0:15].head()"
   ]
  },
  {
   "cell_type": "markdown",
   "metadata": {},
   "source": [
    "Finally, we'll rename the columns following the rankings, which are referred to a series of characters of the movies, each.\n",
    "For this task, we'll use the info contained in the `useful_info` dataframe (i.e. the isolated first row of the dataset)."
   ]
  },
  {
   "cell_type": "code",
   "execution_count": 14,
   "metadata": {},
   "outputs": [
    {
     "data": {
      "text/html": [
       "<div>\n",
       "<style scoped>\n",
       "    .dataframe tbody tr th:only-of-type {\n",
       "        vertical-align: middle;\n",
       "    }\n",
       "\n",
       "    .dataframe tbody tr th {\n",
       "        vertical-align: top;\n",
       "    }\n",
       "\n",
       "    .dataframe thead th {\n",
       "        text-align: right;\n",
       "    }\n",
       "</style>\n",
       "<table border=\"1\" class=\"dataframe\">\n",
       "  <thead>\n",
       "    <tr style=\"text-align: right;\">\n",
       "      <th></th>\n",
       "      <th>Please state whether you view the following characters favorably, unfavorably, or are unfamiliar with him/her.</th>\n",
       "      <th>Unnamed: 16</th>\n",
       "      <th>Unnamed: 17</th>\n",
       "      <th>Unnamed: 18</th>\n",
       "      <th>Unnamed: 19</th>\n",
       "      <th>Unnamed: 20</th>\n",
       "      <th>Unnamed: 21</th>\n",
       "      <th>Unnamed: 22</th>\n",
       "      <th>Unnamed: 23</th>\n",
       "      <th>Unnamed: 24</th>\n",
       "      <th>Unnamed: 25</th>\n",
       "      <th>Unnamed: 26</th>\n",
       "      <th>Unnamed: 27</th>\n",
       "      <th>Unnamed: 28</th>\n",
       "    </tr>\n",
       "  </thead>\n",
       "  <tbody>\n",
       "    <tr>\n",
       "      <th>0</th>\n",
       "      <td>Han Solo</td>\n",
       "      <td>Luke Skywalker</td>\n",
       "      <td>Princess Leia Organa</td>\n",
       "      <td>Anakin Skywalker</td>\n",
       "      <td>Obi Wan Kenobi</td>\n",
       "      <td>Emperor Palpatine</td>\n",
       "      <td>Darth Vader</td>\n",
       "      <td>Lando Calrissian</td>\n",
       "      <td>Boba Fett</td>\n",
       "      <td>C-3P0</td>\n",
       "      <td>R2 D2</td>\n",
       "      <td>Jar Jar Binks</td>\n",
       "      <td>Padme Amidala</td>\n",
       "      <td>Yoda</td>\n",
       "    </tr>\n",
       "  </tbody>\n",
       "</table>\n",
       "</div>"
      ],
      "text/plain": [
       "  Please state whether you view the following characters favorably, unfavorably, or are unfamiliar with him/her.  \\\n",
       "0                                           Han Solo                                                               \n",
       "\n",
       "      Unnamed: 16           Unnamed: 17       Unnamed: 18     Unnamed: 19  \\\n",
       "0  Luke Skywalker  Princess Leia Organa  Anakin Skywalker  Obi Wan Kenobi   \n",
       "\n",
       "         Unnamed: 20  Unnamed: 21       Unnamed: 22 Unnamed: 23 Unnamed: 24  \\\n",
       "0  Emperor Palpatine  Darth Vader  Lando Calrissian   Boba Fett       C-3P0   \n",
       "\n",
       "  Unnamed: 25    Unnamed: 26    Unnamed: 27 Unnamed: 28  \n",
       "0       R2 D2  Jar Jar Binks  Padme Amidala        Yoda  "
      ]
     },
     "execution_count": 14,
     "metadata": {},
     "output_type": "execute_result"
    }
   ],
   "source": [
    "useful_info.iloc[15:29].T"
   ]
  },
  {
   "cell_type": "code",
   "execution_count": 15,
   "metadata": {},
   "outputs": [],
   "source": [
    "# renaming the columns referred to different movies characters\n",
    "star_wars.rename(useful_info.iloc[15:29].to_dict()[0], axis=1, inplace=True)"
   ]
  },
  {
   "cell_type": "markdown",
   "metadata": {},
   "source": [
    "### - *filtering out the data we don't need*\n",
    "\n",
    "Of course, we're interested in the answers of those who have seen at least one movie of the franchise.<br />\n",
    "Let's select only those rows:"
   ]
  },
  {
   "cell_type": "code",
   "execution_count": 16,
   "metadata": {},
   "outputs": [
    {
     "data": {
      "text/plain": [
       "(936, 38)"
      ]
     },
     "execution_count": 16,
     "metadata": {},
     "output_type": "execute_result"
    }
   ],
   "source": [
    "star_wars = star_wars[star_wars['Have you seen any of the 6 films in the Star Wars franchise?']].reset_index(drop=True)\n",
    "\n",
    "star_wars.shape"
   ]
  },
  {
   "cell_type": "markdown",
   "metadata": {},
   "source": [
    "We have shrinked the dataframe from 1186 to **936** records."
   ]
  },
  {
   "cell_type": "markdown",
   "metadata": {},
   "source": [
    "### - *consistency check*"
   ]
  },
  {
   "cell_type": "markdown",
   "metadata": {},
   "source": [
    "Some respondents have not checked any of the movie of the franchise as \"seen\", although they stated they saw at least one.<br /> \n",
    "As an example, consider the following respondents:"
   ]
  },
  {
   "cell_type": "code",
   "execution_count": 17,
   "metadata": {},
   "outputs": [
    {
     "data": {
      "text/html": [
       "<div>\n",
       "<style scoped>\n",
       "    .dataframe tbody tr th:only-of-type {\n",
       "        vertical-align: middle;\n",
       "    }\n",
       "\n",
       "    .dataframe tbody tr th {\n",
       "        vertical-align: top;\n",
       "    }\n",
       "\n",
       "    .dataframe thead th {\n",
       "        text-align: right;\n",
       "    }\n",
       "</style>\n",
       "<table border=\"1\" class=\"dataframe\">\n",
       "  <thead>\n",
       "    <tr style=\"text-align: right;\">\n",
       "      <th></th>\n",
       "      <th>RespondentID</th>\n",
       "      <th>Have you seen any of the 6 films in the Star Wars franchise?</th>\n",
       "      <th>Do you consider yourself to be a fan of the Star Wars film franchise?</th>\n",
       "      <th>seen_1</th>\n",
       "      <th>seen_2</th>\n",
       "      <th>seen_3</th>\n",
       "      <th>seen_4</th>\n",
       "      <th>seen_5</th>\n",
       "      <th>seen_6</th>\n",
       "      <th>ranking_1</th>\n",
       "      <th>ranking_2</th>\n",
       "      <th>ranking_3</th>\n",
       "      <th>ranking_4</th>\n",
       "      <th>ranking_5</th>\n",
       "      <th>ranking_6</th>\n",
       "    </tr>\n",
       "  </thead>\n",
       "  <tbody>\n",
       "    <tr>\n",
       "      <th>303</th>\n",
       "      <td>3.290701e+09</td>\n",
       "      <td>True</td>\n",
       "      <td>NaN</td>\n",
       "      <td>False</td>\n",
       "      <td>False</td>\n",
       "      <td>False</td>\n",
       "      <td>False</td>\n",
       "      <td>False</td>\n",
       "      <td>False</td>\n",
       "      <td>NaN</td>\n",
       "      <td>NaN</td>\n",
       "      <td>NaN</td>\n",
       "      <td>NaN</td>\n",
       "      <td>NaN</td>\n",
       "      <td>NaN</td>\n",
       "    </tr>\n",
       "    <tr>\n",
       "      <th>309</th>\n",
       "      <td>3.290695e+09</td>\n",
       "      <td>True</td>\n",
       "      <td>NaN</td>\n",
       "      <td>False</td>\n",
       "      <td>False</td>\n",
       "      <td>False</td>\n",
       "      <td>False</td>\n",
       "      <td>False</td>\n",
       "      <td>False</td>\n",
       "      <td>NaN</td>\n",
       "      <td>NaN</td>\n",
       "      <td>NaN</td>\n",
       "      <td>NaN</td>\n",
       "      <td>NaN</td>\n",
       "      <td>NaN</td>\n",
       "    </tr>\n",
       "    <tr>\n",
       "      <th>310</th>\n",
       "      <td>3.290693e+09</td>\n",
       "      <td>True</td>\n",
       "      <td>NaN</td>\n",
       "      <td>False</td>\n",
       "      <td>False</td>\n",
       "      <td>False</td>\n",
       "      <td>False</td>\n",
       "      <td>False</td>\n",
       "      <td>False</td>\n",
       "      <td>NaN</td>\n",
       "      <td>NaN</td>\n",
       "      <td>NaN</td>\n",
       "      <td>NaN</td>\n",
       "      <td>NaN</td>\n",
       "      <td>NaN</td>\n",
       "    </tr>\n",
       "  </tbody>\n",
       "</table>\n",
       "</div>"
      ],
      "text/plain": [
       "     RespondentID  \\\n",
       "303  3.290701e+09   \n",
       "309  3.290695e+09   \n",
       "310  3.290693e+09   \n",
       "\n",
       "     Have you seen any of the 6 films in the Star Wars franchise?  \\\n",
       "303                                               True              \n",
       "309                                               True              \n",
       "310                                               True              \n",
       "\n",
       "    Do you consider yourself to be a fan of the Star Wars film franchise?  \\\n",
       "303                                                NaN                      \n",
       "309                                                NaN                      \n",
       "310                                                NaN                      \n",
       "\n",
       "     seen_1  seen_2  seen_3  seen_4  seen_5  seen_6  ranking_1  ranking_2  \\\n",
       "303   False   False   False   False   False   False        NaN        NaN   \n",
       "309   False   False   False   False   False   False        NaN        NaN   \n",
       "310   False   False   False   False   False   False        NaN        NaN   \n",
       "\n",
       "     ranking_3  ranking_4  ranking_5  ranking_6  \n",
       "303        NaN        NaN        NaN        NaN  \n",
       "309        NaN        NaN        NaN        NaN  \n",
       "310        NaN        NaN        NaN        NaN  "
      ]
     },
     "execution_count": 17,
     "metadata": {},
     "output_type": "execute_result"
    }
   ],
   "source": [
    "star_wars.iloc[[303, 309, 310], :15]"
   ]
  },
  {
   "cell_type": "markdown",
   "metadata": {},
   "source": [
    "We'll filter out those rows because they don't contain any opinion about the movies, remaining with **835** records:"
   ]
  },
  {
   "cell_type": "code",
   "execution_count": 18,
   "metadata": {},
   "outputs": [
    {
     "data": {
      "text/plain": [
       "(835, 38)"
      ]
     },
     "execution_count": 18,
     "metadata": {},
     "output_type": "execute_result"
    }
   ],
   "source": [
    "# select only those rows for which at least one of the \"seen\" cols is True\n",
    "star_wars = star_wars[star_wars[seen_cols].any(axis=1)].reset_index(drop=True)\n",
    "\n",
    "star_wars.shape"
   ]
  },
  {
   "cell_type": "markdown",
   "metadata": {},
   "source": [
    "We can quickly have an idea of the **missing values left in the `seen_` and `ranking_` columns** by using the heatmap from seaborn, which translates numeric values to colors.<br /> \n",
    "In the case of the next cell, a null value is a True, which is treated as 1 (light color), a non-null value is a False, which is treated as 0 (dark color)."
   ]
  },
  {
   "cell_type": "code",
   "execution_count": 19,
   "metadata": {},
   "outputs": [
    {
     "data": {
      "image/png": "[encoded data removed]",
      "text/plain": [
       "<Figure size 432x288 with 2 Axes>"
      ]
     },
     "metadata": {
      "needs_background": "light"
     },
     "output_type": "display_data"
    }
   ],
   "source": [
    "%matplotlib inline\n",
    "import matplotlib.pyplot as plt\n",
    "import seaborn as sns\n",
    "\n",
    "# columns we're interested in\n",
    "seen_cols = ['seen_{}'.format(i) for i in range(1,7)]\n",
    "ranking_cols = ['ranking_{}'.format(i) for i in range(1,7)]\n",
    "\n",
    "# build the heatmap explained above\n",
    "sns.heatmap(star_wars[seen_cols + ranking_cols].isnull())\n",
    "\n",
    "# plt.xticks(rotation=50)\n",
    "plt.show()"
   ]
  },
  {
   "cell_type": "markdown",
   "metadata": {},
   "source": [
    "We see that, apart from very few values in `ranking_1` and `ranking_3`, no missing values are present. Let's see those few cases more closely: "
   ]
  },
  {
   "cell_type": "code",
   "execution_count": 20,
   "metadata": {},
   "outputs": [
    {
     "data": {
      "text/plain": [
       "ranking_1    1\n",
       "ranking_2    0\n",
       "ranking_3    1\n",
       "ranking_4    0\n",
       "ranking_5    0\n",
       "ranking_6    0\n",
       "dtype: int64"
      ]
     },
     "execution_count": 20,
     "metadata": {},
     "output_type": "execute_result"
    }
   ],
   "source": [
    "# how many null values in the ranking columns?\n",
    "star_wars[ranking_cols].isnull().sum()"
   ]
  },
  {
   "cell_type": "markdown",
   "metadata": {},
   "source": [
    "Only two rows have missing ranking:"
   ]
  },
  {
   "cell_type": "code",
   "execution_count": 21,
   "metadata": {},
   "outputs": [
    {
     "data": {
      "text/html": [
       "<div>\n",
       "<style scoped>\n",
       "    .dataframe tbody tr th:only-of-type {\n",
       "        vertical-align: middle;\n",
       "    }\n",
       "\n",
       "    .dataframe tbody tr th {\n",
       "        vertical-align: top;\n",
       "    }\n",
       "\n",
       "    .dataframe thead th {\n",
       "        text-align: right;\n",
       "    }\n",
       "</style>\n",
       "<table border=\"1\" class=\"dataframe\">\n",
       "  <thead>\n",
       "    <tr style=\"text-align: right;\">\n",
       "      <th></th>\n",
       "      <th>RespondentID</th>\n",
       "      <th>Have you seen any of the 6 films in the Star Wars franchise?</th>\n",
       "      <th>Do you consider yourself to be a fan of the Star Wars film franchise?</th>\n",
       "      <th>seen_1</th>\n",
       "      <th>seen_2</th>\n",
       "      <th>seen_3</th>\n",
       "      <th>seen_4</th>\n",
       "      <th>seen_5</th>\n",
       "      <th>seen_6</th>\n",
       "      <th>ranking_1</th>\n",
       "      <th>ranking_2</th>\n",
       "      <th>ranking_3</th>\n",
       "      <th>ranking_4</th>\n",
       "      <th>ranking_5</th>\n",
       "      <th>ranking_6</th>\n",
       "    </tr>\n",
       "  </thead>\n",
       "  <tbody>\n",
       "    <tr>\n",
       "      <th>284</th>\n",
       "      <td>3.290688e+09</td>\n",
       "      <td>True</td>\n",
       "      <td>True</td>\n",
       "      <td>True</td>\n",
       "      <td>True</td>\n",
       "      <td>True</td>\n",
       "      <td>True</td>\n",
       "      <td>True</td>\n",
       "      <td>True</td>\n",
       "      <td>1.0</td>\n",
       "      <td>2.0</td>\n",
       "      <td>NaN</td>\n",
       "      <td>4.0</td>\n",
       "      <td>5.0</td>\n",
       "      <td>3.0</td>\n",
       "    </tr>\n",
       "    <tr>\n",
       "      <th>633</th>\n",
       "      <td>3.289450e+09</td>\n",
       "      <td>True</td>\n",
       "      <td>False</td>\n",
       "      <td>False</td>\n",
       "      <td>False</td>\n",
       "      <td>False</td>\n",
       "      <td>False</td>\n",
       "      <td>True</td>\n",
       "      <td>False</td>\n",
       "      <td>NaN</td>\n",
       "      <td>3.0</td>\n",
       "      <td>2.0</td>\n",
       "      <td>5.0</td>\n",
       "      <td>1.0</td>\n",
       "      <td>4.0</td>\n",
       "    </tr>\n",
       "  </tbody>\n",
       "</table>\n",
       "</div>"
      ],
      "text/plain": [
       "     RespondentID  \\\n",
       "284  3.290688e+09   \n",
       "633  3.289450e+09   \n",
       "\n",
       "     Have you seen any of the 6 films in the Star Wars franchise?  \\\n",
       "284                                               True              \n",
       "633                                               True              \n",
       "\n",
       "    Do you consider yourself to be a fan of the Star Wars film franchise?  \\\n",
       "284                                               True                      \n",
       "633                                              False                      \n",
       "\n",
       "     seen_1  seen_2  seen_3  seen_4  seen_5  seen_6  ranking_1  ranking_2  \\\n",
       "284    True    True    True    True    True    True        1.0        2.0   \n",
       "633   False   False   False   False    True   False        NaN        3.0   \n",
       "\n",
       "     ranking_3  ranking_4  ranking_5  ranking_6  \n",
       "284        NaN        4.0        5.0        3.0  \n",
       "633        2.0        5.0        1.0        4.0  "
      ]
     },
     "execution_count": 21,
     "metadata": {},
     "output_type": "execute_result"
    }
   ],
   "source": [
    "star_wars[star_wars[ranking_cols].isnull().any(axis=1)].iloc[:, :15]"
   ]
  },
  {
   "cell_type": "markdown",
   "metadata": {},
   "source": [
    "The missing ranking of the first row can be easily imputed because the respondent has seen all of the movies and ranked all of them except the third."
   ]
  },
  {
   "cell_type": "code",
   "execution_count": 22,
   "metadata": {},
   "outputs": [],
   "source": [
    "star_wars.loc[284, 'ranking_3'] = 6"
   ]
  },
  {
   "cell_type": "markdown",
   "metadata": {},
   "source": [
    "The second row is not so trivial to fix because the values seem inconsistent: the respondent stated he saw only the V movie, but he ranked all of them except the first.\n",
    "\n",
    "Indeed, **this observation is part of a larger data consistency problem**. In fact, a person should have only ranked those movies he/she has seen! Unfortunately, as we also understand from the heatmap seen before, rankings are practically always included, even for unseen movies.<br /> \n",
    "Let's take some rows to get familiar with the problem."
   ]
  },
  {
   "cell_type": "code",
   "execution_count": 23,
   "metadata": {},
   "outputs": [
    {
     "data": {
      "text/html": [
       "<div>\n",
       "<style scoped>\n",
       "    .dataframe tbody tr th:only-of-type {\n",
       "        vertical-align: middle;\n",
       "    }\n",
       "\n",
       "    .dataframe tbody tr th {\n",
       "        vertical-align: top;\n",
       "    }\n",
       "\n",
       "    .dataframe thead th {\n",
       "        text-align: right;\n",
       "    }\n",
       "</style>\n",
       "<table border=\"1\" class=\"dataframe\">\n",
       "  <thead>\n",
       "    <tr style=\"text-align: right;\">\n",
       "      <th></th>\n",
       "      <th>RespondentID</th>\n",
       "      <th>Have you seen any of the 6 films in the Star Wars franchise?</th>\n",
       "      <th>Do you consider yourself to be a fan of the Star Wars film franchise?</th>\n",
       "      <th>seen_1</th>\n",
       "      <th>seen_2</th>\n",
       "      <th>seen_3</th>\n",
       "      <th>seen_4</th>\n",
       "      <th>seen_5</th>\n",
       "      <th>seen_6</th>\n",
       "      <th>ranking_1</th>\n",
       "      <th>ranking_2</th>\n",
       "      <th>ranking_3</th>\n",
       "      <th>ranking_4</th>\n",
       "      <th>ranking_5</th>\n",
       "      <th>ranking_6</th>\n",
       "    </tr>\n",
       "  </thead>\n",
       "  <tbody>\n",
       "    <tr>\n",
       "      <th>342</th>\n",
       "      <td>3.290506e+09</td>\n",
       "      <td>True</td>\n",
       "      <td>False</td>\n",
       "      <td>True</td>\n",
       "      <td>False</td>\n",
       "      <td>False</td>\n",
       "      <td>False</td>\n",
       "      <td>True</td>\n",
       "      <td>True</td>\n",
       "      <td>6.0</td>\n",
       "      <td>1.0</td>\n",
       "      <td>2.0</td>\n",
       "      <td>3.0</td>\n",
       "      <td>4.0</td>\n",
       "      <td>5.0</td>\n",
       "    </tr>\n",
       "    <tr>\n",
       "      <th>501</th>\n",
       "      <td>3.289908e+09</td>\n",
       "      <td>True</td>\n",
       "      <td>False</td>\n",
       "      <td>True</td>\n",
       "      <td>False</td>\n",
       "      <td>False</td>\n",
       "      <td>False</td>\n",
       "      <td>True</td>\n",
       "      <td>True</td>\n",
       "      <td>1.0</td>\n",
       "      <td>4.0</td>\n",
       "      <td>5.0</td>\n",
       "      <td>6.0</td>\n",
       "      <td>3.0</td>\n",
       "      <td>2.0</td>\n",
       "    </tr>\n",
       "    <tr>\n",
       "      <th>512</th>\n",
       "      <td>3.289886e+09</td>\n",
       "      <td>True</td>\n",
       "      <td>False</td>\n",
       "      <td>True</td>\n",
       "      <td>True</td>\n",
       "      <td>False</td>\n",
       "      <td>False</td>\n",
       "      <td>True</td>\n",
       "      <td>True</td>\n",
       "      <td>3.0</td>\n",
       "      <td>4.0</td>\n",
       "      <td>5.0</td>\n",
       "      <td>6.0</td>\n",
       "      <td>1.0</td>\n",
       "      <td>2.0</td>\n",
       "    </tr>\n",
       "    <tr>\n",
       "      <th>730</th>\n",
       "      <td>3.288626e+09</td>\n",
       "      <td>True</td>\n",
       "      <td>True</td>\n",
       "      <td>True</td>\n",
       "      <td>False</td>\n",
       "      <td>False</td>\n",
       "      <td>False</td>\n",
       "      <td>True</td>\n",
       "      <td>True</td>\n",
       "      <td>3.0</td>\n",
       "      <td>4.0</td>\n",
       "      <td>5.0</td>\n",
       "      <td>6.0</td>\n",
       "      <td>1.0</td>\n",
       "      <td>2.0</td>\n",
       "    </tr>\n",
       "  </tbody>\n",
       "</table>\n",
       "</div>"
      ],
      "text/plain": [
       "     RespondentID  \\\n",
       "342  3.290506e+09   \n",
       "501  3.289908e+09   \n",
       "512  3.289886e+09   \n",
       "730  3.288626e+09   \n",
       "\n",
       "     Have you seen any of the 6 films in the Star Wars franchise?  \\\n",
       "342                                               True              \n",
       "501                                               True              \n",
       "512                                               True              \n",
       "730                                               True              \n",
       "\n",
       "    Do you consider yourself to be a fan of the Star Wars film franchise?  \\\n",
       "342                                              False                      \n",
       "501                                              False                      \n",
       "512                                              False                      \n",
       "730                                               True                      \n",
       "\n",
       "     seen_1  seen_2  seen_3  seen_4  seen_5  seen_6  ranking_1  ranking_2  \\\n",
       "342    True   False   False   False    True    True        6.0        1.0   \n",
       "501    True   False   False   False    True    True        1.0        4.0   \n",
       "512    True    True   False   False    True    True        3.0        4.0   \n",
       "730    True   False   False   False    True    True        3.0        4.0   \n",
       "\n",
       "     ranking_3  ranking_4  ranking_5  ranking_6  \n",
       "342        2.0        3.0        4.0        5.0  \n",
       "501        5.0        6.0        3.0        2.0  \n",
       "512        5.0        6.0        1.0        2.0  \n",
       "730        5.0        6.0        1.0        2.0  "
      ]
     },
     "execution_count": 23,
     "metadata": {},
     "output_type": "execute_result"
    }
   ],
   "source": [
    "# examples of inconsistent seen-movie/ranking\n",
    "star_wars.iloc[[342, 501, 512, 730], :15]"
   ]
  },
  {
   "cell_type": "markdown",
   "metadata": {},
   "source": [
    "This problem is something we have to try and fix, because it would influence the mean ranking we will calculate in our analysis.<br />\n",
    "To start fixing the inconsistency, we will **substitute the inconsistent rankings with Nans**."
   ]
  },
  {
   "cell_type": "code",
   "execution_count": 24,
   "metadata": {},
   "outputs": [],
   "source": [
    "# function which will perform the substitution task\n",
    "def inconsistent_ranks_to_nan(row, i):\n",
    "    if not row['seen_{}'.format(i)]:\n",
    "        return np.nan\n",
    "    return row['ranking_{}'.format(i)]\n",
    "\n",
    "# apply the function along the rows (axis=1), modifying each ranking column\n",
    "for col in range(1, 7):\n",
    "    star_wars[f'ranking_{col}'] = star_wars.apply(inconsistent_ranks_to_nan, args=[col], axis=1)"
   ]
  },
  {
   "cell_type": "code",
   "execution_count": 25,
   "metadata": {},
   "outputs": [],
   "source": [
    "#########################################################\n",
    "# the previous logic can also be implemented like this: #\n",
    "#########################################################\n",
    "\n",
    "# def inconsistent_ranks_to_nan(seen, rank):\n",
    "#     if not seen:\n",
    "#         return np.nan\n",
    "#     return rank\n",
    "\n",
    "# for col in range(1, 7):\n",
    "#     star_wars[f'ranking_{col}'] = \\\n",
    "#         star_wars.apply(lambda row: inconsistent_ranks_to_nan(row[f'seen_{col}'], row[f'ranking_{col}']), axis=1)"
   ]
  },
  {
   "cell_type": "markdown",
   "metadata": {},
   "source": [
    "If we now again look at some of the rows, we see the effect of the fixing:"
   ]
  },
  {
   "cell_type": "code",
   "execution_count": 26,
   "metadata": {},
   "outputs": [
    {
     "data": {
      "text/html": [
       "<div>\n",
       "<style scoped>\n",
       "    .dataframe tbody tr th:only-of-type {\n",
       "        vertical-align: middle;\n",
       "    }\n",
       "\n",
       "    .dataframe tbody tr th {\n",
       "        vertical-align: top;\n",
       "    }\n",
       "\n",
       "    .dataframe thead th {\n",
       "        text-align: right;\n",
       "    }\n",
       "</style>\n",
       "<table border=\"1\" class=\"dataframe\">\n",
       "  <thead>\n",
       "    <tr style=\"text-align: right;\">\n",
       "      <th></th>\n",
       "      <th>RespondentID</th>\n",
       "      <th>Have you seen any of the 6 films in the Star Wars franchise?</th>\n",
       "      <th>Do you consider yourself to be a fan of the Star Wars film franchise?</th>\n",
       "      <th>seen_1</th>\n",
       "      <th>seen_2</th>\n",
       "      <th>seen_3</th>\n",
       "      <th>seen_4</th>\n",
       "      <th>seen_5</th>\n",
       "      <th>seen_6</th>\n",
       "      <th>ranking_1</th>\n",
       "      <th>ranking_2</th>\n",
       "      <th>ranking_3</th>\n",
       "      <th>ranking_4</th>\n",
       "      <th>ranking_5</th>\n",
       "      <th>ranking_6</th>\n",
       "    </tr>\n",
       "  </thead>\n",
       "  <tbody>\n",
       "    <tr>\n",
       "      <th>237</th>\n",
       "      <td>3.290779e+09</td>\n",
       "      <td>True</td>\n",
       "      <td>False</td>\n",
       "      <td>True</td>\n",
       "      <td>False</td>\n",
       "      <td>True</td>\n",
       "      <td>False</td>\n",
       "      <td>True</td>\n",
       "      <td>True</td>\n",
       "      <td>2.0</td>\n",
       "      <td>NaN</td>\n",
       "      <td>4.0</td>\n",
       "      <td>NaN</td>\n",
       "      <td>6.0</td>\n",
       "      <td>1.0</td>\n",
       "    </tr>\n",
       "    <tr>\n",
       "      <th>342</th>\n",
       "      <td>3.290506e+09</td>\n",
       "      <td>True</td>\n",
       "      <td>False</td>\n",
       "      <td>True</td>\n",
       "      <td>False</td>\n",
       "      <td>False</td>\n",
       "      <td>False</td>\n",
       "      <td>True</td>\n",
       "      <td>True</td>\n",
       "      <td>6.0</td>\n",
       "      <td>NaN</td>\n",
       "      <td>NaN</td>\n",
       "      <td>NaN</td>\n",
       "      <td>4.0</td>\n",
       "      <td>5.0</td>\n",
       "    </tr>\n",
       "    <tr>\n",
       "      <th>501</th>\n",
       "      <td>3.289908e+09</td>\n",
       "      <td>True</td>\n",
       "      <td>False</td>\n",
       "      <td>True</td>\n",
       "      <td>False</td>\n",
       "      <td>False</td>\n",
       "      <td>False</td>\n",
       "      <td>True</td>\n",
       "      <td>True</td>\n",
       "      <td>1.0</td>\n",
       "      <td>NaN</td>\n",
       "      <td>NaN</td>\n",
       "      <td>NaN</td>\n",
       "      <td>3.0</td>\n",
       "      <td>2.0</td>\n",
       "    </tr>\n",
       "    <tr>\n",
       "      <th>512</th>\n",
       "      <td>3.289886e+09</td>\n",
       "      <td>True</td>\n",
       "      <td>False</td>\n",
       "      <td>True</td>\n",
       "      <td>True</td>\n",
       "      <td>False</td>\n",
       "      <td>False</td>\n",
       "      <td>True</td>\n",
       "      <td>True</td>\n",
       "      <td>3.0</td>\n",
       "      <td>4.0</td>\n",
       "      <td>NaN</td>\n",
       "      <td>NaN</td>\n",
       "      <td>1.0</td>\n",
       "      <td>2.0</td>\n",
       "    </tr>\n",
       "    <tr>\n",
       "      <th>730</th>\n",
       "      <td>3.288626e+09</td>\n",
       "      <td>True</td>\n",
       "      <td>True</td>\n",
       "      <td>True</td>\n",
       "      <td>False</td>\n",
       "      <td>False</td>\n",
       "      <td>False</td>\n",
       "      <td>True</td>\n",
       "      <td>True</td>\n",
       "      <td>3.0</td>\n",
       "      <td>NaN</td>\n",
       "      <td>NaN</td>\n",
       "      <td>NaN</td>\n",
       "      <td>1.0</td>\n",
       "      <td>2.0</td>\n",
       "    </tr>\n",
       "  </tbody>\n",
       "</table>\n",
       "</div>"
      ],
      "text/plain": [
       "     RespondentID  \\\n",
       "237  3.290779e+09   \n",
       "342  3.290506e+09   \n",
       "501  3.289908e+09   \n",
       "512  3.289886e+09   \n",
       "730  3.288626e+09   \n",
       "\n",
       "     Have you seen any of the 6 films in the Star Wars franchise?  \\\n",
       "237                                               True              \n",
       "342                                               True              \n",
       "501                                               True              \n",
       "512                                               True              \n",
       "730                                               True              \n",
       "\n",
       "    Do you consider yourself to be a fan of the Star Wars film franchise?  \\\n",
       "237                                              False                      \n",
       "342                                              False                      \n",
       "501                                              False                      \n",
       "512                                              False                      \n",
       "730                                               True                      \n",
       "\n",
       "     seen_1  seen_2  seen_3  seen_4  seen_5  seen_6  ranking_1  ranking_2  \\\n",
       "237    True   False    True   False    True    True        2.0        NaN   \n",
       "342    True   False   False   False    True    True        6.0        NaN   \n",
       "501    True   False   False   False    True    True        1.0        NaN   \n",
       "512    True    True   False   False    True    True        3.0        4.0   \n",
       "730    True   False   False   False    True    True        3.0        NaN   \n",
       "\n",
       "     ranking_3  ranking_4  ranking_5  ranking_6  \n",
       "237        4.0        NaN        6.0        1.0  \n",
       "342        NaN        NaN        4.0        5.0  \n",
       "501        NaN        NaN        3.0        2.0  \n",
       "512        NaN        NaN        1.0        2.0  \n",
       "730        NaN        NaN        1.0        2.0  "
      ]
     },
     "execution_count": 26,
     "metadata": {},
     "output_type": "execute_result"
    }
   ],
   "source": [
    "star_wars.iloc[[237, 342, 501, 512, 730], :15]"
   ]
  },
  {
   "cell_type": "markdown",
   "metadata": {},
   "source": [
    "Although we solved the problem of ranked unseen movies, by looking at the first two rows in the previous cell, we spot **another inconsistency**: in the first, ranks 4 and 6 should be 3 and 4; in the second, 4, 5 and 6 should be 1, 2 and 3. We therefore need to **standardize the rankings of each row**, bringing them back to the values 1,2,3,4...<br />\n",
    "We'll do this in the next cell."
   ]
  },
  {
   "cell_type": "code",
   "execution_count": 27,
   "metadata": {},
   "outputs": [],
   "source": [
    "def func(ranking_series):\n",
    "    # The input to this function are the rankings for one row. \n",
    "    # Ex: 2.0, NaN, 4.0, NaN, 6.0, 1.0\n",
    "    \n",
    "    # reset the index to 0,1,2,3,4,5,6 instead of ranking_1,ranking_2,...\n",
    "    ranking_series_int_index = pd.Series(ranking_series.values)\n",
    "    \n",
    "    # sort the values so to separate non-null from null values, and\n",
    "    # saving the indexes to a new variable\n",
    "    indexes = ranking_series_int_index.sort_values().index\n",
    "    \n",
    "    # stop is the index at which non-null are separated from null values\n",
    "    stop = pd.notnull(ranking_series_int_index).sum()\n",
    "    \n",
    "    # build two series, one with the progressive rankings, the other with null values\n",
    "    non_null_values = pd.Series(np.arange(1, stop + 1), index=indexes[:stop])\n",
    "    null_values = pd.Series([np.nan] * (6-stop), index=indexes[stop:], dtype=float)\n",
    "    \n",
    "    # concatenate the two series and going back to the old order of values\n",
    "    ranking_series_fixed = pd.concat([non_null_values, null_values]).sort_index()\n",
    "    \n",
    "    return ranking_series_fixed\n",
    "\n",
    "# apply the function on rows\n",
    "star_wars[ranking_cols] = star_wars.apply(lambda row: func(row[ranking_cols]), axis=1)  "
   ]
  },
  {
   "cell_type": "markdown",
   "metadata": {},
   "source": [
    "The set of columns `seen_` and `ranking_` is now fully consistent."
   ]
  },
  {
   "cell_type": "markdown",
   "metadata": {},
   "source": [
    "## Exploratory data analysis"
   ]
  },
  {
   "cell_type": "markdown",
   "metadata": {},
   "source": [
    "## - Which movies were the most seen? Which are the favorite?"
   ]
  },
  {
   "cell_type": "markdown",
   "metadata": {},
   "source": [
    "Let's first consider the whole cleaned dataset (835 people), and find out what are the most viewed and top rated movies of the franchise.<br />\n",
    "We will plot a bar graph with the percentages of respondents who saw each movie of the franchise and another bar graph with the average ranking of each movie (**for the ranking, recall that 1 means most favorite and 6 means least favorite**)."
   ]
  },
  {
   "cell_type": "code",
   "execution_count": 28,
   "metadata": {},
   "outputs": [],
   "source": [
    "# movies titles from I to VI to use as labels\n",
    "movies_titles = (\"The Phantom Menace\", \n",
    "                 \"Attack of the Clones\", \n",
    "                 \"Revenge of the Sith\",\n",
    "                 \"A New Hope\",\n",
    "                 \"The Empire Strikes Back\",\n",
    "                 \"Return of the Jedi\")"
   ]
  },
  {
   "cell_type": "code",
   "execution_count": 29,
   "metadata": {},
   "outputs": [
    {
     "data": {
      "image/png": "[encoded data removed]",
      "text/plain": [
       "<Figure size 864x360 with 2 Axes>"
      ]
     },
     "metadata": {},
     "output_type": "display_data"
    }
   ],
   "source": [
    "# preparing the data needed for the plot\n",
    "seen_cols = [f'seen_{i}' for i in range(1, 7)]\n",
    "most_viewed = star_wars[seen_cols].mean()\n",
    "mean_ranking = star_wars[ranking_cols].mean()\n",
    "\n",
    "# setting style and context through seaborn\n",
    "sns.set_style('dark')\n",
    "sns.set_context('talk')\n",
    "\n",
    "# create a figure with two axes\n",
    "fig, (axl, axr) = plt.subplots(1, 2, figsize=(12,5), sharey=True)\n",
    "fig.text(0.36, 1, 'Results for all respondents', color='black')\n",
    "\n",
    "# generate the first horizontal bar plot\n",
    "axl.barh(movies_titles[-1::-1], width=most_viewed[-1::-1], color=\"#F76921\", alpha=0.7)\n",
    "axl.set_xlim(0, 1.1)\n",
    "axl.set_xticks([])\n",
    "axl.text(-0.19, 6,'% of respondents who saw each movie', weight='bold') \n",
    "# drawing percentages on the chart as text\n",
    "for i in range(6):    \n",
    "    axl.text(most_viewed[i]+0.01, 5-i-0.1, int(round(most_viewed[i]*100)))\n",
    "\n",
    "\n",
    "# 2nd plot with average rankings\n",
    "axr.barh(movies_titles[-1::-1], width=mean_ranking[-1::-1])\n",
    "axr.set_xlim(0, 5)\n",
    "axr.set_xticks([])\n",
    "axr.text(1, 6, 'Average ranking', weight='bold')\n",
    "for i in range(6):    \n",
    "    axr.text(mean_ranking[i]+0.02, 5-i-0.1, round(mean_ranking[i], 1))\n",
    "    \n",
    "fig.set_facecolor(axr.get_facecolor())    \n",
    "    \n",
    "plt.show()"
   ]
  },
  {
   "cell_type": "markdown",
   "metadata": {},
   "source": [
    "More than 90% of the respondent saw **The Empire Strikes Back**, followed closely by the **Return of the Jedi**.<br /> \n",
    "**The Phantom Menace** is the third most viewed movie with 81% of respondents.\n",
    "\n",
    "Looking at the rightmost plot, we see that the last three movies are the top rated, with **The Empire Strikes Back** as the most favorite.\n",
    "\n",
    "<u>*We can already say that **The Empire** was the most seen and the most appreciated, on average, of the franchise*</u>, considering all the respondents."
   ]
  },
  {
   "cell_type": "markdown",
   "metadata": {},
   "source": [
    "## - Do the results change if we consider fans and occasional viewers separately?"
   ]
  },
  {
   "cell_type": "markdown",
   "metadata": {},
   "source": [
    "It's interesting to repeat the same analysis by grouping the respondents according to their affection towards the Star Wars franchise, to see if there is any difference. We will use the column `Do you consider yourself to be a fan of the Star Wars film franchise?` and distinguish between fans and non-fans."
   ]
  },
  {
   "cell_type": "code",
   "execution_count": 30,
   "metadata": {},
   "outputs": [
    {
     "data": {
      "text/plain": [
       "True     552\n",
       "False    283\n",
       "Name: Do you consider yourself to be a fan of the Star Wars film franchise?, dtype: int64"
      ]
     },
     "execution_count": 30,
     "metadata": {},
     "output_type": "execute_result"
    }
   ],
   "source": [
    "star_wars['Do you consider yourself to be a fan of the Star Wars film franchise?'].value_counts(dropna=False)"
   ]
  },
  {
   "cell_type": "markdown",
   "metadata": {},
   "source": [
    "The number of non-fans is about half of the number of fans; nonetheless, there are enough of both.<br />\n",
    "We will create a chart in the next cell."
   ]
  },
  {
   "cell_type": "code",
   "execution_count": 31,
   "metadata": {
    "scrolled": true
   },
   "outputs": [
    {
     "data": {
      "image/png": "[encoded data removed]",
      "text/plain": [
       "<Figure size 864x360 with 2 Axes>"
      ]
     },
     "metadata": {},
     "output_type": "display_data"
    }
   ],
   "source": [
    "# alias for the column name\n",
    "are_you_fan = 'Do you consider yourself to be a fan of the Star Wars film franchise?'\n",
    "\n",
    "# create figure and axes objects\n",
    "fig, (axl, axr) = plt.subplots(1, 2, figsize=(12, 5))\n",
    "fig.text(0.36, 1, 'Results for fans / non-fans')\n",
    "\n",
    "### leftmost chart ###\n",
    "# processing data for the chart\n",
    "seen_pct = star_wars.groupby(are_you_fan)[seen_cols].apply(np.mean).T\n",
    "# plot chart and customize it\n",
    "seen_pct.plot.barh(ax=axl, legend=False, sharey=True, color=['r','g'])\n",
    "axl.set_yticklabels(movies_titles)\n",
    "axl.set_xticks([.3, .5, .7, .9])\n",
    "axl.set_xticklabels([30, 50, 70, 90], fontsize='small')\n",
    "axl.set_xlim(0, 1.1)\n",
    "axl.invert_yaxis()\n",
    "axl.set_title('% of resp. who saw the movie', weight='bold')\n",
    "axl.grid(axis='x')\n",
    "\n",
    "### rightmost chart ###\n",
    "# processing data for the chart\n",
    "avg_ranks = star_wars.groupby(are_you_fan)[ranking_cols].apply(np.mean).T\n",
    "# plot chart and customize it\n",
    "avg_ranks.plot.barh(ax=axr, color=['r','g'])\n",
    "axr.set_xticks([2,3,4])\n",
    "axr.legend(['Non-fans', 'Fans'], bbox_to_anchor=(1.5,1))\n",
    "axr.invert_yaxis()\n",
    "axr.set_title('Average ranking', weight='bold')\n",
    "axr.grid(axis='x')\n",
    "\n",
    "fig.set_facecolor(axr.get_facecolor())\n",
    "\n",
    "plt.show()"
   ]
  },
  {
   "cell_type": "markdown",
   "metadata": {},
   "source": [
    "We see that the chance for a respondent to have seen a movie of the series is always higher for fans, as could be expected.<br />\n",
    "The most seen movies for both categories are **The Empire** and **Return of the Jedi**, while the third most seen is **A new hope** for fans and **The phantom menace** for non fans.\n",
    "\n",
    "Both categories have **consistently ranked the original series (episodes IV to VI) as the best movies**, with **The Empire** as their favorite on average.\n",
    "The rating of episodes I to III is on average very low for the fans tribe, while non-fans also like **The phantom menace**, with a rating close to the original series.\n",
    "\n",
    "<u>*The average rankings highlight that the original series is generally much more appreciated both by fans and occasional viewers. The Phantom Menace is also appreciated by occasional viewers.*</u>"
   ]
  },
  {
   "cell_type": "markdown",
   "metadata": {},
   "source": [
    "## - **Favorite movies by age group**\n",
    "\n",
    "The dataset also contains demographic info like gender, age, houseold income.<br />\n",
    "Let's consider age groups:"
   ]
  },
  {
   "cell_type": "code",
   "execution_count": 32,
   "metadata": {},
   "outputs": [
    {
     "data": {
      "text/plain": [
       "18-29    180\n",
       "30-44    207\n",
       "45-60    240\n",
       "> 60     192\n",
       "Name: Age, dtype: int64"
      ]
     },
     "execution_count": 32,
     "metadata": {},
     "output_type": "execute_result"
    }
   ],
   "source": [
    "star_wars['Age'].value_counts().sort_index()"
   ]
  },
  {
   "cell_type": "markdown",
   "metadata": {},
   "source": [
    "We want to find the **first two favorite movies** of each age group, considering the mean ranking."
   ]
  },
  {
   "cell_type": "code",
   "execution_count": 33,
   "metadata": {
    "scrolled": true
   },
   "outputs": [
    {
     "name": "stdout",
     "output_type": "stream",
     "text": [
      "Average rankings for different age groups:\n",
      "\n",
      "\n",
      "       ranking_5  ranking_4  ranking_6  ranking_3  ranking_2  ranking_1\n",
      "18-29        2.5        2.7        2.8        3.8        4.1        4.1\n",
      "\n",
      "       ranking_5  ranking_4  ranking_6  ranking_3  ranking_2  ranking_1\n",
      "30-44        2.0        2.5        2.5        4.3        4.3        4.4\n",
      "\n",
      "       ranking_5  ranking_4  ranking_6  ranking_1  ranking_2  ranking_3\n",
      "45-60        2.1        2.5        2.6        3.5        4.2        4.3\n",
      "\n",
      "      ranking_5  ranking_1  ranking_6  ranking_4  ranking_2  ranking_3\n",
      "> 60        2.2        2.7        2.7        2.9        3.6        4.1\n",
      "\n"
     ]
    }
   ],
   "source": [
    "# grouping by age group and calculate the mean ranking of each movie\n",
    "df = star_wars.groupby('Age')[[f'ranking_{i}' for i in range(1, 7)]].apply(np.mean)\n",
    "# printing the results for each group in ascending ranking order\n",
    "print(\"Average rankings for different age groups:\\n\\n\")\n",
    "for ind in df.index:\n",
    "    print(df.loc[ind].sort_values().round(1).to_frame().T)\n",
    "    print()"
   ]
  },
  {
   "cell_type": "markdown",
   "metadata": {},
   "source": [
    "The results are quite consistent across the groups, except for a little surprise for respondents older than 60:\n",
    "\n",
    "* For respondents younger than 60 years, **The Empire (ep. V)** and **A New Hope (ep. IV)** are the first two favorite movies;\n",
    "* For respondents older than 60 years, **The Empire** is still the top rated movie, but on second rank we find **The phantom menace (ep. I)** and **Return of the Jedi (ep. VI)** equally ranked. \n",
    "\n",
    "Considering also the results of the previous paragraph, <u>The Phantom Menace could be worth further investigation</u> (why some people found it as good as the movies from the original series?)."
   ]
  },
  {
   "cell_type": "markdown",
   "metadata": {},
   "source": [
    "## - How are the different characters perceived?"
   ]
  },
  {
   "cell_type": "markdown",
   "metadata": {},
   "source": [
    "The authors at Five Thirthy Eight also considered 13 movies characters, for each of whom the respondent was asked to: \n",
    "\n",
    "***Please state whether you view the following characters favorably, unfavorably, or are unfamiliar with him/her***\n",
    "\n",
    "Actually, the answers were more nuanced, as we can see from the column of Han Solo:"
   ]
  },
  {
   "cell_type": "code",
   "execution_count": 34,
   "metadata": {},
   "outputs": [
    {
     "data": {
      "text/plain": [
       "Very favorably                                 610\n",
       "Somewhat favorably                             151\n",
       "Neither favorably nor unfavorably (neutral)     44\n",
       "Unfamiliar (N/A)                                14\n",
       "Somewhat unfavorably                             8\n",
       "NaN                                              7\n",
       "Very unfavorably                                 1\n",
       "Name: Han Solo, dtype: int64"
      ]
     },
     "execution_count": 34,
     "metadata": {},
     "output_type": "execute_result"
    }
   ],
   "source": [
    "star_wars.iloc[:, 15].value_counts(dropna=False)"
   ]
  },
  {
   "cell_type": "markdown",
   "metadata": {},
   "source": [
    "In order to make the results more easily understandable, we map the values according to the dictionary in the following cell:"
   ]
  },
  {
   "cell_type": "code",
   "execution_count": 35,
   "metadata": {},
   "outputs": [],
   "source": [
    "favorability = {'Very favorably': 'favorably', \n",
    "                'Somewhat favorably': 'favorably',\n",
    "                'Neither favorably nor unfavorably (neutral)': \"I'm neutral\", \n",
    "                'Unfamiliar (N/A)': \"I'm unfamiliar\",\n",
    "                'Somewhat unfavorably': 'unfavorably', \n",
    "                'Very unfavorably': 'unfavorably',\n",
    "                 np.nan: np.nan}\n",
    "\n",
    "star_wars.iloc[:, 15:29] = star_wars.iloc[:, 15:29].applymap(lambda x: favorability[x])"
   ]
  },
  {
   "cell_type": "markdown",
   "metadata": {},
   "source": [
    "We will represent the results in four bar charts."
   ]
  },
  {
   "cell_type": "code",
   "execution_count": 36,
   "metadata": {},
   "outputs": [
    {
     "data": {
      "image/png": "[encoded data removed]",
      "text/plain": [
       "<Figure size 792x504 with 4 Axes>"
      ]
     },
     "metadata": {},
     "output_type": "display_data"
    }
   ],
   "source": [
    "# processing the data needed for the plot:\n",
    "\n",
    "# getting favorability rates for each character. \n",
    "favorability_list = [star_wars.iloc[:, i].value_counts(normalize=True) for i in range(15, 29)]  \n",
    "favorability_df = pd.concat(favorability_list, axis=1).T  # building a dataframe with the data\n",
    "# put favorably seen characters on top\n",
    "favorability_df.sort_values('favorably', inplace=True)\n",
    "\n",
    "##############\n",
    "### FIGURE ###\n",
    "##############\n",
    "\n",
    "fig, axs = plt.subplots(1, ncols=4, figsize=(11,7), sharey=True)\n",
    "\n",
    "colors = ['green', 'orange', 'red', 'violet']\n",
    "\n",
    "for i in range(4):\n",
    "    favorability_df.iloc[:, i].plot(kind='barh', ax=axs[i], color=colors[i], alpha=0.7)\n",
    "    axs[i].set_xlim(0,1)\n",
    "    axs[i].set_title(favorability_df.columns[i], c=colors[i], fontfamily='serif')\n",
    "\n",
    "# customizing x-y axis ticks and drawing vertical lines   \n",
    "axs[0].set_xticks([.5, .9])\n",
    "axs[0].set_xticklabels(['50%', '90'], fontsize='x-small')\n",
    "for tick in axs[0].get_yticklabels():\n",
    "    tick.set_fontname('serif') # change font for y tick labels\n",
    "for i in range(1, 4):\n",
    "    axs[i].set_xticks([.2])\n",
    "    axs[i].set_xticklabels(['20'], fontsize='x-small')\n",
    "    \n",
    "# drawing vertical lines to improve readability    \n",
    "axs[0].axvline(.5, alpha=0.3, c='grey', linewidth=1.2)\n",
    "axs[0].axvline(.9, alpha=0.3, c='grey', linewidth=1.2)\n",
    "for i in range(1, 4):\n",
    "    axs[i].axvline(.2, alpha=0.3, c='grey', linewidth=1.2)\n",
    "\n",
    "# adjust space among subplots (wspace is in units of plot width)    \n",
    "fig.subplots_adjust(wspace=0.05)    \n",
    "# change figure bg to match the axes bg\n",
    "fig.set_facecolor(axs[0].get_facecolor())\n",
    "\n",
    "fig.suptitle('How do you perceive...', fontfamily='serif')\n",
    "\n",
    "# these lines can be used to remove the white spines around the subplots\n",
    "# for i in range(4):\n",
    "#     for location in ['left', 'right', 'bottom', 'top']:\n",
    "#         axs[i].spines[location].set_visible(False)\n",
    "\n",
    "plt.show()"
   ]
  },
  {
   "cell_type": "markdown",
   "metadata": {},
   "source": [
    "We see that **Luke Skywalker**, **Han Solo**, **Princess Leia Organa**, **Obi Wan Kenobi**, **Yoda**, **R2 D2** and **C-3P0** are all viewed favorably by the great majority of respondents.<br />\n",
    "Poor **Jar Jar Binks** is the least succesfull character of the series. This completely computer-generated character was highly criticized since its first appearance in **The phantom menace**, and is consistently ranked among the worst characters ever invented, like in [this article](https://abcnews.go.com/Entertainment/Movies/top-10-worst-tv-film-characters-time/story?id=10809609)."
   ]
  },
  {
   "cell_type": "markdown",
   "metadata": {},
   "source": [
    "## Conclusions\n",
    "\n",
    "In this project we have analysed a dataset containing the results of a survey regarding the Star Wars movies released before 2014, i.e. episoded I-VI.<br />\n",
    "The results generally confirm that the original trilogy is preferred over the prequel trilogy. In particular:\n",
    "* **The Empire Strikes Back** is the most seen (more than 90% of the respondents) and highest ranked (2.2 on average) of the movies. This is still true if we distinguish fans and non-fans. **The Phantom Menace** is the third most seen movie (81%) after **Return of the Jedi**.\n",
    "* Fans consistently rate the original series much more favorably than the prequel. Non-fans also appreciate the original movies.\n",
    "* Non-fans consider on average **The Phantom Menace** as good as **A New Hope**.\n",
    "* Respondents older than 60 consider **The Phantom Menace** as good as **Return of the Jedi**, although **The Empire** is the favorite across each age group.\n",
    "* **Luke Skywalker**, **Han Solo**, **Princess Leia Organa**, **Obi Wan Kenobi**, **Yoda** and **R2 D2** are all favorably viewed by most respondents (around 90%).\n",
    "* **Jar Jar Binks** is seen unfavorably by 37% of the respondents, and is confirmed as the least appreciated character of the series.\n",
    "\n",
    "It would also be interesting to gather more data on The Phantom Menace to understand why some people see it so positively while others don't."
   ]
  }
 ],
 "metadata": {
  "kernelspec": {
   "display_name": "Python 3",
   "language": "python",
   "name": "python3"
  },
  "language_info": {
   "codemirror_mode": {
    "name": "ipython",
    "version": 3
   },
   "file_extension": ".py",
   "mimetype": "text/x-python",
   "name": "python",
   "nbconvert_exporter": "python",
   "pygments_lexer": "ipython3",
   "version": "3.8.8"
  }
 },
 "nbformat": 4,
 "nbformat_minor": 4
}
