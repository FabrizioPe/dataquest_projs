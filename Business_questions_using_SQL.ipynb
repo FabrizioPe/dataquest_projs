{
 "cells": [
  {
   "cell_type": "markdown",
   "metadata": {},
   "source": [
    "# The Chinook media store database - Answering business questions using SQL\n",
    "\n",
    "`category: business data analysis, expl. data analysis, intermediate SQL`\n",
    "\n",
    "The Chinook database is a fictional database representing a digital media store. It is a well-known resource for practising with SQL, having a consistent number of tables, being well designed and maintained.<br/>\n",
    "The database can be downloaded [here](https://www.sqlitetutorial.net/sqlite-sample-database/).\n",
    "\n",
    "In this project, we're going to answer some business questions using SQLite, pretending to be data analysts in a digital music company.\n",
    "\n",
    "The **project's goals** are to practice named subqueries, multiple joins and to write clear and well-organised queries."
   ]
  },
  {
   "cell_type": "markdown",
   "metadata": {},
   "source": [
    "## Getting to know the database schema"
   ]
  },
  {
   "cell_type": "markdown",
   "metadata": {},
   "source": [
    "First of all, let's load the **ipython-sql** module and connect our notebook to the database.<br/> \n",
    "This way, we can write SQL queries directly in the cells by using the `%%sql` magic."
   ]
  },
  {
   "cell_type": "code",
   "execution_count": 5,
   "metadata": {},
   "outputs": [],
   "source": [
    "%%capture\n",
    "%load_ext sql\n",
    "%sql sqlite:///datasets/chinook.db"
   ]
  },
  {
   "cell_type": "markdown",
   "metadata": {},
   "source": [
    "The tables and views included in the database are:"
   ]
  },
  {
   "cell_type": "code",
   "execution_count": 14,
   "metadata": {},
   "outputs": [
    {
     "name": "stdout",
     "output_type": "stream",
     "text": [
      " * sqlite:///datasets/chinook.db\n",
      "Done.\n"
     ]
    },
    {
     "data": {
      "text/html": [
       "<table>\n",
       "    <thead>\n",
       "        <tr>\n",
       "            <th>name</th>\n",
       "            <th>type</th>\n",
       "        </tr>\n",
       "    </thead>\n",
       "    <tbody>\n",
       "        <tr>\n",
       "            <td>album</td>\n",
       "            <td>table</td>\n",
       "        </tr>\n",
       "        <tr>\n",
       "            <td>artist</td>\n",
       "            <td>table</td>\n",
       "        </tr>\n",
       "        <tr>\n",
       "            <td>customer</td>\n",
       "            <td>table</td>\n",
       "        </tr>\n",
       "        <tr>\n",
       "            <td>employee</td>\n",
       "            <td>table</td>\n",
       "        </tr>\n",
       "        <tr>\n",
       "            <td>genre</td>\n",
       "            <td>table</td>\n",
       "        </tr>\n",
       "        <tr>\n",
       "            <td>invoice</td>\n",
       "            <td>table</td>\n",
       "        </tr>\n",
       "        <tr>\n",
       "            <td>invoice_line</td>\n",
       "            <td>table</td>\n",
       "        </tr>\n",
       "        <tr>\n",
       "            <td>media_type</td>\n",
       "            <td>table</td>\n",
       "        </tr>\n",
       "        <tr>\n",
       "            <td>playlist</td>\n",
       "            <td>table</td>\n",
       "        </tr>\n",
       "        <tr>\n",
       "            <td>playlist_track</td>\n",
       "            <td>table</td>\n",
       "        </tr>\n",
       "        <tr>\n",
       "            <td>track</td>\n",
       "            <td>table</td>\n",
       "        </tr>\n",
       "    </tbody>\n",
       "</table>"
      ],
      "text/plain": [
       "[('album', 'table'),\n",
       " ('artist', 'table'),\n",
       " ('customer', 'table'),\n",
       " ('employee', 'table'),\n",
       " ('genre', 'table'),\n",
       " ('invoice', 'table'),\n",
       " ('invoice_line', 'table'),\n",
       " ('media_type', 'table'),\n",
       " ('playlist', 'table'),\n",
       " ('playlist_track', 'table'),\n",
       " ('track', 'table')]"
      ]
     },
     "execution_count": 14,
     "metadata": {},
     "output_type": "execute_result"
    }
   ],
   "source": [
    "%%sql\n",
    "\n",
    "SELECT\n",
    "    name,\n",
    "    type\n",
    "FROM sqlite_master\n",
    "WHERE type IN ('view', 'table');"
   ]
  },
  {
   "cell_type": "markdown",
   "metadata": {},
   "source": [
    "There are 11 tables and no views.<br/>\n",
    "The tables contain information about employees, customers, the details of each invoice and about the tracks available in the store, including the albums and playlists to whom they belong.\n",
    "\n",
    "The following image represents the **database schema**:\n",
    "\n",
    "<img src=\"imgs/chinook-schema.svg\" width=600 height=450 />"
   ]
  },
  {
   "cell_type": "markdown",
   "metadata": {},
   "source": [
    "## 1) Selecting albums to purchase"
   ]
  },
  {
   "cell_type": "markdown",
   "metadata": {},
   "source": [
    "Suppose our store have to choose **three** out of four new albums to purchase.<br/> \n",
    "We just know the name of the artists and the genres they belong to:\n",
    "\n",
    "- **Name** / **Genre**\n",
    "* Regal - Hip-Hop\n",
    "* Red Tone - Punk\n",
    "* Meteor and the Girls - Pop\n",
    "* Slim Jim Bites - Blues\n",
    "\n",
    "The record label from which our company will buy the albums wants us to advertise their artists in the USA market, so we have to decide by considering the relative popularity of the genres in the USA."
   ]
  },
  {
   "cell_type": "code",
   "execution_count": 20,
   "metadata": {},
   "outputs": [
    {
     "name": "stdout",
     "output_type": "stream",
     "text": [
      " * sqlite:///datasets/chinook.db\n",
      "Done.\n"
     ]
    },
    {
     "data": {
      "text/html": [
       "<table>\n",
       "    <thead>\n",
       "        <tr>\n",
       "            <th>genre</th>\n",
       "            <th>no_of_tracks_sold</th>\n",
       "            <th>pct_sales</th>\n",
       "        </tr>\n",
       "    </thead>\n",
       "    <tbody>\n",
       "        <tr>\n",
       "            <td>Rock</td>\n",
       "            <td>561</td>\n",
       "            <td>53.4</td>\n",
       "        </tr>\n",
       "        <tr>\n",
       "            <td>Alternative &amp; Punk</td>\n",
       "            <td>130</td>\n",
       "            <td>12.4</td>\n",
       "        </tr>\n",
       "        <tr>\n",
       "            <td>Metal</td>\n",
       "            <td>124</td>\n",
       "            <td>11.8</td>\n",
       "        </tr>\n",
       "        <tr>\n",
       "            <td>R&amp;B/Soul</td>\n",
       "            <td>53</td>\n",
       "            <td>5.0</td>\n",
       "        </tr>\n",
       "        <tr>\n",
       "            <td>Blues</td>\n",
       "            <td>36</td>\n",
       "            <td>3.4</td>\n",
       "        </tr>\n",
       "        <tr>\n",
       "            <td>Alternative</td>\n",
       "            <td>35</td>\n",
       "            <td>3.3</td>\n",
       "        </tr>\n",
       "        <tr>\n",
       "            <td>Pop</td>\n",
       "            <td>22</td>\n",
       "            <td>2.1</td>\n",
       "        </tr>\n",
       "        <tr>\n",
       "            <td>Latin</td>\n",
       "            <td>22</td>\n",
       "            <td>2.1</td>\n",
       "        </tr>\n",
       "        <tr>\n",
       "            <td>Hip Hop/Rap</td>\n",
       "            <td>20</td>\n",
       "            <td>1.9</td>\n",
       "        </tr>\n",
       "        <tr>\n",
       "            <td>Jazz</td>\n",
       "            <td>14</td>\n",
       "            <td>1.3</td>\n",
       "        </tr>\n",
       "        <tr>\n",
       "            <td>Easy Listening</td>\n",
       "            <td>13</td>\n",
       "            <td>1.2</td>\n",
       "        </tr>\n",
       "        <tr>\n",
       "            <td>Reggae</td>\n",
       "            <td>6</td>\n",
       "            <td>0.6</td>\n",
       "        </tr>\n",
       "        <tr>\n",
       "            <td>Electronica/Dance</td>\n",
       "            <td>5</td>\n",
       "            <td>0.5</td>\n",
       "        </tr>\n",
       "        <tr>\n",
       "            <td>Classical</td>\n",
       "            <td>4</td>\n",
       "            <td>0.4</td>\n",
       "        </tr>\n",
       "        <tr>\n",
       "            <td>Heavy Metal</td>\n",
       "            <td>3</td>\n",
       "            <td>0.3</td>\n",
       "        </tr>\n",
       "        <tr>\n",
       "            <td>Soundtrack</td>\n",
       "            <td>2</td>\n",
       "            <td>0.2</td>\n",
       "        </tr>\n",
       "        <tr>\n",
       "            <td>TV Shows</td>\n",
       "            <td>1</td>\n",
       "            <td>0.1</td>\n",
       "        </tr>\n",
       "    </tbody>\n",
       "</table>"
      ],
      "text/plain": [
       "[('Rock', 561, 53.4),\n",
       " ('Alternative & Punk', 130, 12.4),\n",
       " ('Metal', 124, 11.8),\n",
       " ('R&B/Soul', 53, 5.0),\n",
       " ('Blues', 36, 3.4),\n",
       " ('Alternative', 35, 3.3),\n",
       " ('Pop', 22, 2.1),\n",
       " ('Latin', 22, 2.1),\n",
       " ('Hip Hop/Rap', 20, 1.9),\n",
       " ('Jazz', 14, 1.3),\n",
       " ('Easy Listening', 13, 1.2),\n",
       " ('Reggae', 6, 0.6),\n",
       " ('Electronica/Dance', 5, 0.5),\n",
       " ('Classical', 4, 0.4),\n",
       " ('Heavy Metal', 3, 0.3),\n",
       " ('Soundtrack', 2, 0.2),\n",
       " ('TV Shows', 1, 0.1)]"
      ]
     },
     "execution_count": 20,
     "metadata": {},
     "output_type": "execute_result"
    }
   ],
   "source": [
    "%%sql\n",
    "\n",
    "WITH individual_purchases_usa_each_genre AS\n",
    "    (\n",
    "    SELECT \n",
    "        g.name genre, \n",
    "        il.quantity\n",
    "    FROM customer c\n",
    "        INNER JOIN invoice i ON c.customer_id = i.customer_id\n",
    "        INNER JOIN invoice_line il ON il.invoice_id = i.invoice_id\n",
    "        INNER JOIN track t ON t.track_id = il.track_id\n",
    "        INNER JOIN genre g ON g.genre_id = t.genre_id\n",
    "    WHERE c.country = 'USA'\n",
    "    )\n",
    "    \n",
    "SELECT\n",
    "    genre,\n",
    "    SUM(quantity) no_of_tracks_sold,\n",
    "    ROUND((SUM(quantity) / (\n",
    "                          SELECT CAST(SUM(quantity) AS FLOAT)\n",
    "                          FROM individual_purchases_usa_each_genre\n",
    "                          )) * 100, 1) pct_sales\n",
    "FROM individual_purchases_usa_each_genre\n",
    "GROUP BY 1 \n",
    "ORDER BY 2 DESC;"
   ]
  },
  {
   "cell_type": "markdown",
   "metadata": {},
   "source": [
    "Based on the results of the query, we should buy **The Red Tone**, the **Slim Jim Bites** and the **Meteor and the Girls** albums. We also note that the sales percentage of Blues, Pop and Hip-Hop  are quite close to each other. Thus, other factors might influence our decision (ex. sales of previous records from the same artists)."
   ]
  },
  {
   "cell_type": "markdown",
   "metadata": {},
   "source": [
    "## 2) Analyzing employees sales performance\n",
    "\n",
    "Each customer is assigned to a **sales support agent** when he/she purchases a track for the first time.<br/>\n",
    "Our company has three sales support agent. Their IDs are 3, 4 and 5:"
   ]
  },
  {
   "cell_type": "code",
   "execution_count": 21,
   "metadata": {},
   "outputs": [
    {
     "name": "stdout",
     "output_type": "stream",
     "text": [
      " * sqlite:///datasets/chinook.db\n",
      "Done.\n"
     ]
    },
    {
     "data": {
      "text/html": [
       "<table>\n",
       "    <thead>\n",
       "        <tr>\n",
       "            <th>employee_id</th>\n",
       "            <th>name</th>\n",
       "            <th>title</th>\n",
       "        </tr>\n",
       "    </thead>\n",
       "    <tbody>\n",
       "        <tr>\n",
       "            <td>3</td>\n",
       "            <td>Jane Peacock</td>\n",
       "            <td>sales support agent</td>\n",
       "        </tr>\n",
       "        <tr>\n",
       "            <td>4</td>\n",
       "            <td>Margaret Park</td>\n",
       "            <td>sales support agent</td>\n",
       "        </tr>\n",
       "        <tr>\n",
       "            <td>5</td>\n",
       "            <td>Steve Johnson</td>\n",
       "            <td>sales support agent</td>\n",
       "        </tr>\n",
       "    </tbody>\n",
       "</table>"
      ],
      "text/plain": [
       "[(3, 'Jane Peacock', 'sales support agent'),\n",
       " (4, 'Margaret Park', 'sales support agent'),\n",
       " (5, 'Steve Johnson', 'sales support agent')]"
      ]
     },
     "execution_count": 21,
     "metadata": {},
     "output_type": "execute_result"
    }
   ],
   "source": [
    "%%sql\n",
    "\n",
    "SELECT \n",
    "    employee_id, \n",
    "    (first_name || ' ' || last_name) name, \n",
    "    lower(title) title\n",
    "FROM employee\n",
    "WHERE title LIKE '%support%';"
   ]
  },
  {
   "cell_type": "markdown",
   "metadata": {},
   "source": [
    "We want to analyse their sales performance, based on the total revenues of each."
   ]
  },
  {
   "cell_type": "code",
   "execution_count": 25,
   "metadata": {},
   "outputs": [
    {
     "name": "stdout",
     "output_type": "stream",
     "text": [
      " * sqlite:///datasets/chinook.db\n",
      "Done.\n"
     ]
    },
    {
     "data": {
      "text/html": [
       "<table>\n",
       "    <thead>\n",
       "        <tr>\n",
       "            <th>sales_agent_id</th>\n",
       "            <th>name</th>\n",
       "            <th>hire_date</th>\n",
       "            <th>grand_total</th>\n",
       "            <th>no_of_cust_assigned</th>\n",
       "            <th>avg_total_per_cust</th>\n",
       "        </tr>\n",
       "    </thead>\n",
       "    <tbody>\n",
       "        <tr>\n",
       "            <td>3</td>\n",
       "            <td>Jane Peacock</td>\n",
       "            <td>2017-04-01</td>\n",
       "            <td>1732.0</td>\n",
       "            <td>21</td>\n",
       "            <td>82.0</td>\n",
       "        </tr>\n",
       "        <tr>\n",
       "            <td>4</td>\n",
       "            <td>Margaret Park</td>\n",
       "            <td>2017-05-03</td>\n",
       "            <td>1584.0</td>\n",
       "            <td>20</td>\n",
       "            <td>79.0</td>\n",
       "        </tr>\n",
       "        <tr>\n",
       "            <td>5</td>\n",
       "            <td>Steve Johnson</td>\n",
       "            <td>2017-10-17</td>\n",
       "            <td>1394.0</td>\n",
       "            <td>18</td>\n",
       "            <td>77.0</td>\n",
       "        </tr>\n",
       "    </tbody>\n",
       "</table>"
      ],
      "text/plain": [
       "[(3, 'Jane Peacock', '2017-04-01', 1732.0, 21, 82.0),\n",
       " (4, 'Margaret Park', '2017-05-03', 1584.0, 20, 79.0),\n",
       " (5, 'Steve Johnson', '2017-10-17', 1394.0, 18, 77.0)]"
      ]
     },
     "execution_count": 25,
     "metadata": {},
     "output_type": "execute_result"
    }
   ],
   "source": [
    "%%sql\n",
    "\n",
    "WITH sales_support_agent_performance AS\n",
    "     (\n",
    "     SELECT \n",
    "        e.employee_id, \n",
    "        (e.first_name || ' ' || e.last_name) name,\n",
    "        DATE(e.hire_date) hire_date, \n",
    "        i.customer_id,  \n",
    "        i.total invoice_total\n",
    "     FROM employee e \n",
    "        INNER JOIN customer c ON e.employee_id = c.support_rep_id\n",
    "        INNER JOIN invoice i ON c.customer_id = i.customer_id\n",
    "     )\n",
    "    \n",
    "SELECT \n",
    "    employee_id sales_agent_id,\n",
    "    name,\n",
    "    hire_date,\n",
    "    ROUND(SUM(invoice_total)) grand_total,\n",
    "    COUNT(DISTINCT(customer_id)) no_of_cust_assigned,\n",
    "    ROUND(SUM(invoice_total) / COUNT(DISTINCT(customer_id)), 0) avg_total_per_cust\n",
    "FROM sales_support_agent_performance\n",
    "GROUP BY 1\n",
    "ORDER BY 4 DESC; "
   ]
  },
  {
   "cell_type": "markdown",
   "metadata": {},
   "source": [
    "If we look at the sheer sales revenues (i.e. the `grand_total` column), **Jane Peacock** is the top employee.<br/>\n",
    "We included  the `hire_date` in the result set because it certainly can have an impact on the total of revenues. We see that Jane Peacock was hired before Margaret Park, who was in turn hired before Steve Johnson. As a consequence, **we cannot say that the performances of the sales support agents differ significantly**."
   ]
  },
  {
   "cell_type": "markdown",
   "metadata": {},
   "source": [
    "## 3) Sales by country\n",
    "\n",
    "We have been asked to analyze the sales for each country in the database, by including number of customers, total sales, average revenue per customer and average order value."
   ]
  },
  {
   "cell_type": "code",
   "execution_count": 26,
   "metadata": {},
   "outputs": [
    {
     "name": "stdout",
     "output_type": "stream",
     "text": [
      " * sqlite:///datasets/chinook.db\n",
      "Done.\n"
     ]
    },
    {
     "data": {
      "text/html": [
       "<table>\n",
       "    <thead>\n",
       "        <tr>\n",
       "            <th>country</th>\n",
       "            <th>no_of_cust</th>\n",
       "            <th>total_sales</th>\n",
       "            <th>avg_sale_per_customer</th>\n",
       "            <th>avg_order_value</th>\n",
       "        </tr>\n",
       "    </thead>\n",
       "    <tbody>\n",
       "        <tr>\n",
       "            <td>USA</td>\n",
       "            <td>13</td>\n",
       "            <td>1040.0</td>\n",
       "            <td>80.0</td>\n",
       "            <td>7.9</td>\n",
       "        </tr>\n",
       "        <tr>\n",
       "            <td>Canada</td>\n",
       "            <td>8</td>\n",
       "            <td>536.0</td>\n",
       "            <td>67.0</td>\n",
       "            <td>7.0</td>\n",
       "        </tr>\n",
       "        <tr>\n",
       "            <td>Brazil</td>\n",
       "            <td>5</td>\n",
       "            <td>428.0</td>\n",
       "            <td>86.0</td>\n",
       "            <td>7.0</td>\n",
       "        </tr>\n",
       "        <tr>\n",
       "            <td>France</td>\n",
       "            <td>5</td>\n",
       "            <td>389.0</td>\n",
       "            <td>78.0</td>\n",
       "            <td>7.8</td>\n",
       "        </tr>\n",
       "        <tr>\n",
       "            <td>Germany</td>\n",
       "            <td>4</td>\n",
       "            <td>335.0</td>\n",
       "            <td>84.0</td>\n",
       "            <td>8.2</td>\n",
       "        </tr>\n",
       "        <tr>\n",
       "            <td>Czech Republic</td>\n",
       "            <td>2</td>\n",
       "            <td>273.0</td>\n",
       "            <td>137.0</td>\n",
       "            <td>9.1</td>\n",
       "        </tr>\n",
       "        <tr>\n",
       "            <td>United Kingdom</td>\n",
       "            <td>3</td>\n",
       "            <td>246.0</td>\n",
       "            <td>82.0</td>\n",
       "            <td>8.8</td>\n",
       "        </tr>\n",
       "        <tr>\n",
       "            <td>Portugal</td>\n",
       "            <td>2</td>\n",
       "            <td>185.0</td>\n",
       "            <td>93.0</td>\n",
       "            <td>6.4</td>\n",
       "        </tr>\n",
       "        <tr>\n",
       "            <td>India</td>\n",
       "            <td>2</td>\n",
       "            <td>183.0</td>\n",
       "            <td>92.0</td>\n",
       "            <td>8.7</td>\n",
       "        </tr>\n",
       "        <tr>\n",
       "            <td>Other</td>\n",
       "            <td>15</td>\n",
       "            <td>1095.0</td>\n",
       "            <td>73.0</td>\n",
       "            <td>7.4</td>\n",
       "        </tr>\n",
       "    </tbody>\n",
       "</table>"
      ],
      "text/plain": [
       "[('USA', 13, 1040.0, 80.0, 7.9),\n",
       " ('Canada', 8, 536.0, 67.0, 7.0),\n",
       " ('Brazil', 5, 428.0, 86.0, 7.0),\n",
       " ('France', 5, 389.0, 78.0, 7.8),\n",
       " ('Germany', 4, 335.0, 84.0, 8.2),\n",
       " ('Czech Republic', 2, 273.0, 137.0, 9.1),\n",
       " ('United Kingdom', 3, 246.0, 82.0, 8.8),\n",
       " ('Portugal', 2, 185.0, 93.0, 6.4),\n",
       " ('India', 2, 183.0, 92.0, 8.7),\n",
       " ('Other', 15, 1095.0, 73.0, 7.4)]"
      ]
     },
     "execution_count": 26,
     "metadata": {},
     "output_type": "execute_result"
    }
   ],
   "source": [
    "%%sql\n",
    "\n",
    "    /* selecting raw data by joining */\n",
    "WITH country_all_sales AS\n",
    "    (\n",
    "     SELECT \n",
    "        c.country,\n",
    "        c.customer_id,\n",
    "        i.total\n",
    "     FROM customer c\n",
    "        INNER JOIN invoice i ON c.customer_id = i.customer_id\n",
    "    ),\n",
    "    \n",
    "    /* categorization of only-one-customer countries as 'Other' */\n",
    "    country_all_sales_other AS\n",
    "    (\n",
    "     SELECT \n",
    "        CASE \n",
    "            WHEN (\n",
    "                  SELECT COUNT(customer_id)\n",
    "                  FROM customer c\n",
    "                  WHERE c.country = cas.country\n",
    "                 ) = 1 THEN 'Other'\n",
    "            ELSE country\n",
    "        END AS country,\n",
    "        cas.customer_id,\n",
    "        cas.total\n",
    "     FROM country_all_sales cas\n",
    "    ),\n",
    "    \n",
    "    /* adding a flag = 1 for 'Other'*/\n",
    "    country_all_sales_other_flag AS\n",
    "    (\n",
    "     SELECT \n",
    "        caso.*,\n",
    "        CASE\n",
    "            WHEN country = 'Other' THEN 1\n",
    "            ELSE 0\n",
    "        END AS flag        \n",
    "     FROM country_all_sales_other caso   \n",
    "    )    \n",
    "    \n",
    "    /* summary statistics */\n",
    "SELECT \n",
    "    country,\n",
    "    COUNT(DISTINCT(customer_id)) no_of_cust,\n",
    "    ROUND(SUM(total), 0) total_sales,\n",
    "    ROUND(SUM(total) / COUNT(DISTINCT(customer_id)), 0) avg_sale_per_customer,\n",
    "    ROUND(AVG(total), 1) avg_order_value\n",
    "FROM country_all_sales_other_flag \n",
    "GROUP BY country\n",
    "ORDER BY flag, total_sales DESC;"
   ]
  },
  {
   "cell_type": "markdown",
   "metadata": {},
   "source": [
    "We see that the USA are our main market if we look at the `total_sales` column (units: $).<br/>\n",
    "On the other hand, a good indicator of a potentially good market on which to invest in the future may be the **average value sales per customer**. Our table shows that:\n",
    "* Czech Republic\n",
    "* Portugal and India\n",
    "\n",
    "are promising countries.\n",
    "\n",
    "*(Of course, we note that our database contain data on a small scale. The conclusions based on such small samples are usually subject to enormous fluctuations and this has to be taken into consideration)*\n",
    "\n",
    "We include <ins>a slight variation of the previous query</ins>, producing the same results. This is because these notebooks also serve as notes for future refreshers."
   ]
  },
  {
   "cell_type": "code",
   "execution_count": 27,
   "metadata": {},
   "outputs": [
    {
     "name": "stdout",
     "output_type": "stream",
     "text": [
      " * sqlite:///datasets/chinook.db\n",
      "Done.\n"
     ]
    },
    {
     "data": {
      "text/html": [
       "<table>\n",
       "    <thead>\n",
       "        <tr>\n",
       "            <th>country</th>\n",
       "            <th>no_of_cust</th>\n",
       "            <th>total_sales</th>\n",
       "            <th>avg_sale_per_customer</th>\n",
       "            <th>avg_order_value</th>\n",
       "        </tr>\n",
       "    </thead>\n",
       "    <tbody>\n",
       "        <tr>\n",
       "            <td>USA</td>\n",
       "            <td>13</td>\n",
       "            <td>1040.0</td>\n",
       "            <td>80.0</td>\n",
       "            <td>7.9</td>\n",
       "        </tr>\n",
       "        <tr>\n",
       "            <td>Canada</td>\n",
       "            <td>8</td>\n",
       "            <td>536.0</td>\n",
       "            <td>67.0</td>\n",
       "            <td>7.0</td>\n",
       "        </tr>\n",
       "        <tr>\n",
       "            <td>Brazil</td>\n",
       "            <td>5</td>\n",
       "            <td>428.0</td>\n",
       "            <td>86.0</td>\n",
       "            <td>7.0</td>\n",
       "        </tr>\n",
       "        <tr>\n",
       "            <td>France</td>\n",
       "            <td>5</td>\n",
       "            <td>389.0</td>\n",
       "            <td>78.0</td>\n",
       "            <td>7.8</td>\n",
       "        </tr>\n",
       "        <tr>\n",
       "            <td>Germany</td>\n",
       "            <td>4</td>\n",
       "            <td>335.0</td>\n",
       "            <td>84.0</td>\n",
       "            <td>8.2</td>\n",
       "        </tr>\n",
       "        <tr>\n",
       "            <td>Czech Republic</td>\n",
       "            <td>2</td>\n",
       "            <td>273.0</td>\n",
       "            <td>137.0</td>\n",
       "            <td>9.1</td>\n",
       "        </tr>\n",
       "        <tr>\n",
       "            <td>United Kingdom</td>\n",
       "            <td>3</td>\n",
       "            <td>246.0</td>\n",
       "            <td>82.0</td>\n",
       "            <td>8.8</td>\n",
       "        </tr>\n",
       "        <tr>\n",
       "            <td>Portugal</td>\n",
       "            <td>2</td>\n",
       "            <td>185.0</td>\n",
       "            <td>93.0</td>\n",
       "            <td>6.4</td>\n",
       "        </tr>\n",
       "        <tr>\n",
       "            <td>India</td>\n",
       "            <td>2</td>\n",
       "            <td>183.0</td>\n",
       "            <td>92.0</td>\n",
       "            <td>8.7</td>\n",
       "        </tr>\n",
       "        <tr>\n",
       "            <td>Other</td>\n",
       "            <td>15</td>\n",
       "            <td>1095.0</td>\n",
       "            <td>73.0</td>\n",
       "            <td>7.4</td>\n",
       "        </tr>\n",
       "    </tbody>\n",
       "</table>"
      ],
      "text/plain": [
       "[('USA', 13, 1040.0, 80.0, 7.9),\n",
       " ('Canada', 8, 536.0, 67.0, 7.0),\n",
       " ('Brazil', 5, 428.0, 86.0, 7.0),\n",
       " ('France', 5, 389.0, 78.0, 7.8),\n",
       " ('Germany', 4, 335.0, 84.0, 8.2),\n",
       " ('Czech Republic', 2, 273.0, 137.0, 9.1),\n",
       " ('United Kingdom', 3, 246.0, 82.0, 8.8),\n",
       " ('Portugal', 2, 185.0, 93.0, 6.4),\n",
       " ('India', 2, 183.0, 92.0, 8.7),\n",
       " ('Other', 15, 1095.0, 73.0, 7.4)]"
      ]
     },
     "execution_count": 27,
     "metadata": {},
     "output_type": "execute_result"
    }
   ],
   "source": [
    "%%sql\n",
    "\n",
    "WITH all_sales_country_other AS\n",
    "    (\n",
    "    SELECT \n",
    "        CASE\n",
    "            WHEN (\n",
    "                  SELECT COUNT(DISTINCT(customer_id))\n",
    "                  FROM customer\n",
    "                  WHERE country = c.country\n",
    "                 ) = 1 THEN 'Other'\n",
    "            ELSE c.country\n",
    "            END AS country,\n",
    "        c.customer_id,\n",
    "        i.total    \n",
    "    FROM customer c\n",
    "        INNER JOIN invoice i ON c.customer_id = i.customer_id\n",
    "    ),\n",
    "   \n",
    "    /* generate a new flag column to force 'Other' to the bottom in the final results */\n",
    "    all_sales_country_other_flag AS\n",
    "    (\n",
    "    SELECT \n",
    "        asco.*,\n",
    "        CASE\n",
    "            WHEN country = 'Other' THEN 1\n",
    "            ELSE 0\n",
    "        END AS flag    \n",
    "    FROM all_sales_country_other asco    \n",
    "    )\n",
    "    \n",
    "    /* summary sales statistics for each country */\n",
    "SELECT \n",
    "    country,\n",
    "    COUNT(DISTINCT(customer_id)) no_of_cust,\n",
    "    ROUND(SUM(total), 0) total_sales,\n",
    "    ROUND(SUM(total) / COUNT(DISTINCT(customer_id)), 0) avg_sale_per_customer,\n",
    "    ROUND(AVG(total), 1) avg_order_value\n",
    "FROM all_sales_country_other_flag \n",
    "GROUP BY country\n",
    "ORDER BY flag, total_sales DESC; "
   ]
  },
  {
   "cell_type": "markdown",
   "metadata": {},
   "source": [
    "## 4) Albums vs single tracks: a change in strategy?"
   ]
  },
  {
   "cell_type": "markdown",
   "metadata": {},
   "source": [
    "On our digital platform, customers can purchase:\n",
    "* whole albums\n",
    "* individual tracks\n",
    "\n",
    "There is no overcharge for choosing one or the other option.\n",
    "<br/> Our management is thinking about **purchasing only the most popular tracks from each album**, instead of the whole album. This potentially could lead to increased revenues if album purchases are relatively rare.\n",
    "\n",
    "We'll write a query to find the relative frequency of the two purchase types.<br/>\n",
    "The idea behind the query is to find the list of tracks of each invoice and then comparing it to the list of tracks in one of the albums linked to the purchase. The comparison will be done through a <ins>symmetric difference between the two sets</ins>."
   ]
  },
  {
   "cell_type": "code",
   "execution_count": 29,
   "metadata": {},
   "outputs": [
    {
     "name": "stdout",
     "output_type": "stream",
     "text": [
      " * sqlite:///datasets/chinook.db\n",
      "Done.\n"
     ]
    },
    {
     "data": {
      "text/html": [
       "<table>\n",
       "    <thead>\n",
       "        <tr>\n",
       "            <th>purch_type</th>\n",
       "            <th>no_invoices</th>\n",
       "            <th>pct_invoices</th>\n",
       "            <th>tot_revenue</th>\n",
       "            <th>pct_revenue</th>\n",
       "        </tr>\n",
       "    </thead>\n",
       "    <tbody>\n",
       "        <tr>\n",
       "            <td>Album</td>\n",
       "            <td>114</td>\n",
       "            <td>19.0</td>\n",
       "            <td>1461.0</td>\n",
       "            <td>31.0</td>\n",
       "        </tr>\n",
       "        <tr>\n",
       "            <td>Tracks</td>\n",
       "            <td>500</td>\n",
       "            <td>81.0</td>\n",
       "            <td>3248.0</td>\n",
       "            <td>69.0</td>\n",
       "        </tr>\n",
       "    </tbody>\n",
       "</table>"
      ],
      "text/plain": [
       "[('Album', 114, 19.0, 1461.0, 31.0), ('Tracks', 500, 81.0, 3248.0, 69.0)]"
      ]
     },
     "execution_count": 29,
     "metadata": {},
     "output_type": "execute_result"
    }
   ],
   "source": [
    "%%sql\n",
    "\n",
    "WITH album_track AS\n",
    "    (\n",
    "    SELECT \n",
    "        t.track_id,\n",
    "        a.album_id\n",
    "    FROM album a\n",
    "        INNER JOIN track t ON a.album_id = t.album_id\n",
    "    ),\n",
    "    \n",
    "    invoice_album_track AS\n",
    "    (\n",
    "    SELECT\n",
    "        i.invoice_id,\n",
    "        i.total,\n",
    "        il.track_id,\n",
    "        t.album_id\n",
    "    FROM invoice i\n",
    "        INNER JOIN invoice_line il ON i.invoice_id = il.invoice_id\n",
    "        INNER JOIN track t ON t.track_id = il.track_id\n",
    "    ),\n",
    "    \n",
    "    invoices_purchase_type AS\n",
    "    (\n",
    "    SELECT\n",
    "        iat.*,\n",
    "        CASE \n",
    "           WHEN (\n",
    "                SELECT track_id\n",
    "                FROM invoice_album_track\n",
    "                WHERE invoice_id = iat.invoice_id\n",
    "\n",
    "                EXCEPT \n",
    "\n",
    "                SELECT track_id\n",
    "                FROM album_track\n",
    "                WHERE album_id = iat.album_id \n",
    "                ) IS NULL\n",
    "\n",
    "                AND \n",
    "\n",
    "                (\n",
    "                SELECT track_id\n",
    "                FROM album_track\n",
    "                WHERE album_id = iat.album_id \n",
    "\n",
    "                EXCEPT\n",
    "\n",
    "                SELECT track_id\n",
    "                FROM invoice_album_track\n",
    "                WHERE invoice_id = iat.invoice_id\n",
    "                ) IS NULL then 'Album' \n",
    "            ELSE 'Tracks'     \n",
    "            END AS purch_type       \n",
    "    FROM invoice_album_track iat\n",
    "    ),\n",
    "    \n",
    "    final_data AS\n",
    "    (\n",
    "    SELECT \n",
    "        invoice_id,\n",
    "        total,\n",
    "        purch_type\n",
    "    FROM invoices_purchase_type    \n",
    "    GROUP BY invoice_id\n",
    "    )\n",
    "    \n",
    "SELECT\n",
    "    purch_type,\n",
    "    COUNT(*) no_invoices,\n",
    "    ROUND((cast(count(*) as float) / (\n",
    "                                      SELECT COUNT(*) \n",
    "                                      FROM final_data)\n",
    "                                     ) * 100, 0) pct_invoices,\n",
    "    ROUND(SUM(total), 0) tot_revenue,\n",
    "    ROUND((SUM(total) / (\n",
    "                         SELECT SUM(total) \n",
    "                         FROM final_data)\n",
    "                        ) * 100, 0) pct_revenue\n",
    "FROM final_data\n",
    "GROUP BY purch_type;"
   ]
  },
  {
   "cell_type": "markdown",
   "metadata": {},
   "source": [
    "The results show that both purchase options are chosen often.<br/>\n",
    "Album purchases are responsible of more than 30% of revenues.\n",
    "\n",
    "Based on these data, **we don't advise the new purchase strategy**."
   ]
  },
  {
   "cell_type": "markdown",
   "metadata": {},
   "source": [
    "## 5) Most popular artist in playlists\n",
    "\n",
    "We want to find the artist who appear on the greatest number of playlists."
   ]
  },
  {
   "cell_type": "code",
   "execution_count": 30,
   "metadata": {},
   "outputs": [
    {
     "name": "stdout",
     "output_type": "stream",
     "text": [
      " * sqlite:///datasets/chinook.db\n",
      "Done.\n"
     ]
    },
    {
     "data": {
      "text/html": [
       "<table>\n",
       "    <thead>\n",
       "        <tr>\n",
       "            <th>artist</th>\n",
       "            <th>playlist_appearances</th>\n",
       "        </tr>\n",
       "    </thead>\n",
       "    <tbody>\n",
       "        <tr>\n",
       "            <td>Eugene Ormandy</td>\n",
       "            <td>6</td>\n",
       "        </tr>\n",
       "        <tr>\n",
       "            <td>Academy of St. Martin in the Fields &amp; Sir Neville Marriner</td>\n",
       "            <td>5</td>\n",
       "        </tr>\n",
       "        <tr>\n",
       "            <td>Berliner Philharmoniker &amp; Herbert Von Karajan</td>\n",
       "            <td>5</td>\n",
       "        </tr>\n",
       "        <tr>\n",
       "            <td>English Concert &amp; Trevor Pinnock</td>\n",
       "            <td>5</td>\n",
       "        </tr>\n",
       "        <tr>\n",
       "            <td>The King&#x27;s Singers</td>\n",
       "            <td>5</td>\n",
       "        </tr>\n",
       "    </tbody>\n",
       "</table>"
      ],
      "text/plain": [
       "[('Eugene Ormandy', 6),\n",
       " ('Academy of St. Martin in the Fields & Sir Neville Marriner', 5),\n",
       " ('Berliner Philharmoniker & Herbert Von Karajan', 5),\n",
       " ('English Concert & Trevor Pinnock', 5),\n",
       " (\"The King's Singers\", 5)]"
      ]
     },
     "execution_count": 30,
     "metadata": {},
     "output_type": "execute_result"
    }
   ],
   "source": [
    "%%sql\n",
    "\n",
    "SELECT \n",
    "    artist,\n",
    "    COUNT(*) playlist_appearances\n",
    "FROM \n",
    "    (\n",
    "    SELECT \n",
    "        ar.name artist, \n",
    "        p.name playlist_name\n",
    "    FROM artist ar\n",
    "        INNER JOIN album al ON ar.artist_id = al.artist_id\n",
    "        INNER JOIN track t ON al.album_id = t.album_id\n",
    "        INNER JOIN playlist_track pt ON t.track_id = pt.track_id\n",
    "        INNER JOIN playlist p ON pt.playlist_id = p.playlist_id\n",
    "    GROUP BY 1,2\n",
    "    ) artist_playlist \n",
    "GROUP BY 1\n",
    "ORDER BY 2 DESC, 1\n",
    "LIMIT 5;"
   ]
  },
  {
   "cell_type": "markdown",
   "metadata": {},
   "source": [
    "The hungarian director and violinist Eugene Ormandy is the most popular artist in playlists.<br/>\n",
    "The following are also classical music orchestras/groups.\n",
    "\n",
    "We could advertise classical musician playlists on our mobile app (supposing there's one)."
   ]
  },
  {
   "cell_type": "markdown",
   "metadata": {},
   "source": [
    "## 6) Purchased vs not purchased tracks\n",
    "\n",
    "We want to compare the share of unpurchased tracks to the purchased ones.<br/>\n",
    "We first **create a view** with each track id, its genre and a flag for purchased/unpurchased:"
   ]
  },
  {
   "cell_type": "code",
   "execution_count": 31,
   "metadata": {},
   "outputs": [
    {
     "name": "stdout",
     "output_type": "stream",
     "text": [
      " * sqlite:///datasets/chinook.db\n",
      "Done.\n"
     ]
    },
    {
     "data": {
      "text/plain": [
       "[]"
      ]
     },
     "execution_count": 31,
     "metadata": {},
     "output_type": "execute_result"
    }
   ],
   "source": [
    "%%sql\n",
    "\n",
    "/* DROP VIEW tracks_purchased_or_not */\n",
    "\n",
    "CREATE VIEW tracks_purchased_or_not AS\n",
    "    SELECT\n",
    "        t.track_id,\n",
    "        g.name,    \n",
    "        CASE \n",
    "            WHEN t.track_id IN (\n",
    "                                SELECT DISTINCT(track_id)\n",
    "                                FROM invoice_line il\n",
    "                               )\n",
    "            THEN 'yes'\n",
    "            ELSE 'no'\n",
    "            END AS purchased\n",
    "    FROM track t \n",
    "        INNER JOIN genre g ON t.genre_id = g.genre_id;"
   ]
  },
  {
   "cell_type": "markdown",
   "metadata": {},
   "source": [
    "We are ready to run our intial query."
   ]
  },
  {
   "cell_type": "code",
   "execution_count": 32,
   "metadata": {},
   "outputs": [
    {
     "name": "stdout",
     "output_type": "stream",
     "text": [
      " * sqlite:///datasets/chinook.db\n",
      "Done.\n"
     ]
    },
    {
     "data": {
      "text/html": [
       "<table>\n",
       "    <thead>\n",
       "        <tr>\n",
       "            <th>purchased</th>\n",
       "            <th>no_of_tracks</th>\n",
       "            <th>pct</th>\n",
       "        </tr>\n",
       "    </thead>\n",
       "    <tbody>\n",
       "        <tr>\n",
       "            <td>no</td>\n",
       "            <td>1697</td>\n",
       "            <td>0.48</td>\n",
       "        </tr>\n",
       "        <tr>\n",
       "            <td>yes</td>\n",
       "            <td>1806</td>\n",
       "            <td>0.52</td>\n",
       "        </tr>\n",
       "    </tbody>\n",
       "</table>"
      ],
      "text/plain": [
       "[('no', 1697, 0.48), ('yes', 1806, 0.52)]"
      ]
     },
     "execution_count": 32,
     "metadata": {},
     "output_type": "execute_result"
    }
   ],
   "source": [
    "%%sql\n",
    "\n",
    "SELECT \n",
    "    purchased,\n",
    "    COUNT(*) no_of_tracks,\n",
    "    ROUND(CAST(COUNT(*) AS FLOAT) / (SELECT COUNT(*) FROM track), 2) pct\n",
    "FROM\n",
    "    (\n",
    "     tracks_purchased_or_not\n",
    "    )\n",
    "GROUP BY purchased;  "
   ]
  },
  {
   "cell_type": "markdown",
   "metadata": {},
   "source": [
    "Because unpurchased tracks are 48% of our entire catalogue, we are interested to further investigate the problem. We want to calculate the share of unpurchased/purchased tracks for each genre."
   ]
  },
  {
   "cell_type": "code",
   "execution_count": 33,
   "metadata": {},
   "outputs": [
    {
     "name": "stdout",
     "output_type": "stream",
     "text": [
      " * sqlite:///datasets/chinook.db\n",
      "Done.\n"
     ]
    },
    {
     "data": {
      "text/html": [
       "<table>\n",
       "    <thead>\n",
       "        <tr>\n",
       "            <th>genre</th>\n",
       "            <th>not_purch/purch</th>\n",
       "        </tr>\n",
       "    </thead>\n",
       "    <tbody>\n",
       "        <tr>\n",
       "            <td>Drama</td>\n",
       "            <td>63.0</td>\n",
       "        </tr>\n",
       "        <tr>\n",
       "            <td>TV Shows</td>\n",
       "            <td>45.5</td>\n",
       "        </tr>\n",
       "        <tr>\n",
       "            <td>Soundtrack</td>\n",
       "            <td>7.6</td>\n",
       "        </tr>\n",
       "        <tr>\n",
       "            <td>Latin</td>\n",
       "            <td>3.87</td>\n",
       "        </tr>\n",
       "        <tr>\n",
       "            <td>Classical</td>\n",
       "            <td>3.63</td>\n",
       "        </tr>\n",
       "        <tr>\n",
       "            <td>Heavy Metal</td>\n",
       "            <td>3.0</td>\n",
       "        </tr>\n",
       "        <tr>\n",
       "            <td>Reggae</td>\n",
       "            <td>1.64</td>\n",
       "        </tr>\n",
       "        <tr>\n",
       "            <td>Jazz</td>\n",
       "            <td>1.13</td>\n",
       "        </tr>\n",
       "        <tr>\n",
       "            <td>Pop</td>\n",
       "            <td>0.92</td>\n",
       "        </tr>\n",
       "        <tr>\n",
       "            <td>Alternative &amp; Punk</td>\n",
       "            <td>0.89</td>\n",
       "        </tr>\n",
       "        <tr>\n",
       "            <td>Hip Hop/Rap</td>\n",
       "            <td>0.67</td>\n",
       "        </tr>\n",
       "        <tr>\n",
       "            <td>Metal</td>\n",
       "            <td>0.57</td>\n",
       "        </tr>\n",
       "        <tr>\n",
       "            <td>Blues</td>\n",
       "            <td>0.45</td>\n",
       "        </tr>\n",
       "        <tr>\n",
       "            <td>Rock</td>\n",
       "            <td>0.42</td>\n",
       "        </tr>\n",
       "        <tr>\n",
       "            <td>Alternative</td>\n",
       "            <td>0.18</td>\n",
       "        </tr>\n",
       "        <tr>\n",
       "            <td>R&amp;B/Soul</td>\n",
       "            <td>0.11</td>\n",
       "        </tr>\n",
       "        <tr>\n",
       "            <td>Electronica/Dance</td>\n",
       "            <td>0.03</td>\n",
       "        </tr>\n",
       "    </tbody>\n",
       "</table>"
      ],
      "text/plain": [
       "[('Drama', 63.0),\n",
       " ('TV Shows', 45.5),\n",
       " ('Soundtrack', 7.6),\n",
       " ('Latin', 3.87),\n",
       " ('Classical', 3.63),\n",
       " ('Heavy Metal', 3.0),\n",
       " ('Reggae', 1.64),\n",
       " ('Jazz', 1.13),\n",
       " ('Pop', 0.92),\n",
       " ('Alternative & Punk', 0.89),\n",
       " ('Hip Hop/Rap', 0.67),\n",
       " ('Metal', 0.57),\n",
       " ('Blues', 0.45),\n",
       " ('Rock', 0.42),\n",
       " ('Alternative', 0.18),\n",
       " ('R&B/Soul', 0.11),\n",
       " ('Electronica/Dance', 0.03)]"
      ]
     },
     "execution_count": 33,
     "metadata": {},
     "output_type": "execute_result"
    }
   ],
   "source": [
    "%%sql\n",
    "\n",
    "SELECT purch.genre,\n",
    "       ROUND(not_purch.no_of_tracks / CAST(purch.no_of_tracks AS FLOAT), 2) 'not_purch/purch'\n",
    "FROM    (\n",
    "        SELECT\n",
    "            name genre,\n",
    "            COUNT(*) no_of_tracks\n",
    "        FROM tracks_purchased_or_not\n",
    "        WHERE purchased = 'yes'\n",
    "        GROUP BY genre\n",
    "        ) purch \n",
    "    \n",
    "    INNER JOIN \n",
    "    \n",
    "        (\n",
    "        SELECT\n",
    "            name genre,\n",
    "            COUNT(*) no_of_tracks\n",
    "        FROM tracks_purchased_or_not\n",
    "        WHERE purchased = 'no'\n",
    "        GROUP BY genre\n",
    "        ) not_purch \n",
    "    \n",
    "    ON purch.genre = not_purch.genre\n",
    "ORDER BY 2 DESC;"
   ]
  },
  {
   "cell_type": "markdown",
   "metadata": {},
   "source": [
    "We see that genres from `Drama` to `Jazz` have a number of unpurchased tracks greater than the purchased.<br/>\n",
    "On these genres, **it could be sensible to purchase only the most popular tracks from each album**, in order to minimize the ratio."
   ]
  },
  {
   "cell_type": "markdown",
   "metadata": {},
   "source": [
    "## 7) Protected vs non-protected media types sales\n",
    "\n",
    "Let's look at the table `media_type` in order to understand the types of files we have in the catalogue:"
   ]
  },
  {
   "cell_type": "code",
   "execution_count": 34,
   "metadata": {},
   "outputs": [
    {
     "name": "stdout",
     "output_type": "stream",
     "text": [
      " * sqlite:///datasets/chinook.db\n",
      "Done.\n"
     ]
    },
    {
     "data": {
      "text/html": [
       "<table>\n",
       "    <thead>\n",
       "        <tr>\n",
       "            <th>media_type_id</th>\n",
       "            <th>name</th>\n",
       "        </tr>\n",
       "    </thead>\n",
       "    <tbody>\n",
       "        <tr>\n",
       "            <td>1</td>\n",
       "            <td>MPEG audio file</td>\n",
       "        </tr>\n",
       "        <tr>\n",
       "            <td>2</td>\n",
       "            <td>Protected AAC audio file</td>\n",
       "        </tr>\n",
       "        <tr>\n",
       "            <td>3</td>\n",
       "            <td>Protected MPEG-4 video file</td>\n",
       "        </tr>\n",
       "        <tr>\n",
       "            <td>4</td>\n",
       "            <td>Purchased AAC audio file</td>\n",
       "        </tr>\n",
       "        <tr>\n",
       "            <td>5</td>\n",
       "            <td>AAC audio file</td>\n",
       "        </tr>\n",
       "    </tbody>\n",
       "</table>"
      ],
      "text/plain": [
       "[(1, 'MPEG audio file'),\n",
       " (2, 'Protected AAC audio file'),\n",
       " (3, 'Protected MPEG-4 video file'),\n",
       " (4, 'Purchased AAC audio file'),\n",
       " (5, 'AAC audio file')]"
      ]
     },
     "execution_count": 34,
     "metadata": {},
     "output_type": "execute_result"
    }
   ],
   "source": [
    "%%sql\n",
    "\n",
    "SELECT * FROM media_type;"
   ]
  },
  {
   "cell_type": "markdown",
   "metadata": {},
   "source": [
    "Media types 2, 3 and 4 are protected media types (you cannot share the corresponding files freely); 1 and 5 are non-protected. \n",
    "\n",
    "We want to assess whether there are differences in popularity between these two categories of media.<br/>\n",
    "The popularity of each track is defined as the number of copies of its file which have been sold, considering all the invoices in the database. In other words, the column `quantity` in the `invoice_line` table will be used as the base measure of popularity."
   ]
  },
  {
   "cell_type": "code",
   "execution_count": 35,
   "metadata": {},
   "outputs": [
    {
     "name": "stdout",
     "output_type": "stream",
     "text": [
      " * sqlite:///datasets/chinook.db\n",
      "Done.\n"
     ]
    },
    {
     "data": {
      "text/html": [
       "<table>\n",
       "    <thead>\n",
       "        <tr>\n",
       "            <th>media_type_protection</th>\n",
       "            <th>popularity</th>\n",
       "        </tr>\n",
       "    </thead>\n",
       "    <tbody>\n",
       "        <tr>\n",
       "            <td>Non-protected</td>\n",
       "            <td>4280</td>\n",
       "        </tr>\n",
       "        <tr>\n",
       "            <td>Protected</td>\n",
       "            <td>477</td>\n",
       "        </tr>\n",
       "    </tbody>\n",
       "</table>"
      ],
      "text/plain": [
       "[('Non-protected', 4280), ('Protected', 477)]"
      ]
     },
     "execution_count": 35,
     "metadata": {},
     "output_type": "execute_result"
    }
   ],
   "source": [
    "%%sql\n",
    "\n",
    "WITH popularity_media_type AS\n",
    "    (\n",
    "    SELECT \n",
    "        il.quantity,\n",
    "        CASE\n",
    "            WHEN mt.name LIKE 'P%' THEN 'Protected'\n",
    "            ELSE 'Non-protected'\n",
    "        END AS media_type_protection\n",
    "    FROM invoice_line il\n",
    "        INNER JOIN track t ON il.track_id = t.track_id\n",
    "        INNER JOIN media_type mt ON t.media_type_id = mt.media_type_id\n",
    "    )\n",
    "    \n",
    "SELECT \n",
    "    media_type_protection,\n",
    "    SUM(quantity) popularity\n",
    "FROM popularity_media_type    \n",
    "GROUP BY 1;"
   ]
  },
  {
   "cell_type": "markdown",
   "metadata": {},
   "source": [
    "Non-protected media types are **9 times** more popular than protected media types."
   ]
  },
  {
   "cell_type": "markdown",
   "metadata": {},
   "source": [
    "## Conclusions\n",
    "\n",
    "In this project we practised some intermediate level SQL queries in order to answer some business questions about our digital media store activity.\n",
    "\n",
    "We found results which can be the base of data-driven decisions for our company.\n",
    "\n",
    "<ins>This project is part of the 'Working with data sources' course series on Dataquest [Data Scientist career path].</ins>"
   ]
  }
 ],
 "metadata": {
  "kernelspec": {
   "display_name": "Python 3",
   "language": "python",
   "name": "python3"
  },
  "language_info": {
   "codemirror_mode": {
    "name": "ipython",
    "version": 3
   },
   "file_extension": ".py",
   "mimetype": "text/x-python",
   "name": "python",
   "nbconvert_exporter": "python",
   "pygments_lexer": "ipython3",
   "version": "3.8.8"
  }
 },
 "nbformat": 4,
 "nbformat_minor": 4
}
