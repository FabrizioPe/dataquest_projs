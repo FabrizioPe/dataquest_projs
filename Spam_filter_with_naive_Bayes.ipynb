{
 "cells": [
  {
   "cell_type": "markdown",
   "metadata": {},
   "source": [
    "# Lovely spam - Building a naive Bayes spam filter\n",
    "\n",
    "`category: intermediate probability, machine learning classification`"
   ]
  },
  {
   "cell_type": "markdown",
   "metadata": {},
   "source": [
    "<img src=\"imgs/spam.jpg\" width=750 height=680 />"
   ]
  },
  {
   "cell_type": "markdown",
   "metadata": {},
   "source": [
    "## Introduction and project's goal\n",
    "\n",
    "In this project, we're going to **build a spam filter using a multinomial** [naive Bayes classifier](https://en.wikipedia.org/wiki/Naive_Bayes_classifier).<br/>\n",
    "Spam is nowadays practically eveywhere: emails, phone sms, internet forums, socials. These unrequested messages are at best annoying, but may also constitute a threat (e.g. sending malicious links).\n",
    "\n",
    "Here, we're going to focus on a **spam filter for sms**. In our intentions, the filter would analyse the words that constitutes the message and tell us \"probably it's spam\", \"probably it's not spam\" or \"I'm uncertain\".\n",
    "For that, we'll use a dataset that you can download at the famous [UCI repository for Machine Learning](https://archive.ics.uci.edu/ml/datasets/sms+spam+collection). The authors built a collection of 5572 spam and non-spam (**ham** from now on) messages taken from different sources.\n",
    "\n",
    "The project's goal is to reach **at least 80% accuracy** in the classification (more on accuracy later).\n",
    "\n",
    "## What is a Naive Bayes classifier?\n",
    "\n",
    "Naive Bayes (nB) classifiers are a class of simple algorithms which allow to compute the probability for one set of features (e.g. words) to belong to a particular class. This is possible by means of the **Bayes' theorem**. They classify a given set of features by selecting the class with the highest associated probability.<br/>\n",
    "In their basic form, they are fast to train because their computational cost varies linearly with the number of features, and at run-time they require to only look up a table of already computed probabilities and perform some multiplications.\n",
    "\n",
    "In our case, we want to calculate the probability for one particular message containing the $n$ words $\\{w_{1}, w_{2}, ... w_{n}\\}$ to be a spam or a ham message. In symbols (and using the Bayes' theorem):\n",
    "\n",
    "$$P(spam|\\{w_{1}, w_{2}, ... w_{n}\\}) \\propto P(spam)\\cdot P(\\{w_{1}, w_{2}, ... w_{n}\\}|spam)$$ \n",
    "\n",
    "$$P(ham|\\{w_{1}, w_{2}, ... w_{n}\\}) \\propto P(ham)\\cdot P(\\{w_{1}, w_{2}, ... w_{n}\\}|ham)$$\n",
    "\n",
    "Now for the naiveness: in order to simplify the calculations, we make the assumption of **conditional independence**, i.e. we assume that the probability of each word to be in a spam/ham message is not influenced by the presence of the others. This way, the $P(\\{w_{1}, w_{2}, ... w_{n}\\}|spam)$ splits into the product of $n$ terms, like:\n",
    "\n",
    "$$P(spam|\\{w_{1}, w_{2}, ... w_{n}\\}) \\propto P(spam) \\prod_{i=1}^{n}P(w_{i}|spam)$$\n",
    "\n",
    "$$P(ham|\\{w_{1}, w_{2}, ... w_{n}\\}) \\propto P(ham) \\prod_{i=1}^{n}P(w_{i}|ham)$$\n",
    "\n",
    "$P(spam)$ and $P(ham)$ are simply the fraction of spam and ham messages in the dataset.<br/> \n",
    "We're going to calculate the probabilities for the i-th word as:\n",
    "\n",
    "$$P(w_{i}|spam) = \\frac{N_{w_{i}|spam} + \\alpha}{N_{spam} + \\alpha N_{voc}}$$\n",
    "\n",
    "$$P(w_{i}|ham) = \\frac{N_{w_{i}|ham} + \\alpha}{N_{ham} + \\alpha N_{voc}}$$\n",
    "\n",
    "where:\n",
    "- $N_{w_{i}|spam}$ is the number of times the word $w_{i}$ appears in the spam messages, counting each istance separately;\n",
    "- $N_{spam}$ is the number of words in all spam messages, again counting repeated words as separate contributions;\n",
    "- $N_{voc}$ is the number of unique words which appear in spam and ham words, a set which we'll call the  **vocabulary**;\n",
    "- $\\alpha$ is a parameter used for additive smoothing (i.e. avoiding that a probability for a word be zero if it doesn't appear in the vocabulary).\n",
    "\n",
    "The remaining terms have similar meaning.\n",
    "\n",
    "\n",
    "Two important observations to end our theoretical introduction:\n",
    "- the conditional independence assumption is a very strong one and it's not always guaranteed that it holds. Nonetheless, the nB classifier often gives good results even when this assumption formally fails;\n",
    "- the proportionality symbol $\\propto$ means that the formulas don't give the actual probability, but a quantity proportional to it. This is fine, because we're interested in **comparing** probabilities, not calculating their actual values."
   ]
  },
  {
   "cell_type": "markdown",
   "metadata": {},
   "source": [
    "## Summary of results\n",
    "\n",
    "- The accuracy of the model on the test set is **98.7%**, much higher than our 80% initial goal.\n",
    "- Making the model more complicated by including sensitivity to letter case is of no help.\n",
    "- We found that spammers indeed use techniques to try and deceive the spam filters, and that probably explains the 14 misclassified sms (out of 1114). "
   ]
  },
  {
   "cell_type": "markdown",
   "metadata": {},
   "source": [
    "### Modules we need"
   ]
  },
  {
   "cell_type": "code",
   "execution_count": 1,
   "metadata": {},
   "outputs": [],
   "source": [
    "import matplotlib.pyplot as plt\n",
    "import numpy as np\n",
    "import os\n",
    "import pandas as pd\n",
    "import re"
   ]
  },
  {
   "cell_type": "markdown",
   "metadata": {},
   "source": [
    "## Getting to know the dataset\n",
    "\n",
    "Let's load the dataset into a Pandas dataframe called `data`:"
   ]
  },
  {
   "cell_type": "code",
   "execution_count": 2,
   "metadata": {},
   "outputs": [],
   "source": [
    "# o.s. independent path to the dataset\n",
    "path_to_dataset = os.path.join(os.curdir, 'datasets', 'sms_spam_collection', 'dataset') \n",
    "\n",
    "data = pd.read_csv(path_to_dataset, \n",
    "                   sep='\\t',\n",
    "                   header=None,\n",
    "                   names=['Label', 'SMS'])"
   ]
  },
  {
   "cell_type": "code",
   "execution_count": 3,
   "metadata": {},
   "outputs": [
    {
     "data": {
      "text/html": [
       "<div>\n",
       "<style scoped>\n",
       "    .dataframe tbody tr th:only-of-type {\n",
       "        vertical-align: middle;\n",
       "    }\n",
       "\n",
       "    .dataframe tbody tr th {\n",
       "        vertical-align: top;\n",
       "    }\n",
       "\n",
       "    .dataframe thead th {\n",
       "        text-align: right;\n",
       "    }\n",
       "</style>\n",
       "<table border=\"1\" class=\"dataframe\">\n",
       "  <thead>\n",
       "    <tr style=\"text-align: right;\">\n",
       "      <th></th>\n",
       "      <th>Label</th>\n",
       "      <th>SMS</th>\n",
       "    </tr>\n",
       "  </thead>\n",
       "  <tbody>\n",
       "    <tr>\n",
       "      <th>0</th>\n",
       "      <td>ham</td>\n",
       "      <td>Go until jurong point, crazy.. Available only ...</td>\n",
       "    </tr>\n",
       "    <tr>\n",
       "      <th>1</th>\n",
       "      <td>ham</td>\n",
       "      <td>Ok lar... Joking wif u oni...</td>\n",
       "    </tr>\n",
       "    <tr>\n",
       "      <th>2</th>\n",
       "      <td>spam</td>\n",
       "      <td>Free entry in 2 a wkly comp to win FA Cup fina...</td>\n",
       "    </tr>\n",
       "    <tr>\n",
       "      <th>3</th>\n",
       "      <td>ham</td>\n",
       "      <td>U dun say so early hor... U c already then say...</td>\n",
       "    </tr>\n",
       "    <tr>\n",
       "      <th>4</th>\n",
       "      <td>ham</td>\n",
       "      <td>Nah I don't think he goes to usf, he lives aro...</td>\n",
       "    </tr>\n",
       "  </tbody>\n",
       "</table>\n",
       "</div>"
      ],
      "text/plain": [
       "  Label                                                SMS\n",
       "0   ham  Go until jurong point, crazy.. Available only ...\n",
       "1   ham                      Ok lar... Joking wif u oni...\n",
       "2  spam  Free entry in 2 a wkly comp to win FA Cup fina...\n",
       "3   ham  U dun say so early hor... U c already then say...\n",
       "4   ham  Nah I don't think he goes to usf, he lives aro..."
      ]
     },
     "execution_count": 3,
     "metadata": {},
     "output_type": "execute_result"
    }
   ],
   "source": [
    "data.head(5)"
   ]
  },
  {
   "cell_type": "markdown",
   "metadata": {},
   "source": [
    "We see that the dataset is very simple: each row corresponds to a sms with its **label** (either spam or ham)."
   ]
  },
  {
   "cell_type": "code",
   "execution_count": 4,
   "metadata": {},
   "outputs": [
    {
     "name": "stdout",
     "output_type": "stream",
     "text": [
      "<class 'pandas.core.frame.DataFrame'>\n",
      "RangeIndex: 5572 entries, 0 to 5571\n",
      "Data columns (total 2 columns):\n",
      " #   Column  Non-Null Count  Dtype \n",
      "---  ------  --------------  ----- \n",
      " 0   Label   5572 non-null   object\n",
      " 1   SMS     5572 non-null   object\n",
      "dtypes: object(2)\n",
      "memory usage: 87.2+ KB\n",
      "\n",
      "\n",
      "The dataset contains 5572 sms and no null values.\n"
     ]
    }
   ],
   "source": [
    "data.info()\n",
    "print('\\n')\n",
    "print(f'The dataset contains {data.shape[0]} sms and no null values.')"
   ]
  },
  {
   "cell_type": "markdown",
   "metadata": {},
   "source": [
    "In the next cell we plot the relative frequency of spam and ham messages in the dataset.<br/> \n",
    "We see that most of the sms are legitimate messages."
   ]
  },
  {
   "cell_type": "code",
   "execution_count": 5,
   "metadata": {},
   "outputs": [
    {
     "data": {
      "image/png": "[encoded data removed]",
      "text/plain": [
       "<Figure size 720x432 with 1 Axes>"
      ]
     },
     "metadata": {
      "needs_background": "light"
     },
     "output_type": "display_data"
    }
   ],
   "source": [
    "fig, ax = plt.subplots(figsize=(10,6))\n",
    "\n",
    "# data for the plot\n",
    "label_counts = data['Label'].value_counts(normalize=True) * 100\n",
    "# drawing the barplot\n",
    "label_counts.plot.barh(ax=ax, color=['g', 'r'], alpha=0.6)\n",
    "\n",
    "# customize the plot\n",
    "ax.invert_yaxis()\n",
    "ax.set_title('spam and ham in the dataset', fontsize=20, weight='bold')\n",
    "ax.text(14, 1, str(round(label_counts['spam'], 1)) + '%', fontsize=17)\n",
    "ax.text(88, 0, str(round(label_counts['ham'], 1)) + '%', fontsize=17)\n",
    "ax.set_xlim(0,100)\n",
    "ax.tick_params(axis='x', bottom=False, labelbottom=False)\n",
    "\n",
    "plt.show()"
   ]
  },
  {
   "cell_type": "markdown",
   "metadata": {},
   "source": [
    "## Training and test datasets"
   ]
  },
  {
   "cell_type": "markdown",
   "metadata": {},
   "source": [
    "We're going to split the data in a **training** set on which the parameters of the model will be calculated and a **test** set on which we'll measure how well the model behaves on data it has never seen.<br/>\n",
    "The proportions will be 80% for the training set and 20% for the test set, i.e.:"
   ]
  },
  {
   "cell_type": "code",
   "execution_count": 6,
   "metadata": {},
   "outputs": [
    {
     "name": "stdout",
     "output_type": "stream",
     "text": [
      "Training: 4458 messages\n",
      "Test:\t  1114 messages\n"
     ]
    }
   ],
   "source": [
    "print('Training:', round(data.shape[0] * 0.8), 'messages')\n",
    "print('Test:\\t ', round(data.shape[0] * 0.2), 'messages')"
   ]
  },
  {
   "cell_type": "code",
   "execution_count": 7,
   "metadata": {},
   "outputs": [],
   "source": [
    "# shuffle the dataset to guarantee spam and ham are spread uniformly\n",
    "shuffled = data.sample(frac=1, random_state=1)\n",
    "\n",
    "# create the training and test sets\n",
    "train = shuffled.iloc[:4458].reset_index(drop=True).copy()\n",
    "test = shuffled.iloc[4458:].reset_index(drop=True)"
   ]
  },
  {
   "cell_type": "markdown",
   "metadata": {},
   "source": [
    "Let's verify that spam and ham have the same proportions of the original dataset both in `train` and `test` dataframes."
   ]
  },
  {
   "cell_type": "code",
   "execution_count": 8,
   "metadata": {},
   "outputs": [
    {
     "data": {
      "text/plain": [
       "ham     86.54105\n",
       "spam    13.45895\n",
       "Name: Label, dtype: float64"
      ]
     },
     "execution_count": 8,
     "metadata": {},
     "output_type": "execute_result"
    }
   ],
   "source": [
    "train['Label'].value_counts(normalize=True) * 100"
   ]
  },
  {
   "cell_type": "code",
   "execution_count": 9,
   "metadata": {},
   "outputs": [
    {
     "data": {
      "text/plain": [
       "ham     86.804309\n",
       "spam    13.195691\n",
       "Name: Label, dtype: float64"
      ]
     },
     "execution_count": 9,
     "metadata": {},
     "output_type": "execute_result"
    }
   ],
   "source": [
    "test['Label'].value_counts(normalize=True) * 100"
   ]
  },
  {
   "cell_type": "markdown",
   "metadata": {},
   "source": [
    "Yep, pretty much! We can start the data cleaning/wrangling phase."
   ]
  },
  {
   "cell_type": "markdown",
   "metadata": {},
   "source": [
    "## Data cleaning and preprocessing"
   ]
  },
  {
   "cell_type": "markdown",
   "metadata": {},
   "source": [
    "Before we can actually calculate the parameters of the model, we must clean and wrangle the data a bit so that their format is appropriate. These are the first three messages in the training set:"
   ]
  },
  {
   "cell_type": "code",
   "execution_count": 10,
   "metadata": {},
   "outputs": [
    {
     "data": {
      "text/html": [
       "<div>\n",
       "<style scoped>\n",
       "    .dataframe tbody tr th:only-of-type {\n",
       "        vertical-align: middle;\n",
       "    }\n",
       "\n",
       "    .dataframe tbody tr th {\n",
       "        vertical-align: top;\n",
       "    }\n",
       "\n",
       "    .dataframe thead th {\n",
       "        text-align: right;\n",
       "    }\n",
       "</style>\n",
       "<table border=\"1\" class=\"dataframe\">\n",
       "  <thead>\n",
       "    <tr style=\"text-align: right;\">\n",
       "      <th></th>\n",
       "      <th>Label</th>\n",
       "      <th>SMS</th>\n",
       "    </tr>\n",
       "  </thead>\n",
       "  <tbody>\n",
       "    <tr>\n",
       "      <th>0</th>\n",
       "      <td>ham</td>\n",
       "      <td>Yep, by the pretty sculpture</td>\n",
       "    </tr>\n",
       "    <tr>\n",
       "      <th>1</th>\n",
       "      <td>ham</td>\n",
       "      <td>Yes, princess. Are you going to make me moan?</td>\n",
       "    </tr>\n",
       "    <tr>\n",
       "      <th>2</th>\n",
       "      <td>ham</td>\n",
       "      <td>Welp apparently he retired</td>\n",
       "    </tr>\n",
       "  </tbody>\n",
       "</table>\n",
       "</div>"
      ],
      "text/plain": [
       "  Label                                            SMS\n",
       "0   ham                   Yep, by the pretty sculpture\n",
       "1   ham  Yes, princess. Are you going to make me moan?\n",
       "2   ham                     Welp apparently he retired"
      ]
     },
     "execution_count": 10,
     "metadata": {},
     "output_type": "execute_result"
    }
   ],
   "source": [
    "train.head(3)"
   ]
  },
  {
   "cell_type": "markdown",
   "metadata": {},
   "source": [
    "In the next cell, we will define a function for removing the punctuation from a message. The function will also have a parameter `case_sensitive` through which we can control if the words in the message are lower-cased or not.<br/>\n",
    "Then we will split each sms into a list of its words.<br/>\n",
    "Finally, we will obtain the **vocabulary**, i.e. the list of all the unique words which appear in the train set."
   ]
  },
  {
   "cell_type": "code",
   "execution_count": 11,
   "metadata": {},
   "outputs": [],
   "source": [
    "def clean_sms_text(sms, case_sensitive=False):\n",
    "    '''Take one sms string and return the same string with\n",
    "       punctuation removed and (if case_sensitive==False) lowercased letters'''\n",
    "        \n",
    "    if not case_sensitive:        \n",
    "        return re.sub(r'\\W', ' ', sms).lower()\n",
    "    else:\n",
    "        return re.sub(r'\\W', ' ', sms)\n",
    "\n",
    "# apply the function to the SMS column    \n",
    "train['SMS'] = train['SMS'].apply(clean_sms_text)\n",
    "# obtain the list of words\n",
    "train['SMS'] = train['SMS'].str.split()\n",
    "\n",
    "# building the vocabulary\n",
    "vocabulary = []\n",
    "for words_list in train['SMS']:\n",
    "    for word in words_list:\n",
    "        vocabulary.append(word)\n",
    "\n",
    "vocabulary = list(set(vocabulary))    "
   ]
  },
  {
   "cell_type": "code",
   "execution_count": 12,
   "metadata": {},
   "outputs": [
    {
     "name": "stdout",
     "output_type": "stream",
     "text": [
      "The vocabulary has 7783 words.\n"
     ]
    }
   ],
   "source": [
    "print(f'The vocabulary has {len(vocabulary)} words.')"
   ]
  },
  {
   "cell_type": "markdown",
   "metadata": {},
   "source": [
    "The last step in the cleaning phase will be to count how many times each word in the dictionary appears in each message. In other terms, we want to obtain something like:"
   ]
  },
  {
   "cell_type": "markdown",
   "metadata": {},
   "source": [
    "<img src=\"imgs/final_df_naive_bayes.png\" width=500 height=350 />\n",
    "<!-- <p style=\"text-align: center;\">Pitcairn islanders in 1916</p> -->"
   ]
  },
  {
   "cell_type": "code",
   "execution_count": 13,
   "metadata": {},
   "outputs": [],
   "source": [
    "# initialize the dictionary\n",
    "word_counts_per_sms = {word: [0] * len(train['SMS']) for word in vocabulary}\n",
    "\n",
    "# count the occurrence of each word for each sms\n",
    "for i, sms in enumerate(train['SMS']):\n",
    "    for word in sms:\n",
    "        word_counts_per_sms[word][i] += 1\n",
    "        \n",
    "# transform into a dataframe and concatenate with the training set\n",
    "counts_df = pd.DataFrame(word_counts_per_sms)\n",
    "train = pd.concat([train, counts_df], axis=1)"
   ]
  },
  {
   "cell_type": "markdown",
   "metadata": {},
   "source": [
    "Let's take a look at what we got:"
   ]
  },
  {
   "cell_type": "code",
   "execution_count": 14,
   "metadata": {},
   "outputs": [
    {
     "data": {
      "text/html": [
       "<div>\n",
       "<style scoped>\n",
       "    .dataframe tbody tr th:only-of-type {\n",
       "        vertical-align: middle;\n",
       "    }\n",
       "\n",
       "    .dataframe tbody tr th {\n",
       "        vertical-align: top;\n",
       "    }\n",
       "\n",
       "    .dataframe thead th {\n",
       "        text-align: right;\n",
       "    }\n",
       "</style>\n",
       "<table border=\"1\" class=\"dataframe\">\n",
       "  <thead>\n",
       "    <tr style=\"text-align: right;\">\n",
       "      <th></th>\n",
       "      <th>Label</th>\n",
       "      <th>SMS</th>\n",
       "      <th>mustprovide</th>\n",
       "      <th>82050</th>\n",
       "      <th>fulfil</th>\n",
       "      <th>8p</th>\n",
       "      <th>slots</th>\n",
       "      <th>08718727868</th>\n",
       "      <th>formatting</th>\n",
       "      <th>quarter</th>\n",
       "      <th>...</th>\n",
       "      <th>yours</th>\n",
       "      <th>urgnt</th>\n",
       "      <th>langport</th>\n",
       "      <th>blankets</th>\n",
       "      <th>poortiyagi</th>\n",
       "      <th>worry</th>\n",
       "      <th>jus</th>\n",
       "      <th>freely</th>\n",
       "      <th>123</th>\n",
       "      <th>meaningful</th>\n",
       "    </tr>\n",
       "  </thead>\n",
       "  <tbody>\n",
       "    <tr>\n",
       "      <th>0</th>\n",
       "      <td>ham</td>\n",
       "      <td>[yep, by, the, pretty, sculpture]</td>\n",
       "      <td>0</td>\n",
       "      <td>0</td>\n",
       "      <td>0</td>\n",
       "      <td>0</td>\n",
       "      <td>0</td>\n",
       "      <td>0</td>\n",
       "      <td>0</td>\n",
       "      <td>0</td>\n",
       "      <td>...</td>\n",
       "      <td>0</td>\n",
       "      <td>0</td>\n",
       "      <td>0</td>\n",
       "      <td>0</td>\n",
       "      <td>0</td>\n",
       "      <td>0</td>\n",
       "      <td>0</td>\n",
       "      <td>0</td>\n",
       "      <td>0</td>\n",
       "      <td>0</td>\n",
       "    </tr>\n",
       "    <tr>\n",
       "      <th>1</th>\n",
       "      <td>ham</td>\n",
       "      <td>[yes, princess, are, you, going, to, make, me,...</td>\n",
       "      <td>0</td>\n",
       "      <td>0</td>\n",
       "      <td>0</td>\n",
       "      <td>0</td>\n",
       "      <td>0</td>\n",
       "      <td>0</td>\n",
       "      <td>0</td>\n",
       "      <td>0</td>\n",
       "      <td>...</td>\n",
       "      <td>0</td>\n",
       "      <td>0</td>\n",
       "      <td>0</td>\n",
       "      <td>0</td>\n",
       "      <td>0</td>\n",
       "      <td>0</td>\n",
       "      <td>0</td>\n",
       "      <td>0</td>\n",
       "      <td>0</td>\n",
       "      <td>0</td>\n",
       "    </tr>\n",
       "    <tr>\n",
       "      <th>2</th>\n",
       "      <td>ham</td>\n",
       "      <td>[welp, apparently, he, retired]</td>\n",
       "      <td>0</td>\n",
       "      <td>0</td>\n",
       "      <td>0</td>\n",
       "      <td>0</td>\n",
       "      <td>0</td>\n",
       "      <td>0</td>\n",
       "      <td>0</td>\n",
       "      <td>0</td>\n",
       "      <td>...</td>\n",
       "      <td>0</td>\n",
       "      <td>0</td>\n",
       "      <td>0</td>\n",
       "      <td>0</td>\n",
       "      <td>0</td>\n",
       "      <td>0</td>\n",
       "      <td>0</td>\n",
       "      <td>0</td>\n",
       "      <td>0</td>\n",
       "      <td>0</td>\n",
       "    </tr>\n",
       "  </tbody>\n",
       "</table>\n",
       "<p>3 rows × 7785 columns</p>\n",
       "</div>"
      ],
      "text/plain": [
       "  Label                                                SMS  mustprovide  \\\n",
       "0   ham                  [yep, by, the, pretty, sculpture]            0   \n",
       "1   ham  [yes, princess, are, you, going, to, make, me,...            0   \n",
       "2   ham                    [welp, apparently, he, retired]            0   \n",
       "\n",
       "   82050  fulfil  8p  slots  08718727868  formatting  quarter  ...  yours  \\\n",
       "0      0       0   0      0            0           0        0  ...      0   \n",
       "1      0       0   0      0            0           0        0  ...      0   \n",
       "2      0       0   0      0            0           0        0  ...      0   \n",
       "\n",
       "   urgnt  langport  blankets  poortiyagi  worry  jus  freely  123  meaningful  \n",
       "0      0         0         0           0      0    0       0    0           0  \n",
       "1      0         0         0           0      0    0       0    0           0  \n",
       "2      0         0         0           0      0    0       0    0           0  \n",
       "\n",
       "[3 rows x 7785 columns]"
      ]
     },
     "execution_count": 14,
     "metadata": {},
     "output_type": "execute_result"
    }
   ],
   "source": [
    "train.head(3)"
   ]
  },
  {
   "cell_type": "markdown",
   "metadata": {},
   "source": [
    "## Calculate the model parameters"
   ]
  },
  {
   "cell_type": "markdown",
   "metadata": {},
   "source": [
    "We are finally ready to calculate the model parameters. We'll start from the costants (refer to the initial paragraph `What is a Naive Bayes classifier?` for reviewing their meaning).\n",
    "\n",
    "They are: $P(spam)$, $P(ham)$, $N_{spam}$, $N_{ham}$, $N_{voc}$. The parameter $\\alpha$ will be set to 1."
   ]
  },
  {
   "cell_type": "code",
   "execution_count": 15,
   "metadata": {},
   "outputs": [],
   "source": [
    "def model_constant_parameters(train_dataset):\n",
    "    '''Return a tuple with all the constant parameters of the nB model'''\n",
    "    \n",
    "    # P(Spam) and P(Ham)\n",
    "    p_spam = train_dataset['Label'].value_counts(normalize=True)['spam']\n",
    "    p_ham = train_dataset['Label'].value_counts(normalize=True)['ham']\n",
    "\n",
    "    # number of words in spam, ham messages and unique words\n",
    "    n_spam = train_dataset[train_dataset['Label'] == 'spam']['SMS'].apply(len).sum()\n",
    "    n_ham = train_dataset[train_dataset['Label'] == 'ham']['SMS'].apply(len).sum()\n",
    "    n_vocabulary = len(vocabulary)\n",
    "\n",
    "    # Laplace smoothing\n",
    "    alpha = 1\n",
    "    \n",
    "    return (p_spam, p_ham, n_spam, n_ham, n_vocabulary, alpha)"
   ]
  },
  {
   "cell_type": "code",
   "execution_count": 16,
   "metadata": {},
   "outputs": [],
   "source": [
    "p_spam, p_ham, n_spam, n_ham, n_vocabulary, alpha = model_constant_parameters(train)"
   ]
  },
  {
   "cell_type": "markdown",
   "metadata": {},
   "source": [
    "The last step is to calculate the probability $P(w_{i})$ for each word, both in ham and spam messages."
   ]
  },
  {
   "cell_type": "code",
   "execution_count": 17,
   "metadata": {},
   "outputs": [],
   "source": [
    "def model_variable_parameters(train_dataset):\n",
    "    '''Return two dictionaries with the probabilities of each word\n",
    "       being spam or ham'''\n",
    "    \n",
    "    # initialize the two dictionaries\n",
    "    prob_given_spam = {word: 0 for word in vocabulary}\n",
    "    prob_given_ham = {word:0 for word in vocabulary}\n",
    "\n",
    "    # spam messages probabilities\n",
    "    train_dataset_spam = train_dataset[train_dataset['Label'] == 'spam'].iloc[:, 2:]\n",
    "    for word in train_dataset_spam.columns:\n",
    "        prob_given_spam[word] = (train_dataset_spam[word].sum() + alpha) / (n_spam + alpha * n_vocabulary)\n",
    "\n",
    "    # ham messages probabilities\n",
    "    train_dataset_ham = train_dataset[train_dataset['Label'] == 'ham'].iloc[:, 2:]\n",
    "    for word in train_dataset_ham.columns:\n",
    "        prob_given_ham[word] = (train_dataset_ham[word].sum() + alpha) / (n_ham + alpha * n_vocabulary) \n",
    "        \n",
    "    return (prob_given_spam, prob_given_ham)    "
   ]
  },
  {
   "cell_type": "code",
   "execution_count": 18,
   "metadata": {},
   "outputs": [],
   "source": [
    "prob_given_spam, prob_given_ham = model_variable_parameters(train)"
   ]
  },
  {
   "cell_type": "markdown",
   "metadata": {},
   "source": [
    "## Classifying new messages"
   ]
  },
  {
   "cell_type": "markdown",
   "metadata": {},
   "source": [
    "Now that all the parameters have been calculated, we are ready to apply the model to new messages.<br/>\n",
    "The function defined in the next cell will clean the message before classifying it."
   ]
  },
  {
   "cell_type": "code",
   "execution_count": 19,
   "metadata": {},
   "outputs": [],
   "source": [
    "def classify(message: str, case_sensitive=False) -> str:\n",
    "    '''Take a new message, perform some cleaning and calculate the \n",
    "       probabilities it's spam or ham.\n",
    "       Return \"spam\", \"ham\" or \"uncertain\" as classification.'''\n",
    "    \n",
    "    if not case_sensitive:\n",
    "        cleaned_msg = re.sub(r'\\W', ' ', message).lower()\n",
    "    else:\n",
    "        cleaned_msg = re.sub(r'\\W', ' ', message)\n",
    "    msg_words = cleaned_msg.split()\n",
    "    \n",
    "    # calculate the probabilities with the model\n",
    "    p_spam_given_message = p_spam\n",
    "    p_ham_given_message = p_ham\n",
    "    for word in msg_words:\n",
    "        p_spam_given_message *= prob_given_spam.get(word, 1)\n",
    "        p_ham_given_message *= prob_given_ham.get(word, 1)\n",
    "        \n",
    "    # classification\n",
    "    if p_spam_given_message > p_ham_given_message:\n",
    "        return 'spam'\n",
    "    elif p_spam_given_message < p_ham_given_message:\n",
    "        return 'ham'\n",
    "    else:\n",
    "        return 'uncertain'"
   ]
  },
  {
   "cell_type": "markdown",
   "metadata": {},
   "source": [
    "We quickly try the function on two messages:"
   ]
  },
  {
   "cell_type": "code",
   "execution_count": 20,
   "metadata": {},
   "outputs": [
    {
     "data": {
      "text/plain": [
       "'spam'"
      ]
     },
     "execution_count": 20,
     "metadata": {},
     "output_type": "execute_result"
    }
   ],
   "source": [
    "classify('WINNER!! This is the secret code to unlock the money: C3421.')"
   ]
  },
  {
   "cell_type": "code",
   "execution_count": 21,
   "metadata": {},
   "outputs": [
    {
     "data": {
      "text/plain": [
       "'ham'"
      ]
     },
     "execution_count": 21,
     "metadata": {},
     "output_type": "execute_result"
    }
   ],
   "source": [
    "classify(\"Sounds good, Tom, then see u there\")"
   ]
  },
  {
   "cell_type": "markdown",
   "metadata": {},
   "source": [
    "## Measuring the accuracy on the test set"
   ]
  },
  {
   "cell_type": "markdown",
   "metadata": {},
   "source": [
    "Let's now verify that the model does a good job on messages it has never seen.<br/> \n",
    "For this, we will apply the classification algorithm to each message of the test set (1114 sms).<br/>\n",
    "\n",
    "The **accuracy** of the model is simply measured as:\n",
    "\n",
    "$$Accuracy = \\frac{no.\\:of\\:correctly\\:classified\\:messages}{no.\\:of\\:classified\\:messages}$$"
   ]
  },
  {
   "cell_type": "code",
   "execution_count": 22,
   "metadata": {},
   "outputs": [
    {
     "name": "stdout",
     "output_type": "stream",
     "text": [
      "The model has an accuracy of 98.7% over the test set.\n"
     ]
    }
   ],
   "source": [
    "test['predicted_label'] = test['SMS'].apply(classify)\n",
    "\n",
    "correct = (test['Label'] == test['predicted_label']).sum()            \n",
    "accuracy = correct / len(test)\n",
    "\n",
    "print(f'The model has an accuracy of {(accuracy * 100):.1f}% over the test set.')"
   ]
  },
  {
   "cell_type": "markdown",
   "metadata": {},
   "source": [
    "We reached a higher accuracy than our initial goal (80%): \n",
    "1100 messages were correctly classified out of 1114.\n",
    "\n",
    "Our spam filter definitely works."
   ]
  },
  {
   "cell_type": "markdown",
   "metadata": {},
   "source": [
    "### Uncorrectly classified messages: why?"
   ]
  },
  {
   "cell_type": "markdown",
   "metadata": {},
   "source": [
    "We're curious to try and have an intuition for the reasons of misclassification. Let's take a look at those messages."
   ]
  },
  {
   "cell_type": "code",
   "execution_count": 23,
   "metadata": {},
   "outputs": [],
   "source": [
    "# misclassified sms\n",
    "uncorrect_sms = test[test['Label'] != test['predicted_label']]"
   ]
  },
  {
   "cell_type": "code",
   "execution_count": 24,
   "metadata": {},
   "outputs": [
    {
     "name": "stdout",
     "output_type": "stream",
     "text": [
      "Not heard from U4 a while. Call me now am here all night with just my knickers on. Make me beg for it like U did last time 01223585236 XX Luv Nikiyu4.net\n",
      "--------------------\n",
      "More people are dogging in your area now. Call 09090204448 and join like minded guys. Why not arrange 1 yourself. There's 1 this evening. A£1.50 minAPN LS278BB\n",
      "--------------------\n",
      "Oh my god! I've found your number again! I'm so glad, text me back xafter this msgs cst std ntwk chg £1.50\n",
      "--------------------\n",
      "Hi babe its Chloe, how r u? I was smashed on saturday night, it was great! How was your weekend? U been missing me? SP visionsms.com Text stop to stop 150p/text\n",
      "--------------------\n",
      "0A$NETWORKS allow companies to bill for SMS, so they are responsible for their \"suppliers\", just as a shop has to give a guarantee on what they sell. B. G.\n",
      "--------------------\n",
      "RCT' THNQ Adrian for U text. Rgds Vatian\n",
      "--------------------\n",
      "2/2 146tf150p\n",
      "--------------------\n",
      "Hello. We need some posh birds and chaps to user trial prods for champneys. Can i put you down? I need your address and dob asap. Ta r\n",
      "--------------------\n"
     ]
    }
   ],
   "source": [
    "# print the spam messages classified as ham\n",
    "for i, row in uncorrect_sms[uncorrect_sms['predicted_label'] == 'ham'].iterrows():\n",
    "    print(row['SMS'])\n",
    "    print('-' * 20)"
   ]
  },
  {
   "cell_type": "markdown",
   "metadata": {},
   "source": [
    "It seems that these messages passed through the filter because most of them are long and mostly composed of common words. Furthermore, sometimes abbreviations and deliberate typos (like \"xafter\" instead of \"after\") are used, so that those words are simply skipped in the calculation."
   ]
  },
  {
   "cell_type": "code",
   "execution_count": 25,
   "metadata": {},
   "outputs": [
    {
     "name": "stdout",
     "output_type": "stream",
     "text": [
      "Unlimited texts. Limited minutes.\n",
      "--------------------\n",
      "26th OF JULY\n",
      "--------------------\n",
      "Nokia phone is lovly..\n",
      "--------------------\n",
      "No calls..messages..missed calls\n",
      "--------------------\n",
      "We have sent JD for Customer Service cum Accounts Executive to ur mail id, For details contact us\n",
      "--------------------\n"
     ]
    }
   ],
   "source": [
    "# print the ham messages classified as spam\n",
    "for i, row in uncorrect_sms[uncorrect_sms['predicted_label'] == 'spam'].iterrows():\n",
    "    print(row['SMS'])\n",
    "    print('-' * 20)"
   ]
  },
  {
   "cell_type": "markdown",
   "metadata": {},
   "source": [
    "On the other hand, four of these messages are very short and thus just one or two words appearing in the spam class and not in the ham class are enough to jump to the wrong conclusion."
   ]
  },
  {
   "cell_type": "markdown",
   "metadata": {},
   "source": [
    "## What happens if the model becomes case-sensitive?"
   ]
  },
  {
   "cell_type": "markdown",
   "metadata": {},
   "source": [
    "In the next cell we will repeat all the previous steps on the training and test sets, but this time we will **not** convert all the letters to lower case, i.e. the model will be case-sensitive. We're curious to see if the accuracy changes."
   ]
  },
  {
   "cell_type": "code",
   "execution_count": 26,
   "metadata": {},
   "outputs": [],
   "source": [
    "# recreate the training and test sets\n",
    "shuffled = data.sample(frac=1, random_state=1)\n",
    "train = shuffled.iloc[:4458].reset_index(drop=True).copy()\n",
    "test = shuffled.iloc[4458:].reset_index(drop=True)\n",
    "\n",
    "# each sms gets splitted into a list of words\n",
    "train['SMS'] = train['SMS'].apply(clean_sms_text, case_sensitive=True)\n",
    "train['SMS'] = train['SMS'].str.split()\n",
    "\n",
    "# building the vocabulary\n",
    "vocabulary = []\n",
    "for words_list in train['SMS']:\n",
    "    for word in words_list:\n",
    "        vocabulary.append(word)\n",
    "\n",
    "vocabulary = list(set(vocabulary))"
   ]
  },
  {
   "cell_type": "code",
   "execution_count": 27,
   "metadata": {},
   "outputs": [],
   "source": [
    "# initialize the dictionary\n",
    "word_counts_per_sms = {word: [0] * len(train['SMS']) for word in vocabulary}\n",
    "\n",
    "# count the occurrence of each word for each sms\n",
    "for i, sms in enumerate(train['SMS']):\n",
    "    for word in sms:\n",
    "        word_counts_per_sms[word][i] += 1\n",
    "        \n",
    "# transform into a dataframe and concatenate with the training set\n",
    "counts_df = pd.DataFrame(word_counts_per_sms)\n",
    "train = pd.concat([train, counts_df], axis=1)"
   ]
  },
  {
   "cell_type": "code",
   "execution_count": 28,
   "metadata": {},
   "outputs": [
    {
     "name": "stdout",
     "output_type": "stream",
     "text": [
      "The model has an accuracy of 97.7% over the test set.\n"
     ]
    }
   ],
   "source": [
    "# calculate the model parameters\n",
    "p_spam, p_ham, n_spam, n_ham, n_vocabulary, alpha = model_constant_parameters(train)\n",
    "prob_given_spam, prob_given_ham = model_variable_parameters(train)\n",
    "\n",
    "# classify the test-set sms \n",
    "test['predicted_label'] = test['SMS'].apply(classify, case_sensitive=True)\n",
    "\n",
    "# measure the accuracy\n",
    "correct = (test['Label'] == test['predicted_label']).sum()            \n",
    "accuracy = correct / len(test)\n",
    "print(f'The model has an accuracy of {(accuracy * 100):.1f}% over the test set.')"
   ]
  },
  {
   "cell_type": "markdown",
   "metadata": {},
   "source": [
    "We see that making the model case-sensitive slightly worsens its performance."
   ]
  },
  {
   "cell_type": "markdown",
   "metadata": {},
   "source": [
    "## Conclusions\n",
    "\n",
    "In this project, we built a naive Bayes spam filter for sms and managed to correctly classify 98.7% of the sms in the test-set.<br/>\n",
    "We tried to explain in a qualitative way the reason for misclassification, which is probably unavoidable with our basic approach.<br/>\n",
    "Finally, we found that making the model case-senitive didn't improve its performance."
   ]
  }
 ],
 "metadata": {
  "kernelspec": {
   "display_name": "Python 3",
   "language": "python",
   "name": "python3"
  },
  "language_info": {
   "codemirror_mode": {
    "name": "ipython",
    "version": 3
   },
   "file_extension": ".py",
   "mimetype": "text/x-python",
   "name": "python",
   "nbconvert_exporter": "python",
   "pygments_lexer": "ipython3",
   "version": "3.8.8"
  }
 },
 "nbformat": 4,
 "nbformat_minor": 4
}
