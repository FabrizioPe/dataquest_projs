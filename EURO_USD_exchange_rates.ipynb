{
 "cells": [
  {
   "cell_type": "markdown",
   "metadata": {},
   "source": [
    "# Euro-USD exchange rates under Bush, Obama and Trump\n",
    "\n",
    "`Category: Storytelling Data Visualization`\n",
    "\n",
    "In this mini-project, we're going to look at the Euro/US dollar exchange rate trends during the presidencies of George W. Bush (2001-2009), Barack Obama (2009-2017) and Donald Trump (2017-2021).<br /> \n",
    "The Euro/USD exchange rate is the price of the US dollar in Euro, i.e. how many US dollars will be exchanged with one Euro.\n",
    "\n",
    "The dataset is a collection of daily Euro exchange rates for several currencies, from January 1999 to March 2021. The source is the European Central Bank, while the dataset can be downloaded from Kaggle, [here](https://www.kaggle.com/lsind18/euro-exchange-daily-rates-19992020).\n",
    "\n",
    "The project's goal is to practice with data visualization techniques. We aim at drawing a chart which conveys some information about exchange rates in a clear and precise way, avoiding distracting elements. We'll use matplotlib as our visualization library. "
   ]
  },
  {
   "cell_type": "code",
   "execution_count": 1,
   "metadata": {},
   "outputs": [],
   "source": [
    "import pandas as pd\n",
    "\n",
    "# reading the dataset into a dataframe\n",
    "exchange_rates = pd.read_csv('datasets/euro-daily-hist_1999_2020.csv')"
   ]
  },
  {
   "cell_type": "markdown",
   "metadata": {},
   "source": [
    "## Dataset preview"
   ]
  },
  {
   "cell_type": "code",
   "execution_count": 2,
   "metadata": {},
   "outputs": [
    {
     "data": {
      "text/html": [
       "<div>\n",
       "<style scoped>\n",
       "    .dataframe tbody tr th:only-of-type {\n",
       "        vertical-align: middle;\n",
       "    }\n",
       "\n",
       "    .dataframe tbody tr th {\n",
       "        vertical-align: top;\n",
       "    }\n",
       "\n",
       "    .dataframe thead th {\n",
       "        text-align: right;\n",
       "    }\n",
       "</style>\n",
       "<table border=\"1\" class=\"dataframe\">\n",
       "  <thead>\n",
       "    <tr style=\"text-align: right;\">\n",
       "      <th></th>\n",
       "      <th>Period\\Unit:</th>\n",
       "      <th>[Australian dollar ]</th>\n",
       "      <th>[Bulgarian lev ]</th>\n",
       "      <th>[Brazilian real ]</th>\n",
       "      <th>[Canadian dollar ]</th>\n",
       "      <th>[Swiss franc ]</th>\n",
       "      <th>[Chinese yuan renminbi ]</th>\n",
       "      <th>[Cypriot pound ]</th>\n",
       "      <th>[Czech koruna ]</th>\n",
       "      <th>[Danish krone ]</th>\n",
       "      <th>...</th>\n",
       "      <th>[Romanian leu ]</th>\n",
       "      <th>[Russian rouble ]</th>\n",
       "      <th>[Swedish krona ]</th>\n",
       "      <th>[Singapore dollar ]</th>\n",
       "      <th>[Slovenian tolar ]</th>\n",
       "      <th>[Slovak koruna ]</th>\n",
       "      <th>[Thai baht ]</th>\n",
       "      <th>[Turkish lira ]</th>\n",
       "      <th>[US dollar ]</th>\n",
       "      <th>[South African rand ]</th>\n",
       "    </tr>\n",
       "  </thead>\n",
       "  <tbody>\n",
       "    <tr>\n",
       "      <th>0</th>\n",
       "      <td>2021-03-26</td>\n",
       "      <td>1.5459</td>\n",
       "      <td>1.9558</td>\n",
       "      <td>6.7110</td>\n",
       "      <td>1.4814</td>\n",
       "      <td>1.1090</td>\n",
       "      <td>7.7063</td>\n",
       "      <td>NaN</td>\n",
       "      <td>26.081</td>\n",
       "      <td>7.4361</td>\n",
       "      <td>...</td>\n",
       "      <td>4.8878</td>\n",
       "      <td>89.5075</td>\n",
       "      <td>10.1905</td>\n",
       "      <td>1.5865</td>\n",
       "      <td>NaN</td>\n",
       "      <td>NaN</td>\n",
       "      <td>36.6540</td>\n",
       "      <td>9.4523</td>\n",
       "      <td>1.1782</td>\n",
       "      <td>17.6845</td>\n",
       "    </tr>\n",
       "    <tr>\n",
       "      <th>1</th>\n",
       "      <td>2021-03-25</td>\n",
       "      <td>1.5548</td>\n",
       "      <td>1.9558</td>\n",
       "      <td>6.6960</td>\n",
       "      <td>1.4849</td>\n",
       "      <td>1.1045</td>\n",
       "      <td>7.7220</td>\n",
       "      <td>NaN</td>\n",
       "      <td>26.233</td>\n",
       "      <td>7.4360</td>\n",
       "      <td>...</td>\n",
       "      <td>4.8865</td>\n",
       "      <td>90.0115</td>\n",
       "      <td>10.1935</td>\n",
       "      <td>1.5899</td>\n",
       "      <td>NaN</td>\n",
       "      <td>NaN</td>\n",
       "      <td>36.7460</td>\n",
       "      <td>9.4313</td>\n",
       "      <td>1.1802</td>\n",
       "      <td>17.6852</td>\n",
       "    </tr>\n",
       "    <tr>\n",
       "      <th>2</th>\n",
       "      <td>2021-03-24</td>\n",
       "      <td>1.5532</td>\n",
       "      <td>1.9558</td>\n",
       "      <td>6.5258</td>\n",
       "      <td>1.4884</td>\n",
       "      <td>1.1068</td>\n",
       "      <td>7.7133</td>\n",
       "      <td>NaN</td>\n",
       "      <td>26.206</td>\n",
       "      <td>7.4360</td>\n",
       "      <td>...</td>\n",
       "      <td>4.8880</td>\n",
       "      <td>90.2013</td>\n",
       "      <td>10.1635</td>\n",
       "      <td>1.5917</td>\n",
       "      <td>NaN</td>\n",
       "      <td>NaN</td>\n",
       "      <td>36.6580</td>\n",
       "      <td>9.4009</td>\n",
       "      <td>1.1825</td>\n",
       "      <td>17.5248</td>\n",
       "    </tr>\n",
       "  </tbody>\n",
       "</table>\n",
       "<p>3 rows × 41 columns</p>\n",
       "</div>"
      ],
      "text/plain": [
       "  Period\\Unit: [Australian dollar ] [Bulgarian lev ] [Brazilian real ]  \\\n",
       "0   2021-03-26               1.5459           1.9558            6.7110   \n",
       "1   2021-03-25               1.5548           1.9558            6.6960   \n",
       "2   2021-03-24               1.5532           1.9558            6.5258   \n",
       "\n",
       "  [Canadian dollar ] [Swiss franc ] [Chinese yuan renminbi ] [Cypriot pound ]  \\\n",
       "0             1.4814         1.1090                   7.7063              NaN   \n",
       "1             1.4849         1.1045                   7.7220              NaN   \n",
       "2             1.4884         1.1068                   7.7133              NaN   \n",
       "\n",
       "  [Czech koruna ] [Danish krone ]  ... [Romanian leu ] [Russian rouble ]  \\\n",
       "0          26.081          7.4361  ...          4.8878           89.5075   \n",
       "1          26.233          7.4360  ...          4.8865           90.0115   \n",
       "2          26.206          7.4360  ...          4.8880           90.2013   \n",
       "\n",
       "  [Swedish krona ] [Singapore dollar ] [Slovenian tolar ] [Slovak koruna ]  \\\n",
       "0          10.1905              1.5865                NaN              NaN   \n",
       "1          10.1935              1.5899                NaN              NaN   \n",
       "2          10.1635              1.5917                NaN              NaN   \n",
       "\n",
       "  [Thai baht ] [Turkish lira ] [US dollar ]  [South African rand ]  \n",
       "0      36.6540          9.4523       1.1782                17.6845  \n",
       "1      36.7460          9.4313       1.1802                17.6852  \n",
       "2      36.6580          9.4009       1.1825                17.5248  \n",
       "\n",
       "[3 rows x 41 columns]"
      ]
     },
     "execution_count": 2,
     "metadata": {},
     "output_type": "execute_result"
    }
   ],
   "source": [
    "exchange_rates.head(3)"
   ]
  },
  {
   "cell_type": "code",
   "execution_count": 3,
   "metadata": {},
   "outputs": [
    {
     "data": {
      "text/html": [
       "<div>\n",
       "<style scoped>\n",
       "    .dataframe tbody tr th:only-of-type {\n",
       "        vertical-align: middle;\n",
       "    }\n",
       "\n",
       "    .dataframe tbody tr th {\n",
       "        vertical-align: top;\n",
       "    }\n",
       "\n",
       "    .dataframe thead th {\n",
       "        text-align: right;\n",
       "    }\n",
       "</style>\n",
       "<table border=\"1\" class=\"dataframe\">\n",
       "  <thead>\n",
       "    <tr style=\"text-align: right;\">\n",
       "      <th></th>\n",
       "      <th>Period\\Unit:</th>\n",
       "      <th>[Australian dollar ]</th>\n",
       "      <th>[Bulgarian lev ]</th>\n",
       "      <th>[Brazilian real ]</th>\n",
       "      <th>[Canadian dollar ]</th>\n",
       "      <th>[Swiss franc ]</th>\n",
       "      <th>[Chinese yuan renminbi ]</th>\n",
       "      <th>[Cypriot pound ]</th>\n",
       "      <th>[Czech koruna ]</th>\n",
       "      <th>[Danish krone ]</th>\n",
       "      <th>...</th>\n",
       "      <th>[Romanian leu ]</th>\n",
       "      <th>[Russian rouble ]</th>\n",
       "      <th>[Swedish krona ]</th>\n",
       "      <th>[Singapore dollar ]</th>\n",
       "      <th>[Slovenian tolar ]</th>\n",
       "      <th>[Slovak koruna ]</th>\n",
       "      <th>[Thai baht ]</th>\n",
       "      <th>[Turkish lira ]</th>\n",
       "      <th>[US dollar ]</th>\n",
       "      <th>[South African rand ]</th>\n",
       "    </tr>\n",
       "  </thead>\n",
       "  <tbody>\n",
       "    <tr>\n",
       "      <th>5751</th>\n",
       "      <td>1999-01-06</td>\n",
       "      <td>1.8820</td>\n",
       "      <td>NaN</td>\n",
       "      <td>NaN</td>\n",
       "      <td>1.7711</td>\n",
       "      <td>1.6116</td>\n",
       "      <td>NaN</td>\n",
       "      <td>0.58200</td>\n",
       "      <td>34.850</td>\n",
       "      <td>7.4452</td>\n",
       "      <td>...</td>\n",
       "      <td>1.3168</td>\n",
       "      <td>27.4315</td>\n",
       "      <td>9.3050</td>\n",
       "      <td>1.9699</td>\n",
       "      <td>188.7000</td>\n",
       "      <td>42.778</td>\n",
       "      <td>42.6949</td>\n",
       "      <td>0.3722</td>\n",
       "      <td>1.1743</td>\n",
       "      <td>6.7307</td>\n",
       "    </tr>\n",
       "    <tr>\n",
       "      <th>5752</th>\n",
       "      <td>1999-01-05</td>\n",
       "      <td>1.8944</td>\n",
       "      <td>NaN</td>\n",
       "      <td>NaN</td>\n",
       "      <td>1.7965</td>\n",
       "      <td>1.6123</td>\n",
       "      <td>NaN</td>\n",
       "      <td>0.58230</td>\n",
       "      <td>34.917</td>\n",
       "      <td>7.4495</td>\n",
       "      <td>...</td>\n",
       "      <td>1.3168</td>\n",
       "      <td>26.5876</td>\n",
       "      <td>9.4025</td>\n",
       "      <td>1.9655</td>\n",
       "      <td>188.7750</td>\n",
       "      <td>42.848</td>\n",
       "      <td>42.5048</td>\n",
       "      <td>0.3728</td>\n",
       "      <td>1.1790</td>\n",
       "      <td>6.7975</td>\n",
       "    </tr>\n",
       "    <tr>\n",
       "      <th>5753</th>\n",
       "      <td>1999-01-04</td>\n",
       "      <td>1.9100</td>\n",
       "      <td>NaN</td>\n",
       "      <td>NaN</td>\n",
       "      <td>1.8004</td>\n",
       "      <td>1.6168</td>\n",
       "      <td>NaN</td>\n",
       "      <td>0.58231</td>\n",
       "      <td>35.107</td>\n",
       "      <td>7.4501</td>\n",
       "      <td>...</td>\n",
       "      <td>1.3111</td>\n",
       "      <td>25.2875</td>\n",
       "      <td>9.4696</td>\n",
       "      <td>1.9554</td>\n",
       "      <td>189.0450</td>\n",
       "      <td>42.991</td>\n",
       "      <td>42.6799</td>\n",
       "      <td>0.3723</td>\n",
       "      <td>1.1789</td>\n",
       "      <td>6.9358</td>\n",
       "    </tr>\n",
       "  </tbody>\n",
       "</table>\n",
       "<p>3 rows × 41 columns</p>\n",
       "</div>"
      ],
      "text/plain": [
       "     Period\\Unit: [Australian dollar ] [Bulgarian lev ] [Brazilian real ]  \\\n",
       "5751   1999-01-06               1.8820              NaN               NaN   \n",
       "5752   1999-01-05               1.8944              NaN               NaN   \n",
       "5753   1999-01-04               1.9100              NaN               NaN   \n",
       "\n",
       "     [Canadian dollar ] [Swiss franc ] [Chinese yuan renminbi ]  \\\n",
       "5751             1.7711         1.6116                      NaN   \n",
       "5752             1.7965         1.6123                      NaN   \n",
       "5753             1.8004         1.6168                      NaN   \n",
       "\n",
       "     [Cypriot pound ] [Czech koruna ] [Danish krone ]  ... [Romanian leu ]  \\\n",
       "5751          0.58200          34.850          7.4452  ...          1.3168   \n",
       "5752          0.58230          34.917          7.4495  ...          1.3168   \n",
       "5753          0.58231          35.107          7.4501  ...          1.3111   \n",
       "\n",
       "     [Russian rouble ] [Swedish krona ] [Singapore dollar ]  \\\n",
       "5751           27.4315           9.3050              1.9699   \n",
       "5752           26.5876           9.4025              1.9655   \n",
       "5753           25.2875           9.4696              1.9554   \n",
       "\n",
       "     [Slovenian tolar ] [Slovak koruna ] [Thai baht ] [Turkish lira ]  \\\n",
       "5751           188.7000           42.778      42.6949          0.3722   \n",
       "5752           188.7750           42.848      42.5048          0.3728   \n",
       "5753           189.0450           42.991      42.6799          0.3723   \n",
       "\n",
       "     [US dollar ]  [South African rand ]  \n",
       "5751       1.1743                 6.7307  \n",
       "5752       1.1790                 6.7975  \n",
       "5753       1.1789                 6.9358  \n",
       "\n",
       "[3 rows x 41 columns]"
      ]
     },
     "execution_count": 3,
     "metadata": {},
     "output_type": "execute_result"
    }
   ],
   "source": [
    "exchange_rates.tail(3)"
   ]
  },
  {
   "cell_type": "markdown",
   "metadata": {},
   "source": [
    "The column `Period\\Unit` is the date, all other columns represent currencies with their exchange rates.<br />\n",
    "Let's look at the datatypes."
   ]
  },
  {
   "cell_type": "code",
   "execution_count": 4,
   "metadata": {},
   "outputs": [
    {
     "name": "stdout",
     "output_type": "stream",
     "text": [
      "<class 'pandas.core.frame.DataFrame'>\n",
      "RangeIndex: 5754 entries, 0 to 5753\n",
      "Data columns (total 41 columns):\n",
      " #   Column                    Non-Null Count  Dtype  \n",
      "---  ------                    --------------  -----  \n",
      " 0   Period\\Unit:              5754 non-null   object \n",
      " 1   [Australian dollar ]      5754 non-null   object \n",
      " 2   [Bulgarian lev ]          5352 non-null   object \n",
      " 3   [Brazilian real ]         5486 non-null   object \n",
      " 4   [Canadian dollar ]        5754 non-null   object \n",
      " 5   [Swiss franc ]            5754 non-null   object \n",
      " 6   [Chinese yuan renminbi ]  5486 non-null   object \n",
      " 7   [Cypriot pound ]          2346 non-null   object \n",
      " 8   [Czech koruna ]           5754 non-null   object \n",
      " 9   [Danish krone ]           5754 non-null   object \n",
      " 10  [Estonian kroon ]         3130 non-null   object \n",
      " 11  [UK pound sterling ]      5754 non-null   object \n",
      " 12  [Greek drachma ]          520 non-null    object \n",
      " 13  [Hong Kong dollar ]       5754 non-null   object \n",
      " 14  [Croatian kuna ]          5486 non-null   object \n",
      " 15  [Hungarian forint ]       5754 non-null   object \n",
      " 16  [Indonesian rupiah ]      5754 non-null   object \n",
      " 17  [Israeli shekel ]         5486 non-null   object \n",
      " 18  [Indian rupee ]           5486 non-null   object \n",
      " 19  [Iceland krona ]          3347 non-null   float64\n",
      " 20  [Japanese yen ]           5754 non-null   object \n",
      " 21  [Korean won ]             5754 non-null   object \n",
      " 22  [Lithuanian litas ]       4159 non-null   object \n",
      " 23  [Latvian lats ]           3904 non-null   object \n",
      " 24  [Maltese lira ]           2346 non-null   object \n",
      " 25  [Mexican peso ]           5754 non-null   object \n",
      " 26  [Malaysian ringgit ]      5754 non-null   object \n",
      " 27  [Norwegian krone ]        5754 non-null   object \n",
      " 28  [New Zealand dollar ]     5754 non-null   object \n",
      " 29  [Philippine peso ]        5754 non-null   object \n",
      " 30  [Polish zloty ]           5754 non-null   object \n",
      " 31  [Romanian leu ]           5692 non-null   float64\n",
      " 32  [Russian rouble ]         5754 non-null   object \n",
      " 33  [Swedish krona ]          5754 non-null   object \n",
      " 34  [Singapore dollar ]       5754 non-null   object \n",
      " 35  [Slovenian tolar ]        2085 non-null   object \n",
      " 36  [Slovak koruna ]          2608 non-null   object \n",
      " 37  [Thai baht ]              5754 non-null   object \n",
      " 38  [Turkish lira ]           5692 non-null   float64\n",
      " 39  [US dollar ]              5754 non-null   object \n",
      " 40  [South African rand ]     5754 non-null   object \n",
      "dtypes: float64(3), object(38)\n",
      "memory usage: 1.8+ MB\n"
     ]
    }
   ],
   "source": [
    "exchange_rates.info()"
   ]
  },
  {
   "cell_type": "markdown",
   "metadata": {},
   "source": [
    "All columns but three are string type. We need to select the date and the US dollar columns and convert them to **datetime** and **float** type, respectively.<br />We'll do this in the cleaning section."
   ]
  },
  {
   "cell_type": "markdown",
   "metadata": {},
   "source": [
    "## Cleaning"
   ]
  },
  {
   "cell_type": "code",
   "execution_count": 5,
   "metadata": {},
   "outputs": [],
   "source": [
    "# change names to the columns of interest \n",
    "exchange_rates.rename(columns={'[US dollar ]': 'US_dollar', \n",
    "                               'Period\\\\Unit:': 'Time'}, \n",
    "                      inplace=True)\n",
    "\n",
    "exchange_rates['Time'] = pd.to_datetime(exchange_rates['Time'])  # convert to datetime type\n",
    "exchange_rates.sort_values('Time', inplace=True)  # sort dates in ascending order\n",
    "exchange_rates.reset_index(drop=True, inplace=True)"
   ]
  },
  {
   "cell_type": "code",
   "execution_count": 6,
   "metadata": {},
   "outputs": [],
   "source": [
    "# create a new dataframe with USD data\n",
    "euro_to_dollar = exchange_rates[['US_dollar', 'Time']]"
   ]
  },
  {
   "cell_type": "code",
   "execution_count": 7,
   "metadata": {},
   "outputs": [
    {
     "data": {
      "text/plain": [
       "-         62\n",
       "1.2276     9\n",
       "1.1215     8\n",
       "1.1305     7\n",
       "1.3086     6\n",
       "          ..\n",
       "1.4969     1\n",
       "1.0862     1\n",
       "1.3370     1\n",
       "1.2677     1\n",
       "1.2670     1\n",
       "Name: US_dollar, Length: 3543, dtype: int64"
      ]
     },
     "execution_count": 7,
     "metadata": {},
     "output_type": "execute_result"
    }
   ],
   "source": [
    "# searching for null/NaN/missing values in the USD column\n",
    "euro_to_dollar['US_dollar'].value_counts()"
   ]
  },
  {
   "cell_type": "markdown",
   "metadata": {},
   "source": [
    "The `US_dollar` column contains 62 missing values, represented by a dash. We're going to drop those rows from the dataframe."
   ]
  },
  {
   "cell_type": "code",
   "execution_count": 8,
   "metadata": {},
   "outputs": [],
   "source": [
    "# drop all rows for which 'US_dollar' contains the '-' character\n",
    "euro_to_dollar = euro_to_dollar.drop(euro_to_dollar[euro_to_dollar['US_dollar'].str.contains('-')].index)\n",
    "# finally convert the US_dollar column to float\n",
    "euro_to_dollar['US_dollar'] = euro_to_dollar['US_dollar'].astype('float')"
   ]
  },
  {
   "cell_type": "markdown",
   "metadata": {},
   "source": [
    "We're now ready to build our storytelling chart."
   ]
  },
  {
   "cell_type": "markdown",
   "metadata": {},
   "source": [
    "## Creating the chart"
   ]
  },
  {
   "cell_type": "markdown",
   "metadata": {},
   "source": [
    "Let's take a quick look at the data with a line plot."
   ]
  },
  {
   "cell_type": "code",
   "execution_count": 9,
   "metadata": {},
   "outputs": [
    {
     "data": {
      "image/png": "[encoded data removed]",
      "text/plain": [
       "<Figure size 432x288 with 1 Axes>"
      ]
     },
     "metadata": {
      "needs_background": "light"
     },
     "output_type": "display_data"
    }
   ],
   "source": [
    "import matplotlib.pyplot as plt\n",
    "# magic function used in order to visualize matplotlib charts in the notebook\n",
    "%matplotlib inline  \n",
    "\n",
    "euro_to_dollar.plot('Time', 'US_dollar', linewidth=0.7)\n",
    "\n",
    "plt.show()"
   ]
  },
  {
   "cell_type": "markdown",
   "metadata": {},
   "source": [
    "The wiggles are to be expected, because the exchange rate varies from day to day. Nonetheless, we're interested in showing a general trend over the years, so these wiggles are a distracting element for us.<br />\n",
    "In order to smooth out the graph, we're going to use a rolling mean (aka 'moving mean') i.e. each point will represent the average of the exchange rate in the last 60 days."
   ]
  },
  {
   "cell_type": "code",
   "execution_count": 10,
   "metadata": {},
   "outputs": [],
   "source": [
    "# create a new column using rolling mean (with a window of 2 months)\n",
    "euro_to_dollar['rolling_mean'] = euro_to_dollar['US_dollar'].rolling(60).mean()"
   ]
  },
  {
   "cell_type": "code",
   "execution_count": 11,
   "metadata": {},
   "outputs": [
    {
     "data": {
      "image/png": "[encoded data removed]",
      "text/plain": [
       "<Figure size 432x288 with 1 Axes>"
      ]
     },
     "metadata": {
      "needs_background": "light"
     },
     "output_type": "display_data"
    }
   ],
   "source": [
    "euro_to_dollar.plot('Time', 'rolling_mean')\n",
    "plt.show()"
   ]
  },
  {
   "cell_type": "markdown",
   "metadata": {},
   "source": [
    "The graph is much smoother now.\n",
    "\n",
    "In the next cell, we will build the chart using Matplotplib.<br />\n",
    "We're assuming the chart will be visualized on a smartphone, so the three lineplots are piled one on top of the other."
   ]
  },
  {
   "cell_type": "code",
   "execution_count": 13,
   "metadata": {},
   "outputs": [
    {
     "data": {
      "image/png": "[encoded data removed]",
      "text/plain": [
       "<Figure size 432x720 with 3 Axes>"
      ]
     },
     "metadata": {},
     "output_type": "display_data"
    }
   ],
   "source": [
    "import matplotlib.style as style\n",
    "style.use('fivethirtyeight')  # using the style from the fivethirtyeight website\n",
    "\n",
    "fig, axs = plt.subplots(3, 1, figsize=(6, 10))\n",
    "\n",
    "for i in range(3):\n",
    "    axs[i].plot(euro_to_dollar['Time'], euro_to_dollar['rolling_mean'], linewidth=0.7)\n",
    "    axs[i].set_xticks([])\n",
    "    axs[i].tick_params(axis='y', labelsize=10, colors='grey')\n",
    "    axs[i].set_yticks([0.9,1.1,1.3,1.5])\n",
    "    \n",
    "# customize Bush plot    \n",
    "axs[0].text(10000, 1.8, 'EURO/USD exchange rate had the greatest variation (0.77)\\nduring Bush administration', weight='bold',  size=12)\n",
    "axs[0].text(10000, 1.73, 'EURO/USD exchange rates during presidencies of Bush, Obama and Trump', size=10.5)\n",
    "axs[0].axvline(12803, linewidth=127, alpha=0.07)\n",
    "axs[0].text(12300, 1.52, 'BUSH', fontname='serif', alpha=0.8, weight='bold', size=10)\n",
    "axs[0].text(11000, 0.78, '2001', size=9, alpha=0.5)\n",
    "axs[0].text(14000, 0.78, '2009', size=9, alpha=0.5)\n",
    "\n",
    "# customize Obama plot\n",
    "axs[1].axvline(15800, linewidth=121, alpha=0.07)\n",
    "axs[1].text(15270, 1.52, 'OBAMA', fontname='serif', alpha=0.8, weight='bold', size=10)\n",
    "axs[1].text(14100, 0.78, '2009', size=9, alpha=0.5)\n",
    "axs[1].text(16900, 0.78, '2017', size=9, alpha=0.5)\n",
    "\n",
    "# customize Trump plot\n",
    "axs[2].axvline(17930, linewidth=63, alpha=0.07)\n",
    "axs[2].text(17400, 1.52, 'TRUMP', fontname='serif', alpha=0.8, weight='bold', size=10)\n",
    "axs[2].text(16900, 0.78, '2017', size=9, alpha=0.5)\n",
    "axs[2].text(18400, 0.78, '2021', size=9, alpha=0.5)\n",
    "axs[2].text(9800, 0.7, '©Fabrizio Pellegrini' + ' ' * 60 + 'Source: European Central Bank',\n",
    "            size=9, backgroundcolor='#D3D3D3', color='white')\n",
    "\n",
    "plt.show()"
   ]
  },
  {
   "cell_type": "markdown",
   "metadata": {},
   "source": [
    "## Conclusion\n",
    "\n",
    "In this mini-project, we've built a storytelling chart which represents the Euro-USD exchange rate trend under the three last US presidents.<br /> We've tried to convey the information in the clearest way, using design priciples like enclosure and maximizing data-ink ratio."
   ]
  }
 ],
 "metadata": {
  "kernelspec": {
   "display_name": "Python 3",
   "language": "python",
   "name": "python3"
  },
  "language_info": {
   "codemirror_mode": {
    "name": "ipython",
    "version": 3
   },
   "file_extension": ".py",
   "mimetype": "text/x-python",
   "name": "python",
   "nbconvert_exporter": "python",
   "pygments_lexer": "ipython3",
   "version": "3.8.8"
  }
 },
 "nbformat": 4,
 "nbformat_minor": 4
}
