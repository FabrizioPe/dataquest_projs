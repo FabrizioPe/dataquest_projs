{
 "cells": [
  {
   "cell_type": "markdown",
   "metadata": {},
   "source": [
    "# Predicting house sale prices with linear regression"
   ]
  },
  {
   "cell_type": "markdown",
   "metadata": {},
   "source": [
    "<p align='center'>    \n",
    "    <img src=\"imgs/house-sale-sign.jpg\" width=500 height=350 />\n",
    "</p>    \n",
    "\n",
    "<p style=\"text-align: center;\">(comic by Clay Bennet: https://twitter.com/BennettCartoons])</p>"
   ]
  },
  {
   "cell_type": "markdown",
   "metadata": {},
   "source": [
    "## Introduction"
   ]
  },
  {
   "cell_type": "markdown",
   "metadata": {},
   "source": [
    "When you want to sell your house, how do you come up with a price? And which features of the house are important to take into account?<br/>\n",
    "Usually these and other questions are answered with the help of a real estate professional, who \"knows\" what is important and why. But what if we try to answer with the help of machine learning and build our own model for predicting a house sale price?\n",
    "\n",
    "In this project, we're going to use **a dataset describing the sale of properties in Ames, Iowa**, between 2006 and 2010.<br/> \n",
    "Each sale is described through a large number of categorical and numerical quantities.\n",
    "\n",
    "**<u>Credits and references</u>**:<br/>\n",
    "The dataset was found, cleaned and brought to attention by Dean De Cock, professor of statistics at Truman State University. The motivation for its introduction can be found in [this article](https://www.tandfonline.com/doi/pdf/10.1080/10691898.2011.11889627?needAccess=true).<br/>\n",
    "The precise description of each house feature can be found [here](https://s3.amazonaws.com/dq-content/307/data_description.txt)."
   ]
  },
  {
   "cell_type": "markdown",
   "metadata": {},
   "source": [
    "## Project's goal and outline\n",
    "\n",
    "The **goal** is to find a **multivariate linear model** which can predict the house sale price significantly better than the best-performing univariate linear models.<br/>\n",
    "\n",
    "\n",
    "In order to do so, several steps have to be taken, among which the main are: \n",
    "- cleaning the dataset (e.g. dealing with missing values, remove outliers); \n",
    "- doing some feature engineering to transform the features in a format the algorithm can handle; \n",
    "- selecting a subset of highly predictive features.<br/>\n",
    "\n",
    "For this last step, we're going to use one-way ANOVA test to highlight the categorical features which are most strongly associated with sale price, while for numerical features we're going to use Pearson's r correlation.<br/>\n",
    "We'll also be careful to drop the numerical features with very low variance and to try to avoid self-correlation.\n",
    "\n",
    "A pipeline will be in place, so that, potentially, different parameters and criteria could be used to select the best model."
   ]
  },
  {
   "cell_type": "markdown",
   "metadata": {},
   "source": [
    "### Summary of results\n",
    "\n",
    "Very briefly, we reached our goal by selecting 16 numerical and 11 categorical features, managing to predict the house sale price with an average error of 19600 USD, much better than the 46000 USD of the best univariate model."
   ]
  },
  {
   "cell_type": "markdown",
   "metadata": {},
   "source": [
    "### Modules, libraries and project-wide settings"
   ]
  },
  {
   "cell_type": "code",
   "execution_count": 1,
   "metadata": {},
   "outputs": [],
   "source": [
    "import matplotlib.pyplot as plt\n",
    "import missingno as msno\n",
    "import numpy as np\n",
    "import os\n",
    "import pandas as pd\n",
    "import scipy.stats as stats\n",
    "import seaborn as sns\n",
    "\n",
    "# ML functionalities\n",
    "from sklearn.linear_model import LinearRegression\n",
    "from sklearn.metrics import mean_squared_error\n",
    "from sklearn.model_selection import train_test_split\n",
    "from sklearn.model_selection import KFold\n",
    "from sklearn.model_selection import cross_val_score\n",
    "\n",
    "# plot settings\n",
    "plt.style.use('seaborn-darkgrid')  # pyplot style\n",
    "plt.rc('axes', titlesize=18)     # fontsize of the axes title\n",
    "plt.rc('axes', labelsize=14)    # fontsize of the x and y labels\n",
    "plt.rc('xtick', labelsize=13)    # fontsize of the tick labels\n",
    "plt.rc('ytick', labelsize=13)    # fontsize of the tick labels\n",
    "plt.rc('legend', fontsize=13)    # legend fontsize\n",
    "plt.rc('font', size=14)          # controls default text sizes\n",
    "\n",
    "# notebook display settings\n",
    "pd.options.display.max_rows = 50"
   ]
  },
  {
   "cell_type": "markdown",
   "metadata": {},
   "source": [
    "## Getting to know the dataset"
   ]
  },
  {
   "cell_type": "code",
   "execution_count": 2,
   "metadata": {},
   "outputs": [
    {
     "data": {
      "text/html": [
       "<div>\n",
       "<style scoped>\n",
       "    .dataframe tbody tr th:only-of-type {\n",
       "        vertical-align: middle;\n",
       "    }\n",
       "\n",
       "    .dataframe tbody tr th {\n",
       "        vertical-align: top;\n",
       "    }\n",
       "\n",
       "    .dataframe thead th {\n",
       "        text-align: right;\n",
       "    }\n",
       "</style>\n",
       "<table border=\"1\" class=\"dataframe\">\n",
       "  <thead>\n",
       "    <tr style=\"text-align: right;\">\n",
       "      <th></th>\n",
       "      <th>Order</th>\n",
       "      <th>PID</th>\n",
       "      <th>MS SubClass</th>\n",
       "      <th>MS Zoning</th>\n",
       "      <th>Lot Frontage</th>\n",
       "      <th>Lot Area</th>\n",
       "      <th>Street</th>\n",
       "      <th>Alley</th>\n",
       "      <th>Lot Shape</th>\n",
       "      <th>Land Contour</th>\n",
       "      <th>...</th>\n",
       "      <th>Pool Area</th>\n",
       "      <th>Pool QC</th>\n",
       "      <th>Fence</th>\n",
       "      <th>Misc Feature</th>\n",
       "      <th>Misc Val</th>\n",
       "      <th>Mo Sold</th>\n",
       "      <th>Yr Sold</th>\n",
       "      <th>Sale Type</th>\n",
       "      <th>Sale Condition</th>\n",
       "      <th>SalePrice</th>\n",
       "    </tr>\n",
       "  </thead>\n",
       "  <tbody>\n",
       "    <tr>\n",
       "      <th>0</th>\n",
       "      <td>1</td>\n",
       "      <td>526301100</td>\n",
       "      <td>20</td>\n",
       "      <td>RL</td>\n",
       "      <td>141.0</td>\n",
       "      <td>31770</td>\n",
       "      <td>Pave</td>\n",
       "      <td>NaN</td>\n",
       "      <td>IR1</td>\n",
       "      <td>Lvl</td>\n",
       "      <td>...</td>\n",
       "      <td>0</td>\n",
       "      <td>NaN</td>\n",
       "      <td>NaN</td>\n",
       "      <td>NaN</td>\n",
       "      <td>0</td>\n",
       "      <td>5</td>\n",
       "      <td>2010</td>\n",
       "      <td>WD</td>\n",
       "      <td>Normal</td>\n",
       "      <td>215000</td>\n",
       "    </tr>\n",
       "    <tr>\n",
       "      <th>1</th>\n",
       "      <td>2</td>\n",
       "      <td>526350040</td>\n",
       "      <td>20</td>\n",
       "      <td>RH</td>\n",
       "      <td>80.0</td>\n",
       "      <td>11622</td>\n",
       "      <td>Pave</td>\n",
       "      <td>NaN</td>\n",
       "      <td>Reg</td>\n",
       "      <td>Lvl</td>\n",
       "      <td>...</td>\n",
       "      <td>0</td>\n",
       "      <td>NaN</td>\n",
       "      <td>MnPrv</td>\n",
       "      <td>NaN</td>\n",
       "      <td>0</td>\n",
       "      <td>6</td>\n",
       "      <td>2010</td>\n",
       "      <td>WD</td>\n",
       "      <td>Normal</td>\n",
       "      <td>105000</td>\n",
       "    </tr>\n",
       "    <tr>\n",
       "      <th>2</th>\n",
       "      <td>3</td>\n",
       "      <td>526351010</td>\n",
       "      <td>20</td>\n",
       "      <td>RL</td>\n",
       "      <td>81.0</td>\n",
       "      <td>14267</td>\n",
       "      <td>Pave</td>\n",
       "      <td>NaN</td>\n",
       "      <td>IR1</td>\n",
       "      <td>Lvl</td>\n",
       "      <td>...</td>\n",
       "      <td>0</td>\n",
       "      <td>NaN</td>\n",
       "      <td>NaN</td>\n",
       "      <td>Gar2</td>\n",
       "      <td>12500</td>\n",
       "      <td>6</td>\n",
       "      <td>2010</td>\n",
       "      <td>WD</td>\n",
       "      <td>Normal</td>\n",
       "      <td>172000</td>\n",
       "    </tr>\n",
       "    <tr>\n",
       "      <th>3</th>\n",
       "      <td>4</td>\n",
       "      <td>526353030</td>\n",
       "      <td>20</td>\n",
       "      <td>RL</td>\n",
       "      <td>93.0</td>\n",
       "      <td>11160</td>\n",
       "      <td>Pave</td>\n",
       "      <td>NaN</td>\n",
       "      <td>Reg</td>\n",
       "      <td>Lvl</td>\n",
       "      <td>...</td>\n",
       "      <td>0</td>\n",
       "      <td>NaN</td>\n",
       "      <td>NaN</td>\n",
       "      <td>NaN</td>\n",
       "      <td>0</td>\n",
       "      <td>4</td>\n",
       "      <td>2010</td>\n",
       "      <td>WD</td>\n",
       "      <td>Normal</td>\n",
       "      <td>244000</td>\n",
       "    </tr>\n",
       "    <tr>\n",
       "      <th>4</th>\n",
       "      <td>5</td>\n",
       "      <td>527105010</td>\n",
       "      <td>60</td>\n",
       "      <td>RL</td>\n",
       "      <td>74.0</td>\n",
       "      <td>13830</td>\n",
       "      <td>Pave</td>\n",
       "      <td>NaN</td>\n",
       "      <td>IR1</td>\n",
       "      <td>Lvl</td>\n",
       "      <td>...</td>\n",
       "      <td>0</td>\n",
       "      <td>NaN</td>\n",
       "      <td>MnPrv</td>\n",
       "      <td>NaN</td>\n",
       "      <td>0</td>\n",
       "      <td>3</td>\n",
       "      <td>2010</td>\n",
       "      <td>WD</td>\n",
       "      <td>Normal</td>\n",
       "      <td>189900</td>\n",
       "    </tr>\n",
       "  </tbody>\n",
       "</table>\n",
       "<p>5 rows × 82 columns</p>\n",
       "</div>"
      ],
      "text/plain": [
       "   Order        PID  MS SubClass MS Zoning  Lot Frontage  Lot Area Street  \\\n",
       "0      1  526301100           20        RL         141.0     31770   Pave   \n",
       "1      2  526350040           20        RH          80.0     11622   Pave   \n",
       "2      3  526351010           20        RL          81.0     14267   Pave   \n",
       "3      4  526353030           20        RL          93.0     11160   Pave   \n",
       "4      5  527105010           60        RL          74.0     13830   Pave   \n",
       "\n",
       "  Alley Lot Shape Land Contour  ... Pool Area Pool QC  Fence Misc Feature  \\\n",
       "0   NaN       IR1          Lvl  ...         0     NaN    NaN          NaN   \n",
       "1   NaN       Reg          Lvl  ...         0     NaN  MnPrv          NaN   \n",
       "2   NaN       IR1          Lvl  ...         0     NaN    NaN         Gar2   \n",
       "3   NaN       Reg          Lvl  ...         0     NaN    NaN          NaN   \n",
       "4   NaN       IR1          Lvl  ...         0     NaN  MnPrv          NaN   \n",
       "\n",
       "  Misc Val Mo Sold Yr Sold Sale Type  Sale Condition  SalePrice  \n",
       "0        0       5    2010       WD           Normal     215000  \n",
       "1        0       6    2010       WD           Normal     105000  \n",
       "2    12500       6    2010       WD           Normal     172000  \n",
       "3        0       4    2010       WD           Normal     244000  \n",
       "4        0       3    2010       WD           Normal     189900  \n",
       "\n",
       "[5 rows x 82 columns]"
      ]
     },
     "execution_count": 2,
     "metadata": {},
     "output_type": "execute_result"
    }
   ],
   "source": [
    "# read in the dataset\n",
    "path = os.path.join(os.curdir, 'datasets', 'AmesHousing.txt')\n",
    "df = pd.read_csv(path, delimiter='\\t')\n",
    "\n",
    "df.head()"
   ]
  },
  {
   "cell_type": "code",
   "execution_count": 3,
   "metadata": {},
   "outputs": [
    {
     "name": "stdout",
     "output_type": "stream",
     "text": [
      "(2930, 82)\n"
     ]
    }
   ],
   "source": [
    "print(df.shape)"
   ]
  },
  {
   "cell_type": "markdown",
   "metadata": {},
   "source": [
    "The intial dataframe contains 2930 examples and 82 features.\n",
    "\n",
    "Our target is the house sale price, i.e. the `SalePrice` column. Let's take a look at its distribution:"
   ]
  },
  {
   "cell_type": "code",
   "execution_count": 4,
   "metadata": {},
   "outputs": [
    {
     "data": {
      "image/png": "[encoded data removed]",
      "text/plain": [
       "<Figure size 432x288 with 1 Axes>"
      ]
     },
     "metadata": {},
     "output_type": "display_data"
    },
    {
     "name": "stdout",
     "output_type": "stream",
     "text": [
      "count      2930.000000\n",
      "mean     180796.060068\n",
      "std       79886.692357\n",
      "min       12789.000000\n",
      "25%      129500.000000\n",
      "50%      160000.000000\n",
      "75%      213500.000000\n",
      "max      755000.000000\n",
      "Name: SalePrice, dtype: float64\n"
     ]
    }
   ],
   "source": [
    "df['SalePrice'].plot.hist()\n",
    "plt.xlabel('sale price (USD)')\n",
    "plt.xticks(range(0, 800000, 100000), labels=[str(n) + 'k' for n in range(0, 800, 100)])\n",
    "plt.show()\n",
    "# summary statistics\n",
    "print(df['SalePrice'].describe())"
   ]
  },
  {
   "cell_type": "markdown",
   "metadata": {},
   "source": [
    "Most prices are comprised between 120000 and 250000 USD, and the whole range of values seems reasonable.\n",
    "\n",
    "Let's see how the data types are distributed:"
   ]
  },
  {
   "cell_type": "code",
   "execution_count": 5,
   "metadata": {},
   "outputs": [
    {
     "data": {
      "image/png": "[encoded data removed]",
      "text/plain": [
       "<Figure size 432x288 with 1 Axes>"
      ]
     },
     "metadata": {},
     "output_type": "display_data"
    }
   ],
   "source": [
    "df.dtypes.value_counts().plot.barh()\n",
    "plt.title('Data types distribution')\n",
    "plt.show()"
   ]
  },
  {
   "cell_type": "markdown",
   "metadata": {},
   "source": [
    "We see that 43 columns are encoded as objects and are probably categorical, while 39 are purely numerical.<br/>\n",
    "Actually, we must be careful because this doesn't necessarily means all 43 are categorical and all 39 are actually numerical. That's just how they are encoded, and we must read the docs to really understand.\n",
    "\n",
    "Let's use the `missingno` module for a bird's eye view of missing values:"
   ]
  },
  {
   "cell_type": "code",
   "execution_count": 6,
   "metadata": {},
   "outputs": [
    {
     "data": {
      "image/png": "[encoded data removed]",
      "text/plain": [
       "<Figure size 1800x720 with 2 Axes>"
      ]
     },
     "metadata": {},
     "output_type": "display_data"
    }
   ],
   "source": [
    "msno.matrix(df)\n",
    "plt.show()"
   ]
  },
  {
   "cell_type": "markdown",
   "metadata": {},
   "source": [
    "Most columns (grey) are complete, some others have a varying fraction of missing values (in white)."
   ]
  },
  {
   "cell_type": "code",
   "execution_count": 7,
   "metadata": {},
   "outputs": [
    {
     "data": {
      "text/plain": [
       "Index(['Lot Frontage', 'Alley', 'Mas Vnr Type', 'Mas Vnr Area', 'Bsmt Qual',\n",
       "       'Bsmt Cond', 'Bsmt Exposure', 'BsmtFin Type 1', 'BsmtFin SF 1',\n",
       "       'BsmtFin Type 2', 'BsmtFin SF 2', 'Bsmt Unf SF', 'Total Bsmt SF',\n",
       "       'Electrical', 'Bsmt Full Bath', 'Bsmt Half Bath', 'Fireplace Qu',\n",
       "       'Garage Type', 'Garage Yr Blt', 'Garage Finish', 'Garage Cars',\n",
       "       'Garage Area', 'Garage Qual', 'Garage Cond', 'Pool QC', 'Fence',\n",
       "       'Misc Feature'],\n",
       "      dtype='object')"
      ]
     },
     "execution_count": 7,
     "metadata": {},
     "output_type": "execute_result"
    }
   ],
   "source": [
    "# which columns have missing values\n",
    "df.columns[df.isnull().sum() > 0]"
   ]
  },
  {
   "cell_type": "markdown",
   "metadata": {},
   "source": [
    "Some of these columns are categorical, other numerical.<br/> \n",
    "\n",
    "By carefully reading the documentation, we have discovered that, for categorical columns, **`Nan` doesn't correspond to a missing value, but to the lack of a certain feature** (e.g. a nan for `Alley` means no alley access). These information are really important as we will drop columns based on the percentage of missing values.\n",
    "\n",
    "Another important fact is that the following columns are actually **categorical, but encoded with numbers**:\n",
    "\n",
    "`MS SubClass`, `Overall Qual`, `Overall Cond`\n",
    "\n",
    "They must be properly converted so to include them in the categorical feature analysis.<br/>"
   ]
  },
  {
   "cell_type": "markdown",
   "metadata": {},
   "source": [
    "As a last step in exploratory analysis, let's consider some numerical columns and draw their boxplot:"
   ]
  },
  {
   "cell_type": "code",
   "execution_count": 8,
   "metadata": {},
   "outputs": [
    {
     "data": {
      "image/png": "[encoded data removed]",
      "text/plain": [
       "<Figure size 1728x576 with 3 Axes>"
      ]
     },
     "metadata": {},
     "output_type": "display_data"
    }
   ],
   "source": [
    "fig, axs = plt.subplots(1, 3, figsize=(24, 8))\n",
    "\n",
    "sample_num_cols = ['Gr Liv Area', 'Lot Area', '2nd Flr SF']\n",
    "for i, ax in enumerate(fig.get_axes()):\n",
    "    df[sample_num_cols[i]].plot.box(ax=ax)\n",
    "    \n",
    "fig.suptitle('Boxplot of some numerical columns\\n(all y axis in square feet)')    \n",
    "\n",
    "plt.show()    "
   ]
  },
  {
   "cell_type": "markdown",
   "metadata": {},
   "source": [
    "As we see, outliers are present. These are defined by default by pandas as all values which are more than 1.5 interquartile ranges from the mean.\n",
    "\n",
    "We will sort this and other issues in the feature engineering section.<br/>"
   ]
  },
  {
   "cell_type": "markdown",
   "metadata": {},
   "source": [
    "## Selecting categorical features before encoding them"
   ]
  },
  {
   "cell_type": "markdown",
   "metadata": {},
   "source": [
    "Before we transform the features in a proper format for the regression algorithm, we need to understand which categorical columns we want to keep. We have to do it before we encode them because, after numerical encoding, each variable is split into several independent columns, making the analysis process much more difficult."
   ]
  },
  {
   "cell_type": "code",
   "execution_count": 9,
   "metadata": {},
   "outputs": [],
   "source": [
    "# as first step, convert cat. columns encoded as numerical\n",
    "numerical_vars_to_convert = ['MS SubClass', 'Overall Qual', 'Overall Cond']\n",
    "for col in numerical_vars_to_convert:\n",
    "    # use 'str' instead of 'object' to avoid Python treat them as numbers \n",
    "    df[col] = df[col].astype('str')   "
   ]
  },
  {
   "cell_type": "markdown",
   "metadata": {},
   "source": [
    "The following is a function which returns a dataframe containing **a statistical report about all categorical columns**; based on those results, we will determine which columns will be part of the model.\n",
    "\n",
    "The function also performs a **one-way ANOVA test** between each cat. variable and the specified target column (in our case, `SalePrice`). This is done to help us recognize which columns may be strongly associated with the sale price."
   ]
  },
  {
   "cell_type": "code",
   "execution_count": 10,
   "metadata": {},
   "outputs": [],
   "source": [
    "def report_cat_vars(raw_data: pd.DataFrame, target: str) -> pd.DataFrame:\n",
    "    '''\n",
    "    Calculate some basics statistics to help select the most significant categorical\n",
    "    features of the dataset. In particular, it also performs a one-way ANOVA test to\n",
    "    measure association of each feature with the target (numerical column).\n",
    "    \n",
    "    Parameters:\n",
    "    -----------\n",
    "        - raw_data: dataframe containing all features, with categorical encoded as 'object'.\n",
    "                  Nans can be present, but will be encoded as 'not_present' (i.e. feature not present).\n",
    "                  Therefore, beware of the meaning of nan in your dataset.\n",
    "        - target: target feature in the regression problem.\n",
    "        \n",
    "    Return:\n",
    "    -------\n",
    "        A dataframe containing the statistics of all categorical variables.\n",
    "    '''   \n",
    "        \n",
    "    data = raw_data.copy()\n",
    "       \n",
    "    # report dictionary to be returned as a dataframe\n",
    "    report = {'cat_var': [],\n",
    "              'no_of_cats': [],\n",
    "              'most_repr_cat (%)': [],\n",
    "              'f_value': [],\n",
    "              'p_value (%)': []}\n",
    "             \n",
    "    for col in data.columns:\n",
    "        if data[col].dtypes == 'O':\n",
    "            data[col] = data[col].fillna('not_present')\n",
    "            report['cat_var'].append(col)\n",
    "            report['no_of_cats'].append(len(data[col].unique()))\n",
    "            pct_most_repr_cat = data[col].value_counts().max() / len(data[col]) * 100\n",
    "            report['most_repr_cat (%)'].append(round(pct_most_repr_cat, 1))\n",
    "            # perform one-way ANOVA test to measure association between the\n",
    "            # current cat.variable and target (continuous) variable\n",
    "            grouped_prices = []\n",
    "            categories = data[col].unique()\n",
    "            for category in categories:\n",
    "                grouped_prices.append(data[data[col] == category][target])            \n",
    "            f_value, p_value = stats.f_oneway(*grouped_prices)\n",
    "            report['f_value'].append(round(f_value, 1))\n",
    "            report['p_value (%)'].append(round(p_value * 100, 3))\n",
    "            \n",
    "    print(f'The dataframe contains \\033[1m{len(report[\"cat_var\"])} categorical columns\\033[0m.\\n')        \n",
    "            \n",
    "    return pd.DataFrame(report).set_index('cat_var')"
   ]
  },
  {
   "cell_type": "code",
   "execution_count": 11,
   "metadata": {},
   "outputs": [
    {
     "name": "stdout",
     "output_type": "stream",
     "text": [
      "The dataframe contains \u001b[1m46 categorical columns\u001b[0m.\n",
      "\n",
      "                no_of_cats  most_repr_cat (%)  f_value  p_value (%)\n",
      "cat_var                                                            \n",
      "Neighborhood            28               15.1    144.4        0.000\n",
      "Exterior 2nd            17               34.6     37.1        0.000\n",
      "MS SubClass             16               36.8     64.0        0.000\n",
      "Exterior 1st            16               35.0     39.7        0.000\n",
      "Overall Qual            10               28.2    765.2        0.000\n",
      "Sale Type               10               86.6     52.7        0.000\n",
      "Condition 1              9               86.1     17.3        0.000\n",
      "Overall Cond             9               56.5     64.6        0.000\n",
      "Roof Matl                8               98.5      6.8        0.000\n",
      "Functional               8               93.1      7.5        0.000\n",
      "Condition 2              8               99.0     10.4        0.000\n",
      "House Style              8               50.5     35.0        0.000\n",
      "BsmtFin Type 1           7               29.3    143.6        0.000\n",
      "BsmtFin Type 2           7               85.3     15.6        0.000\n",
      "MS Zoning                7               77.6     63.8        0.000\n",
      "Garage Type              7               59.1    161.4        0.000\n",
      "Bsmt Qual                6               43.8    615.9        0.000\n",
      "Heating                  6               98.5      5.7        0.003\n",
      "Fireplace Qu             6               48.5    258.5        0.000\n",
      "Garage Qual              6               89.2     57.4        0.000\n",
      "Garage Cond              6               91.0     52.6        0.000\n",
      "Misc Feature             6               96.4      2.8        1.540\n",
      "Bsmt Cond                6               89.3     31.6        0.000\n",
      "Electrical               6               91.5     36.4        0.000\n",
      "Foundation               6               44.7    227.6        0.000\n",
      "Sale Condition           6               82.4     93.3        0.000\n",
      "Mas Vnr Type             6               59.8    145.2        0.000\n",
      "Roof Style               6               79.2     49.5        0.000\n",
      "Kitchen Qual             5               51.0    680.5        0.000\n",
      "Fence                    5               80.5     29.0        0.000\n",
      "Pool QC                  5               99.6     14.4        0.000\n",
      "Bsmt Exposure            5               65.1    160.9        0.000\n",
      "Exter Cond               5               87.0     20.3        0.000\n",
      "Bldg Type                5               82.8     26.2        0.000\n",
      "Heating QC               5               51.0    200.4        0.000\n",
      "Lot Config               5               73.0     15.7        0.000\n",
      "Garage Finish            4               42.0    433.5        0.000\n",
      "Land Contour             4               89.9     44.6        0.000\n",
      "Lot Shape                4               63.4     98.4        0.000\n",
      "Exter Qual               4               61.4    994.0        0.000\n",
      "Land Slope               3               95.2      6.9        0.101\n",
      "Utilities                3               99.9      1.5       21.291\n",
      "Paved Drive              3               90.5    121.5        0.000\n",
      "Alley                    3               93.2     33.1        0.000\n",
      "Central Air              2               93.3    220.3        0.000\n",
      "Street                   2               99.6     10.4        0.127\n"
     ]
    }
   ],
   "source": [
    "# print the report\n",
    "report_cat_df = report_cat_vars(df, 'SalePrice')\n",
    "print(report_cat_df.sort_values(['no_of_cats'], ascending=False))"
   ]
  },
  {
   "cell_type": "markdown",
   "metadata": {},
   "source": [
    "We now have to decide which columns to drop. First of all, we'll use the following criteria:\n",
    "\n",
    "1. **More than 95% of the values belong to one category** (low variance);\n",
    "2. **The variable has more than 10 categories**.\n",
    "\n",
    "In the next two cells we will determine which columns satisfy 1. and 2."
   ]
  },
  {
   "cell_type": "code",
   "execution_count": 12,
   "metadata": {},
   "outputs": [
    {
     "name": "stdout",
     "output_type": "stream",
     "text": [
      "['Street', 'Utilities', 'Land Slope', 'Condition 2', 'Roof Matl', 'Heating', 'Pool QC', 'Misc Feature']\n"
     ]
    }
   ],
   "source": [
    "# criterium 1.\n",
    "crit_1 = list(report_cat_df[report_cat_df['most_repr_cat (%)'] > 95].index)\n",
    "print(crit_1)"
   ]
  },
  {
   "cell_type": "code",
   "execution_count": 13,
   "metadata": {},
   "outputs": [
    {
     "data": {
      "text/plain": [
       "['MS SubClass', 'Neighborhood', 'Exterior 1st', 'Exterior 2nd']"
      ]
     },
     "execution_count": 13,
     "metadata": {},
     "output_type": "execute_result"
    }
   ],
   "source": [
    "# criterium 2.\n",
    "crit_2 = list(report_cat_df[report_cat_df['no_of_cats'] > 10].index)\n",
    "crit_2"
   ]
  },
  {
   "cell_type": "markdown",
   "metadata": {},
   "source": [
    "From the remaining features, we will select **the 10 most related to `SalePrice` using the f-values from the ANOVA test**."
   ]
  },
  {
   "cell_type": "code",
   "execution_count": 14,
   "metadata": {},
   "outputs": [
    {
     "data": {
      "text/plain": [
       "['Garage Type',\n",
       " 'Heating QC',\n",
       " 'Central Air',\n",
       " 'Foundation',\n",
       " 'Fireplace Qu',\n",
       " 'Garage Finish',\n",
       " 'Bsmt Qual',\n",
       " 'Kitchen Qual',\n",
       " 'Overall Qual',\n",
       " 'Exter Qual']"
      ]
     },
     "execution_count": 14,
     "metadata": {},
     "output_type": "execute_result"
    }
   ],
   "source": [
    "# select categorical feats not in crit_1 or crit_2\n",
    "not1_not2 = report_cat_df.index[~report_cat_df.index.isin(crit_1 + crit_2)]\n",
    "\n",
    "selected_cat_cols = list(report_cat_df.loc[not1_not2].sort_values('f_value')[-10:].index)\n",
    "selected_cat_cols"
   ]
  },
  {
   "cell_type": "markdown",
   "metadata": {},
   "source": [
    "As we see, the `Neighborhood` column should be dropped because it has 28 categories. Nonetheless, it's common knowledge that the price of a house strongly depends on the area of the city where it is located, so we won't take the chance of losing a potentially good predictor."
   ]
  },
  {
   "cell_type": "code",
   "execution_count": 15,
   "metadata": {},
   "outputs": [
    {
     "data": {
      "text/plain": [
       "11"
      ]
     },
     "execution_count": 15,
     "metadata": {},
     "output_type": "execute_result"
    }
   ],
   "source": [
    "selected_cat_cols.append('Neighborhood')\n",
    "len(selected_cat_cols)"
   ]
  },
  {
   "cell_type": "markdown",
   "metadata": {},
   "source": [
    "According to our criteria, we're left with 11 categorical features. Of course, changing the parameters we've used would lead to a different selection."
   ]
  },
  {
   "cell_type": "markdown",
   "metadata": {},
   "source": [
    "## Feature engineering and data cleaning\n",
    "\n",
    "The next function will put both categorical and numerical features in a format which the algorithm can handle and perform some ordinary data cleaning.<br/>\n",
    "Also, a couple of new features will be defined from existing ones."
   ]
  },
  {
   "cell_type": "code",
   "execution_count": 16,
   "metadata": {},
   "outputs": [],
   "source": [
    "def transform_features(raw_data: pd.DataFrame, target: str, thresh=.25, coef=3) -> pd.DataFrame:\n",
    "    '''\n",
    "    Perform feature engineering and some cleaning operations on numerical columns.\n",
    "            \n",
    "    Parameters:\n",
    "    -----------\n",
    "        - raw_data: dataframe with cat. cols as 'object' and num. cols as 'int' or 'float'.\n",
    "        - target: target feature in the regression problem.\n",
    "        - thresh: threshold of missing values for cols dropping (0-1 interval)\n",
    "        - coef: coef * (interquartile range) defines an interval around the mean: all values outside are\n",
    "                considered outliers and removed.\n",
    "        \n",
    "    Return:\n",
    "    -------\n",
    "        The engineered and cleaned dataframe.\n",
    "    '''\n",
    "    \n",
    "    # copy the dataframe\n",
    "    df_raw = raw_data.copy()\n",
    "    \n",
    "    ##################  \n",
    "    # numerical data #           \n",
    "    ################## \n",
    "\n",
    "    # drop columns which are useless for modeling\n",
    "    num_cols_to_drop = ['Order', 'PID', 'Garage Yr Blt', 'Mo Sold']\n",
    "    df_raw.drop(num_cols_to_drop, axis=1, inplace=True)\n",
    "\n",
    "    # drop columns with more than 'thresh' missing values\n",
    "    numeric_data = df_raw.select_dtypes(exclude='O')\n",
    "    miss_cols = numeric_data.columns[numeric_data.isnull().sum() / len(numeric_data) > thresh]\n",
    "    df_raw.drop(miss_cols, axis=1, inplace=True)\n",
    "\n",
    "    # replace missing values with column mean\n",
    "    for col in df_raw.columns:\n",
    "        if df_raw[col].dtypes != 'O':\n",
    "            df_raw[col] = df_raw[col].fillna(df_raw[col].mean())\n",
    "\n",
    "    # combine some features to increase predictive power\n",
    "    df_raw['Yrs remod to sold'] = df['Yr Sold'] - df['Year Remod/Add']\n",
    "    df_raw['Yrs built to sold'] = df['Yr Sold'] - df['Year Built']\n",
    "    df_raw = df_raw[(df_raw['Yrs remod to sold'] >= 0) & (df_raw['Yrs built to sold'] >= 0)].copy()\n",
    "    df_raw.drop(['Year Remod/Add', 'Year Built', 'Yr Sold'], axis=1, inplace=True)\n",
    "    df_raw.reset_index(drop=True, inplace=True)\n",
    "    \n",
    "    # remove outliers\n",
    "    for col in df_raw.columns:\n",
    "        if df_raw[col].dtypes in ('int', 'float'):\n",
    "\n",
    "            # calculate interquartile range and column mean\n",
    "            Q3 = df_raw[col].quantile(.75)\n",
    "            Q1 = df_raw[col].quantile(.25)\n",
    "            mean = df_raw[col].mean()\n",
    "            IQ = Q3 - Q1\n",
    "\n",
    "            if IQ == 0:  # to handle constant columns\n",
    "                df_raw.drop(col, axis=1, inplace=True)\n",
    "                continue\n",
    "\n",
    "            # define masks for rows to keep\n",
    "            inf = df_raw[col] <= mean + coef * IQ\n",
    "            sup = df_raw[col] >= mean - coef * IQ\n",
    "            df_raw = df_raw[inf & sup]   \n",
    "\n",
    "    # scaling to [0,1] interval except target col\n",
    "    for col in df_raw.columns:\n",
    "        if df_raw[col].dtypes != 'O' and col != target:\n",
    "            m = df_raw[col].min()\n",
    "            M = df_raw[col].max()\n",
    "            df_raw[col] = (df_raw[col] - m) / (M - m)\n",
    "        \n",
    "    ####################\n",
    "    # categorical data #\n",
    "    ####################\n",
    "    \n",
    "    # select categorical columns from previous section\n",
    "    # and substitute Nans with 'not_present' \n",
    "    to_drop = [col for col in df_raw.select_dtypes('O').columns if col not in selected_cat_cols]\n",
    "    df_raw.drop(to_drop, axis=1, inplace=True)\n",
    "    for col in df_raw.columns:\n",
    "        if df_raw[col].dtypes == 'O':\n",
    "            df_raw[col] = df_raw[col].fillna('not_present')\n",
    "\n",
    "    # one-hot encode remaining cat. cols  \n",
    "    df_raw = pd.get_dummies(df_raw, drop_first=True)            \n",
    "\n",
    "    df_transf = df_raw    \n",
    "    \n",
    "    return df_transf"
   ]
  },
  {
   "cell_type": "code",
   "execution_count": 17,
   "metadata": {},
   "outputs": [
    {
     "data": {
      "text/plain": [
       "(2655, 94)"
      ]
     },
     "execution_count": 17,
     "metadata": {},
     "output_type": "execute_result"
    }
   ],
   "source": [
    "engin_df = transform_features(df, 'SalePrice')\n",
    "engin_df.shape"
   ]
  },
  {
   "cell_type": "markdown",
   "metadata": {},
   "source": [
    "Which fraction of the examples of the initial dataset remains?"
   ]
  },
  {
   "cell_type": "code",
   "execution_count": 18,
   "metadata": {},
   "outputs": [
    {
     "name": "stdout",
     "output_type": "stream",
     "text": [
      "90.6%\n"
     ]
    }
   ],
   "source": [
    "print(str(round(len(engin_df)/ len(df) * 100, 1)) + '%')"
   ]
  },
  {
   "cell_type": "markdown",
   "metadata": {},
   "source": [
    "While the number of numerical columns is:"
   ]
  },
  {
   "cell_type": "code",
   "execution_count": 19,
   "metadata": {},
   "outputs": [
    {
     "data": {
      "text/plain": [
       "22"
      ]
     },
     "execution_count": 19,
     "metadata": {},
     "output_type": "execute_result"
    }
   ],
   "source": [
    "engin_df.select_dtypes(exclude='uint8').shape[1]"
   ]
  },
  {
   "cell_type": "markdown",
   "metadata": {},
   "source": [
    "Let's take a look at the present version of the dataset:"
   ]
  },
  {
   "cell_type": "code",
   "execution_count": 20,
   "metadata": {},
   "outputs": [
    {
     "data": {
      "text/html": [
       "<div>\n",
       "<style scoped>\n",
       "    .dataframe tbody tr th:only-of-type {\n",
       "        vertical-align: middle;\n",
       "    }\n",
       "\n",
       "    .dataframe tbody tr th {\n",
       "        vertical-align: top;\n",
       "    }\n",
       "\n",
       "    .dataframe thead th {\n",
       "        text-align: right;\n",
       "    }\n",
       "</style>\n",
       "<table border=\"1\" class=\"dataframe\">\n",
       "  <thead>\n",
       "    <tr style=\"text-align: right;\">\n",
       "      <th></th>\n",
       "      <th>Lot Frontage</th>\n",
       "      <th>Lot Area</th>\n",
       "      <th>Mas Vnr Area</th>\n",
       "      <th>BsmtFin SF 1</th>\n",
       "      <th>Bsmt Unf SF</th>\n",
       "      <th>Total Bsmt SF</th>\n",
       "      <th>1st Flr SF</th>\n",
       "      <th>2nd Flr SF</th>\n",
       "      <th>Gr Liv Area</th>\n",
       "      <th>Bsmt Full Bath</th>\n",
       "      <th>...</th>\n",
       "      <th>Fireplace Qu_not_present</th>\n",
       "      <th>Garage Type_Attchd</th>\n",
       "      <th>Garage Type_Basment</th>\n",
       "      <th>Garage Type_BuiltIn</th>\n",
       "      <th>Garage Type_CarPort</th>\n",
       "      <th>Garage Type_Detchd</th>\n",
       "      <th>Garage Type_not_present</th>\n",
       "      <th>Garage Finish_RFn</th>\n",
       "      <th>Garage Finish_Unf</th>\n",
       "      <th>Garage Finish_not_present</th>\n",
       "    </tr>\n",
       "  </thead>\n",
       "  <tbody>\n",
       "    <tr>\n",
       "      <th>1</th>\n",
       "      <td>0.584158</td>\n",
       "      <td>0.501750</td>\n",
       "      <td>0.000000</td>\n",
       "      <td>0.238168</td>\n",
       "      <td>0.126168</td>\n",
       "      <td>0.397835</td>\n",
       "      <td>0.256856</td>\n",
       "      <td>0.000000</td>\n",
       "      <td>0.194598</td>\n",
       "      <td>0.000000</td>\n",
       "      <td>...</td>\n",
       "      <td>1</td>\n",
       "      <td>1</td>\n",
       "      <td>0</td>\n",
       "      <td>0</td>\n",
       "      <td>0</td>\n",
       "      <td>0</td>\n",
       "      <td>0</td>\n",
       "      <td>0</td>\n",
       "      <td>1</td>\n",
       "      <td>0</td>\n",
       "    </tr>\n",
       "    <tr>\n",
       "      <th>2</th>\n",
       "      <td>0.594059</td>\n",
       "      <td>0.630323</td>\n",
       "      <td>0.187500</td>\n",
       "      <td>0.469720</td>\n",
       "      <td>0.189720</td>\n",
       "      <td>0.599459</td>\n",
       "      <td>0.454753</td>\n",
       "      <td>0.000000</td>\n",
       "      <td>0.344529</td>\n",
       "      <td>0.000000</td>\n",
       "      <td>...</td>\n",
       "      <td>1</td>\n",
       "      <td>1</td>\n",
       "      <td>0</td>\n",
       "      <td>0</td>\n",
       "      <td>0</td>\n",
       "      <td>0</td>\n",
       "      <td>0</td>\n",
       "      <td>0</td>\n",
       "      <td>1</td>\n",
       "      <td>0</td>\n",
       "    </tr>\n",
       "    <tr>\n",
       "      <th>3</th>\n",
       "      <td>0.712871</td>\n",
       "      <td>0.479292</td>\n",
       "      <td>0.000000</td>\n",
       "      <td>0.541985</td>\n",
       "      <td>0.488318</td>\n",
       "      <td>0.951737</td>\n",
       "      <td>0.811700</td>\n",
       "      <td>0.000000</td>\n",
       "      <td>0.614958</td>\n",
       "      <td>0.333333</td>\n",
       "      <td>...</td>\n",
       "      <td>0</td>\n",
       "      <td>1</td>\n",
       "      <td>0</td>\n",
       "      <td>0</td>\n",
       "      <td>0</td>\n",
       "      <td>0</td>\n",
       "      <td>0</td>\n",
       "      <td>0</td>\n",
       "      <td>0</td>\n",
       "      <td>0</td>\n",
       "    </tr>\n",
       "    <tr>\n",
       "      <th>4</th>\n",
       "      <td>0.524752</td>\n",
       "      <td>0.609080</td>\n",
       "      <td>0.000000</td>\n",
       "      <td>0.402545</td>\n",
       "      <td>0.064019</td>\n",
       "      <td>0.418584</td>\n",
       "      <td>0.271481</td>\n",
       "      <td>0.394263</td>\n",
       "      <td>0.448407</td>\n",
       "      <td>0.000000</td>\n",
       "      <td>...</td>\n",
       "      <td>0</td>\n",
       "      <td>1</td>\n",
       "      <td>0</td>\n",
       "      <td>0</td>\n",
       "      <td>0</td>\n",
       "      <td>0</td>\n",
       "      <td>0</td>\n",
       "      <td>0</td>\n",
       "      <td>0</td>\n",
       "      <td>0</td>\n",
       "    </tr>\n",
       "    <tr>\n",
       "      <th>5</th>\n",
       "      <td>0.564356</td>\n",
       "      <td>0.421836</td>\n",
       "      <td>0.034722</td>\n",
       "      <td>0.306361</td>\n",
       "      <td>0.151402</td>\n",
       "      <td>0.417682</td>\n",
       "      <td>0.270567</td>\n",
       "      <td>0.381327</td>\n",
       "      <td>0.439751</td>\n",
       "      <td>0.000000</td>\n",
       "      <td>...</td>\n",
       "      <td>0</td>\n",
       "      <td>1</td>\n",
       "      <td>0</td>\n",
       "      <td>0</td>\n",
       "      <td>0</td>\n",
       "      <td>0</td>\n",
       "      <td>0</td>\n",
       "      <td>0</td>\n",
       "      <td>0</td>\n",
       "      <td>0</td>\n",
       "    </tr>\n",
       "  </tbody>\n",
       "</table>\n",
       "<p>5 rows × 94 columns</p>\n",
       "</div>"
      ],
      "text/plain": [
       "   Lot Frontage  Lot Area  Mas Vnr Area  BsmtFin SF 1  Bsmt Unf SF  \\\n",
       "1      0.584158  0.501750      0.000000      0.238168     0.126168   \n",
       "2      0.594059  0.630323      0.187500      0.469720     0.189720   \n",
       "3      0.712871  0.479292      0.000000      0.541985     0.488318   \n",
       "4      0.524752  0.609080      0.000000      0.402545     0.064019   \n",
       "5      0.564356  0.421836      0.034722      0.306361     0.151402   \n",
       "\n",
       "   Total Bsmt SF  1st Flr SF  2nd Flr SF  Gr Liv Area  Bsmt Full Bath  ...  \\\n",
       "1       0.397835    0.256856    0.000000     0.194598        0.000000  ...   \n",
       "2       0.599459    0.454753    0.000000     0.344529        0.000000  ...   \n",
       "3       0.951737    0.811700    0.000000     0.614958        0.333333  ...   \n",
       "4       0.418584    0.271481    0.394263     0.448407        0.000000  ...   \n",
       "5       0.417682    0.270567    0.381327     0.439751        0.000000  ...   \n",
       "\n",
       "   Fireplace Qu_not_present  Garage Type_Attchd  Garage Type_Basment  \\\n",
       "1                         1                   1                    0   \n",
       "2                         1                   1                    0   \n",
       "3                         0                   1                    0   \n",
       "4                         0                   1                    0   \n",
       "5                         0                   1                    0   \n",
       "\n",
       "   Garage Type_BuiltIn  Garage Type_CarPort  Garage Type_Detchd  \\\n",
       "1                    0                    0                   0   \n",
       "2                    0                    0                   0   \n",
       "3                    0                    0                   0   \n",
       "4                    0                    0                   0   \n",
       "5                    0                    0                   0   \n",
       "\n",
       "   Garage Type_not_present  Garage Finish_RFn  Garage Finish_Unf  \\\n",
       "1                        0                  0                  1   \n",
       "2                        0                  0                  1   \n",
       "3                        0                  0                  0   \n",
       "4                        0                  0                  0   \n",
       "5                        0                  0                  0   \n",
       "\n",
       "   Garage Finish_not_present  \n",
       "1                          0  \n",
       "2                          0  \n",
       "3                          0  \n",
       "4                          0  \n",
       "5                          0  \n",
       "\n",
       "[5 rows x 94 columns]"
      ]
     },
     "execution_count": 20,
     "metadata": {},
     "output_type": "execute_result"
    }
   ],
   "source": [
    "engin_df.head()"
   ]
  },
  {
   "cell_type": "markdown",
   "metadata": {},
   "source": [
    "## (Numerical) Feature selection"
   ]
  },
  {
   "cell_type": "markdown",
   "metadata": {},
   "source": [
    "Now, all the potentially interesting numerical and categorical columns have been engineered and the categorical features have been selected. Before training the model, we still have to select those numerical features which correlate the most with the sale price and drop those with a very small variance or which are highly correlated (to avoid collinearity problems).\n",
    "\n",
    "We do this with the following function, which performs all operations automatically but in the end prints a heatmap for letting us \"see\" which are the most pairwise correlated features. The last selection step is thus up to us."
   ]
  },
  {
   "cell_type": "code",
   "execution_count": 21,
   "metadata": {},
   "outputs": [],
   "source": [
    "def select_num_features(engineered_data: pd.DataFrame, \n",
    "                        target: str, \n",
    "                        corr_thresh: float, var_thresh: float) -> pd.DataFrame:\n",
    "    '''\n",
    "    Perform the selection of numerical features according to their correlation with the target,\n",
    "    their variance and calculate the pairwise correlation of the remaining columns.\n",
    "    \n",
    "    Parameters:\n",
    "    -----------\n",
    "        - engineered_data: dataframe with cat. columns one-hot encoded with type 'uint'.\n",
    "        - target: target feature in the regression problem.\n",
    "        - corr_thresh: the num. cols with Pearson's r correlation > corr_thresh will be kept.\n",
    "        - var_thresh: the num. cols with variance > var_thresh will be kept.    \n",
    "    \n",
    "    Return:\n",
    "    -------\n",
    "        Dataframe with a selection of predictive numerical features.\n",
    "        Print a heatmap with pairwise correlation to help recognize redundant num. feats.    \n",
    "    '''\n",
    "       \n",
    "    # split numerical and categorical features from the engineered dataframe\n",
    "    num_feats_df = engineered_data.select_dtypes(exclude='uint8')\n",
    "    cat_feats_df = engineered_data.select_dtypes(include='uint8')\n",
    "    \n",
    "    # calculate correlation with target, select the most correlated\n",
    "    corr_with_target = num_feats_df.corr().abs()[target]\n",
    "    most_corr_cols = corr_with_target[corr_with_target > corr_thresh].index\n",
    "    most_corr_cols = most_corr_cols.drop(target)\n",
    "\n",
    "    # select variables with high variance\n",
    "    most_corr_variance = num_feats_df[most_corr_cols].var()\n",
    "    highest_variance_cols = most_corr_variance[most_corr_variance > var_thresh].index\n",
    "\n",
    "    # plot a heatmap to spot vars with high collinearity\n",
    "    fig, ax = plt.subplots(figsize=(12, 8))\n",
    "\n",
    "    final_corr_matr = engineered_data[highest_variance_cols].corr().abs()\n",
    "    mask = np.zeros_like(final_corr_matr, dtype=np.bool)\n",
    "    mask[np.triu_indices_from(mask)] = True  # define a mask for upper triangular matrix\n",
    "    \n",
    "    sns.heatmap(final_corr_matr,\n",
    "                mask=mask,\n",
    "                annot=True,\n",
    "                annot_kws = {\"size\": 8},\n",
    "                ax=ax)\n",
    "\n",
    "    fig.suptitle('Which numerical columns give redundant information?', weight='bold', fontsize=16)\n",
    "    ax.set_title('pairwise correlations (abs. value)', fontsize=15)\n",
    "\n",
    "    plt.show()\n",
    "    \n",
    "    return pd.concat([num_feats_df[highest_variance_cols], cat_feats_df, num_feats_df[target]], axis=1)"
   ]
  },
  {
   "cell_type": "code",
   "execution_count": 22,
   "metadata": {},
   "outputs": [
    {
     "data": {
      "image/png": "[encoded data removed]",
      "text/plain": [
       "<Figure size 864x576 with 2 Axes>"
      ]
     },
     "metadata": {},
     "output_type": "display_data"
    }
   ],
   "source": [
    "plt.style.use('ggplot')\n",
    "final_data_pairwise_corr = select_num_features(engin_df, 'SalePrice', .2, .001)"
   ]
  },
  {
   "cell_type": "markdown",
   "metadata": {},
   "source": [
    "Based on the correlations shown above, we decide to drop from the model the following columns (we keep `TotRms AbvGrd` because it's usually an important quantity):"
   ]
  },
  {
   "cell_type": "code",
   "execution_count": 23,
   "metadata": {},
   "outputs": [
    {
     "name": "stdout",
     "output_type": "stream",
     "text": [
      "(2655, 89)\n"
     ]
    },
    {
     "data": {
      "text/html": [
       "<div>\n",
       "<style scoped>\n",
       "    .dataframe tbody tr th:only-of-type {\n",
       "        vertical-align: middle;\n",
       "    }\n",
       "\n",
       "    .dataframe tbody tr th {\n",
       "        vertical-align: top;\n",
       "    }\n",
       "\n",
       "    .dataframe thead th {\n",
       "        text-align: right;\n",
       "    }\n",
       "</style>\n",
       "<table border=\"1\" class=\"dataframe\">\n",
       "  <thead>\n",
       "    <tr style=\"text-align: right;\">\n",
       "      <th></th>\n",
       "      <th>Lot Frontage</th>\n",
       "      <th>Lot Area</th>\n",
       "      <th>Mas Vnr Area</th>\n",
       "      <th>BsmtFin SF 1</th>\n",
       "      <th>Bsmt Unf SF</th>\n",
       "      <th>1st Flr SF</th>\n",
       "      <th>2nd Flr SF</th>\n",
       "      <th>Gr Liv Area</th>\n",
       "      <th>Full Bath</th>\n",
       "      <th>TotRms AbvGrd</th>\n",
       "      <th>...</th>\n",
       "      <th>Garage Type_Attchd</th>\n",
       "      <th>Garage Type_Basment</th>\n",
       "      <th>Garage Type_BuiltIn</th>\n",
       "      <th>Garage Type_CarPort</th>\n",
       "      <th>Garage Type_Detchd</th>\n",
       "      <th>Garage Type_not_present</th>\n",
       "      <th>Garage Finish_RFn</th>\n",
       "      <th>Garage Finish_Unf</th>\n",
       "      <th>Garage Finish_not_present</th>\n",
       "      <th>SalePrice</th>\n",
       "    </tr>\n",
       "  </thead>\n",
       "  <tbody>\n",
       "    <tr>\n",
       "      <th>1</th>\n",
       "      <td>0.584158</td>\n",
       "      <td>0.501750</td>\n",
       "      <td>0.000000</td>\n",
       "      <td>0.238168</td>\n",
       "      <td>0.126168</td>\n",
       "      <td>0.256856</td>\n",
       "      <td>0.000000</td>\n",
       "      <td>0.194598</td>\n",
       "      <td>0.25</td>\n",
       "      <td>0.3</td>\n",
       "      <td>...</td>\n",
       "      <td>1</td>\n",
       "      <td>0</td>\n",
       "      <td>0</td>\n",
       "      <td>0</td>\n",
       "      <td>0</td>\n",
       "      <td>0</td>\n",
       "      <td>0</td>\n",
       "      <td>1</td>\n",
       "      <td>0</td>\n",
       "      <td>105000</td>\n",
       "    </tr>\n",
       "    <tr>\n",
       "      <th>2</th>\n",
       "      <td>0.594059</td>\n",
       "      <td>0.630323</td>\n",
       "      <td>0.187500</td>\n",
       "      <td>0.469720</td>\n",
       "      <td>0.189720</td>\n",
       "      <td>0.454753</td>\n",
       "      <td>0.000000</td>\n",
       "      <td>0.344529</td>\n",
       "      <td>0.25</td>\n",
       "      <td>0.4</td>\n",
       "      <td>...</td>\n",
       "      <td>1</td>\n",
       "      <td>0</td>\n",
       "      <td>0</td>\n",
       "      <td>0</td>\n",
       "      <td>0</td>\n",
       "      <td>0</td>\n",
       "      <td>0</td>\n",
       "      <td>1</td>\n",
       "      <td>0</td>\n",
       "      <td>172000</td>\n",
       "    </tr>\n",
       "    <tr>\n",
       "      <th>3</th>\n",
       "      <td>0.712871</td>\n",
       "      <td>0.479292</td>\n",
       "      <td>0.000000</td>\n",
       "      <td>0.541985</td>\n",
       "      <td>0.488318</td>\n",
       "      <td>0.811700</td>\n",
       "      <td>0.000000</td>\n",
       "      <td>0.614958</td>\n",
       "      <td>0.50</td>\n",
       "      <td>0.6</td>\n",
       "      <td>...</td>\n",
       "      <td>1</td>\n",
       "      <td>0</td>\n",
       "      <td>0</td>\n",
       "      <td>0</td>\n",
       "      <td>0</td>\n",
       "      <td>0</td>\n",
       "      <td>0</td>\n",
       "      <td>0</td>\n",
       "      <td>0</td>\n",
       "      <td>244000</td>\n",
       "    </tr>\n",
       "    <tr>\n",
       "      <th>4</th>\n",
       "      <td>0.524752</td>\n",
       "      <td>0.609080</td>\n",
       "      <td>0.000000</td>\n",
       "      <td>0.402545</td>\n",
       "      <td>0.064019</td>\n",
       "      <td>0.271481</td>\n",
       "      <td>0.394263</td>\n",
       "      <td>0.448407</td>\n",
       "      <td>0.50</td>\n",
       "      <td>0.4</td>\n",
       "      <td>...</td>\n",
       "      <td>1</td>\n",
       "      <td>0</td>\n",
       "      <td>0</td>\n",
       "      <td>0</td>\n",
       "      <td>0</td>\n",
       "      <td>0</td>\n",
       "      <td>0</td>\n",
       "      <td>0</td>\n",
       "      <td>0</td>\n",
       "      <td>189900</td>\n",
       "    </tr>\n",
       "    <tr>\n",
       "      <th>5</th>\n",
       "      <td>0.564356</td>\n",
       "      <td>0.421836</td>\n",
       "      <td>0.034722</td>\n",
       "      <td>0.306361</td>\n",
       "      <td>0.151402</td>\n",
       "      <td>0.270567</td>\n",
       "      <td>0.381327</td>\n",
       "      <td>0.439751</td>\n",
       "      <td>0.50</td>\n",
       "      <td>0.5</td>\n",
       "      <td>...</td>\n",
       "      <td>1</td>\n",
       "      <td>0</td>\n",
       "      <td>0</td>\n",
       "      <td>0</td>\n",
       "      <td>0</td>\n",
       "      <td>0</td>\n",
       "      <td>0</td>\n",
       "      <td>0</td>\n",
       "      <td>0</td>\n",
       "      <td>195500</td>\n",
       "    </tr>\n",
       "  </tbody>\n",
       "</table>\n",
       "<p>5 rows × 89 columns</p>\n",
       "</div>"
      ],
      "text/plain": [
       "   Lot Frontage  Lot Area  Mas Vnr Area  BsmtFin SF 1  Bsmt Unf SF  \\\n",
       "1      0.584158  0.501750      0.000000      0.238168     0.126168   \n",
       "2      0.594059  0.630323      0.187500      0.469720     0.189720   \n",
       "3      0.712871  0.479292      0.000000      0.541985     0.488318   \n",
       "4      0.524752  0.609080      0.000000      0.402545     0.064019   \n",
       "5      0.564356  0.421836      0.034722      0.306361     0.151402   \n",
       "\n",
       "   1st Flr SF  2nd Flr SF  Gr Liv Area  Full Bath  TotRms AbvGrd  ...  \\\n",
       "1    0.256856    0.000000     0.194598       0.25            0.3  ...   \n",
       "2    0.454753    0.000000     0.344529       0.25            0.4  ...   \n",
       "3    0.811700    0.000000     0.614958       0.50            0.6  ...   \n",
       "4    0.271481    0.394263     0.448407       0.50            0.4  ...   \n",
       "5    0.270567    0.381327     0.439751       0.50            0.5  ...   \n",
       "\n",
       "   Garage Type_Attchd  Garage Type_Basment  Garage Type_BuiltIn  \\\n",
       "1                   1                    0                    0   \n",
       "2                   1                    0                    0   \n",
       "3                   1                    0                    0   \n",
       "4                   1                    0                    0   \n",
       "5                   1                    0                    0   \n",
       "\n",
       "   Garage Type_CarPort  Garage Type_Detchd  Garage Type_not_present  \\\n",
       "1                    0                   0                        0   \n",
       "2                    0                   0                        0   \n",
       "3                    0                   0                        0   \n",
       "4                    0                   0                        0   \n",
       "5                    0                   0                        0   \n",
       "\n",
       "   Garage Finish_RFn  Garage Finish_Unf  Garage Finish_not_present  SalePrice  \n",
       "1                  0                  1                          0     105000  \n",
       "2                  0                  1                          0     172000  \n",
       "3                  0                  0                          0     244000  \n",
       "4                  0                  0                          0     189900  \n",
       "5                  0                  0                          0     195500  \n",
       "\n",
       "[5 rows x 89 columns]"
      ]
     },
     "execution_count": 23,
     "metadata": {},
     "output_type": "execute_result"
    }
   ],
   "source": [
    "high_collinearity_cols = ['Total Bsmt SF', 'Bsmt Full Bath', 'Half Bath', 'Garage Area']\n",
    "\n",
    "final_data = final_data_pairwise_corr.drop(high_collinearity_cols, axis=1)\n",
    "print(final_data.shape)\n",
    "final_data.head()"
   ]
  },
  {
   "cell_type": "markdown",
   "metadata": {},
   "source": [
    "With the parameters and criteria used, the final model will use the following features:"
   ]
  },
  {
   "cell_type": "code",
   "execution_count": 24,
   "metadata": {},
   "outputs": [
    {
     "name": "stdout",
     "output_type": "stream",
     "text": [
      "\u001b[1mNumerical\u001b[0m: \n",
      "---------\n",
      "['Lot Frontage', 'Lot Area', 'Mas Vnr Area', 'BsmtFin SF 1', 'Bsmt Unf SF', '1st Flr SF', '2nd Flr SF', 'Gr Liv Area', 'Full Bath', 'TotRms AbvGrd', 'Fireplaces', 'Garage Cars', 'Wood Deck SF', 'Open Porch SF', 'Yrs remod to sold', 'Yrs built to sold']\n",
      "\n",
      "\u001b[1mCategorical\u001b[0m:\n",
      "-----------\n",
      "['Garage Type', 'Heating QC', 'Central Air', 'Foundation', 'Fireplace Qu', 'Garage Finish', 'Bsmt Qual', 'Kitchen Qual', 'Overall Qual', 'Exter Qual', 'Neighborhood']\n"
     ]
    }
   ],
   "source": [
    "print('\\033[1mNumerical\\033[0m:',  '\\n' + '-'*9)\n",
    "print(list(final_data.select_dtypes(exclude='uint8').drop('SalePrice', axis=1).columns))\n",
    "print()\n",
    "print('\\033[1mCategorical\\033[0m:' + '\\n' + '-'*11)\n",
    "print(selected_cat_cols)"
   ]
  },
  {
   "cell_type": "markdown",
   "metadata": {},
   "source": [
    "## Train and test univariate and multivariate models"
   ]
  },
  {
   "cell_type": "markdown",
   "metadata": {},
   "source": [
    "Time to see if our group of selected features can actually predict the house sale prices better than the best performing univariate models.<br/>\n",
    "The following function will take the dataset, fit it with a linear model and return the RMSE or the average RMSE (according to which validation procedure is chosen)."
   ]
  },
  {
   "cell_type": "code",
   "execution_count": 25,
   "metadata": {},
   "outputs": [],
   "source": [
    "def train_and_test(data: pd.DataFrame, target='SalePrice', k=9, rs=1) -> float:\n",
    "    '''\n",
    "    Train and test a linear regression model on the given dataset.\n",
    "    \n",
    "    Parameters:\n",
    "    -----------\n",
    "        - data: the cleaned and engineered dataset. All features will be used.\n",
    "        - target: target feature in the regression problem.\n",
    "        - k: 0 -> perform holdout validation;\n",
    "             1 -> perform simple cross-validation;\n",
    "            >1 -> perform k+1-fold validation.\n",
    "        - rs: random state for reproducibility.\n",
    "        \n",
    "    Return:\n",
    "    -------\n",
    "        RMSE or average RMSE of the model.    \n",
    "    '''\n",
    "    \n",
    "    # holdout validation\n",
    "    if k == 0:\n",
    "              \n",
    "        # define train and test sets\n",
    "        ind = int(len(data) / 2)\n",
    "        train = data[:ind]\n",
    "        test = data[ind:]\n",
    "\n",
    "        # fit a linear regression model on the train set\n",
    "        lr = LinearRegression()\n",
    "        X = train.drop(target, axis=1)\n",
    "        y = train[target]  \n",
    "        lr.fit(X, y)\n",
    "\n",
    "        # validate model on the test set\n",
    "        X_test = test.drop(target, axis=1)\n",
    "        y_true = test[target]\n",
    "        y_pred = lr.predict(X_test)\n",
    "        rmse = mean_squared_error(y_true, y_pred, squared=False)\n",
    "        \n",
    "    # simple cross validation    \n",
    "    elif k == 1:    \n",
    "        \n",
    "        # shuffle dataset\n",
    "        data_shu = data.sample(frac=1, random_state=rs)\n",
    "        \n",
    "        # define train and test sets\n",
    "        ind = int(len(data_shu) / 2)\n",
    "        fold_one = data_shu[:ind]\n",
    "        fold_two = data_shu[ind:]\n",
    "        \n",
    "        # train on fold_one, test on fold_two; then exchange\n",
    "        train_test = [(fold_one, fold_two), (fold_two, fold_one)]\n",
    "        rmses = []\n",
    "        for train, test in train_test:\n",
    "            lr = LinearRegression()\n",
    "            X = train.drop(target, axis=1)\n",
    "            y = train[target]  \n",
    "            lr.fit(X, y)\n",
    "            X_test = test.drop(target, axis=1)\n",
    "            y_true = test[target]\n",
    "            y_pred = lr.predict(X_test)\n",
    "            rmses.append(mean_squared_error(y_true, y_pred, squared=False))\n",
    "        rmse = np.mean(rmses)\n",
    "            \n",
    "    # k+1-fold cross validation\n",
    "    elif k >= 2:\n",
    "        lr = LinearRegression()\n",
    "        kfold = KFold(n_splits=k+1, shuffle=True, random_state=rs)\n",
    "        rmses = cross_val_score(lr, X=data.drop(target, axis=1), y=data[target], \n",
    "                                cv=kfold, scoring='neg_root_mean_squared_error')\n",
    "        # average RMSE will be returned\n",
    "        rmse = -np.mean(rmses)         \n",
    "    \n",
    "    return round(rmse)"
   ]
  },
  {
   "cell_type": "markdown",
   "metadata": {},
   "source": [
    "### - Univariate models"
   ]
  },
  {
   "cell_type": "markdown",
   "metadata": {},
   "source": [
    "Let's fit all the univariate models using the selected numerical features. We'll use a 10-fold cross validation to get the average root mean square error."
   ]
  },
  {
   "cell_type": "code",
   "execution_count": 26,
   "metadata": {},
   "outputs": [],
   "source": [
    "results = pd.Series([], dtype='float')\n",
    "\n",
    "for col in final_data.select_dtypes(exclude='uint8').drop('SalePrice', axis=1).columns:\n",
    "    results[col] = train_and_test(final_data[[str(col), 'SalePrice']], 'SalePrice', k=9, rs=45)"
   ]
  },
  {
   "cell_type": "code",
   "execution_count": 27,
   "metadata": {},
   "outputs": [
    {
     "name": "stdout",
     "output_type": "stream",
     "text": [
      "\u001b[1mResults\u001b[0m (avg RMSE in USD):\n",
      "\n",
      "Gr Liv Area          46195.0\n",
      "Garage Cars          48780.0\n",
      "Yrs built to sold    51229.0\n",
      "1st Flr SF           51877.0\n",
      "Yrs remod to sold    52852.0\n",
      "Full Bath            53064.0\n",
      "TotRms AbvGrd        57021.0\n",
      "Fireplaces           57706.0\n",
      "Mas Vnr Area         58217.0\n",
      "Open Porch SF        59628.0\n",
      "BsmtFin SF 1         59961.0\n",
      "Lot Area             60584.0\n",
      "Lot Frontage         60860.0\n",
      "Wood Deck SF         61318.0\n",
      "2nd Flr SF           62464.0\n",
      "Bsmt Unf SF          63297.0\n",
      "dtype: float64\n"
     ]
    },
    {
     "data": {
      "image/png": "[encoded data removed]",
      "text/plain": [
       "<Figure size 576x432 with 1 Axes>"
      ]
     },
     "metadata": {},
     "output_type": "display_data"
    }
   ],
   "source": [
    "print('\\033[1mResults\\033[0m (avg RMSE in USD):\\n')    \n",
    "print(results.sort_values())    \n",
    "\n",
    "# bar plot of rmse results\n",
    "fig, ax = plt.subplots(figsize=(8,6))\n",
    "results.sort_values(ascending=False).plot.barh(ax=ax)\n",
    "ax.set_title('Univariate models average errors', weight='bold')\n",
    "ax.set_xlabel('RMSE (USD)')\n",
    "plt.show()"
   ]
  },
  {
   "cell_type": "markdown",
   "metadata": {},
   "source": [
    "The **best univariate predictors** are the area above the ground, the size of garage in car capacity and how old the house is in years. Their average error in predicting the house prices is of the order of **46000 - 51000 USD**.<br/>\n",
    "The area above the ground and the house age are very reasonable as good predictors. More surprising, at least a priori, is the size of garage.\n",
    "\n",
    "Can we do better by combining several features?"
   ]
  },
  {
   "cell_type": "markdown",
   "metadata": {},
   "source": [
    "## - Multivariate models"
   ]
  },
  {
   "cell_type": "markdown",
   "metadata": {},
   "source": [
    "**1) Using all selected numerical features**"
   ]
  },
  {
   "cell_type": "markdown",
   "metadata": {},
   "source": [
    "As a first step, let's use **all the selected numerical features without any categorical**.<br/>\n",
    "We will use a 10-fold cross validation and fit the model for 100 values of random state, i.e. shuffle the dataset in 100 different ways. This way, we'll have a better idea of performance variations and consistency."
   ]
  },
  {
   "cell_type": "code",
   "execution_count": 33,
   "metadata": {},
   "outputs": [
    {
     "name": "stdout",
     "output_type": "stream",
     "text": [
      "count      100.000000\n",
      "mean     27186.950000\n",
      "std         31.935343\n",
      "min      27111.000000\n",
      "25%      27166.000000\n",
      "50%      27189.000000\n",
      "75%      27208.500000\n",
      "max      27271.000000\n",
      "dtype: float64\n"
     ]
    },
    {
     "data": {
      "image/png": "[encoded data removed]",
      "text/plain": [
       "<Figure size 576x432 with 1 Axes>"
      ]
     },
     "metadata": {},
     "output_type": "display_data"
    }
   ],
   "source": [
    "rmses = []\n",
    "for seed in range(0,100):\n",
    "    rmses.append(train_and_test(final_data.select_dtypes(exclude='uint8'), 'SalePrice', k=9, rs=seed))\n",
    "\n",
    "# show results statistcs    \n",
    "print(pd.Series(rmses).describe())\n",
    "fig, ax = plt.subplots(figsize=(8, 6))\n",
    "plt.hist(rmses, color='orange', alpha=.8)\n",
    "plt.title('Multivariate model performances\\n(using all selected numerical features)')\n",
    "plt.xlabel('average RMSE (USD)')\n",
    "plt.show()"
   ]
  },
  {
   "cell_type": "markdown",
   "metadata": {},
   "source": [
    "We clearly see that the model has improved with respect to the univariate case: in fact, we went from a best case RMSE of around **46000 USD** to a much lower **27000 USD**.<br/> \n",
    "The performance variations are within a hundred dollars, very consistent. "
   ]
  },
  {
   "cell_type": "markdown",
   "metadata": {},
   "source": [
    "**2) All selected numerical features + one categorical**"
   ]
  },
  {
   "cell_type": "markdown",
   "metadata": {},
   "source": [
    "Next we want to see how the model behaves when we add one categorical feature at a time."
   ]
  },
  {
   "cell_type": "code",
   "execution_count": 29,
   "metadata": {},
   "outputs": [],
   "source": [
    "rmses = pd.Series([], dtype='float')\n",
    "for i, col in enumerate(selected_cat_cols):\n",
    "    cat_cols = [column for column in final_data.columns if col in column]\n",
    "    # concat all numerical features with the categorical \"col\"\n",
    "    data = pd.concat([final_data.select_dtypes(exclude='uint8'), final_data[cat_cols]], axis=1)\n",
    "    rmses['num feats + ' + col] = train_and_test(data, k=9)  "
   ]
  },
  {
   "cell_type": "code",
   "execution_count": 30,
   "metadata": {},
   "outputs": [
    {
     "name": "stdout",
     "output_type": "stream",
     "text": [
      "\u001b[1mResults\u001b[0m (avg RMSE in USD):\n",
      "\n",
      "num feats + Overall Qual     21595.0\n",
      "num feats + Neighborhood     23810.0\n",
      "num feats + Exter Qual       24695.0\n",
      "num feats + Kitchen Qual     24766.0\n",
      "num feats + Bsmt Qual        25114.0\n",
      "num feats + Fireplace Qu     26404.0\n",
      "num feats + Foundation       26717.0\n",
      "num feats + Heating QC       26851.0\n",
      "num feats + Garage Finish    26949.0\n",
      "num feats + Garage Type      27153.0\n",
      "num feats + Central Air      27265.0\n",
      "dtype: float64\n"
     ]
    }
   ],
   "source": [
    "print('\\033[1mResults\\033[0m (avg RMSE in USD):\\n')\n",
    "print(rmses.sort_values())"
   ]
  },
  {
   "cell_type": "markdown",
   "metadata": {},
   "source": [
    "What we see is interesting: some categorical features significantly lower the average error by a few thousand dollars, others hardly have any impact. None of them worsen the model, though.\n",
    "\n",
    "The categorical features with **highest predictive power** seem to be: \n",
    "- **the overall quality** of the house (material and finishing)\n",
    "- **the neighborhood** where the house is located (as we had insisted intuitively)\n",
    "\n",
    "On the other hand, the type of garage (meaning garage location with respect to the house) and the presence of air conditioning seem to be much less important in determining the price.\n",
    "\n",
    "At the moment, our best performing model has an average error of about **21700 USD**."
   ]
  },
  {
   "cell_type": "markdown",
   "metadata": {},
   "source": [
    "**3) All selected numerical and categorical features**"
   ]
  },
  {
   "cell_type": "markdown",
   "metadata": {},
   "source": [
    "As a last step, let's use all the features we have selected in the previous part of the project."
   ]
  },
  {
   "cell_type": "code",
   "execution_count": 31,
   "metadata": {},
   "outputs": [
    {
     "name": "stdout",
     "output_type": "stream",
     "text": [
      "\u001b[1mResults\u001b[0m (avg RMSE in USD):\n",
      "\n",
      "19530.0\n",
      "19599.0\n",
      "19620.0\n",
      "19613.0\n",
      "19588.0\n"
     ]
    }
   ],
   "source": [
    "print('\\033[1mResults\\033[0m (avg RMSE in USD):\\n')\n",
    "for seed in range(5, 10):\n",
    "    print(train_and_test(final_data, 'SalePrice', k=9, rs=seed))"
   ]
  },
  {
   "cell_type": "markdown",
   "metadata": {},
   "source": [
    "This is the best performance among all the combinations we've tried: around **19600 USD**.<br/>"
   ]
  },
  {
   "cell_type": "markdown",
   "metadata": {},
   "source": [
    "## Summary of results and conclusions\n",
    "\n",
    "We recap the results of the previous section in a dataframe:"
   ]
  },
  {
   "cell_type": "code",
   "execution_count": 32,
   "metadata": {},
   "outputs": [
    {
     "name": "stdout",
     "output_type": "stream",
     "text": [
      "                                          RMSE (USD)  Performance improv. (%)\n",
      "\u001b[1mModel\u001b[0m                                                                \n",
      "Best univariate (above groud living area)      46195                      NaN\n",
      "Multivariate numerical                         27186                     41.1\n",
      "Multiv. numerical + Overall quality            21595                     20.6\n",
      "All selected features                          19600                      9.2\n"
     ]
    }
   ],
   "source": [
    "recap = pd.DataFrame(columns=['\\033[1mModel\\033[0m', 'RMSE (USD)', 'Performance improv. (%)'])\n",
    "\n",
    "recap.loc[0] = ('Best univariate (above groud living area)', 46195, np.nan)\n",
    "recap.loc[1] = ('Multivariate numerical', 27186, round((46195-27186)/46195 * 100, 1))\n",
    "recap.loc[2] = ('Multiv. numerical + Overall quality', 21595, round((27186 - 21595)/27186 * 100, 1))\n",
    "recap.loc[3] = ('All selected features', 19600, round((21595 - 19600)/21595  * 100,1))\n",
    "\n",
    "print(recap.set_index('\\033[1mModel\\033[0m'))"
   ]
  },
  {
   "cell_type": "markdown",
   "metadata": {},
   "source": [
    "Our goal in this project was to build a multivariate model for the prediction of house sale prices in Ames, Iowa, whose performances were significantly better than the univariate models. We obtained this result reducing the error by 41% with a multivariate numerical model, and then by improving this result by including 11 categorical features.\n",
    "\n",
    "**The best model can predict the house sale price with an average error of 19600 USD**.\n",
    "\n",
    "We also saw that feature engineering is a crucial step in building a working model: the two new features we defined (house age and years since remodeling) were among those selected as the best numerical predictors.<br/> Carefully reading the docs has proven to be a necessary step, because this gave precise meaning to features and allowed to discover that nan meaning was not trivial for categorical features.\n"
   ]
  }
 ],
 "metadata": {
  "kernelspec": {
   "display_name": "Python 3",
   "language": "python",
   "name": "python3"
  },
  "language_info": {
   "codemirror_mode": {
    "name": "ipython",
    "version": 3
   },
   "file_extension": ".py",
   "mimetype": "text/x-python",
   "name": "python",
   "nbconvert_exporter": "python",
   "pygments_lexer": "ipython3",
   "version": "3.8.8"
  }
 },
 "nbformat": 4,
 "nbformat_minor": 4
}
