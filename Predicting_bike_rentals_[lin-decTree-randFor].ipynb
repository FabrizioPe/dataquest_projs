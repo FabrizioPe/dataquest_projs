{
 "cells": [
  {
   "cell_type": "markdown",
   "id": "0817192c-bd65-4b99-a202-d8a47f3a882f",
   "metadata": {},
   "source": [
    "# **Predicting bike rentals in Washington D.C.**"
   ]
  },
  {
   "cell_type": "markdown",
   "id": "93e0ae43-9f60-47f2-aae7-4a8a931ef1f7",
   "metadata": {},
   "source": [
    "`tags: ML regression, linear models, decision trees, random forests`"
   ]
  },
  {
   "cell_type": "markdown",
   "id": "2186011a-e20b-48c5-897b-1aabed714368",
   "metadata": {},
   "source": [
    "## Introduction"
   ]
  },
  {
   "cell_type": "markdown",
   "id": "49793d71-c070-4382-8fdd-03e0fbe098b7",
   "metadata": {},
   "source": [
    "Lots of cities nowadays offer a bike sharing service which allows citizens to take a bike and conveniently leave it close to their destination. This service plays an important role in trying to reduce traffic, promote healthy habits and reduce air pollution.\n",
    "\n",
    "In this project we will use a dataset collected by [Hadi Fanaee-T](http://www.fanaee.com/), now at the University of Oslo.<br/>\n",
    "You can download it at the [UCI dataset repository](http://archive.ics.uci.edu/ml/datasets/Bike+Sharing+Dataset).<br/>\n",
    "The dataset contains the daily and hourly count of rental bike for the years 2011 and 2012 in Washington D.C.: each row represent a day/hour and provides some related information, like temperature, humidity, day of the week, weather situation etc.\n",
    "\n",
    "**Important preliminary note**: while exploring the dataset and trying to obtain the best model, I found lots a few conceptual problems (e.g. the treatment of categorical variables, why the model performs better with variables I would rather drop etc.) which were not addressed, or even mentioned, nor in the project instructions or the solution notebook.<br/>\n",
    "I made quite a bit of research regarding these doubts, but still couldn't come up with precise answers for my \"why's\". I will highlight the problems as we encounter them: the idea is to potentially come back in the future when I'll have more theoretical tools. These projects are more of study material rather than mature solutions to real-world tasks."
   ]
  },
  {
   "cell_type": "markdown",
   "id": "ee2b7022-58cc-4889-84c2-669bca5956c5",
   "metadata": {},
   "source": [
    "## Project's goal"
   ]
  },
  {
   "cell_type": "markdown",
   "id": "50c9a38b-bd23-4f75-b378-dfd8e52b376b",
   "metadata": {},
   "source": [
    "The goal is to predict the number bike rentals by using three different approaches:\n",
    "- linear regression model;\n",
    "- decision tree;\n",
    "- random forest.\n",
    "\n",
    "We expect to obtain increasingly better performances by moving from simple linear model to decision trees-based models.<br/>\n",
    "\n",
    "The **target variable** is the **hourly count** of bike rentals.<br/>\n",
    "The performances are measured using the **root mean squared error** (RMSE from now on)."
   ]
  },
  {
   "cell_type": "markdown",
   "id": "5b6c3e67-0aef-48d6-9ec7-a0949f51efa2",
   "metadata": {},
   "source": [
    "## Modules and parameters for the project"
   ]
  },
  {
   "cell_type": "code",
   "execution_count": 1,
   "id": "e7ef7e18-77f9-43c1-8929-6502113cab22",
   "metadata": {},
   "outputs": [],
   "source": [
    "import matplotlib.pyplot as plt\n",
    "import numpy as np\n",
    "import os\n",
    "import pandas as pd\n",
    "import seaborn as sns\n",
    "\n",
    "# machine learning functionalities\n",
    "from sklearn.metrics import mean_squared_error\n",
    "from sklearn.linear_model import LinearRegression\n",
    "from sklearn.tree import DecisionTreeRegressor\n",
    "from sklearn.ensemble import RandomForestRegressor"
   ]
  },
  {
   "cell_type": "code",
   "execution_count": 2,
   "id": "e87178ea-ad20-4642-a0ef-31154cfd77a9",
   "metadata": {},
   "outputs": [],
   "source": [
    "# global random state for reproducibility\n",
    "rs = 1"
   ]
  },
  {
   "cell_type": "markdown",
   "id": "09d6126d-b1e3-420f-9a6e-40b5a631a45f",
   "metadata": {},
   "source": [
    "## Loading and exploring the dataset"
   ]
  },
  {
   "cell_type": "markdown",
   "id": "2ff3d33d-b581-4fb2-9754-0b6e32e2dfc6",
   "metadata": {},
   "source": [
    "Let's load the dataset from its local copy and take a look at its features."
   ]
  },
  {
   "cell_type": "code",
   "execution_count": 3,
   "id": "8db3a63c-97d0-414f-9827-cd28d2eaed52",
   "metadata": {},
   "outputs": [
    {
     "data": {
      "text/html": [
       "<div>\n",
       "<style scoped>\n",
       "    .dataframe tbody tr th:only-of-type {\n",
       "        vertical-align: middle;\n",
       "    }\n",
       "\n",
       "    .dataframe tbody tr th {\n",
       "        vertical-align: top;\n",
       "    }\n",
       "\n",
       "    .dataframe thead th {\n",
       "        text-align: right;\n",
       "    }\n",
       "</style>\n",
       "<table border=\"1\" class=\"dataframe\">\n",
       "  <thead>\n",
       "    <tr style=\"text-align: right;\">\n",
       "      <th></th>\n",
       "      <th>instant</th>\n",
       "      <th>dteday</th>\n",
       "      <th>season</th>\n",
       "      <th>yr</th>\n",
       "      <th>mnth</th>\n",
       "      <th>hr</th>\n",
       "      <th>holiday</th>\n",
       "      <th>weekday</th>\n",
       "      <th>workingday</th>\n",
       "      <th>weathersit</th>\n",
       "      <th>temp</th>\n",
       "      <th>atemp</th>\n",
       "      <th>hum</th>\n",
       "      <th>windspeed</th>\n",
       "      <th>casual</th>\n",
       "      <th>registered</th>\n",
       "      <th>cnt</th>\n",
       "    </tr>\n",
       "  </thead>\n",
       "  <tbody>\n",
       "    <tr>\n",
       "      <th>0</th>\n",
       "      <td>1</td>\n",
       "      <td>2011-01-01</td>\n",
       "      <td>1</td>\n",
       "      <td>0</td>\n",
       "      <td>1</td>\n",
       "      <td>0</td>\n",
       "      <td>0</td>\n",
       "      <td>6</td>\n",
       "      <td>0</td>\n",
       "      <td>1</td>\n",
       "      <td>0.24</td>\n",
       "      <td>0.2879</td>\n",
       "      <td>0.81</td>\n",
       "      <td>0.0</td>\n",
       "      <td>3</td>\n",
       "      <td>13</td>\n",
       "      <td>16</td>\n",
       "    </tr>\n",
       "    <tr>\n",
       "      <th>1</th>\n",
       "      <td>2</td>\n",
       "      <td>2011-01-01</td>\n",
       "      <td>1</td>\n",
       "      <td>0</td>\n",
       "      <td>1</td>\n",
       "      <td>1</td>\n",
       "      <td>0</td>\n",
       "      <td>6</td>\n",
       "      <td>0</td>\n",
       "      <td>1</td>\n",
       "      <td>0.22</td>\n",
       "      <td>0.2727</td>\n",
       "      <td>0.80</td>\n",
       "      <td>0.0</td>\n",
       "      <td>8</td>\n",
       "      <td>32</td>\n",
       "      <td>40</td>\n",
       "    </tr>\n",
       "    <tr>\n",
       "      <th>2</th>\n",
       "      <td>3</td>\n",
       "      <td>2011-01-01</td>\n",
       "      <td>1</td>\n",
       "      <td>0</td>\n",
       "      <td>1</td>\n",
       "      <td>2</td>\n",
       "      <td>0</td>\n",
       "      <td>6</td>\n",
       "      <td>0</td>\n",
       "      <td>1</td>\n",
       "      <td>0.22</td>\n",
       "      <td>0.2727</td>\n",
       "      <td>0.80</td>\n",
       "      <td>0.0</td>\n",
       "      <td>5</td>\n",
       "      <td>27</td>\n",
       "      <td>32</td>\n",
       "    </tr>\n",
       "    <tr>\n",
       "      <th>3</th>\n",
       "      <td>4</td>\n",
       "      <td>2011-01-01</td>\n",
       "      <td>1</td>\n",
       "      <td>0</td>\n",
       "      <td>1</td>\n",
       "      <td>3</td>\n",
       "      <td>0</td>\n",
       "      <td>6</td>\n",
       "      <td>0</td>\n",
       "      <td>1</td>\n",
       "      <td>0.24</td>\n",
       "      <td>0.2879</td>\n",
       "      <td>0.75</td>\n",
       "      <td>0.0</td>\n",
       "      <td>3</td>\n",
       "      <td>10</td>\n",
       "      <td>13</td>\n",
       "    </tr>\n",
       "    <tr>\n",
       "      <th>4</th>\n",
       "      <td>5</td>\n",
       "      <td>2011-01-01</td>\n",
       "      <td>1</td>\n",
       "      <td>0</td>\n",
       "      <td>1</td>\n",
       "      <td>4</td>\n",
       "      <td>0</td>\n",
       "      <td>6</td>\n",
       "      <td>0</td>\n",
       "      <td>1</td>\n",
       "      <td>0.24</td>\n",
       "      <td>0.2879</td>\n",
       "      <td>0.75</td>\n",
       "      <td>0.0</td>\n",
       "      <td>0</td>\n",
       "      <td>1</td>\n",
       "      <td>1</td>\n",
       "    </tr>\n",
       "  </tbody>\n",
       "</table>\n",
       "</div>"
      ],
      "text/plain": [
       "   instant     dteday  season  yr  mnth  hr  holiday  weekday  workingday  \\\n",
       "0        1 2011-01-01       1   0     1   0        0        6           0   \n",
       "1        2 2011-01-01       1   0     1   1        0        6           0   \n",
       "2        3 2011-01-01       1   0     1   2        0        6           0   \n",
       "3        4 2011-01-01       1   0     1   3        0        6           0   \n",
       "4        5 2011-01-01       1   0     1   4        0        6           0   \n",
       "\n",
       "   weathersit  temp   atemp   hum  windspeed  casual  registered  cnt  \n",
       "0           1  0.24  0.2879  0.81        0.0       3          13   16  \n",
       "1           1  0.22  0.2727  0.80        0.0       8          32   40  \n",
       "2           1  0.22  0.2727  0.80        0.0       5          27   32  \n",
       "3           1  0.24  0.2879  0.75        0.0       3          10   13  \n",
       "4           1  0.24  0.2879  0.75        0.0       0           1    1  "
      ]
     },
     "execution_count": 3,
     "metadata": {},
     "output_type": "execute_result"
    }
   ],
   "source": [
    "local_path_to_data = os.path.join(os.curdir, 'datasets', 'hourly_data.csv')\n",
    "bike_rentals = pd.read_csv(local_path_to_data, delimiter=',', parse_dates=['dteday'])\n",
    "\n",
    "bike_rentals.head()"
   ]
  },
  {
   "cell_type": "markdown",
   "id": "bb2e09af-9cb9-4d26-90da-16c1192f0d2e",
   "metadata": {},
   "source": [
    "In the `Readme.txt` file of the zip folder, we find the following dicitonary for the features\n",
    "\n",
    "- instant: record index\n",
    "- dteday : date\n",
    "- season : season (1:springer, 2:summer, 3:fall, 4:winter)\n",
    "- yr : year (0: 2011, 1:2012)\n",
    "- mnth : month (1 to 12)\n",
    "- hr : hour (0 to 23)\n",
    "- holiday : wether day is holiday or not\n",
    "- weekday : day of the week\n",
    "- workingday : if day is neither weekend nor holiday is 1, otherwise is 0.\n",
    "- weathersit : \n",
    "    - 1: Clear, Few clouds, Partly cloudy, Partly cloudy\n",
    "    - 2: Mist + Cloudy, Mist + Broken clouds, Mist + Few clouds, Mist\n",
    "    - 3: Light Snow, Light Rain + Thunderstorm + Scattered clouds, Light Rain + Scattered clouds\n",
    "    - 4: Heavy Rain + Ice Pallets + Thunderstorm + Mist, Snow + Fog\n",
    "- temp : Normalized temperature in Celsius. The values are divided to 41 (max)\n",
    "- atemp: Normalized feeling temperature in Celsius. The values are divided to 50 (max)\n",
    "- hum: Normalized humidity. The values are divided to 100 (max)\n",
    "- windspeed: Normalized wind speed. The values are divided to 67 (max)\n",
    "- casual: count of casual users\n",
    "- registered: count of registered users\n",
    "- cnt: count of total rental bikes including both casual and registered"
   ]
  },
  {
   "cell_type": "markdown",
   "id": "4d14c243-37f5-4aa6-a4fa-a9242841d2a4",
   "metadata": {},
   "source": [
    "`cnt` is our target varible, which is the sum of `casual` and `registered`."
   ]
  },
  {
   "cell_type": "code",
   "execution_count": 4,
   "id": "88f142a9-ac7c-4d8e-91d1-4a1bc8be1503",
   "metadata": {},
   "outputs": [
    {
     "name": "stdout",
     "output_type": "stream",
     "text": [
      "<class 'pandas.core.frame.DataFrame'>\n",
      "RangeIndex: 17379 entries, 0 to 17378\n",
      "Data columns (total 17 columns):\n",
      " #   Column      Non-Null Count  Dtype         \n",
      "---  ------      --------------  -----         \n",
      " 0   instant     17379 non-null  int64         \n",
      " 1   dteday      17379 non-null  datetime64[ns]\n",
      " 2   season      17379 non-null  int64         \n",
      " 3   yr          17379 non-null  int64         \n",
      " 4   mnth        17379 non-null  int64         \n",
      " 5   hr          17379 non-null  int64         \n",
      " 6   holiday     17379 non-null  int64         \n",
      " 7   weekday     17379 non-null  int64         \n",
      " 8   workingday  17379 non-null  int64         \n",
      " 9   weathersit  17379 non-null  int64         \n",
      " 10  temp        17379 non-null  float64       \n",
      " 11  atemp       17379 non-null  float64       \n",
      " 12  hum         17379 non-null  float64       \n",
      " 13  windspeed   17379 non-null  float64       \n",
      " 14  casual      17379 non-null  int64         \n",
      " 15  registered  17379 non-null  int64         \n",
      " 16  cnt         17379 non-null  int64         \n",
      "dtypes: datetime64[ns](1), float64(4), int64(12)\n",
      "memory usage: 2.3 MB\n"
     ]
    }
   ],
   "source": [
    "bike_rentals.info()"
   ]
  },
  {
   "cell_type": "markdown",
   "id": "5db19c4f-7fc2-4457-a387-438ddc1df2fd",
   "metadata": {},
   "source": [
    "There are no missing values.\n",
    "\n",
    "Considering the model we want to build, we start by removing a few columns which are not significant as predictors.<br/>\n",
    "We'll also remove `casual` and `registered` because they're not known for unseen data.\n",
    "\n",
    "**Tricky point**: I would have dropped the year variable, `yr`, because it represents the 2011 (0) and 2012 (1) year. If we want to use the data to predict bike rentals for other dates (i.e. make the model year-agnostic) it doesn't make sense to include it. **But**, the models perform better when the year column is included. I learned this by reading another project. I'll include it too, but conceptually it doesn't make sense to me."
   ]
  },
  {
   "cell_type": "code",
   "execution_count": 5,
   "id": "0889b12b-c72c-47a1-83b0-308d52e867c0",
   "metadata": {},
   "outputs": [],
   "source": [
    "bike_rentals.drop(['instant', 'dteday', 'casual', 'registered'], axis=1, inplace=True)"
   ]
  },
  {
   "cell_type": "markdown",
   "id": "13ee02b1-f955-4b2e-a012-749d11b4de93",
   "metadata": {},
   "source": [
    "Let's explore the distribution of the target variable:"
   ]
  },
  {
   "cell_type": "code",
   "execution_count": 6,
   "id": "7161d8a8-6a52-4f56-a1f5-b52f66b1bcf9",
   "metadata": {},
   "outputs": [
    {
     "data": {
      "image/png": "[encoded data removed]",
      "text/plain": [
       "<Figure size 432x288 with 1 Axes>"
      ]
     },
     "metadata": {
      "needs_background": "light"
     },
     "output_type": "display_data"
    }
   ],
   "source": [
    "bike_rentals.cnt.hist()\n",
    "plt.xlabel('hourly bike rentals', fontsize=13)\n",
    "plt.ylabel('frequency')\n",
    "plt.show()"
   ]
  },
  {
   "cell_type": "markdown",
   "id": "bf7d3dfc-8b16-45cf-bf3a-3a4be4e383a1",
   "metadata": {},
   "source": [
    "We see that the bulk of the distribution is in the 0-200 range."
   ]
  },
  {
   "cell_type": "markdown",
   "id": "2841416b-1b65-414c-b43a-b81ac14803e8",
   "metadata": {},
   "source": [
    "Finally, let's consider the correlation of the numeric variables with the target column."
   ]
  },
  {
   "cell_type": "code",
   "execution_count": 7,
   "id": "bdfe6748-7ee4-4925-9b50-59f67c1d738a",
   "metadata": {},
   "outputs": [
    {
     "data": {
      "text/plain": [
       "cnt          1.000000\n",
       "temp         0.404772\n",
       "atemp        0.400929\n",
       "windspeed    0.093234\n",
       "hum         -0.322911\n",
       "Name: cnt, dtype: float64"
      ]
     },
     "execution_count": 7,
     "metadata": {},
     "output_type": "execute_result"
    }
   ],
   "source": [
    "bike_rentals[['temp', 'atemp', 'hum', 'windspeed', 'cnt']].corr().cnt.sort_values(ascending=False)"
   ]
  },
  {
   "cell_type": "markdown",
   "id": "f61e819d-11cb-4b4b-8333-3db6204ba64b",
   "metadata": {},
   "source": [
    "Temperature and humidity are quite connected to the bike rentals, the speed of wind much less.\n",
    "\n",
    "We also expect temperature and adjusted temperature to be highly correlated:"
   ]
  },
  {
   "cell_type": "code",
   "execution_count": 8,
   "id": "86252351-9434-4503-b2ad-52e03b9b8ea5",
   "metadata": {},
   "outputs": [
    {
     "data": {
      "text/plain": [
       "0.988"
      ]
     },
     "execution_count": 8,
     "metadata": {},
     "output_type": "execute_result"
    }
   ],
   "source": [
    "round(bike_rentals.corr().atemp.temp, 3)"
   ]
  },
  {
   "cell_type": "markdown",
   "id": "c8fd69ca-d719-4390-ac30-c41d2ea198fa",
   "metadata": {},
   "source": [
    "Yep. Now, it's generally advised to remove highly correlated features, but again I found that the models for some reason perform better by including it.<br/>\n",
    "Actually, [this article](https://statisticsbyjim.com/regression/multicollinearity-in-regression-analysis/) makes some points about including redundant variables when the goal is prediction, which is our case. Because of this, `atemp` will not be dropped."
   ]
  },
  {
   "cell_type": "markdown",
   "id": "72e95c95-4a29-4f89-8c20-3def3c175128",
   "metadata": {},
   "source": [
    "## Feature engineering"
   ]
  },
  {
   "cell_type": "markdown",
   "id": "f5bb3d80-40f9-4cca-bab3-dbfc6aabd7d3",
   "metadata": {},
   "source": [
    "The dataset contains a hourly account of bike rentals. It can be convenient to group the hour of the day (from 0 to 23) in more coarse-grained groups (morning hours, afternoon hours etc.) so to give the algorithms a hint."
   ]
  },
  {
   "cell_type": "code",
   "execution_count": 9,
   "id": "2062b1f2-01e7-457f-8543-37f651b6a7fc",
   "metadata": {},
   "outputs": [],
   "source": [
    "def assign_label(hour) -> int:\n",
    "    \"\"\"\n",
    "    Take the hour of the day and classify it as morning, afternoon, evening or night.\n",
    "    \n",
    "    1: morning hours (6 to 11)\n",
    "    2: afternoon hours (12 to 17)\n",
    "    3: evening hours (18 to 23)\n",
    "    4: night hours (0 to 5)\n",
    "    \"\"\"\n",
    "    \n",
    "    if hour in range(6, 12):\n",
    "        return 1\n",
    "    elif hour in range(12, 18):\n",
    "        return 2\n",
    "    elif hour in range(18, 24):\n",
    "        return 3\n",
    "    else:\n",
    "        return 4\n",
    "    \n",
    "# apply the function to the \"hr\" column    \n",
    "bike_rentals['time_label'] = bike_rentals.hr.apply(assign_label) "
   ]
  },
  {
   "cell_type": "markdown",
   "id": "2d0d745b-bfd3-4bb8-9ac6-4a5b26ff7ff1",
   "metadata": {},
   "source": [
    "Again, we should drop the `hr` column now that the time label has been created, but I found the models perform better when hours are included."
   ]
  },
  {
   "cell_type": "markdown",
   "id": "26f25244-5634-470d-9b02-813dce43cd7b",
   "metadata": {},
   "source": [
    "## Notes on the problem of categorical variables encoding"
   ]
  },
  {
   "cell_type": "markdown",
   "id": "04279f49-be12-48f4-be7a-1f9a264e06ca",
   "metadata": {},
   "source": [
    "The dataset contains three numerical features and a few categorical variables (e.g. `weekday`, `weathersit`, `season`)."
   ]
  },
  {
   "cell_type": "markdown",
   "id": "b63b9d51-1ca1-4790-b508-949efe450498",
   "metadata": {},
   "source": [
    "While numerical features are fine as they are, we must consider the encoding of categorical variables before the creation of the train and test datasets.<br/>\n",
    "As far as linear regression is concerned, all the sources I consulted in the past agree on using one-hot encoding for nominal categorical variables; the situation is more nuanced for decision trees. In fact, in the [sklearn docs on DTs](https://scikit-learn.org/stable/modules/tree.html#tree), you read that **\"scikit-learn implementation does not support categorical variables for now\"**. This is a bit disappointing, especially considering that the problem is known and still not solved (check [this GitHub official discussion](https://github.com/scikit-learn/scikit-learn/issues/12398)).\n",
    "It seems that different persons have different opinions about the issue, and one of the most solid references is [this article](https://medium.com/data-design/visiting-categorical-features-and-encoding-in-decision-trees-53400fa65931) where the author tried different approaches. The result, at least for the dataset she uses, is that both one-hot encoding and numerical encoding (i.e. leaving the categorical features as they are at the moment) can give satisfying results. I have no better hint than trying both of them."
   ]
  },
  {
   "cell_type": "markdown",
   "id": "8bfa398e-c341-400c-977f-15476ba0791b",
   "metadata": {},
   "source": [
    "## Creating train and test datasets"
   ]
  },
  {
   "cell_type": "markdown",
   "id": "fb5ad937-f6c2-4614-87a9-a2f7a71e461f",
   "metadata": {},
   "source": [
    "Considering the problem mentioned in the previous paragraph, we will create two train/test pairs, one with numerical encoding, the other with one-hot encoding.<br/>\n",
    "We'll use a 80/20 proportion."
   ]
  },
  {
   "cell_type": "code",
   "execution_count": 10,
   "id": "31f7d664-1161-46cd-af1f-fa4f7fc1edef",
   "metadata": {},
   "outputs": [],
   "source": [
    "# numerical encoding\n",
    "train = bike_rentals.sample(frac=.8, random_state=rs).copy()\n",
    "test = bike_rentals.loc[~bike_rentals.index.isin(train.index)].copy()\n",
    "\n",
    "# one-hot encoding\n",
    "cols_one_hot_encode = ['weathersit', 'season', 'mnth', 'weekday', 'time_label', 'hr']\n",
    "train_ohe = pd.get_dummies(train, columns=cols_one_hot_encode).copy()\n",
    "test_ohe = pd.get_dummies(test, columns=cols_one_hot_encode).copy()"
   ]
  },
  {
   "cell_type": "code",
   "execution_count": 11,
   "id": "e7bab26c-02fa-4bfd-a43a-955a547b18fc",
   "metadata": {},
   "outputs": [
    {
     "name": "stdout",
     "output_type": "stream",
     "text": [
      "(13903, 14)\n",
      "(3476, 14)\n"
     ]
    },
    {
     "data": {
      "text/html": [
       "<div>\n",
       "<style scoped>\n",
       "    .dataframe tbody tr th:only-of-type {\n",
       "        vertical-align: middle;\n",
       "    }\n",
       "\n",
       "    .dataframe tbody tr th {\n",
       "        vertical-align: top;\n",
       "    }\n",
       "\n",
       "    .dataframe thead th {\n",
       "        text-align: right;\n",
       "    }\n",
       "</style>\n",
       "<table border=\"1\" class=\"dataframe\">\n",
       "  <thead>\n",
       "    <tr style=\"text-align: right;\">\n",
       "      <th></th>\n",
       "      <th>season</th>\n",
       "      <th>yr</th>\n",
       "      <th>mnth</th>\n",
       "      <th>hr</th>\n",
       "      <th>holiday</th>\n",
       "      <th>weekday</th>\n",
       "      <th>workingday</th>\n",
       "      <th>weathersit</th>\n",
       "      <th>temp</th>\n",
       "      <th>atemp</th>\n",
       "      <th>hum</th>\n",
       "      <th>windspeed</th>\n",
       "      <th>cnt</th>\n",
       "      <th>time_label</th>\n",
       "    </tr>\n",
       "  </thead>\n",
       "  <tbody>\n",
       "    <tr>\n",
       "      <th>15652</th>\n",
       "      <td>4</td>\n",
       "      <td>1</td>\n",
       "      <td>10</td>\n",
       "      <td>9</td>\n",
       "      <td>0</td>\n",
       "      <td>5</td>\n",
       "      <td>1</td>\n",
       "      <td>2</td>\n",
       "      <td>0.54</td>\n",
       "      <td>0.5152</td>\n",
       "      <td>0.94</td>\n",
       "      <td>0.1045</td>\n",
       "      <td>389</td>\n",
       "      <td>1</td>\n",
       "    </tr>\n",
       "    <tr>\n",
       "      <th>3085</th>\n",
       "      <td>2</td>\n",
       "      <td>0</td>\n",
       "      <td>5</td>\n",
       "      <td>11</td>\n",
       "      <td>0</td>\n",
       "      <td>5</td>\n",
       "      <td>1</td>\n",
       "      <td>2</td>\n",
       "      <td>0.52</td>\n",
       "      <td>0.5000</td>\n",
       "      <td>0.83</td>\n",
       "      <td>0.1642</td>\n",
       "      <td>146</td>\n",
       "      <td>1</td>\n",
       "    </tr>\n",
       "    <tr>\n",
       "      <th>1684</th>\n",
       "      <td>1</td>\n",
       "      <td>0</td>\n",
       "      <td>3</td>\n",
       "      <td>19</td>\n",
       "      <td>0</td>\n",
       "      <td>2</td>\n",
       "      <td>1</td>\n",
       "      <td>2</td>\n",
       "      <td>0.34</td>\n",
       "      <td>0.3182</td>\n",
       "      <td>0.71</td>\n",
       "      <td>0.2836</td>\n",
       "      <td>152</td>\n",
       "      <td>3</td>\n",
       "    </tr>\n",
       "    <tr>\n",
       "      <th>10555</th>\n",
       "      <td>1</td>\n",
       "      <td>1</td>\n",
       "      <td>3</td>\n",
       "      <td>22</td>\n",
       "      <td>0</td>\n",
       "      <td>2</td>\n",
       "      <td>1</td>\n",
       "      <td>1</td>\n",
       "      <td>0.54</td>\n",
       "      <td>0.5152</td>\n",
       "      <td>0.77</td>\n",
       "      <td>0.0000</td>\n",
       "      <td>188</td>\n",
       "      <td>3</td>\n",
       "    </tr>\n",
       "    <tr>\n",
       "      <th>14622</th>\n",
       "      <td>3</td>\n",
       "      <td>1</td>\n",
       "      <td>9</td>\n",
       "      <td>11</td>\n",
       "      <td>0</td>\n",
       "      <td>4</td>\n",
       "      <td>1</td>\n",
       "      <td>3</td>\n",
       "      <td>0.70</td>\n",
       "      <td>0.6667</td>\n",
       "      <td>0.84</td>\n",
       "      <td>0.1642</td>\n",
       "      <td>62</td>\n",
       "      <td>1</td>\n",
       "    </tr>\n",
       "  </tbody>\n",
       "</table>\n",
       "</div>"
      ],
      "text/plain": [
       "       season  yr  mnth  hr  holiday  weekday  workingday  weathersit  temp  \\\n",
       "15652       4   1    10   9        0        5           1           2  0.54   \n",
       "3085        2   0     5  11        0        5           1           2  0.52   \n",
       "1684        1   0     3  19        0        2           1           2  0.34   \n",
       "10555       1   1     3  22        0        2           1           1  0.54   \n",
       "14622       3   1     9  11        0        4           1           3  0.70   \n",
       "\n",
       "        atemp   hum  windspeed  cnt  time_label  \n",
       "15652  0.5152  0.94     0.1045  389           1  \n",
       "3085   0.5000  0.83     0.1642  146           1  \n",
       "1684   0.3182  0.71     0.2836  152           3  \n",
       "10555  0.5152  0.77     0.0000  188           3  \n",
       "14622  0.6667  0.84     0.1642   62           1  "
      ]
     },
     "execution_count": 11,
     "metadata": {},
     "output_type": "execute_result"
    }
   ],
   "source": [
    "print(train.shape)\n",
    "print(test.shape)\n",
    "train.head()"
   ]
  },
  {
   "cell_type": "code",
   "execution_count": 12,
   "id": "9b0aa471-11da-433d-a453-cd15a0bb8e7e",
   "metadata": {},
   "outputs": [
    {
     "data": {
      "text/html": [
       "<div>\n",
       "<style scoped>\n",
       "    .dataframe tbody tr th:only-of-type {\n",
       "        vertical-align: middle;\n",
       "    }\n",
       "\n",
       "    .dataframe tbody tr th {\n",
       "        vertical-align: top;\n",
       "    }\n",
       "\n",
       "    .dataframe thead th {\n",
       "        text-align: right;\n",
       "    }\n",
       "</style>\n",
       "<table border=\"1\" class=\"dataframe\">\n",
       "  <thead>\n",
       "    <tr style=\"text-align: right;\">\n",
       "      <th></th>\n",
       "      <th>yr</th>\n",
       "      <th>holiday</th>\n",
       "      <th>workingday</th>\n",
       "      <th>temp</th>\n",
       "      <th>atemp</th>\n",
       "      <th>hum</th>\n",
       "      <th>windspeed</th>\n",
       "      <th>cnt</th>\n",
       "      <th>weathersit_1</th>\n",
       "      <th>weathersit_2</th>\n",
       "      <th>...</th>\n",
       "      <th>hr_14</th>\n",
       "      <th>hr_15</th>\n",
       "      <th>hr_16</th>\n",
       "      <th>hr_17</th>\n",
       "      <th>hr_18</th>\n",
       "      <th>hr_19</th>\n",
       "      <th>hr_20</th>\n",
       "      <th>hr_21</th>\n",
       "      <th>hr_22</th>\n",
       "      <th>hr_23</th>\n",
       "    </tr>\n",
       "  </thead>\n",
       "  <tbody>\n",
       "    <tr>\n",
       "      <th>15652</th>\n",
       "      <td>1</td>\n",
       "      <td>0</td>\n",
       "      <td>1</td>\n",
       "      <td>0.54</td>\n",
       "      <td>0.5152</td>\n",
       "      <td>0.94</td>\n",
       "      <td>0.1045</td>\n",
       "      <td>389</td>\n",
       "      <td>0</td>\n",
       "      <td>1</td>\n",
       "      <td>...</td>\n",
       "      <td>0</td>\n",
       "      <td>0</td>\n",
       "      <td>0</td>\n",
       "      <td>0</td>\n",
       "      <td>0</td>\n",
       "      <td>0</td>\n",
       "      <td>0</td>\n",
       "      <td>0</td>\n",
       "      <td>0</td>\n",
       "      <td>0</td>\n",
       "    </tr>\n",
       "    <tr>\n",
       "      <th>3085</th>\n",
       "      <td>0</td>\n",
       "      <td>0</td>\n",
       "      <td>1</td>\n",
       "      <td>0.52</td>\n",
       "      <td>0.5000</td>\n",
       "      <td>0.83</td>\n",
       "      <td>0.1642</td>\n",
       "      <td>146</td>\n",
       "      <td>0</td>\n",
       "      <td>1</td>\n",
       "      <td>...</td>\n",
       "      <td>0</td>\n",
       "      <td>0</td>\n",
       "      <td>0</td>\n",
       "      <td>0</td>\n",
       "      <td>0</td>\n",
       "      <td>0</td>\n",
       "      <td>0</td>\n",
       "      <td>0</td>\n",
       "      <td>0</td>\n",
       "      <td>0</td>\n",
       "    </tr>\n",
       "    <tr>\n",
       "      <th>1684</th>\n",
       "      <td>0</td>\n",
       "      <td>0</td>\n",
       "      <td>1</td>\n",
       "      <td>0.34</td>\n",
       "      <td>0.3182</td>\n",
       "      <td>0.71</td>\n",
       "      <td>0.2836</td>\n",
       "      <td>152</td>\n",
       "      <td>0</td>\n",
       "      <td>1</td>\n",
       "      <td>...</td>\n",
       "      <td>0</td>\n",
       "      <td>0</td>\n",
       "      <td>0</td>\n",
       "      <td>0</td>\n",
       "      <td>0</td>\n",
       "      <td>1</td>\n",
       "      <td>0</td>\n",
       "      <td>0</td>\n",
       "      <td>0</td>\n",
       "      <td>0</td>\n",
       "    </tr>\n",
       "    <tr>\n",
       "      <th>10555</th>\n",
       "      <td>1</td>\n",
       "      <td>0</td>\n",
       "      <td>1</td>\n",
       "      <td>0.54</td>\n",
       "      <td>0.5152</td>\n",
       "      <td>0.77</td>\n",
       "      <td>0.0000</td>\n",
       "      <td>188</td>\n",
       "      <td>1</td>\n",
       "      <td>0</td>\n",
       "      <td>...</td>\n",
       "      <td>0</td>\n",
       "      <td>0</td>\n",
       "      <td>0</td>\n",
       "      <td>0</td>\n",
       "      <td>0</td>\n",
       "      <td>0</td>\n",
       "      <td>0</td>\n",
       "      <td>0</td>\n",
       "      <td>1</td>\n",
       "      <td>0</td>\n",
       "    </tr>\n",
       "    <tr>\n",
       "      <th>14622</th>\n",
       "      <td>1</td>\n",
       "      <td>0</td>\n",
       "      <td>1</td>\n",
       "      <td>0.70</td>\n",
       "      <td>0.6667</td>\n",
       "      <td>0.84</td>\n",
       "      <td>0.1642</td>\n",
       "      <td>62</td>\n",
       "      <td>0</td>\n",
       "      <td>0</td>\n",
       "      <td>...</td>\n",
       "      <td>0</td>\n",
       "      <td>0</td>\n",
       "      <td>0</td>\n",
       "      <td>0</td>\n",
       "      <td>0</td>\n",
       "      <td>0</td>\n",
       "      <td>0</td>\n",
       "      <td>0</td>\n",
       "      <td>0</td>\n",
       "      <td>0</td>\n",
       "    </tr>\n",
       "  </tbody>\n",
       "</table>\n",
       "<p>5 rows × 63 columns</p>\n",
       "</div>"
      ],
      "text/plain": [
       "       yr  holiday  workingday  temp   atemp   hum  windspeed  cnt  \\\n",
       "15652   1        0           1  0.54  0.5152  0.94     0.1045  389   \n",
       "3085    0        0           1  0.52  0.5000  0.83     0.1642  146   \n",
       "1684    0        0           1  0.34  0.3182  0.71     0.2836  152   \n",
       "10555   1        0           1  0.54  0.5152  0.77     0.0000  188   \n",
       "14622   1        0           1  0.70  0.6667  0.84     0.1642   62   \n",
       "\n",
       "       weathersit_1  weathersit_2  ...  hr_14  hr_15  hr_16  hr_17  hr_18  \\\n",
       "15652             0             1  ...      0      0      0      0      0   \n",
       "3085              0             1  ...      0      0      0      0      0   \n",
       "1684              0             1  ...      0      0      0      0      0   \n",
       "10555             1             0  ...      0      0      0      0      0   \n",
       "14622             0             0  ...      0      0      0      0      0   \n",
       "\n",
       "       hr_19  hr_20  hr_21  hr_22  hr_23  \n",
       "15652      0      0      0      0      0  \n",
       "3085       0      0      0      0      0  \n",
       "1684       1      0      0      0      0  \n",
       "10555      0      0      0      1      0  \n",
       "14622      0      0      0      0      0  \n",
       "\n",
       "[5 rows x 63 columns]"
      ]
     },
     "execution_count": 12,
     "metadata": {},
     "output_type": "execute_result"
    }
   ],
   "source": [
    "train_ohe.head()"
   ]
  },
  {
   "cell_type": "markdown",
   "id": "bd6b469d-9303-48f6-8728-86b33c748a1a",
   "metadata": {},
   "source": [
    "## Linear regression models"
   ]
  },
  {
   "cell_type": "markdown",
   "id": "e32142f8-904b-4e16-8a56-d97e9e535630",
   "metadata": {},
   "source": [
    "In the next cell, we define a function so that we can try the linear model with different group of features."
   ]
  },
  {
   "cell_type": "code",
   "execution_count": 13,
   "id": "200372ae-44ff-4634-8fc1-ac55b1c28b16",
   "metadata": {},
   "outputs": [],
   "source": [
    "def train_and_evaluate(train: pd.DataFrame, test: pd.DataFrame, features: list, target: str) -> None:\n",
    "    '''\n",
    "    Train a linear model on train set, evaluate its performance (RMSE) both on train and test set.\n",
    "    Print the RMSE for both.\n",
    "    '''\n",
    "    \n",
    "    # train model\n",
    "    lr = LinearRegression()\n",
    "    lr.fit(train[features], train[target])\n",
    "    \n",
    "    # evaluate performance on train set\n",
    "    predict_train = lr.predict(train[features])\n",
    "    rmse_train = mean_squared_error(train[target], predict_train, squared=False)\n",
    "    print(f'RMSE train: {round(rmse_train, 1)}')\n",
    "    \n",
    "    # evaluate performance on test set\n",
    "    predict_test = lr.predict(test[features])\n",
    "    rmse_train = mean_squared_error(test[target], predict_test, squared=False)\n",
    "    print(f'RMSE test: {round(rmse_train, 1)}')\n",
    "    \n",
    "    return   "
   ]
  },
  {
   "cell_type": "markdown",
   "id": "c600482f-925e-4c78-b9cd-3b68e978b01b",
   "metadata": {},
   "source": [
    "Let's try some combinations. The train/set pair will be the one-hot encoded."
   ]
  },
  {
   "cell_type": "markdown",
   "id": "c553adef-3c83-469f-be9c-ef7587a5b0d0",
   "metadata": {},
   "source": [
    "- **numerical**"
   ]
  },
  {
   "cell_type": "code",
   "execution_count": 14,
   "id": "351072d3-1520-4f7a-9b12-8e6b6bc06e17",
   "metadata": {},
   "outputs": [],
   "source": [
    "target = 'cnt'"
   ]
  },
  {
   "cell_type": "code",
   "execution_count": 15,
   "id": "3ff7ec2c-a109-4026-8d1e-f9edd4de7418",
   "metadata": {},
   "outputs": [
    {
     "name": "stdout",
     "output_type": "stream",
     "text": [
      "RMSE train: 157.6\n",
      "RMSE test: 154.4\n"
     ]
    }
   ],
   "source": [
    "num_cols = ['temp', 'hum', 'windspeed']\n",
    "\n",
    "train_and_evaluate(train_ohe, test_ohe, num_cols, target)"
   ]
  },
  {
   "cell_type": "markdown",
   "id": "f4aebc17-0f4f-4bf6-8578-6d417ac27646",
   "metadata": {},
   "source": [
    "- **numerical + season**"
   ]
  },
  {
   "cell_type": "code",
   "execution_count": 16,
   "id": "f38e0154-23f8-4287-8c7b-6836c3832422",
   "metadata": {},
   "outputs": [
    {
     "name": "stdout",
     "output_type": "stream",
     "text": [
      "RMSE train: 154.5\n",
      "RMSE test: 151.1\n"
     ]
    }
   ],
   "source": [
    "num_season = num_cols + [col for col in train_ohe.columns if 'season' in col]\n",
    "\n",
    "train_and_evaluate(train_ohe, test_ohe, num_season, target)"
   ]
  },
  {
   "cell_type": "markdown",
   "id": "c8317096-0314-4a2f-97c5-00e6e7edaa75",
   "metadata": {},
   "source": [
    "- **numerical + season + weather conditions**"
   ]
  },
  {
   "cell_type": "code",
   "execution_count": 17,
   "id": "8914b2bc-a9b0-427b-8e7b-86400e5f2621",
   "metadata": {},
   "outputs": [
    {
     "name": "stdout",
     "output_type": "stream",
     "text": [
      "RMSE train: 154.5\n",
      "RMSE test: 151.1\n"
     ]
    }
   ],
   "source": [
    "num_season_weath = num_season + [col for col in train_ohe.columns if 'weather' in col]\n",
    "\n",
    "train_and_evaluate(train_ohe, test_ohe, num_season, target)"
   ]
  },
  {
   "cell_type": "markdown",
   "id": "4b61cde1-5470-4473-b922-c2986982487c",
   "metadata": {},
   "source": [
    "- **numerical + season + weather conditions + day of week**"
   ]
  },
  {
   "cell_type": "code",
   "execution_count": 18,
   "id": "c5bed9ee-8a12-42d1-9600-c3feff1e8a24",
   "metadata": {},
   "outputs": [
    {
     "name": "stdout",
     "output_type": "stream",
     "text": [
      "RMSE train: 154.3\n",
      "RMSE test: 150.9\n"
     ]
    }
   ],
   "source": [
    "num_season_weath_weekday = num_season_weath + [col for col in train_ohe.columns if 'weekday' in col]\n",
    "\n",
    "train_and_evaluate(train_ohe, test_ohe, num_season_weath_weekday, target)"
   ]
  },
  {
   "cell_type": "markdown",
   "id": "ce74480a-fa7e-4aad-b533-eeb61e3cd880",
   "metadata": {},
   "source": [
    "- **numerical + season + weather conditions + day of week + time label**"
   ]
  },
  {
   "cell_type": "code",
   "execution_count": 19,
   "id": "dd147a1c-0ed0-4288-bad6-956a0bccb3ad",
   "metadata": {},
   "outputs": [
    {
     "name": "stdout",
     "output_type": "stream",
     "text": [
      "RMSE train: 135.9\n",
      "RMSE test: 132.4\n"
     ]
    }
   ],
   "source": [
    "num_season_weath_weekday_time = num_season_weath_weekday + [col for col in train_ohe.columns if 'time_label' in col]\n",
    "\n",
    "train_and_evaluate(train_ohe, test_ohe, num_season_weath_weekday_time, target)"
   ]
  },
  {
   "cell_type": "markdown",
   "id": "663a3a5d-5858-46ae-9d7b-d100d49f102f",
   "metadata": {},
   "source": [
    "- **all columns (numerical + categorical)**"
   ]
  },
  {
   "cell_type": "code",
   "execution_count": 20,
   "id": "409a1785-0068-4f24-aa6e-dbde13f16189",
   "metadata": {},
   "outputs": [
    {
     "name": "stdout",
     "output_type": "stream",
     "text": [
      "RMSE train: 101.4\n",
      "RMSE test: 102.7\n"
     ]
    }
   ],
   "source": [
    "features = [col for col in train_ohe.columns if col != 'cnt']\n",
    "\n",
    "train_and_evaluate(train_ohe, test_ohe, features, target)"
   ]
  },
  {
   "cell_type": "markdown",
   "id": "1db3121e-fd14-4279-acf5-6ed6b0e08491",
   "metadata": {},
   "source": [
    "As we see, the best linear model is the one which uses **all the features** in the dataset. Also, a noticeable improvement in the performance is obtained when the time label is included (see last three linear models).<br/>\n",
    "There's no evident overfitting, because the performances on train and test set are within a few percent one respect to the other.\n",
    "\n",
    "With that being said, the linear models' performances are not brilliant: an average error of around 100 when most of the hours get less than 200 bike rentals.<br/>\n",
    "Let's see if decision trees improve the predictions."
   ]
  },
  {
   "cell_type": "code",
   "execution_count": 21,
   "id": "e8404dd0-0684-4be5-b39e-c230d9df3fd0",
   "metadata": {},
   "outputs": [],
   "source": [
    "# record the best performance for final summary\n",
    "rmses_linear = [101.4, 102.7] "
   ]
  },
  {
   "cell_type": "markdown",
   "id": "07b1fbe5-e38a-4227-a33e-f93b2c69437c",
   "metadata": {},
   "source": [
    "## Decision trees"
   ]
  },
  {
   "cell_type": "markdown",
   "id": "384a0f8f-5814-4093-9c22-78c4e62ae41d",
   "metadata": {},
   "source": [
    "In a similar fashion, we define a function which trains a decision tree on the given data."
   ]
  },
  {
   "cell_type": "code",
   "execution_count": 22,
   "id": "389e5103-798e-4786-bd66-e942359622a5",
   "metadata": {},
   "outputs": [],
   "source": [
    "def train_and_evaluate_tree(train, test, features: list, target: str,    \n",
    "                            max_depth: int, min_samples: int,             \n",
    "                            print_results=False, random_state=rs) -> tuple:\n",
    "    \"\"\"\n",
    "    Train a decision tree on train set, evaluate its performance (RMSE) both on train and test set.\n",
    "    Return RMSEs and print them if print_results=True.\n",
    "    \"\"\"\n",
    "    \n",
    "    # train model\n",
    "    tree = DecisionTreeRegressor(max_depth=max_depth, min_samples_leaf=min_samples, random_state=rs)\n",
    "    tree.fit(train[features], train[target])\n",
    "       \n",
    "    # evaluate performance on train set\n",
    "    predict_train = tree.predict(train[features])\n",
    "    rmse_train = mean_squared_error(train[target], predict_train, squared=False)\n",
    "            \n",
    "    # evaluate performance on test set\n",
    "    predict_test = tree.predict(test[features])\n",
    "    rmse_test = mean_squared_error(test[target], predict_test, squared=False)\n",
    "    \n",
    "    if print_results:\n",
    "        print(f'RMSE train: {round(rmse_train, 1)} || ', end='')\n",
    "        print(f'RMSE test: {round(rmse_test, 1)}')\n",
    "    \n",
    "    return rmse_train, rmse_test "
   ]
  },
  {
   "cell_type": "markdown",
   "id": "ae9091f9-21b0-4bfc-b41c-1ddd50636f11",
   "metadata": {},
   "source": [
    "### 1) Default sklearn parameters\n",
    "\n",
    "Let's first try the default parameters, just to see if we are lucky."
   ]
  },
  {
   "cell_type": "code",
   "execution_count": 23,
   "id": "ac40794c-45a9-4657-8fbd-35d74e9ad54e",
   "metadata": {},
   "outputs": [
    {
     "name": "stdout",
     "output_type": "stream",
     "text": [
      "RMSE train: 0.6 || RMSE test: 58.0\n",
      "RMSE train: 0.6 || RMSE test: 66.6\n"
     ]
    }
   ],
   "source": [
    "feats_num_encode = [col for col in train.columns if col != 'cnt']\n",
    "feats_ohe = [col for col in train_ohe.columns if col != 'cnt']\n",
    "\n",
    "# use both the numerical encoding and the one-hot encoding to train and test\n",
    "_ = train_and_evaluate_tree(train, test, feats_num_encode, 'cnt', None, 1, True)\n",
    "_ = train_and_evaluate_tree(train_ohe, test_ohe, feats_ohe, 'cnt', None, 1, True)"
   ]
  },
  {
   "cell_type": "markdown",
   "id": "94ba1b0a-669f-4238-82c0-c4857694d41b",
   "metadata": {},
   "source": [
    "As we expected, the decision trees with default parameters **severely overfit**. This is the main drawback of this kind of algorithm: if you leave it completely \"free to choose\", it will try to find the best rule for each example, at the cost of building a model that doesn't generalize at all, like in this case. The conclusion is the same for both kinds of encoding.\n",
    "\n",
    "In order to prevent overfitting, we have three options:\n",
    "- tweak the hyperparameters;\n",
    "- prune the tree after it's been trained;\n",
    "- use a random forest to average several trees predictions.\n",
    "\n",
    "We now try all of them."
   ]
  },
  {
   "cell_type": "markdown",
   "id": "7e39aeb7-8b97-4925-aab2-31694db08987",
   "metadata": {},
   "source": [
    "### 2) Tweaking the learning parameters"
   ]
  },
  {
   "cell_type": "markdown",
   "id": "d8bc968a-9666-417f-8d5e-f68ebeae4671",
   "metadata": {},
   "source": [
    "Let's consider two parameters: the maximum depth of the tree and the minimum number of samples a node must have to be a leaf. These parameters tend to interact with one another, so if we want to tweak the model manually, we need to consider both."
   ]
  },
  {
   "cell_type": "code",
   "execution_count": 24,
   "id": "039e0cb4-472e-4f4f-9a7f-81a913b77804",
   "metadata": {
    "tags": []
   },
   "outputs": [
    {
     "name": "stdout",
     "output_type": "stream",
     "text": [
      "\u001b[1mdepth = 3, min_samples = 20:\u001b[0m\n",
      "\t\u001b[1mnumerical enc.:\u001b[0m\n",
      "\tRMSE train: 129.6 || RMSE test: 127.1\n",
      "\t\u001b[1mone-hot enc.:\u001b[0m\n",
      "\tRMSE train: 133.6 || RMSE test: 130.8\n",
      "\u001b[1mdepth = 3, min_samples = 40:\u001b[0m\n",
      "\t\u001b[1mnumerical enc.:\u001b[0m\n",
      "\tRMSE train: 129.6 || RMSE test: 127.1\n",
      "\t\u001b[1mone-hot enc.:\u001b[0m\n",
      "\tRMSE train: 133.6 || RMSE test: 130.8\n",
      "\u001b[1mdepth = 4, min_samples = 20:\u001b[0m\n",
      "\t\u001b[1mnumerical enc.:\u001b[0m\n",
      "\tRMSE train: 119.2 || RMSE test: 117.7\n",
      "\t\u001b[1mone-hot enc.:\u001b[0m\n",
      "\tRMSE train: 122.6 || RMSE test: 121.7\n",
      "\u001b[1mdepth = 4, min_samples = 40:\u001b[0m\n",
      "\t\u001b[1mnumerical enc.:\u001b[0m\n",
      "\tRMSE train: 119.2 || RMSE test: 117.7\n",
      "\t\u001b[1mone-hot enc.:\u001b[0m\n",
      "\tRMSE train: 122.6 || RMSE test: 121.7\n",
      "\u001b[1mdepth = 5, min_samples = 20:\u001b[0m\n",
      "\t\u001b[1mnumerical enc.:\u001b[0m\n",
      "\tRMSE train: 107.5 || RMSE test: 107.8\n",
      "\t\u001b[1mone-hot enc.:\u001b[0m\n",
      "\tRMSE train: 110.7 || RMSE test: 109.4\n",
      "\u001b[1mdepth = 5, min_samples = 40:\u001b[0m\n",
      "\t\u001b[1mnumerical enc.:\u001b[0m\n",
      "\tRMSE train: 107.5 || RMSE test: 107.8\n",
      "\t\u001b[1mone-hot enc.:\u001b[0m\n",
      "\tRMSE train: 110.7 || RMSE test: 109.4\n",
      "\u001b[1mdepth = 6, min_samples = 20:\u001b[0m\n",
      "\t\u001b[1mnumerical enc.:\u001b[0m\n",
      "\tRMSE train: 100.4 || RMSE test: 100.9\n",
      "\t\u001b[1mone-hot enc.:\u001b[0m\n",
      "\tRMSE train: 103.9 || RMSE test: 104.3\n",
      "\u001b[1mdepth = 6, min_samples = 40:\u001b[0m\n",
      "\t\u001b[1mnumerical enc.:\u001b[0m\n",
      "\tRMSE train: 100.4 || RMSE test: 100.8\n",
      "\t\u001b[1mone-hot enc.:\u001b[0m\n",
      "\tRMSE train: 104.1 || RMSE test: 104.3\n",
      "\u001b[1mdepth = 7, min_samples = 20:\u001b[0m\n",
      "\t\u001b[1mnumerical enc.:\u001b[0m\n",
      "\tRMSE train: 82.0 || RMSE test: 85.5\n",
      "\t\u001b[1mone-hot enc.:\u001b[0m\n",
      "\tRMSE train: 97.7 || RMSE test: 99.6\n",
      "\u001b[1mdepth = 7, min_samples = 40:\u001b[0m\n",
      "\t\u001b[1mnumerical enc.:\u001b[0m\n",
      "\tRMSE train: 82.1 || RMSE test: 85.5\n",
      "\t\u001b[1mone-hot enc.:\u001b[0m\n",
      "\tRMSE train: 99.1 || RMSE test: 99.5\n",
      "\u001b[1mdepth = 8, min_samples = 20:\u001b[0m\n",
      "\t\u001b[1mnumerical enc.:\u001b[0m\n",
      "\tRMSE train: 70.4 || RMSE test: 75.2\n",
      "\t\u001b[1mone-hot enc.:\u001b[0m\n",
      "\tRMSE train: 93.3 || RMSE test: 95.9\n",
      "\u001b[1mdepth = 8, min_samples = 40:\u001b[0m\n",
      "\t\u001b[1mnumerical enc.:\u001b[0m\n",
      "\tRMSE train: 71.3 || RMSE test: 75.9\n",
      "\t\u001b[1mone-hot enc.:\u001b[0m\n",
      "\tRMSE train: 95.5 || RMSE test: 97.1\n",
      "\u001b[1mdepth = 9, min_samples = 20:\u001b[0m\n",
      "\t\u001b[1mnumerical enc.:\u001b[0m\n",
      "\tRMSE train: 60.3 || RMSE test: 66.5\n",
      "\t\u001b[1mone-hot enc.:\u001b[0m\n",
      "\tRMSE train: 87.7 || RMSE test: 91.5\n",
      "\u001b[1mdepth = 9, min_samples = 40:\u001b[0m\n",
      "\t\u001b[1mnumerical enc.:\u001b[0m\n",
      "\tRMSE train: 63.6 || RMSE test: 67.9\n",
      "\t\u001b[1mone-hot enc.:\u001b[0m\n",
      "\tRMSE train: 90.4 || RMSE test: 92.9\n",
      "\u001b[1mdepth = 10, min_samples = 20:\u001b[0m\n",
      "\t\u001b[1mnumerical enc.:\u001b[0m\n",
      "\tRMSE train: 55.0 || RMSE test: 62.0\n",
      "\t\u001b[1mone-hot enc.:\u001b[0m\n",
      "\tRMSE train: 80.4 || RMSE test: 86.2\n",
      "\u001b[1mdepth = 10, min_samples = 40:\u001b[0m\n",
      "\t\u001b[1mnumerical enc.:\u001b[0m\n",
      "\tRMSE train: 60.2 || RMSE test: 63.8\n",
      "\t\u001b[1mone-hot enc.:\u001b[0m\n",
      "\tRMSE train: 83.9 || RMSE test: 88.2\n",
      "\u001b[1mdepth = 11, min_samples = 20:\u001b[0m\n",
      "\t\u001b[1mnumerical enc.:\u001b[0m\n",
      "\tRMSE train: 52.8 || RMSE test: 60.1\n",
      "\t\u001b[1mone-hot enc.:\u001b[0m\n",
      "\tRMSE train: 72.5 || RMSE test: 78.2\n",
      "\u001b[1mdepth = 11, min_samples = 40:\u001b[0m\n",
      "\t\u001b[1mnumerical enc.:\u001b[0m\n",
      "\tRMSE train: 59.2 || RMSE test: 63.2\n",
      "\t\u001b[1mone-hot enc.:\u001b[0m\n",
      "\tRMSE train: 77.1 || RMSE test: 81.1\n",
      "\u001b[1mdepth = 12, min_samples = 20:\u001b[0m\n",
      "\t\u001b[1mnumerical enc.:\u001b[0m\n",
      "\tRMSE train: 51.8 || RMSE test: 59.4\n",
      "\t\u001b[1mone-hot enc.:\u001b[0m\n",
      "\tRMSE train: 67.7 || RMSE test: 75.0\n",
      "\u001b[1mdepth = 12, min_samples = 40:\u001b[0m\n",
      "\t\u001b[1mnumerical enc.:\u001b[0m\n",
      "\tRMSE train: 59.0 || RMSE test: 62.9\n",
      "\t\u001b[1mone-hot enc.:\u001b[0m\n",
      "\tRMSE train: 73.7 || RMSE test: 78.2\n",
      "\u001b[1mdepth = 13, min_samples = 20:\u001b[0m\n",
      "\t\u001b[1mnumerical enc.:\u001b[0m\n",
      "\tRMSE train: 51.4 || RMSE test: 59.1\n",
      "\t\u001b[1mone-hot enc.:\u001b[0m\n",
      "\tRMSE train: 64.3 || RMSE test: 71.3\n",
      "\u001b[1mdepth = 13, min_samples = 40:\u001b[0m\n",
      "\t\u001b[1mnumerical enc.:\u001b[0m\n",
      "\tRMSE train: 58.9 || RMSE test: 62.8\n",
      "\t\u001b[1mone-hot enc.:\u001b[0m\n",
      "\tRMSE train: 71.2 || RMSE test: 75.6\n",
      "\u001b[1mdepth = 14, min_samples = 20:\u001b[0m\n",
      "\t\u001b[1mnumerical enc.:\u001b[0m\n",
      "\tRMSE train: 51.2 || RMSE test: 59.1\n",
      "\t\u001b[1mone-hot enc.:\u001b[0m\n",
      "\tRMSE train: 61.8 || RMSE test: 69.4\n",
      "\u001b[1mdepth = 14, min_samples = 40:\u001b[0m\n",
      "\t\u001b[1mnumerical enc.:\u001b[0m\n",
      "\tRMSE train: 58.8 || RMSE test: 62.7\n",
      "\t\u001b[1mone-hot enc.:\u001b[0m\n",
      "\tRMSE train: 69.4 || RMSE test: 74.2\n",
      "\u001b[1mdepth = 15, min_samples = 20:\u001b[0m\n",
      "\t\u001b[1mnumerical enc.:\u001b[0m\n",
      "\tRMSE train: 51.2 || RMSE test: 59.0\n",
      "\t\u001b[1mone-hot enc.:\u001b[0m\n",
      "\tRMSE train: 60.1 || RMSE test: 68.5\n",
      "\u001b[1mdepth = 15, min_samples = 40:\u001b[0m\n",
      "\t\u001b[1mnumerical enc.:\u001b[0m\n",
      "\tRMSE train: 58.8 || RMSE test: 62.7\n",
      "\t\u001b[1mone-hot enc.:\u001b[0m\n",
      "\tRMSE train: 68.4 || RMSE test: 73.8\n",
      "\u001b[1mdepth = 16, min_samples = 20:\u001b[0m\n",
      "\t\u001b[1mnumerical enc.:\u001b[0m\n",
      "\tRMSE train: 51.1 || RMSE test: 59.0\n",
      "\t\u001b[1mone-hot enc.:\u001b[0m\n",
      "\tRMSE train: 59.1 || RMSE test: 68.2\n",
      "\u001b[1mdepth = 16, min_samples = 40:\u001b[0m\n",
      "\t\u001b[1mnumerical enc.:\u001b[0m\n",
      "\tRMSE train: 58.8 || RMSE test: 62.7\n",
      "\t\u001b[1mone-hot enc.:\u001b[0m\n",
      "\tRMSE train: 68.0 || RMSE test: 73.5\n",
      "\u001b[1mdepth = 17, min_samples = 20:\u001b[0m\n",
      "\t\u001b[1mnumerical enc.:\u001b[0m\n",
      "\tRMSE train: 51.1 || RMSE test: 59.0\n",
      "\t\u001b[1mone-hot enc.:\u001b[0m\n",
      "\tRMSE train: 58.1 || RMSE test: 67.1\n",
      "\u001b[1mdepth = 17, min_samples = 40:\u001b[0m\n",
      "\t\u001b[1mnumerical enc.:\u001b[0m\n",
      "\tRMSE train: 58.8 || RMSE test: 62.7\n",
      "\t\u001b[1mone-hot enc.:\u001b[0m\n",
      "\tRMSE train: 67.6 || RMSE test: 73.2\n",
      "\u001b[1mdepth = 18, min_samples = 20:\u001b[0m\n",
      "\t\u001b[1mnumerical enc.:\u001b[0m\n",
      "\tRMSE train: 51.1 || RMSE test: 59.0\n",
      "\t\u001b[1mone-hot enc.:\u001b[0m\n",
      "\tRMSE train: 57.7 || RMSE test: 67.1\n",
      "\u001b[1mdepth = 18, min_samples = 40:\u001b[0m\n",
      "\t\u001b[1mnumerical enc.:\u001b[0m\n",
      "\tRMSE train: 58.8 || RMSE test: 62.7\n",
      "\t\u001b[1mone-hot enc.:\u001b[0m\n",
      "\tRMSE train: 67.4 || RMSE test: 73.1\n",
      "\u001b[1mdepth = 19, min_samples = 20:\u001b[0m\n",
      "\t\u001b[1mnumerical enc.:\u001b[0m\n",
      "\tRMSE train: 51.1 || RMSE test: 59.0\n",
      "\t\u001b[1mone-hot enc.:\u001b[0m\n",
      "\tRMSE train: 57.3 || RMSE test: 66.6\n",
      "\u001b[1mdepth = 19, min_samples = 40:\u001b[0m\n",
      "\t\u001b[1mnumerical enc.:\u001b[0m\n",
      "\tRMSE train: 58.8 || RMSE test: 62.7\n",
      "\t\u001b[1mone-hot enc.:\u001b[0m\n",
      "\tRMSE train: 67.3 || RMSE test: 72.8\n"
     ]
    }
   ],
   "source": [
    "for d in range(3, 20):\n",
    "    for min_samples in range(20, 41, 20):\n",
    "        print(f'\\033[1mdepth = {d}, min_samples = {min_samples}:\\033[0m')\n",
    "        print(f'\\t\\033[1mnumerical enc.:\\033[0m\\n\\t', end='')\n",
    "        _ = train_and_evaluate_tree(train, test, feats_num_encode, target='cnt', max_depth=d, min_samples=min_samples, print_results=True)\n",
    "        print(f'\\t\\033[1mone-hot enc.:\\033[0m\\n\\t', end='')\n",
    "        _ = train_and_evaluate_tree(train_ohe, test_ohe, feats_ohe, target='cnt', max_depth=d, min_samples=min_samples, print_results=True)"
   ]
  },
  {
   "cell_type": "markdown",
   "id": "97d236a8-a053-431a-bbba-2dadae27f64e",
   "metadata": {},
   "source": [
    "The first thing we can notice is that the one-hot encoded dataset has always worse performances than the corresponding numerical encoded dataset. We will consider only the latter in the next models.<br/>\n",
    "The overfitting has surely been reduced with respect to the default parameters, although it's still there especially for low values of min_samples.<br/>\n",
    "The best tree among the ones we tried is the one with a **depth of 10** and **at least 40 samples per leaf**.\n",
    "\n",
    "RMSE on train: 60.2<br/>\n",
    "RMSE on test: 63.8"
   ]
  },
  {
   "cell_type": "markdown",
   "id": "02ec60f3-13be-4927-9711-9b080aecc6b2",
   "metadata": {},
   "source": [
    "Out of curiosity, let's fix the depth parameter at 10 and let's make a plot of the RMSE as a function of the minimum number of samples."
   ]
  },
  {
   "cell_type": "code",
   "execution_count": 25,
   "id": "caf465c3-378a-4e22-8e59-1bc3b0da30d1",
   "metadata": {},
   "outputs": [],
   "source": [
    "# training and testing of the models with d=10\n",
    "\n",
    "train_dt_tweak_rmses = []\n",
    "test_dt_tweak_rmses = []\n",
    "min_samples_values = list(range(1, 100, 2))\n",
    "\n",
    "for min_samples in min_samples_values:\n",
    "    rmse_train, rmse_test = train_and_evaluate_tree(train, test, feats_num_encode, 'cnt', 10, min_samples)\n",
    "    train_dt_tweak_rmses.append(rmse_train)\n",
    "    test_dt_tweak_rmses.append(rmse_test)"
   ]
  },
  {
   "cell_type": "code",
   "execution_count": 26,
   "id": "7fc40c8f-f60d-4e64-9ee4-705f25ff6c56",
   "metadata": {},
   "outputs": [
    {
     "data": {
      "image/png": "[encoded data removed]",
      "text/plain": [
       "<Figure size 576x432 with 1 Axes>"
      ]
     },
     "metadata": {
      "needs_background": "light"
     },
     "output_type": "display_data"
    }
   ],
   "source": [
    "# plot the results\n",
    "fig ,ax = plt.subplots(figsize=(8, 6))\n",
    "\n",
    "ax.plot(min_samples_values, train_dt_tweak_rmses, label='train', drawstyle='steps-post')\n",
    "ax.plot(min_samples_values, test_dt_tweak_rmses, label='test', drawstyle='steps-post')\n",
    "ax.set_xticks(range(0, 100, 5))\n",
    "ax.grid(axis='x')\n",
    "ax.set_title('Tweaking the minimum number of samples in a leaf node [d=10]', fontsize=14)\n",
    "ax.set_xlabel('min samples in a leaf', fontsize=14)\n",
    "ax.set_ylabel('RMSE', fontsize=14)\n",
    "ax.legend()\n",
    "\n",
    "plt.show()"
   ]
  },
  {
   "cell_type": "markdown",
   "id": "dad23212-3281-4769-bb4b-3e14385d21d6",
   "metadata": {},
   "source": [
    "The plot shows that the tree clearly overfits for less than 5-10 samples in leaf nodes and for higher values the situation improves. It isn't so clear where the overfitting stops and we also have a sudden step at 51 samples which is hard to explain for my present knowledge.<br/>\n",
    "We will call the best model the one we've already found."
   ]
  },
  {
   "cell_type": "code",
   "execution_count": 27,
   "id": "db9b9654-1601-4bb1-948f-f2d33265024d",
   "metadata": {},
   "outputs": [],
   "source": [
    "rmses_tweaked_tree = [60.2, 63.8]"
   ]
  },
  {
   "cell_type": "markdown",
   "id": "e02ccaea-b2fb-4800-b0c0-6efcd053261a",
   "metadata": {},
   "source": [
    "Let's see if pruning around those hyperparameters values brings some improvement."
   ]
  },
  {
   "cell_type": "markdown",
   "id": "06b45fcb-3009-413a-a014-bddb70e3a94a",
   "metadata": {},
   "source": [
    "### 3) Pruning"
   ]
  },
  {
   "cell_type": "markdown",
   "id": "438a698c-996f-4425-8d58-ee2bb1a16075",
   "metadata": {},
   "source": [
    "Pruning wasn't taught in the course about decision trees. At a high level, it consists in building the tree and then cutting the branches which bring relatively low reduction of entropy (or wathever metric is being used) by substituting them with leaves.<br/>\n",
    "In sklearn, the procedure is defined by specifying a single parameter, **alpha**. In order to find the candidate values for alpha, we use the **cost_complexity_pruning_path** method of the DecisionTreeRegressor class."
   ]
  },
  {
   "cell_type": "code",
   "execution_count": 28,
   "id": "0d19e0c4-9b7d-4897-9bd0-8c2120bbac7d",
   "metadata": {},
   "outputs": [
    {
     "name": "stdout",
     "output_type": "stream",
     "text": [
      "208\n"
     ]
    }
   ],
   "source": [
    "# using the \"optimal\" parameters found in previous section\n",
    "max_depth = 10\n",
    "min_samples_leaf = 40\n",
    "\n",
    "# determining alphas for cost complexity pruning\n",
    "tree = DecisionTreeRegressor(max_depth=max_depth, min_samples_leaf=min_samples_leaf, random_state=rs)\n",
    "pruning_path = tree.cost_complexity_pruning_path(train[feats_num_encode], train['cnt'])\n",
    "alphas = pruning_path['ccp_alphas'][:-1]\n",
    "alphas = [a for a in alphas if a >= 0]\n",
    "\n",
    "print(len(alphas))"
   ]
  },
  {
   "cell_type": "code",
   "execution_count": 29,
   "id": "80aa0736-96a4-4fab-9d61-9d4070017b6f",
   "metadata": {
    "tags": []
   },
   "outputs": [
    {
     "name": "stdout",
     "output_type": "stream",
     "text": [
      "processing 0-th alpha\n",
      "processing 100-th alpha\n",
      "processing 200-th alpha\n"
     ]
    }
   ],
   "source": [
    "# the real job: using the alphas for pruning the tree and measuring performances after pruning\n",
    "\n",
    "train_rmses = []\n",
    "test_rmses = []\n",
    "\n",
    "for i, alpha in enumerate(alphas):\n",
    "    # printing every once in a while which alpha is being processed\n",
    "    if i % 100 == 0:\n",
    "        print(f'processing {i}-th alpha')\n",
    "    tree = DecisionTreeRegressor(ccp_alpha=alpha, max_depth=max_depth, min_samples_leaf=min_samples_leaf, random_state=rs)\n",
    "    tree.fit(train[feats_num_encode], train['cnt'])\n",
    "    # train predictions and RMSE\n",
    "    pred = tree.predict(train[feats_num_encode])\n",
    "    train_rmses.append(mean_squared_error(train['cnt'], pred, squared=False))\n",
    "    # test predictions and RMSE\n",
    "    pred = tree.predict(test[feats_num_encode])\n",
    "    test_rmses.append(mean_squared_error(test['cnt'], pred, squared=False))"
   ]
  },
  {
   "cell_type": "code",
   "execution_count": 30,
   "id": "8f335d55-3c1b-4ecd-9bd2-3e23359ee164",
   "metadata": {},
   "outputs": [
    {
     "data": {
      "image/png": "[encoded data removed]",
      "text/plain": [
       "<Figure size 576x432 with 1 Axes>"
      ]
     },
     "metadata": {
      "needs_background": "light"
     },
     "output_type": "display_data"
    }
   ],
   "source": [
    "# plotting the results: rmse vs alpha\n",
    "\n",
    "fig, ax = plt.subplots(figsize=(8, 6))\n",
    "\n",
    "ax.plot(alphas, train_rmses, drawstyle='steps-post', label='Train')\n",
    "ax.plot(alphas, test_rmses, drawstyle='steps-post', label='Test')\n",
    "ax.legend()\n",
    "\n",
    "# zoom on the optimal area of the plot\n",
    "ax.set_xlim(0, 70)\n",
    "ax.set_ylim(55, 100)\n",
    "\n",
    "ax.set_title(f'Pruning a tree\\n[d={max_depth}, min_samples={min_samples_leaf}]')\n",
    "ax.set_ylabel('RMSE')\n",
    "ax.set_xlabel('alpha')\n",
    "\n",
    "plt.show()"
   ]
  },
  {
   "cell_type": "markdown",
   "id": "ad04af48-ceb7-49ee-876b-04e0423f2874",
   "metadata": {},
   "source": [
    "From this zoom of the plot, we see that the best performances are for **alpha~0**, where the RMSEs are totally comparable to the ones we already found with the tweaking of section 2). Therefore, the best results remain the ones found there.<br/>\n",
    "We could have expected this, since hyperparameters tuning and pruning are kind of alternative approaches to reduce overfitting.<br/>"
   ]
  },
  {
   "cell_type": "markdown",
   "id": "c955d3fd-44f2-447a-8be8-71a9d8cb1ec5",
   "metadata": {},
   "source": [
    "### 4) Random forest"
   ]
  },
  {
   "cell_type": "markdown",
   "id": "3d64d464-d813-439e-8a7d-8e204661d38d",
   "metadata": {},
   "source": [
    "Random forests are a bunch of decision trees. They average the estimate of each tree in order to improve accuracy and prevent overfitting. The main feature of random forest is that each tree is trained on a sample of the dataset (bagging) and each node tries the split on a random subsample of dataset features.<br/>\n",
    "Let's try some combinations of depth and minimun samples per leaf, building forests with 150 trees each."
   ]
  },
  {
   "cell_type": "code",
   "execution_count": 31,
   "id": "ca4ee33e-b9e9-4dac-80fa-0853f8bc5b63",
   "metadata": {},
   "outputs": [
    {
     "name": "stdout",
     "output_type": "stream",
     "text": [
      "depth=8, , min_samples=10\n",
      "RMSE train: 63.2 || RMSE test: 67.5\n",
      "depth=8, , min_samples=20\n",
      "RMSE train: 64.3 || RMSE test: 68.0\n",
      "depth=8, , min_samples=30\n",
      "RMSE train: 65.8 || RMSE test: 69.4\n",
      "depth=8, , min_samples=40\n",
      "RMSE train: 67.8 || RMSE test: 70.9\n",
      "depth=8, , min_samples=50\n",
      "RMSE train: 69.1 || RMSE test: 72.2\n",
      "depth=10, , min_samples=10\n",
      "RMSE train: 47.8 || RMSE test: 54.2\n",
      "depth=10, , min_samples=20\n",
      "RMSE train: 52.7 || RMSE test: 57.4\n",
      "depth=10, , min_samples=30\n",
      "RMSE train: 58.0 || RMSE test: 61.9\n",
      "depth=10, , min_samples=40\n",
      "RMSE train: 63.0 || RMSE test: 66.4\n",
      "depth=10, , min_samples=50\n",
      "RMSE train: 65.9 || RMSE test: 69.4\n",
      "depth=12, , min_samples=10\n",
      "RMSE train: 43.2 || RMSE test: 50.9\n",
      "depth=12, , min_samples=20\n",
      "RMSE train: 50.6 || RMSE test: 55.8\n",
      "depth=12, , min_samples=30\n",
      "RMSE train: 57.0 || RMSE test: 61.1\n",
      "depth=12, , min_samples=40\n",
      "RMSE train: 62.5 || RMSE test: 66.0\n",
      "depth=12, , min_samples=50\n",
      "RMSE train: 65.6 || RMSE test: 69.2\n"
     ]
    }
   ],
   "source": [
    "for max_depth in range(8, 13, 2):\n",
    "    for min_samples_leaf in range(10, 60, 10):\n",
    "        \n",
    "        rf = RandomForestRegressor(n_estimators=150, max_depth=max_depth, min_samples_leaf=min_samples_leaf, random_state=rs)\n",
    "        rf.fit(train[feats_num_encode], train.cnt)\n",
    "        print(f'depth={max_depth}, , min_samples={min_samples_leaf}\\nRMSE train: ', end='')\n",
    "        print(round(mean_squared_error(rf.predict(train[feats_num_encode]), train.cnt, squared=False), 1), end='')\n",
    "        print(' || ', end='')\n",
    "        print('RMSE test: ', end='')\n",
    "        print(round(mean_squared_error(rf.predict(test[feats_num_encode]), test.cnt, squared=False), 1), end='')\n",
    "        print()"
   ]
  },
  {
   "cell_type": "markdown",
   "id": "2aefb8e0-4c19-41f0-8e3f-9827d37411b3",
   "metadata": {},
   "source": [
    "The best performances are around the same values of depth (10) and minimum samples per leaf (~20). After a few tries, we found the best result at:\n",
    "\n",
    "- depth = 10\n",
    "- minimum samples per leaf: 15"
   ]
  },
  {
   "cell_type": "code",
   "execution_count": 32,
   "id": "c0989efb-bf7b-4719-b212-9e70aaf1ec68",
   "metadata": {},
   "outputs": [
    {
     "name": "stdout",
     "output_type": "stream",
     "text": [
      "RMSE train: 50.3 || RMSE test: 56.0\n",
      "\n"
     ]
    }
   ],
   "source": [
    "rf = RandomForestRegressor(150, max_depth=10, min_samples_leaf=15, random_state=rs)\n",
    "rf.fit(train[feats_num_encode], train.cnt)\n",
    "print('RMSE train:', round(mean_squared_error(rf.predict(train[feats_num_encode]), train.cnt, squared=False), 1), '|| ', end='')\n",
    "print('RMSE test:', round(mean_squared_error(rf.predict(test[feats_num_encode]), test.cnt, squared=False) , 1))\n",
    "print()"
   ]
  },
  {
   "cell_type": "code",
   "execution_count": 33,
   "id": "5006ebe6-af3e-4acd-b320-4d6cabd95e0b",
   "metadata": {},
   "outputs": [],
   "source": [
    "rmses_forest = [50.3, 56.0]"
   ]
  },
  {
   "cell_type": "markdown",
   "id": "877a87e5-8a6f-4909-bc05-0e09f7ea114c",
   "metadata": {},
   "source": [
    "## **Conclusions**"
   ]
  },
  {
   "cell_type": "markdown",
   "id": "45ed7c2c-5b04-4117-b46f-cec481b862b3",
   "metadata": {},
   "source": [
    "Our predictions of bike rentals for the city of Washington D.C. clearly improved by using tree-based models with respect to a simple linear multivariate regression. One of the advantages of decision trees, in fact, is that they can easily catch non-linear relationship among variables.\n",
    "\n",
    "Nonetheless, the performances of the best models were not completely satisfying: by using the random forest algorithm, we managed to decrease the RMSE by about 17% with respect to the single tree. This is significant, but still not enough to be usable in practice.<br/>\n",
    "The table below will summarize the results quantitatively."
   ]
  },
  {
   "cell_type": "code",
   "execution_count": 39,
   "id": "60e8c0b0-a017-4e08-b596-e190a40ba9a6",
   "metadata": {
    "tags": []
   },
   "outputs": [
    {
     "data": {
      "text/html": [
       "<div>\n",
       "<style scoped>\n",
       "    .dataframe tbody tr th:only-of-type {\n",
       "        vertical-align: middle;\n",
       "    }\n",
       "\n",
       "    .dataframe tbody tr th {\n",
       "        vertical-align: top;\n",
       "    }\n",
       "\n",
       "    .dataframe thead th {\n",
       "        text-align: right;\n",
       "    }\n",
       "</style>\n",
       "<table border=\"1\" class=\"dataframe\">\n",
       "  <thead>\n",
       "    <tr style=\"text-align: right;\">\n",
       "      <th></th>\n",
       "      <th>RMSE train</th>\n",
       "      <th>RMSE test</th>\n",
       "    </tr>\n",
       "  </thead>\n",
       "  <tbody>\n",
       "    <tr>\n",
       "      <th>Linear model</th>\n",
       "      <td>101.4</td>\n",
       "      <td>102.7</td>\n",
       "    </tr>\n",
       "    <tr>\n",
       "      <th>Tweaked dec. tree [d=10, min_samples=40]</th>\n",
       "      <td>60.2</td>\n",
       "      <td>63.8</td>\n",
       "    </tr>\n",
       "    <tr>\n",
       "      <th>Pruned dec. tree [same params.]</th>\n",
       "      <td>60.2</td>\n",
       "      <td>63.8</td>\n",
       "    </tr>\n",
       "    <tr>\n",
       "      <th>Random forest [d=10, min_samples=15]</th>\n",
       "      <td>50.3</td>\n",
       "      <td>56.0</td>\n",
       "    </tr>\n",
       "  </tbody>\n",
       "</table>\n",
       "</div>"
      ],
      "text/plain": [
       "                                          RMSE train  RMSE test\n",
       "Linear model                                   101.4      102.7\n",
       "Tweaked dec. tree [d=10, min_samples=40]        60.2       63.8\n",
       "Pruned dec. tree [same params.]                 60.2       63.8\n",
       "Random forest [d=10, min_samples=15]            50.3       56.0"
      ]
     },
     "execution_count": 39,
     "metadata": {},
     "output_type": "execute_result"
    }
   ],
   "source": [
    "summary = pd.DataFrame({'Linear model': rmses_linear, \n",
    "              'Tweaked dec. tree [d=10, min_samples=40]': rmses_tweaked_tree,\n",
    "              'Pruned dec. tree [same params.]': rmses_tweaked_tree,\n",
    "              'Random forest [d=10, min_samples=15]': rmses_forest}).T\n",
    "\n",
    "summary.rename({0: 'RMSE train', 1: 'RMSE test'}, axis=1, inplace=True)\n",
    "\n",
    "summary"
   ]
  },
  {
   "cell_type": "code",
   "execution_count": 54,
   "id": "872095c2-763f-42bd-b6c3-f17d5d3b3817",
   "metadata": {
    "tags": []
   },
   "outputs": [
    {
     "data": {
      "image/png": "[encoded data removed]",
      "text/plain": [
       "<Figure size 432x288 with 1 Axes>"
      ]
     },
     "metadata": {
      "needs_background": "light"
     },
     "output_type": "display_data"
    }
   ],
   "source": [
    "ax = summary.plot.barh()\n",
    "ax.invert_yaxis()\n",
    "ax.set_title('Summary of models performances', fontsize=15)\n",
    "ax.set_xlabel('RMSE')\n",
    "for item in ax.get_yticklabels():\n",
    "    item.set_fontsize(13)\n",
    "\n",
    "plt.show()"
   ]
  }
 ],
 "metadata": {
  "kernelspec": {
   "display_name": "Python 3",
   "language": "python",
   "name": "python3"
  },
  "language_info": {
   "codemirror_mode": {
    "name": "ipython",
    "version": 3
   },
   "file_extension": ".py",
   "mimetype": "text/x-python",
   "name": "python",
   "nbconvert_exporter": "python",
   "pygments_lexer": "ipython3",
   "version": "3.8.8"
  }
 },
 "nbformat": 4,
 "nbformat_minor": 5
}
